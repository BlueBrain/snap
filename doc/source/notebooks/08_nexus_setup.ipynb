{
 "cells": [
  {
   "cell_type": "markdown",
   "metadata": {},
   "source": [
    "# SNAP - NEXUSFORGE - Getting Started\n",
    "\n",
    "To have a more seamless experience with Nexus, SNAP has a nexus-forge integration that helps with locating the desired data and using it with SNAP and other tools.\n",
    "\n",
    "#### Basic Setup\n",
    "To get started let's import the NexusHelper class:"
   ]
  },
  {
   "cell_type": "code",
   "execution_count": 1,
   "metadata": {},
   "outputs": [],
   "source": [
    "import getpass\n",
    "from bluepysnap.nexus import NexusHelper"
   ]
  },
  {
   "cell_type": "markdown",
   "metadata": {},
   "source": [
    "The NexusHelper has a few optional arguments that are not covered here, as the most important ones are\n",
    "* `bucket`: The project on Nexus you want to use (in format: `[ORGANIZATION]/[PROJECT]`)\n",
    "* `token`: Nexus access token"
   ]
  },
  {
   "cell_type": "markdown",
   "metadata": {},
   "source": [
    "For demonstration purposes, let's use `nse/test` project:"
   ]
  },
  {
   "cell_type": "code",
   "execution_count": 2,
   "metadata": {},
   "outputs": [],
   "source": [
    "BUCKET = \"nse/test\""
   ]
  },
  {
   "cell_type": "markdown",
   "metadata": {},
   "source": [
    "The token can be found in the upper right corner on https://bbp.epfl.ch/nexus/web/ and pasted here"
   ]
  },
  {
   "cell_type": "code",
   "execution_count": 3,
   "metadata": {},
   "outputs": [
    {
     "name": "stdin",
     "output_type": "stream",
     "text": [
      " ···································································································································································································································································································································································································································································································································································································································································································································································································································································································································································································································································································································································································································································································································································································································································································································································································································································································································································································································································································································································································································································································································································································································································································································································································································································································································································································································································································································································································································································································································································································································································································································································································································································································································································································································································\n"
     ]
    }
   ],
   "source": [
    "TOKEN = getpass.getpass()"
   ]
  },
  {
   "cell_type": "markdown",
   "metadata": {},
   "source": [
    "Now we can instantiate `NexusHelper`:"
   ]
  },
  {
   "cell_type": "code",
   "execution_count": 4,
   "metadata": {},
   "outputs": [],
   "source": [
    "nexus = NexusHelper(BUCKET, TOKEN)"
   ]
  },
  {
   "cell_type": "markdown",
   "metadata": {},
   "source": [
    "We will be using this basic setup in the following nexus notebooks."
   ]
  },
  {
   "cell_type": "markdown",
   "metadata": {},
   "source": [
    "#### Advanced\n",
    "\n",
    "`NexusHelper` also has other keyword arguments:\n",
    "* `nexus_config`: nexus configuration file used by nexus-forge (see https://nexus-forge.readthedocs.io/)\n",
    "* `debug`: Allows more verbose output\n",
    "* `**kwargs`: any keyword arguments that can be passed to the `nexus-forge` project's `KnowledgeGraphForge` class (again, please refer to https://nexus-forge.readthedocs.io/)\n",
    "\n",
    "These are, however, targeted to the developers and are outside the scope of these notebooks."
   ]
  }
 ],
 "metadata": {
  "kernelspec": {
   "display_name": "mmb2022_193",
   "language": "python",
   "name": "mmb2022_193"
  },
  "language_info": {
   "codemirror_mode": {
    "name": "ipython",
    "version": 3
   },
   "file_extension": ".py",
   "mimetype": "text/x-python",
   "name": "python",
   "nbconvert_exporter": "python",
   "pygments_lexer": "ipython3",
   "version": "3.9.7"
  }
 },
 "nbformat": 4,
 "nbformat_minor": 4
}
