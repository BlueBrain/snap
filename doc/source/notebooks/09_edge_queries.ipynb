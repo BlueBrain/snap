{
 "cells": [
  {
   "cell_type": "markdown",
   "metadata": {},
   "source": [
    "# Edge queries\n",
    "## Introduction\n",
    "In this tutorial we cover edge queries and how to use them in different use cases."
   ]
  },
  {
   "cell_type": "markdown",
   "metadata": {},
   "source": [
    "## Preamble\n",
    "The code in this section assumes that you have already downloaded the circuit. If not, take a look at the [first notebook](./01_node_properties.ipynb) in the series."
   ]
  },
  {
   "cell_type": "code",
   "execution_count": 1,
   "metadata": {},
   "outputs": [],
   "source": [
    "import bluepysnap\n",
    "import pandas as pd\n",
    "import numpy as np\n",
    "from time import time\n",
    "\n",
    "circuit_path = \"sonata/circuit_sonata.json\"\n",
    "circuit = bluepysnap.Circuit(circuit_path)"
   ]
  },
  {
   "cell_type": "markdown",
   "metadata": {},
   "source": [
    "## Differences between Node and Edge queries\n",
    "Everything covered in the querying part of the previous [Node Sets and Querying notebook](./08_queries_and_nodesets.ipynb) also applies when querying edges. Except for, of course, the obvious: node sets can only be used to query nodes. \n",
    "\n",
    "So queries work the same fashion, but querying itself is a bit different.\n",
    "\n",
    "### Getting all nodes and their properties\n",
    "First of all, to get all possible nodes, and their properties, one can do "
   ]
  },
  {
   "cell_type": "code",
   "execution_count": 2,
   "metadata": {},
   "outputs": [
    {
     "data": {
      "text/html": [
       "<div>\n",
       "<style scoped>\n",
       "    .dataframe tbody tr th:only-of-type {\n",
       "        vertical-align: middle;\n",
       "    }\n",
       "\n",
       "    .dataframe tbody tr th {\n",
       "        vertical-align: top;\n",
       "    }\n",
       "\n",
       "    .dataframe thead th {\n",
       "        text-align: right;\n",
       "    }\n",
       "</style>\n",
       "<table border=\"1\" class=\"dataframe\">\n",
       "  <thead>\n",
       "    <tr style=\"text-align: right;\">\n",
       "      <th></th>\n",
       "      <th></th>\n",
       "      <th>model_template</th>\n",
       "      <th>model_type</th>\n",
       "    </tr>\n",
       "    <tr>\n",
       "      <th>population</th>\n",
       "      <th>node_ids</th>\n",
       "      <th></th>\n",
       "      <th></th>\n",
       "    </tr>\n",
       "  </thead>\n",
       "  <tbody>\n",
       "    <tr>\n",
       "      <th rowspan=\"5\" valign=\"top\">CorticoThalamic_projections</th>\n",
       "      <th>0</th>\n",
       "      <td></td>\n",
       "      <td>virtual</td>\n",
       "    </tr>\n",
       "    <tr>\n",
       "      <th>1</th>\n",
       "      <td></td>\n",
       "      <td>virtual</td>\n",
       "    </tr>\n",
       "    <tr>\n",
       "      <th>2</th>\n",
       "      <td></td>\n",
       "      <td>virtual</td>\n",
       "    </tr>\n",
       "    <tr>\n",
       "      <th>3</th>\n",
       "      <td></td>\n",
       "      <td>virtual</td>\n",
       "    </tr>\n",
       "    <tr>\n",
       "      <th>4</th>\n",
       "      <td></td>\n",
       "      <td>virtual</td>\n",
       "    </tr>\n",
       "  </tbody>\n",
       "</table>\n",
       "</div>"
      ],
      "text/plain": [
       "                                     model_template model_type\n",
       "population                  node_ids                          \n",
       "CorticoThalamic_projections 0                          virtual\n",
       "                            1                          virtual\n",
       "                            2                          virtual\n",
       "                            3                          virtual\n",
       "                            4                          virtual"
      ]
     },
     "metadata": {},
     "output_type": "display_data"
    },
    {
     "data": {
      "text/html": [
       "<div>\n",
       "<style scoped>\n",
       "    .dataframe tbody tr th:only-of-type {\n",
       "        vertical-align: middle;\n",
       "    }\n",
       "\n",
       "    .dataframe tbody tr th {\n",
       "        vertical-align: top;\n",
       "    }\n",
       "\n",
       "    .dataframe thead th {\n",
       "        text-align: right;\n",
       "    }\n",
       "</style>\n",
       "<table border=\"1\" class=\"dataframe\">\n",
       "  <thead>\n",
       "    <tr style=\"text-align: right;\">\n",
       "      <th></th>\n",
       "      <th></th>\n",
       "      <th>model_template</th>\n",
       "      <th>model_type</th>\n",
       "    </tr>\n",
       "    <tr>\n",
       "      <th>population</th>\n",
       "      <th>node_ids</th>\n",
       "      <th></th>\n",
       "      <th></th>\n",
       "    </tr>\n",
       "  </thead>\n",
       "  <tbody>\n",
       "    <tr>\n",
       "      <th rowspan=\"5\" valign=\"top\">MedialLemniscus_projections</th>\n",
       "      <th>0</th>\n",
       "      <td></td>\n",
       "      <td>virtual</td>\n",
       "    </tr>\n",
       "    <tr>\n",
       "      <th>1</th>\n",
       "      <td></td>\n",
       "      <td>virtual</td>\n",
       "    </tr>\n",
       "    <tr>\n",
       "      <th>2</th>\n",
       "      <td></td>\n",
       "      <td>virtual</td>\n",
       "    </tr>\n",
       "    <tr>\n",
       "      <th>3</th>\n",
       "      <td></td>\n",
       "      <td>virtual</td>\n",
       "    </tr>\n",
       "    <tr>\n",
       "      <th>4</th>\n",
       "      <td></td>\n",
       "      <td>virtual</td>\n",
       "    </tr>\n",
       "  </tbody>\n",
       "</table>\n",
       "</div>"
      ],
      "text/plain": [
       "                                     model_template model_type\n",
       "population                  node_ids                          \n",
       "MedialLemniscus_projections 0                          virtual\n",
       "                            1                          virtual\n",
       "                            2                          virtual\n",
       "                            3                          virtual\n",
       "                            4                          virtual"
      ]
     },
     "metadata": {},
     "output_type": "display_data"
    },
    {
     "data": {
      "text/html": [
       "<div>\n",
       "<style scoped>\n",
       "    .dataframe tbody tr th:only-of-type {\n",
       "        vertical-align: middle;\n",
       "    }\n",
       "\n",
       "    .dataframe tbody tr th {\n",
       "        vertical-align: top;\n",
       "    }\n",
       "\n",
       "    .dataframe thead th {\n",
       "        text-align: right;\n",
       "    }\n",
       "</style>\n",
       "<table border=\"1\" class=\"dataframe\">\n",
       "  <thead>\n",
       "    <tr style=\"text-align: right;\">\n",
       "      <th></th>\n",
       "      <th></th>\n",
       "      <th>@dynamics:holding_current</th>\n",
       "      <th>@dynamics:threshold_current</th>\n",
       "      <th>etype</th>\n",
       "      <th>layer</th>\n",
       "      <th>model_template</th>\n",
       "      <th>model_type</th>\n",
       "      <th>morph_class</th>\n",
       "      <th>morphology</th>\n",
       "      <th>mtype</th>\n",
       "      <th>orientation_w</th>\n",
       "      <th>...</th>\n",
       "      <th>orientation_y</th>\n",
       "      <th>orientation_z</th>\n",
       "      <th>region</th>\n",
       "      <th>rotation_angle_xaxis</th>\n",
       "      <th>rotation_angle_yaxis</th>\n",
       "      <th>rotation_angle_zaxis</th>\n",
       "      <th>synapse_class</th>\n",
       "      <th>x</th>\n",
       "      <th>y</th>\n",
       "      <th>z</th>\n",
       "    </tr>\n",
       "    <tr>\n",
       "      <th>population</th>\n",
       "      <th>node_ids</th>\n",
       "      <th></th>\n",
       "      <th></th>\n",
       "      <th></th>\n",
       "      <th></th>\n",
       "      <th></th>\n",
       "      <th></th>\n",
       "      <th></th>\n",
       "      <th></th>\n",
       "      <th></th>\n",
       "      <th></th>\n",
       "      <th></th>\n",
       "      <th></th>\n",
       "      <th></th>\n",
       "      <th></th>\n",
       "      <th></th>\n",
       "      <th></th>\n",
       "      <th></th>\n",
       "      <th></th>\n",
       "      <th></th>\n",
       "      <th></th>\n",
       "      <th></th>\n",
       "    </tr>\n",
       "  </thead>\n",
       "  <tbody>\n",
       "    <tr>\n",
       "      <th rowspan=\"5\" valign=\"top\">thalamus_neurons</th>\n",
       "      <th>0</th>\n",
       "      <td>-0.045270</td>\n",
       "      <td>0.083160</td>\n",
       "      <td>cAD_noscltb</td>\n",
       "      <td>Rt</td>\n",
       "      <td>hoc:cAD_noscltb</td>\n",
       "      <td>biophysical</td>\n",
       "      <td>RC</td>\n",
       "      <td>dend-04446-04462-X10187-Y13578_final_axon-0456...</td>\n",
       "      <td>Rt_RC</td>\n",
       "      <td>0.988265</td>\n",
       "      <td>...</td>\n",
       "      <td>0.152752</td>\n",
       "      <td>-0.0</td>\n",
       "      <td>mc0;Rt</td>\n",
       "      <td>-0.0</td>\n",
       "      <td>0.306704</td>\n",
       "      <td>-0.0</td>\n",
       "      <td>INH</td>\n",
       "      <td>175.000000</td>\n",
       "      <td>575.000000</td>\n",
       "      <td>225.000000</td>\n",
       "    </tr>\n",
       "    <tr>\n",
       "      <th>1</th>\n",
       "      <td>-0.033646</td>\n",
       "      <td>0.049149</td>\n",
       "      <td>cAD_noscltb</td>\n",
       "      <td>Rt</td>\n",
       "      <td>hoc:cAD_noscltb</td>\n",
       "      <td>biophysical</td>\n",
       "      <td>RC</td>\n",
       "      <td>dend-04901-04913-X12280-Y25667_final_axon-0444...</td>\n",
       "      <td>Rt_RC</td>\n",
       "      <td>0.780058</td>\n",
       "      <td>...</td>\n",
       "      <td>0.625707</td>\n",
       "      <td>-0.0</td>\n",
       "      <td>mc0;Rt</td>\n",
       "      <td>-0.0</td>\n",
       "      <td>1.352075</td>\n",
       "      <td>-0.0</td>\n",
       "      <td>INH</td>\n",
       "      <td>179.044281</td>\n",
       "      <td>593.194763</td>\n",
       "      <td>200.260788</td>\n",
       "    </tr>\n",
       "    <tr>\n",
       "      <th>2</th>\n",
       "      <td>-0.037110</td>\n",
       "      <td>0.060735</td>\n",
       "      <td>cNAD_noscltb</td>\n",
       "      <td>Rt</td>\n",
       "      <td>hoc:cNAD_noscltb</td>\n",
       "      <td>biophysical</td>\n",
       "      <td>RC</td>\n",
       "      <td>dend-04446-04462-X10187-Y13578_final_axon-0453...</td>\n",
       "      <td>Rt_RC</td>\n",
       "      <td>0.948338</td>\n",
       "      <td>...</td>\n",
       "      <td>0.317262</td>\n",
       "      <td>-0.0</td>\n",
       "      <td>mc0;Rt</td>\n",
       "      <td>-0.0</td>\n",
       "      <td>0.645681</td>\n",
       "      <td>-0.0</td>\n",
       "      <td>INH</td>\n",
       "      <td>196.751480</td>\n",
       "      <td>563.684509</td>\n",
       "      <td>206.200989</td>\n",
       "    </tr>\n",
       "    <tr>\n",
       "      <th>3</th>\n",
       "      <td>-0.021140</td>\n",
       "      <td>0.043437</td>\n",
       "      <td>cNAD_noscltb</td>\n",
       "      <td>Rt</td>\n",
       "      <td>hoc:cNAD_noscltb</td>\n",
       "      <td>biophysical</td>\n",
       "      <td>RC</td>\n",
       "      <td>dend-04392-04406-X11579-Y24237_final_axon-0490...</td>\n",
       "      <td>Rt_RC</td>\n",
       "      <td>0.990075</td>\n",
       "      <td>...</td>\n",
       "      <td>0.140538</td>\n",
       "      <td>-0.0</td>\n",
       "      <td>mc0;Rt</td>\n",
       "      <td>-0.0</td>\n",
       "      <td>0.282009</td>\n",
       "      <td>-0.0</td>\n",
       "      <td>INH</td>\n",
       "      <td>169.940216</td>\n",
       "      <td>579.091736</td>\n",
       "      <td>253.004227</td>\n",
       "    </tr>\n",
       "    <tr>\n",
       "      <th>4</th>\n",
       "      <td>-0.042115</td>\n",
       "      <td>0.077446</td>\n",
       "      <td>cNAD_noscltb</td>\n",
       "      <td>Rt</td>\n",
       "      <td>hoc:cNAD_noscltb</td>\n",
       "      <td>biophysical</td>\n",
       "      <td>RC</td>\n",
       "      <td>dend-jy180406_C_idA_axon-04527-04540-X11773-Y2...</td>\n",
       "      <td>Rt_RC</td>\n",
       "      <td>0.971375</td>\n",
       "      <td>...</td>\n",
       "      <td>-0.237553</td>\n",
       "      <td>0.0</td>\n",
       "      <td>mc0;Rt</td>\n",
       "      <td>0.0</td>\n",
       "      <td>-0.479691</td>\n",
       "      <td>0.0</td>\n",
       "      <td>INH</td>\n",
       "      <td>156.274872</td>\n",
       "      <td>572.608337</td>\n",
       "      <td>235.786240</td>\n",
       "    </tr>\n",
       "  </tbody>\n",
       "</table>\n",
       "<p>5 rows × 21 columns</p>\n",
       "</div>"
      ],
      "text/plain": [
       "                           @dynamics:holding_current  \\\n",
       "population       node_ids                              \n",
       "thalamus_neurons 0                         -0.045270   \n",
       "                 1                         -0.033646   \n",
       "                 2                         -0.037110   \n",
       "                 3                         -0.021140   \n",
       "                 4                         -0.042115   \n",
       "\n",
       "                           @dynamics:threshold_current         etype layer  \\\n",
       "population       node_ids                                                    \n",
       "thalamus_neurons 0                            0.083160   cAD_noscltb    Rt   \n",
       "                 1                            0.049149   cAD_noscltb    Rt   \n",
       "                 2                            0.060735  cNAD_noscltb    Rt   \n",
       "                 3                            0.043437  cNAD_noscltb    Rt   \n",
       "                 4                            0.077446  cNAD_noscltb    Rt   \n",
       "\n",
       "                             model_template   model_type morph_class  \\\n",
       "population       node_ids                                              \n",
       "thalamus_neurons 0          hoc:cAD_noscltb  biophysical          RC   \n",
       "                 1          hoc:cAD_noscltb  biophysical          RC   \n",
       "                 2         hoc:cNAD_noscltb  biophysical          RC   \n",
       "                 3         hoc:cNAD_noscltb  biophysical          RC   \n",
       "                 4         hoc:cNAD_noscltb  biophysical          RC   \n",
       "\n",
       "                                                                  morphology  \\\n",
       "population       node_ids                                                      \n",
       "thalamus_neurons 0         dend-04446-04462-X10187-Y13578_final_axon-0456...   \n",
       "                 1         dend-04901-04913-X12280-Y25667_final_axon-0444...   \n",
       "                 2         dend-04446-04462-X10187-Y13578_final_axon-0453...   \n",
       "                 3         dend-04392-04406-X11579-Y24237_final_axon-0490...   \n",
       "                 4         dend-jy180406_C_idA_axon-04527-04540-X11773-Y2...   \n",
       "\n",
       "                           mtype  orientation_w  ...  orientation_y  \\\n",
       "population       node_ids                        ...                  \n",
       "thalamus_neurons 0         Rt_RC       0.988265  ...       0.152752   \n",
       "                 1         Rt_RC       0.780058  ...       0.625707   \n",
       "                 2         Rt_RC       0.948338  ...       0.317262   \n",
       "                 3         Rt_RC       0.990075  ...       0.140538   \n",
       "                 4         Rt_RC       0.971375  ...      -0.237553   \n",
       "\n",
       "                           orientation_z  region rotation_angle_xaxis  \\\n",
       "population       node_ids                                               \n",
       "thalamus_neurons 0                  -0.0  mc0;Rt                 -0.0   \n",
       "                 1                  -0.0  mc0;Rt                 -0.0   \n",
       "                 2                  -0.0  mc0;Rt                 -0.0   \n",
       "                 3                  -0.0  mc0;Rt                 -0.0   \n",
       "                 4                   0.0  mc0;Rt                  0.0   \n",
       "\n",
       "                           rotation_angle_yaxis  rotation_angle_zaxis  \\\n",
       "population       node_ids                                               \n",
       "thalamus_neurons 0                     0.306704                  -0.0   \n",
       "                 1                     1.352075                  -0.0   \n",
       "                 2                     0.645681                  -0.0   \n",
       "                 3                     0.282009                  -0.0   \n",
       "                 4                    -0.479691                   0.0   \n",
       "\n",
       "                           synapse_class           x           y           z  \n",
       "population       node_ids                                                     \n",
       "thalamus_neurons 0                   INH  175.000000  575.000000  225.000000  \n",
       "                 1                   INH  179.044281  593.194763  200.260788  \n",
       "                 2                   INH  196.751480  563.684509  206.200989  \n",
       "                 3                   INH  169.940216  579.091736  253.004227  \n",
       "                 4                   INH  156.274872  572.608337  235.786240  \n",
       "\n",
       "[5 rows x 21 columns]"
      ]
     },
     "metadata": {},
     "output_type": "display_data"
    }
   ],
   "source": [
    "data = circuit.nodes.get()\n",
    "for _, df in data:\n",
    "    display(df.head())"
   ]
  },
  {
   "cell_type": "markdown",
   "metadata": {},
   "source": [
    "### Getting all edges and their properties?\n",
    "One can not query all the edges and their properties like with nodes:\n",
    "```python\n",
    "circuit.edges.get() # Would raise an exception\n",
    "circuit.edges['MedialLemniscus_projections__thalamus_neurons__chemical'].get() # Would also raise an exception\n",
    "```\n",
    "\n",
    "Why the different behavior? The reason is very simple: the number of edges massively exceeds the number of nodes in the circuit:"
   ]
  },
  {
   "cell_type": "code",
   "execution_count": 3,
   "metadata": {},
   "outputs": [
    {
     "name": "stdout",
     "output_type": "stream",
     "text": [
      "# of nodes: 189208\n",
      "# of edges: 63340787\n",
      "There are roughly 334 times more edges than nodes.\n"
     ]
    }
   ],
   "source": [
    "n_edges = circuit.edges.size\n",
    "n_nodes = circuit.nodes.size\n",
    "print(f\"# of nodes: {n_nodes}\")\n",
    "print(f\"# of edges: {n_edges}\")\n",
    "print(f\"There are roughly {n_edges // n_nodes} times more edges than nodes.\")"
   ]
  },
  {
   "cell_type": "markdown",
   "metadata": {},
   "source": [
    "Because of this, it's extremely easy to run out of memory. In fact, since the `circuit.edges.ids` returns a `CircuitEdgeIds` object with indices consisting of both the edge id and the population name, you can easily run out of memory even with:\n",
    "```python\n",
    "circuit.edges.ids() # This will very likely run out of memory\n",
    "```\n",
    "So, since we're out of memory with just the ids, obviously we can't even consider fetching all the properties for all the edges. One also needs to define which properties are returned when doing `get` with edges. Otherwise, only ids are returned.\n",
    "\n",
    "### `Edges`/`EdgePopulation` `get` requires the query to be defined\n",
    "```python\n",
    "# These return ids instead of all properties.\n",
    "circuit.edges.get(query)  # same as .ids(query)\n",
    "circuit.edges['MedialLemniscus_projections__thalamus_neurons__chemical'].get(query) # same as .ids(query)\n",
    "```\n",
    "Let's try to query and show afferent center positions for edges having their afferent center position between XYZ coordinates `[450,450,450]` and `[460,460,460]`:"
   ]
  },
  {
   "cell_type": "code",
   "execution_count": 4,
   "metadata": {},
   "outputs": [
    {
     "data": {
      "text/html": [
       "<div>\n",
       "<style scoped>\n",
       "    .dataframe tbody tr th:only-of-type {\n",
       "        vertical-align: middle;\n",
       "    }\n",
       "\n",
       "    .dataframe tbody tr th {\n",
       "        vertical-align: top;\n",
       "    }\n",
       "\n",
       "    .dataframe thead th {\n",
       "        text-align: right;\n",
       "    }\n",
       "</style>\n",
       "<table border=\"1\" class=\"dataframe\">\n",
       "  <thead>\n",
       "    <tr style=\"text-align: right;\">\n",
       "      <th></th>\n",
       "      <th></th>\n",
       "      <th>afferent_center_x</th>\n",
       "      <th>afferent_center_y</th>\n",
       "      <th>afferent_center_z</th>\n",
       "    </tr>\n",
       "    <tr>\n",
       "      <th>population</th>\n",
       "      <th>edge_ids</th>\n",
       "      <th></th>\n",
       "      <th></th>\n",
       "      <th></th>\n",
       "    </tr>\n",
       "  </thead>\n",
       "  <tbody>\n",
       "    <tr>\n",
       "      <th rowspan=\"5\" valign=\"top\">thalamus_neurons__thalamus_neurons__chemical</th>\n",
       "      <th>2827859</th>\n",
       "      <td>454.395416</td>\n",
       "      <td>455.317352</td>\n",
       "      <td>453.267151</td>\n",
       "    </tr>\n",
       "    <tr>\n",
       "      <th>2842049</th>\n",
       "      <td>451.251099</td>\n",
       "      <td>459.769501</td>\n",
       "      <td>457.176605</td>\n",
       "    </tr>\n",
       "    <tr>\n",
       "      <th>2842050</th>\n",
       "      <td>453.582245</td>\n",
       "      <td>457.467682</td>\n",
       "      <td>456.495728</td>\n",
       "    </tr>\n",
       "    <tr>\n",
       "      <th>2872204</th>\n",
       "      <td>456.010925</td>\n",
       "      <td>454.797028</td>\n",
       "      <td>450.967194</td>\n",
       "    </tr>\n",
       "    <tr>\n",
       "      <th>3072076</th>\n",
       "      <td>451.312164</td>\n",
       "      <td>455.902893</td>\n",
       "      <td>452.170288</td>\n",
       "    </tr>\n",
       "  </tbody>\n",
       "</table>\n",
       "</div>"
      ],
      "text/plain": [
       "                                                       afferent_center_x  \\\n",
       "population                                   edge_ids                      \n",
       "thalamus_neurons__thalamus_neurons__chemical 2827859          454.395416   \n",
       "                                             2842049          451.251099   \n",
       "                                             2842050          453.582245   \n",
       "                                             2872204          456.010925   \n",
       "                                             3072076          451.312164   \n",
       "\n",
       "                                                       afferent_center_y  \\\n",
       "population                                   edge_ids                      \n",
       "thalamus_neurons__thalamus_neurons__chemical 2827859          455.317352   \n",
       "                                             2842049          459.769501   \n",
       "                                             2842050          457.467682   \n",
       "                                             2872204          454.797028   \n",
       "                                             3072076          455.902893   \n",
       "\n",
       "                                                       afferent_center_z  \n",
       "population                                   edge_ids                     \n",
       "thalamus_neurons__thalamus_neurons__chemical 2827859          453.267151  \n",
       "                                             2842049          457.176605  \n",
       "                                             2842050          456.495728  \n",
       "                                             2872204          450.967194  \n",
       "                                             3072076          452.170288  "
      ]
     },
     "metadata": {},
     "output_type": "display_data"
    },
    {
     "data": {
      "text/html": [
       "<div>\n",
       "<style scoped>\n",
       "    .dataframe tbody tr th:only-of-type {\n",
       "        vertical-align: middle;\n",
       "    }\n",
       "\n",
       "    .dataframe tbody tr th {\n",
       "        vertical-align: top;\n",
       "    }\n",
       "\n",
       "    .dataframe thead th {\n",
       "        text-align: right;\n",
       "    }\n",
       "</style>\n",
       "<table border=\"1\" class=\"dataframe\">\n",
       "  <thead>\n",
       "    <tr style=\"text-align: right;\">\n",
       "      <th></th>\n",
       "      <th>afferent_center_x</th>\n",
       "      <th>afferent_center_y</th>\n",
       "      <th>afferent_center_z</th>\n",
       "    </tr>\n",
       "  </thead>\n",
       "  <tbody>\n",
       "    <tr>\n",
       "      <th>2827859</th>\n",
       "      <td>454.395416</td>\n",
       "      <td>455.317352</td>\n",
       "      <td>453.267151</td>\n",
       "    </tr>\n",
       "    <tr>\n",
       "      <th>2842049</th>\n",
       "      <td>451.251099</td>\n",
       "      <td>459.769501</td>\n",
       "      <td>457.176605</td>\n",
       "    </tr>\n",
       "    <tr>\n",
       "      <th>2842050</th>\n",
       "      <td>453.582245</td>\n",
       "      <td>457.467682</td>\n",
       "      <td>456.495728</td>\n",
       "    </tr>\n",
       "    <tr>\n",
       "      <th>2872204</th>\n",
       "      <td>456.010925</td>\n",
       "      <td>454.797028</td>\n",
       "      <td>450.967194</td>\n",
       "    </tr>\n",
       "    <tr>\n",
       "      <th>3072076</th>\n",
       "      <td>451.312164</td>\n",
       "      <td>455.902893</td>\n",
       "      <td>452.170288</td>\n",
       "    </tr>\n",
       "  </tbody>\n",
       "</table>\n",
       "</div>"
      ],
      "text/plain": [
       "         afferent_center_x  afferent_center_y  afferent_center_z\n",
       "2827859         454.395416         455.317352         453.267151\n",
       "2842049         451.251099         459.769501         457.176605\n",
       "2842050         453.582245         457.467682         456.495728\n",
       "2872204         456.010925         454.797028         450.967194\n",
       "3072076         451.312164         455.902893         452.170288"
      ]
     },
     "execution_count": 4,
     "metadata": {},
     "output_type": "execute_result"
    }
   ],
   "source": [
    "query = {\n",
    "    'afferent_center_x': [450, 460],\n",
    "    'afferent_center_y': [450, 460],\n",
    "    'afferent_center_z': [450, 460],\n",
    "}\n",
    "properties = list(query)\n",
    "\n",
    "# This query only returns results for one population\n",
    "data = circuit.edges.get(query, properties)\n",
    "for _, df in data:\n",
    "    display(df.head())\n",
    "\n",
    "# Let's query the same but using the edge population\n",
    "edge_population = circuit.edges['thalamus_neurons__thalamus_neurons__chemical']\n",
    "edge_population.get(query, properties).head()"
   ]
  },
  {
   "cell_type": "markdown",
   "metadata": {},
   "source": [
    "## Typical use cases\n",
    "\n",
    "Now that we've covered the differences, let's get deeper into edge queries. In this section we'll cover some of the typical use cases.\n",
    "\n",
    "We already know that we can get any of the edge properties with `get` and and use any of the properties to filter which edges will be returned so we'll not cover that here. However, more often than not, that is not how we query edges. Most of the time, we want to find edges that connect certain nodes (or node sets) or want to find which nodes are connected to certain pre-synaptic (or post-synaptic) cells.\n",
    "\n",
    "In the examples, we'll be using a single node population, but they work the same with `circuit.edges`, too.\n",
    "\n",
    "### Edges connecting cells with known ids\n",
    "\n",
    "In these examples, we're demonstrating the various methods of finding edges connecting nodes with already resolved ids."
   ]
  },
  {
   "cell_type": "code",
   "execution_count": 5,
   "metadata": {},
   "outputs": [],
   "source": [
    "source_ids = [1]\n",
    "target_ids = [27204]\n",
    "properties = ['@source_node', '@target_node']"
   ]
  },
  {
   "cell_type": "markdown",
   "metadata": {},
   "source": [
    "#### using `@source_node` and/or `@target_node`\n",
    "\n",
    "If we have the source/target ids already resolved we can, again, query using the properties. In the following example we define both source and target node ids, but obviously you can just use one of them."
   ]
  },
  {
   "cell_type": "code",
   "execution_count": 6,
   "metadata": {},
   "outputs": [
    {
     "data": {
      "text/html": [
       "<div>\n",
       "<style scoped>\n",
       "    .dataframe tbody tr th:only-of-type {\n",
       "        vertical-align: middle;\n",
       "    }\n",
       "\n",
       "    .dataframe tbody tr th {\n",
       "        vertical-align: top;\n",
       "    }\n",
       "\n",
       "    .dataframe thead th {\n",
       "        text-align: right;\n",
       "    }\n",
       "</style>\n",
       "<table border=\"1\" class=\"dataframe\">\n",
       "  <thead>\n",
       "    <tr style=\"text-align: right;\">\n",
       "      <th></th>\n",
       "      <th>@source_node</th>\n",
       "      <th>@target_node</th>\n",
       "    </tr>\n",
       "  </thead>\n",
       "  <tbody>\n",
       "    <tr>\n",
       "      <th>11570852</th>\n",
       "      <td>1</td>\n",
       "      <td>27204</td>\n",
       "    </tr>\n",
       "    <tr>\n",
       "      <th>11570853</th>\n",
       "      <td>1</td>\n",
       "      <td>27204</td>\n",
       "    </tr>\n",
       "    <tr>\n",
       "      <th>11570854</th>\n",
       "      <td>1</td>\n",
       "      <td>27204</td>\n",
       "    </tr>\n",
       "    <tr>\n",
       "      <th>11570855</th>\n",
       "      <td>1</td>\n",
       "      <td>27204</td>\n",
       "    </tr>\n",
       "  </tbody>\n",
       "</table>\n",
       "</div>"
      ],
      "text/plain": [
       "          @source_node  @target_node\n",
       "11570852             1         27204\n",
       "11570853             1         27204\n",
       "11570854             1         27204\n",
       "11570855             1         27204"
      ]
     },
     "execution_count": 6,
     "metadata": {},
     "output_type": "execute_result"
    }
   ],
   "source": [
    "edge_population.get({'@source_node': source_ids, '@target_node': target_ids}, properties=properties)"
   ]
  },
  {
   "cell_type": "markdown",
   "metadata": {},
   "source": [
    "#### using `pathway_edges` / `pair_edges`\n",
    "\n",
    "**Note:** `pathway_edges` and `pair_edges` are the same function, so the following applies to both of them.\n",
    "\n",
    "We can get the just the edge ids without specifying properties:"
   ]
  },
  {
   "cell_type": "code",
   "execution_count": 7,
   "metadata": {},
   "outputs": [
    {
     "data": {
      "text/plain": [
       "array([11570852, 11570853, 11570854, 11570855])"
      ]
     },
     "execution_count": 7,
     "metadata": {},
     "output_type": "execute_result"
    }
   ],
   "source": [
    "edge_population.pathway_edges(source_ids, target_ids)"
   ]
  },
  {
   "cell_type": "markdown",
   "metadata": {},
   "source": [
    "or just as easily get the wanted properties by passing them as an argument:"
   ]
  },
  {
   "cell_type": "code",
   "execution_count": 8,
   "metadata": {},
   "outputs": [
    {
     "data": {
      "text/html": [
       "<div>\n",
       "<style scoped>\n",
       "    .dataframe tbody tr th:only-of-type {\n",
       "        vertical-align: middle;\n",
       "    }\n",
       "\n",
       "    .dataframe tbody tr th {\n",
       "        vertical-align: top;\n",
       "    }\n",
       "\n",
       "    .dataframe thead th {\n",
       "        text-align: right;\n",
       "    }\n",
       "</style>\n",
       "<table border=\"1\" class=\"dataframe\">\n",
       "  <thead>\n",
       "    <tr style=\"text-align: right;\">\n",
       "      <th></th>\n",
       "      <th>@source_node</th>\n",
       "      <th>@target_node</th>\n",
       "    </tr>\n",
       "  </thead>\n",
       "  <tbody>\n",
       "    <tr>\n",
       "      <th>11570852</th>\n",
       "      <td>1</td>\n",
       "      <td>27204</td>\n",
       "    </tr>\n",
       "    <tr>\n",
       "      <th>11570853</th>\n",
       "      <td>1</td>\n",
       "      <td>27204</td>\n",
       "    </tr>\n",
       "    <tr>\n",
       "      <th>11570854</th>\n",
       "      <td>1</td>\n",
       "      <td>27204</td>\n",
       "    </tr>\n",
       "    <tr>\n",
       "      <th>11570855</th>\n",
       "      <td>1</td>\n",
       "      <td>27204</td>\n",
       "    </tr>\n",
       "  </tbody>\n",
       "</table>\n",
       "</div>"
      ],
      "text/plain": [
       "          @source_node  @target_node\n",
       "11570852             1         27204\n",
       "11570853             1         27204\n",
       "11570854             1         27204\n",
       "11570855             1         27204"
      ]
     },
     "execution_count": 8,
     "metadata": {},
     "output_type": "execute_result"
    }
   ],
   "source": [
    "edge_population.pathway_edges(source_ids, target_ids, properties=properties)"
   ]
  },
  {
   "cell_type": "markdown",
   "metadata": {},
   "source": [
    "#### Getting edges based on either source or target nodes (but not both)\n",
    "\n",
    "To get edges based on given source/target nodes, we can use the `get` with the defined `@source_node` / `@target_node` or even with `pathway_edges`/`pair_edges`:"
   ]
  },
  {
   "cell_type": "code",
   "execution_count": 9,
   "metadata": {},
   "outputs": [],
   "source": [
    "edges_with_source = edge_population.pathway_edges(source_ids, None) # get all edges with given source_ids\n",
    "edges_with_target = edge_population.pathway_edges(None, target_ids) # get all edges with given target_ids"
   ]
  },
  {
   "cell_type": "markdown",
   "metadata": {},
   "source": [
    "but SNAP also has dedicated functions for this:"
   ]
  },
  {
   "cell_type": "code",
   "execution_count": 10,
   "metadata": {},
   "outputs": [
    {
     "name": "stdout",
     "output_type": "stream",
     "text": [
      "afferent edges == edges with target ids: True\n",
      "efferent edges == edges with source ids: True\n"
     ]
    }
   ],
   "source": [
    "afferent_edges = edge_population.afferent_edges(target_ids, properties=None) # note that these functions also...\n",
    "efferent_edges = edge_population.efferent_edges(source_ids, properties=None) # ...can get the wanted properties\n",
    "print(f\"afferent edges == edges with target ids: {all(afferent_edges == edges_with_target)}\")\n",
    "print(f\"efferent edges == edges with source ids: {all(efferent_edges == edges_with_source)}\")"
   ]
  },
  {
   "cell_type": "markdown",
   "metadata": {},
   "source": [
    "### Finding source/target nodes based on known target/source ids\n",
    "\n",
    "We already covered how to get the synapses/edges based on known source/target ids. Obviously we could use any of the previously covered functions and define `@source_node` or `@target_node` in the wanted properties to get the wanted nodes. However, again, SNAP has dedicated functions for it:"
   ]
  },
  {
   "cell_type": "code",
   "execution_count": 11,
   "metadata": {},
   "outputs": [],
   "source": [
    "source_nodes = edge_population.afferent_nodes(target_ids) \n",
    "target_nodes = edge_population.efferent_nodes(source_ids)"
   ]
  },
  {
   "cell_type": "markdown",
   "metadata": {},
   "source": [
    "These functions do not allow you to define `properties` to get the node properties within the same call, but we have an easy way to access the source and target populations to fetch the wanted properties:"
   ]
  },
  {
   "cell_type": "code",
   "execution_count": 12,
   "metadata": {},
   "outputs": [
    {
     "data": {
      "text/html": [
       "<div>\n",
       "<style scoped>\n",
       "    .dataframe tbody tr th:only-of-type {\n",
       "        vertical-align: middle;\n",
       "    }\n",
       "\n",
       "    .dataframe tbody tr th {\n",
       "        vertical-align: top;\n",
       "    }\n",
       "\n",
       "    .dataframe thead th {\n",
       "        text-align: right;\n",
       "    }\n",
       "</style>\n",
       "<table border=\"1\" class=\"dataframe\">\n",
       "  <thead>\n",
       "    <tr style=\"text-align: right;\">\n",
       "      <th></th>\n",
       "      <th>mtype</th>\n",
       "      <th>etype</th>\n",
       "      <th>layer</th>\n",
       "    </tr>\n",
       "    <tr>\n",
       "      <th>node_ids</th>\n",
       "      <th></th>\n",
       "      <th></th>\n",
       "      <th></th>\n",
       "    </tr>\n",
       "  </thead>\n",
       "  <tbody>\n",
       "    <tr>\n",
       "      <th>1</th>\n",
       "      <td>Rt_RC</td>\n",
       "      <td>cAD_noscltb</td>\n",
       "      <td>Rt</td>\n",
       "    </tr>\n",
       "    <tr>\n",
       "      <th>12</th>\n",
       "      <td>Rt_RC</td>\n",
       "      <td>cAD_noscltb</td>\n",
       "      <td>Rt</td>\n",
       "    </tr>\n",
       "    <tr>\n",
       "      <th>34</th>\n",
       "      <td>Rt_RC</td>\n",
       "      <td>cNAD_noscltb</td>\n",
       "      <td>Rt</td>\n",
       "    </tr>\n",
       "    <tr>\n",
       "      <th>99</th>\n",
       "      <td>Rt_RC</td>\n",
       "      <td>cNAD_noscltb</td>\n",
       "      <td>Rt</td>\n",
       "    </tr>\n",
       "    <tr>\n",
       "      <th>119</th>\n",
       "      <td>Rt_RC</td>\n",
       "      <td>cAD_noscltb</td>\n",
       "      <td>Rt</td>\n",
       "    </tr>\n",
       "  </tbody>\n",
       "</table>\n",
       "</div>"
      ],
      "text/plain": [
       "          mtype         etype layer\n",
       "node_ids                           \n",
       "1         Rt_RC   cAD_noscltb    Rt\n",
       "12        Rt_RC   cAD_noscltb    Rt\n",
       "34        Rt_RC  cNAD_noscltb    Rt\n",
       "99        Rt_RC  cNAD_noscltb    Rt\n",
       "119       Rt_RC   cAD_noscltb    Rt"
      ]
     },
     "metadata": {},
     "output_type": "display_data"
    },
    {
     "data": {
      "text/html": [
       "<div>\n",
       "<style scoped>\n",
       "    .dataframe tbody tr th:only-of-type {\n",
       "        vertical-align: middle;\n",
       "    }\n",
       "\n",
       "    .dataframe tbody tr th {\n",
       "        vertical-align: top;\n",
       "    }\n",
       "\n",
       "    .dataframe thead th {\n",
       "        text-align: right;\n",
       "    }\n",
       "</style>\n",
       "<table border=\"1\" class=\"dataframe\">\n",
       "  <thead>\n",
       "    <tr style=\"text-align: right;\">\n",
       "      <th></th>\n",
       "      <th>mtype</th>\n",
       "      <th>etype</th>\n",
       "      <th>layer</th>\n",
       "    </tr>\n",
       "    <tr>\n",
       "      <th>node_ids</th>\n",
       "      <th></th>\n",
       "      <th></th>\n",
       "      <th></th>\n",
       "    </tr>\n",
       "  </thead>\n",
       "  <tbody>\n",
       "    <tr>\n",
       "      <th>5</th>\n",
       "      <td>Rt_RC</td>\n",
       "      <td>cAD_noscltb</td>\n",
       "      <td>Rt</td>\n",
       "    </tr>\n",
       "    <tr>\n",
       "      <th>421</th>\n",
       "      <td>Rt_RC</td>\n",
       "      <td>cAD_noscltb</td>\n",
       "      <td>Rt</td>\n",
       "    </tr>\n",
       "    <tr>\n",
       "      <th>561</th>\n",
       "      <td>Rt_RC</td>\n",
       "      <td>cAD_noscltb</td>\n",
       "      <td>Rt</td>\n",
       "    </tr>\n",
       "    <tr>\n",
       "      <th>1080</th>\n",
       "      <td>Rt_RC</td>\n",
       "      <td>cNAD_noscltb</td>\n",
       "      <td>Rt</td>\n",
       "    </tr>\n",
       "    <tr>\n",
       "      <th>1276</th>\n",
       "      <td>Rt_RC</td>\n",
       "      <td>cAD_noscltb</td>\n",
       "      <td>Rt</td>\n",
       "    </tr>\n",
       "  </tbody>\n",
       "</table>\n",
       "</div>"
      ],
      "text/plain": [
       "          mtype         etype layer\n",
       "node_ids                           \n",
       "5         Rt_RC   cAD_noscltb    Rt\n",
       "421       Rt_RC   cAD_noscltb    Rt\n",
       "561       Rt_RC   cAD_noscltb    Rt\n",
       "1080      Rt_RC  cNAD_noscltb    Rt\n",
       "1276      Rt_RC   cAD_noscltb    Rt"
      ]
     },
     "metadata": {},
     "output_type": "display_data"
    }
   ],
   "source": [
    "display(edge_population.source.get(source_nodes, properties=['mtype', 'etype','layer']).head())\n",
    "display(edge_population.target.get(target_nodes, properties=['mtype', 'etype','layer']).head())"
   ]
  },
  {
   "cell_type": "markdown",
   "metadata": {},
   "source": [
    "### Getting edges (or nodes) based on source/target node properties\n",
    "\n",
    "Now that we're familiar with all the different functions \n",
    "* `afferent_edges` / `efferent_edges`\n",
    "* `afferent_nodes` / `efferent_nodes`\n",
    "* `pathway_edges` / `pair_edges`\n",
    "\n",
    "let's continue on the tutorial. \n",
    "\n",
    "With the `get` function, it would have been cumbersome if we had to first resolve the ids and then pass them to the get function. Luckily, the ids were resolved internally and we can just pass the query to the `get` function. In general, this is what we'd like to do with the edges: just simply find the synapses between certain regions, node sets, mtypes, etc., right?\n",
    "\n",
    "For this exact reason, all of the above functions resolve the ids internally. I.e., instead of list of ids, we can pass queries to them instead:"
   ]
  },
  {
   "cell_type": "code",
   "execution_count": 13,
   "metadata": {},
   "outputs": [
    {
     "name": "stdout",
     "output_type": "stream",
     "text": [
      "Fetching connecting edges...\n"
     ]
    },
    {
     "data": {
      "text/plain": [
       "array([13588618, 13588619, 13588620, ..., 19297682, 19297683, 19297684])"
      ]
     },
     "metadata": {},
     "output_type": "display_data"
    },
    {
     "data": {
      "text/plain": [
       "array([13588618, 13588619, 13588620, ..., 19297682, 19297683, 19297684])"
      ]
     },
     "metadata": {},
     "output_type": "display_data"
    },
    {
     "data": {
      "text/plain": [
       "array([13588618, 13588619, 13588620, ..., 19297682, 19297683, 19297684])"
      ]
     },
     "metadata": {},
     "output_type": "display_data"
    },
    {
     "name": "stdout",
     "output_type": "stream",
     "text": [
      "\n",
      "Fetching source nodes...\n"
     ]
    },
    {
     "data": {
      "text/plain": [
       "array([    10,     25,     54, ..., 100762, 100763, 100764])"
      ]
     },
     "metadata": {},
     "output_type": "display_data"
    },
    {
     "data": {
      "text/plain": [
       "array([    10,     25,     54, ..., 100762, 100763, 100764])"
      ]
     },
     "metadata": {},
     "output_type": "display_data"
    }
   ],
   "source": [
    "print('Fetching connecting edges...')\n",
    "# using a node set\n",
    "display(edge_population.afferent_edges('mc2;VPL'))\n",
    "\n",
    "# using an external node set\n",
    "ext_node_set = bluepysnap.node_sets.NodeSets.from_dict({'ext_mc2;VPL': {'region': 'mc2;VPL'}})\n",
    "display(edge_population.afferent_edges(ext_node_set['ext_mc2;VPL']))\n",
    "\n",
    "# using a query\n",
    "display(edge_population.afferent_edges({'region': 'mc2;VPL'}))\n",
    "\n",
    "# just to demonstrate the queries with a node function\n",
    "print(\"\\nFetching source nodes...\")\n",
    "\n",
    "# using afferent_edges and properties\n",
    "source_nodes = np.unique(edge_population.afferent_edges({'region': 'mc2;VPL'}, properties=['@source_node']))\n",
    "display(source_nodes)\n",
    "\n",
    "# using afferent_nodes\n",
    "display(edge_population.afferent_nodes('mc2;VPL'))"
   ]
  },
  {
   "cell_type": "markdown",
   "metadata": {},
   "source": [
    "So in short: each of these functions can have queries as parameters instead of the node ids.\n",
    "\n",
    "## Iterating over connections with `iter_connections`\n",
    "As mentioned before, due to the huge number of edges, we may run into memory issues. Therefore, it's highly recommended to use iterators instead of gathering all of the data at once. For this very reason, SNAP has `iter_connections`:\n",
    "```python\n",
    "edge_population.iter_connections(\n",
    "    source,                   # the source nodes / query\n",
    "    target,                   # the target nodes / query\n",
    "    unique_node_ids=False,    # only use each source/target id once\n",
    "    shuffle=False,            # shuffle the order of results\n",
    "    return_edge_ids=False,    # return also the edge ids\n",
    "    return_edge_count=False,  # return the edge count between the source-target pairs\n",
    ")\n",
    "# Returns a generator of tuples containing:\n",
    "# (source_id, target_id)             : normally\n",
    "# (source_id, target_id, edge_ids)   : if return_edge_ids=True\n",
    "# (source_id, target_id, edge_count) : if return_edge_count=True\n",
    "```\n",
    "**NOTE:** `return_edge_ids` and `return_edge_count` are mutually exclusive options.\n",
    "\n",
    "In a nutshell, what `iter_connections` does, is that it iterates through **all** of the existing connections (source-target pairs) from **any** of the **source nodes** to **any** of the **target nodes** and returns a generator yielding those source-target pairs.\n",
    "\n",
    "Let's look at a few examples.\n",
    "\n",
    "### Return value is a generator that we can iterate over\n",
    "This is just to empahasize that we don't get the results of the function until we actually loop over it:"
   ]
  },
  {
   "cell_type": "code",
   "execution_count": 14,
   "metadata": {},
   "outputs": [
    {
     "name": "stdout",
     "output_type": "stream",
     "text": [
      "The result is not a tuple or a list but a <class 'generator'>\n"
     ]
    }
   ],
   "source": [
    "it = edge_population.iter_connections(source_ids, target_ids)\n",
    "print(f\"The result is not a tuple or a list but a {type(it)}\")"
   ]
  },
  {
   "cell_type": "markdown",
   "metadata": {},
   "source": [
    "Now, we could convert the result to a list using `list(it)` or `[*it]` but that kind of defeats the purpose of using generators and iterators. We'll just loop through them in the examples to not reinforce \"bad habits\".\n",
    "\n",
    "### No optional flags set\n",
    "This example is just to demonstrate that without `return_edge_ids`/`return_edge_count`, we're merely getting the source and target nodes ids as output:"
   ]
  },
  {
   "cell_type": "code",
   "execution_count": 15,
   "metadata": {},
   "outputs": [
    {
     "name": "stdout",
     "output_type": "stream",
     "text": [
      "CircuitNodeId(population='thalamus_neurons', id=1) - CircuitNodeId(population='thalamus_neurons', id=27204)\n"
     ]
    }
   ],
   "source": [
    "for _source_id, _target_id in edge_population.iter_connections(source_ids, target_ids):\n",
    "    print(_source_id, '-', _target_id)"
   ]
  },
  {
   "cell_type": "markdown",
   "metadata": {},
   "source": [
    "### Returning edge ids\n",
    "\n",
    "By setting `return_edge_ids=True`, we get the ids of the edges connecting each source-target pair:"
   ]
  },
  {
   "cell_type": "code",
   "execution_count": 16,
   "metadata": {},
   "outputs": [
    {
     "name": "stdout",
     "output_type": "stream",
     "text": [
      "CircuitNodeId(population='thalamus_neurons', id=1) - CircuitNodeId(population='thalamus_neurons', id=27204)\n",
      "\n",
      "CircuitEdgeIds([('thalamus_neurons__thalamus_neurons__chemical', 11570852),\n",
      "            ('thalamus_neurons__thalamus_neurons__chemical', 11570853),\n",
      "            ('thalamus_neurons__thalamus_neurons__chemical', 11570854),\n",
      "            ('thalamus_neurons__thalamus_neurons__chemical', 11570855)],\n",
      "           names=['population', 'edge_ids'])\n"
     ]
    }
   ],
   "source": [
    "for _source_id, _target_id, _edge_ids in edge_population.iter_connections(source_ids, target_ids, return_edge_ids=True):\n",
    "    print(_source_id, '-', _target_id)\n",
    "    print(f'\\n{_edge_ids}')"
   ]
  },
  {
   "cell_type": "markdown",
   "metadata": {},
   "source": [
    "### Returning the number of connecting edges\n",
    "\n",
    "By setting `return_edge_count=True`, we get the number of edges connecting each source-target pair. Based on the previous example, we should be getting four connecting edges:"
   ]
  },
  {
   "cell_type": "code",
   "execution_count": 17,
   "metadata": {},
   "outputs": [
    {
     "name": "stdout",
     "output_type": "stream",
     "text": [
      "CircuitNodeId(population='thalamus_neurons', id=1) - CircuitNodeId(population='thalamus_neurons', id=27204)\n",
      "Edge count: 4\n"
     ]
    }
   ],
   "source": [
    "for _source_id, _target_id, _edge_count in edge_population.iter_connections(source_ids, target_ids, return_edge_count=True):\n",
    "    print(_source_id, '-', _target_id)\n",
    "    print(f'Edge count: {_edge_count}')"
   ]
  },
  {
   "cell_type": "markdown",
   "metadata": {},
   "source": [
    "### Randomizing the output order\n",
    "\n",
    "We can use `shuffle=True` To randomize the order of the results. \n",
    "\n",
    "So let's see the non-randomized order of the connections between the first 10 nodes. For easier reading, let's only print the numeric part of the `CircuitNodeIds`:"
   ]
  },
  {
   "cell_type": "code",
   "execution_count": 18,
   "metadata": {},
   "outputs": [
    {
     "name": "stdout",
     "output_type": "stream",
     "text": [
      " 1: source:  2 --- target:  0\n",
      " 2: source:  0 --- target:  4\n",
      " 3: source:  5 --- target:  4\n",
      " 4: source:  1 --- target:  5\n"
     ]
    }
   ],
   "source": [
    "it = enumerate(edge_population.iter_connections(range(10), range(10)))\n",
    "for i, (_source_id, _target_id) in it:\n",
    "    print(f'{i+1:2d}: source: {_source_id.id:2d} --- target: {_target_id.id:2d}')"
   ]
  },
  {
   "cell_type": "markdown",
   "metadata": {},
   "source": [
    "Now by setting the `shuffle` flag in the call, we'll get the above source-target pairs in a different order:"
   ]
  },
  {
   "cell_type": "code",
   "execution_count": 19,
   "metadata": {},
   "outputs": [
    {
     "name": "stdout",
     "output_type": "stream",
     "text": [
      " 1: source:  5 --- target:  4\n",
      " 2: source:  0 --- target:  4\n",
      " 3: source:  1 --- target:  5\n",
      " 4: source:  2 --- target:  0\n"
     ]
    }
   ],
   "source": [
    "np.random.seed(0) # Just to keep the results consistent in the notebook\n",
    "\n",
    "it = enumerate(edge_population.iter_connections(range(10), range(10), shuffle=True))\n",
    "for i, (_source_id, _target_id) in it:\n",
    "    print(f'{i+1:2d}: source: {_source_id.id:2d} --- target: {_target_id.id:2d}')"
   ]
  },
  {
   "cell_type": "markdown",
   "metadata": {},
   "source": [
    "### Using each node only once (at max.) as a source and as a target\n",
    "\n",
    "Let's look at the connections between first 15 node ids. For easier reading, again, let's only print the numeric part of the `CircuitNodeId`s:"
   ]
  },
  {
   "cell_type": "code",
   "execution_count": 20,
   "metadata": {},
   "outputs": [
    {
     "name": "stdout",
     "output_type": "stream",
     "text": [
      "W1 : source:  2 --- target:  0\n",
      "W2 : source: 10 --- target:  0\n",
      "W3 : source: 14 --- target:  0\n",
      "W4 : source:  0 --- target:  4\n",
      "W5 : source:  5 --- target:  4\n",
      "W6 : source:  1 --- target:  5\n",
      "W7 : source: 13 --- target:  5\n",
      "W8 : source: 11 --- target:  6\n",
      "W9 : source:  8 --- target: 10\n",
      "W10: source:  2 --- target: 14\n",
      "W11: source: 13 --- target: 14\n"
     ]
    }
   ],
   "source": [
    "it = enumerate(edge_population.iter_connections(range(15), range(15)))\n",
    "for i, (_source_id, _target_id) in it:\n",
    "    print(f'{\"W\"+str(i+1):3s}: source: {_source_id.id:2d} --- target: {_target_id.id:2d}')"
   ]
  },
  {
   "cell_type": "markdown",
   "metadata": {},
   "source": [
    "As we can see, we have 11 different source-target pairs. Note that the indices are prefixed with `W` (stands for Without a flag) to distinct them from the following. Let's see what happens when we set `unique_node_ids=True`:"
   ]
  },
  {
   "cell_type": "code",
   "execution_count": 21,
   "metadata": {},
   "outputs": [
    {
     "name": "stdout",
     "output_type": "stream",
     "text": [
      "U1 : source:  2 --- target:  0\n",
      "U2 : source:  0 --- target:  4\n",
      "U3 : source:  1 --- target:  5\n",
      "U4 : source: 11 --- target:  6\n",
      "U5 : source:  8 --- target: 10\n",
      "U6 : source: 13 --- target: 14\n"
     ]
    }
   ],
   "source": [
    "it = enumerate(edge_population.iter_connections(range(15), range(15), unique_node_ids=True))\n",
    "for i, (_source_id, _target_id) in it:\n",
    "    print(f'{\"U\"+str(i+1):3s}: source: {_source_id.id:2d} --- target: {_target_id.id:2d}')"
   ]
  },
  {
   "cell_type": "markdown",
   "metadata": {},
   "source": [
    "Cool, we've effectively lost 5 pairs of source-target pairs somewhere. \n",
    "\n",
    "So what happened here? The indices were prefixed with `U` (unique nodes only) to distinct them from the previous output. Let's go through the output and indices `W1`-`W11` of the previous example without `unique_node_ids` flag set and compare it to the output above:\n",
    "* `W1`: kept (`U1`)\n",
    "* `W2`,`W3`: removed (id `0` used as a **target** in `W1`)\n",
    "* `W4`: kept (`U2`)\n",
    "* `W5`: removed (id `4` used as a **target** in `W4`)\n",
    "* `W6`: kept (`U3`)\n",
    "* `W7`: removed (id `5` used as a **target** in `W6`)\n",
    "* `W8`: kept (`U4`)\n",
    "* `W9`: kept (`U5`)\n",
    "* `W10`: removed (id `2` used as a **source** in `W1`)\n",
    "* `W11`: kept (`U6`)"
   ]
  },
  {
   "cell_type": "markdown",
   "metadata": {},
   "source": [
    "### _\"Please tell me the above also works with queries\"_\n",
    "What kind of a software you think we're running here, pal? \n",
    "\n",
    "Obviously, `iter_connections` can also be called with any of the accepted node queries. The ids will be resolved on the fly:"
   ]
  },
  {
   "cell_type": "code",
   "execution_count": 22,
   "metadata": {},
   "outputs": [
    {
     "name": "stdout",
     "output_type": "stream",
     "text": [
      " 1: source: 33550 --- target: 28603\n",
      " 2: source: 33743 --- target: 28603\n",
      " 3: source: 33794 --- target: 28603\n",
      " 4: source: 33818 --- target: 28603\n",
      " 5: source: 34043 --- target: 28603\n",
      " 6: source: 34773 --- target: 28603\n",
      " 7: source: 34942 --- target: 28603\n",
      " 8: source: 35126 --- target: 28603\n",
      " 9: source: 35169 --- target: 28603\n",
      "10: source: 35579 --- target: 28603\n",
      "11: ...\n"
     ]
    }
   ],
   "source": [
    "it = edge_population.iter_connections(\n",
    "    'mc2;VPL',            # node set\n",
    "    {'region': 'mc2;Rt'}, # dict query\n",
    ")\n",
    "for i, (_source_id, _target_id) in enumerate(it):\n",
    "    if i == 10: # Let's only print first 10\n",
    "        print(f'{i+1:2d}: ...')\n",
    "        break\n",
    "    print(f'{i+1:2d}: source: {_source_id.id:2d} --- target: {_target_id.id:2d}')"
   ]
  },
  {
   "cell_type": "markdown",
   "metadata": {},
   "source": [
    "### Performance optimizations\n",
    "\n",
    "Now that we understand how `iter_connections` works, what can we do with it? What is the magic therein? \n",
    "\n",
    "Well, it's not really about _what_ it can do but _how_ it does it. As mentioned before, the whole purpose of using the iterators is to be memory efficient. Where it especially shines are the cases in which you are handling large number of nodes/edges and aren't necessarily interested in all of the data collected in the process.\n",
    "\n",
    "Let's take a look at an example.\n",
    "\n",
    "#### CASE: Synapses between node sets\n",
    "\n",
    "To demonstrate the magick of `iter_connections`, let's have a simple, straightforward example. We want to count the number of synapses between two node sets.\n",
    "\n",
    "Now, we're not interested in the individual edge ids, just the number of synapses between two node sets. Perhaps we'd also like some statistics on how many of them are there on average between each of the source-target node pair, what is the deviation, etc.\n",
    "\n",
    "Let's first define a source and a target node set and a helper function for printing the stats:"
   ]
  },
  {
   "cell_type": "code",
   "execution_count": 23,
   "metadata": {},
   "outputs": [
    {
     "name": "stdout",
     "output_type": "stream",
     "text": [
      "Number of source nodes: 4909\n",
      "Number of target nodes: 8999\n"
     ]
    }
   ],
   "source": [
    "source_node_set = 'mc2;Rt'\n",
    "target_node_set = 'mc2;VPL'\n",
    "\n",
    "def print_statistics(pair_syns):\n",
    "    print(f\"There is a total of {np.sum(pair_syns)} synapses from '{source_node_set}' to '{target_node_set}'\")\n",
    "    print(\"\\nSynapses between source-target node pairs:\")\n",
    "    print(f\"- avg: {np.mean(pair_syns):.2f}\")\n",
    "    print(f\"- std: {np.std(pair_syns):.2f}\")\n",
    "    print(f\"- min: {np.min(pair_syns)}\")\n",
    "    print(f\"- max: {np.max(pair_syns)}\")\n",
    "\n",
    "print(f'Number of source nodes: {len(edge_population.source.ids(source_node_set))}')\n",
    "print(f'Number of target nodes: {len(edge_population.target.ids(target_node_set))}')"
   ]
  },
  {
   "cell_type": "markdown",
   "metadata": {},
   "source": [
    "and now let's get the synapses and print the statistics:"
   ]
  },
  {
   "cell_type": "code",
   "execution_count": 24,
   "metadata": {},
   "outputs": [
    {
     "name": "stdout",
     "output_type": "stream",
     "text": [
      "There is a total of 3245906 synapses from 'mc2;Rt' to 'mc2;VPL'\n",
      "\n",
      "Synapses between source-target node pairs:\n",
      "- avg: 4.86\n",
      "- std: 4.23\n",
      "- min: 1\n",
      "- max: 95\n",
      "\n",
      "Runtime: 12.79 seconds\n"
     ]
    }
   ],
   "source": [
    "t0 = time()\n",
    "\n",
    "it = edge_population.iter_connections(source_node_set, target_node_set, return_edge_count=True)\n",
    "pairwise_syns = np.fromiter((count for _,__,count in it), dtype=int)\n",
    "print_statistics(pairwise_syns)\n",
    "\n",
    "print(f'\\nRuntime: {time()-t0:.2f} seconds')"
   ]
  },
  {
   "cell_type": "markdown",
   "metadata": {},
   "source": [
    "This is how we'd achieve the same with the a bit more memory-heavy approach:"
   ]
  },
  {
   "cell_type": "code",
   "execution_count": 25,
   "metadata": {},
   "outputs": [
    {
     "name": "stdout",
     "output_type": "stream",
     "text": [
      "There is a total of 3245906 synapses from 'mc2;Rt' to 'mc2;VPL'\n",
      "\n",
      "Synapses between source-target node pairs:\n",
      "- avg: 4.86\n",
      "- std: 4.23\n",
      "- min: 1\n",
      "- max: 95\n",
      "\n",
      "Runtime: 5.21 seconds\n"
     ]
    }
   ],
   "source": [
    "t0 = time()\n",
    "result = edge_population.pathway_edges(source_node_set,target_node_set, properties=['@source_node', '@target_node'])\n",
    "print_statistics(result.value_counts().values)\n",
    "print(f'\\nRuntime: {time()-t0:.2f} seconds')"
   ]
  },
  {
   "cell_type": "markdown",
   "metadata": {},
   "source": [
    "#### _\"Dude, you just told me that `iter_connections` is supposed to be awesome, why is it slower?\"_\n",
    "\n",
    "Well spotted. There are cases, in which `iter_connections` is actually outperformed (runtime-wise) by the memory-heavy options. Worry not, we're merely warming up here. Let's shift gears and introduce a significantly bigger target node set:"
   ]
  },
  {
   "cell_type": "code",
   "execution_count": 26,
   "metadata": {},
   "outputs": [
    {
     "name": "stdout",
     "output_type": "stream",
     "text": [
      "Number of source nodes: 4909\n",
      "Number of target nodes: 64856\n"
     ]
    }
   ],
   "source": [
    "target_node_set = 'VPL_TC'\n",
    "print(f'Number of source nodes: {len(edge_population.source.ids(source_node_set))}')\n",
    "print(f'Number of target nodes: {len(edge_population.target.ids(target_node_set))}')"
   ]
  },
  {
   "cell_type": "markdown",
   "metadata": {},
   "source": [
    "We bumped up the number of target nodes by roughly one order of magnitude. The source nodes were left intact. Now, let's see what happens to the runtimes. Let's first run the `iter_connections` version:"
   ]
  },
  {
   "cell_type": "code",
   "execution_count": 27,
   "metadata": {},
   "outputs": [
    {
     "name": "stdout",
     "output_type": "stream",
     "text": [
      "There is a total of 4706551 synapses from 'mc2;Rt' to 'VPL_TC'\n",
      "\n",
      "Synapses between source-target node pairs:\n",
      "- avg: 4.63\n",
      "- std: 3.96\n",
      "- min: 1\n",
      "- max: 95\n",
      "\n",
      "Runtime: 81.80 seconds\n"
     ]
    }
   ],
   "source": [
    "t0 = time()\n",
    "it = edge_population.iter_connections(source_node_set, target_node_set, return_edge_count=True)\n",
    "pairwise_syns = np.fromiter((count for _,__,count in it), dtype=int)\n",
    "print_statistics(pairwise_syns)\n",
    "print(f'\\nRuntime: {time()-t0:.2f} seconds')"
   ]
  },
  {
   "cell_type": "markdown",
   "metadata": {},
   "source": [
    "That took quite some time. Let's see how the previously faster, `pathway_edges` implementation performs:"
   ]
  },
  {
   "cell_type": "code",
   "execution_count": 28,
   "metadata": {},
   "outputs": [
    {
     "name": "stdout",
     "output_type": "stream",
     "text": [
      "There is a total of 4706551 synapses from 'mc2;Rt' to 'VPL_TC'\n",
      "\n",
      "Synapses between source-target node pairs:\n",
      "- avg: 4.63\n",
      "- std: 3.96\n",
      "- min: 1\n",
      "- max: 95\n",
      "\n",
      "Runtime: 132.81 seconds\n"
     ]
    }
   ],
   "source": [
    "t0 = time()\n",
    "result = edge_population.pathway_edges(source_node_set,target_node_set, properties=['@source_node', '@target_node'])\n",
    "print_statistics(result.value_counts().values)\n",
    "print(f'\\nRuntime: {time()-t0:.2f} seconds')"
   ]
  },
  {
   "cell_type": "markdown",
   "metadata": {},
   "source": [
    "There is a significant drop in performance in comparison to `iter_connections`, even though the number of edges/synapses wasn't _that_ much higher. Why the difference?\n",
    "\n",
    "By not going into too much of technicalities, it boils down to:\n",
    "* `pathway_synapses` needs to handle all the data at once\n",
    "   * it needs to get all connecting edges and their source and target nodes\n",
    "   * from the huge dataframe, it needs to find unique source-target pairs and count how many times they appear\n",
    "      * `pandas.value_counts()` leads to creating another dataframe which consumes even more memory  \n",
    "   * everything is kept in memory throughout the process\n",
    "* `iter_connections` only needs to handle one source-target pair at a time\n",
    "   * after required data from one iteration is collected, rest of the data can be discarded from memory\n",
    "\n",
    "You might wonder what would happen if we bumped up the number of source nodes. Let's see:"
   ]
  },
  {
   "cell_type": "code",
   "execution_count": 29,
   "metadata": {},
   "outputs": [
    {
     "name": "stdout",
     "output_type": "stream",
     "text": [
      "Number of source nodes: 35567\n",
      "Number of target nodes: 64856\n"
     ]
    }
   ],
   "source": [
    "source_node_set = 'Rt_RC'\n",
    "print(f'Number of source nodes: {len(edge_population.source.ids(source_node_set))}')\n",
    "print(f'Number of target nodes: {len(edge_population.target.ids(target_node_set))}')"
   ]
  },
  {
   "cell_type": "markdown",
   "metadata": {},
   "source": [
    "So by using `'Rt_RC'`, we roughly bumped up the number of source sodes by one order of magnitude. \n",
    "\n",
    "Let's see what happens when we run it with `iter_connections`: "
   ]
  },
  {
   "cell_type": "code",
   "execution_count": 30,
   "metadata": {},
   "outputs": [
    {
     "name": "stdout",
     "output_type": "stream",
     "text": [
      "There is a total of 29455533 synapses from 'Rt_RC' to 'VPL_TC'\n",
      "\n",
      "Synapses between source-target node pairs:\n",
      "- avg: 4.70\n",
      "- std: 4.04\n",
      "- min: 1\n",
      "- max: 102\n",
      "\n",
      "Runtime: 100.10 seconds\n"
     ]
    }
   ],
   "source": [
    "t0 = time()\n",
    "it = edge_population.iter_connections(source_node_set, target_node_set, return_edge_count=True)\n",
    "pairwise_syns = np.fromiter((count for _,__,count in it), dtype=int)\n",
    "print_statistics(pairwise_syns)\n",
    "print(f'\\nRuntime: {time()-t0:.2f} seconds')"
   ]
  },
  {
   "cell_type": "markdown",
   "metadata": {},
   "source": [
    "As we can see, `iter_connections` was still faster than the `pathway_synapses` method was with the smaller source node set. \n",
    "\n",
    "Surely, the `pathway_synapses` can't be that much worse, right?  Boy, can it ever. Running the same with the `pathway_synapses` method took **over 30 minutes**. \n",
    "\n",
    "Obviously, we didn't include it in the notebook, but if you **truly** want to try it out yourself, feel free to do so. You have been warned.\n",
    "\n",
    "#### Lesson's learned\n",
    "* If you know you'll be working with big sample sizes and big datasets, use `iter_connections`\n",
    "  * if you are unsure, you can still use it, it's not _that_ much slower \n",
    "* If your code hangs seemingly forever on\n",
    "  * a call to `pathway_synapses`/`pair_edges`/`afferent_edges`/`efferent_edges`, you might want to try if `iter_connections` solves your issue\n",
    "  * a `pandas.DataFrame` operation, see if you can achieve the same with `iter_connections`. It might just save your day"
   ]
  },
  {
   "cell_type": "markdown",
   "metadata": {
    "jp-MarkdownHeadingCollapsed": true
   },
   "source": [
    "## Conclusion\n",
    "In this notebook, we learned all the different queries related to edges: how to find connecting nodes/edges, how to query for the properties we're interested in, etc. We also learned about the differences between querying nodes and querying edges and the reasons behind the differences. \n",
    "\n",
    "On top of that, we learned how to and why use the iterative approach (`iter_connections`) when working with bigger datasets to avoid having our code hanging / nodes running out of memory."
   ]
  }
 ],
 "metadata": {
  "kernelspec": {
   "display_name": "Python 3 (ipykernel)",
   "language": "python",
   "name": "python3"
  },
  "language_info": {
   "codemirror_mode": {
    "name": "ipython",
    "version": 3
   },
   "file_extension": ".py",
   "mimetype": "text/x-python",
   "name": "python",
   "nbconvert_exporter": "python",
   "pygments_lexer": "ipython3",
   "version": "3.10.8"
  }
 },
 "nbformat": 4,
 "nbformat_minor": 4
}
