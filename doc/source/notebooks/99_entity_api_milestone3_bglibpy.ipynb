{
 "cells": [
  {
   "cell_type": "markdown",
   "metadata": {},
   "source": [
    "# Milestone 5b: BGLibPy"
   ]
  },
  {
   "cell_type": "markdown",
   "metadata": {},
   "source": [
    "Setup"
   ]
  },
  {
   "cell_type": "code",
   "execution_count": null,
   "metadata": {},
   "outputs": [],
   "source": [
    "import getpass\n",
    "import logging\n",
    "from pathlib import Path\n",
    "\n",
    "from bluepysnap.api import Api\n",
    "\n",
    "logging.basicConfig(level=logging.WARNING)\n",
    "\n",
    "ORGANIZATION = \"nse\"\n",
    "PROJECT = \"test\""
   ]
  },
  {
   "cell_type": "markdown",
   "metadata": {},
   "source": [
    "Paste the token from https://bbp.epfl.ch/nexus/web/"
   ]
  },
  {
   "cell_type": "code",
   "execution_count": null,
   "metadata": {},
   "outputs": [],
   "source": [
    "TOKEN = getpass.getpass()"
   ]
  },
  {
   "cell_type": "code",
   "execution_count": null,
   "metadata": {},
   "outputs": [],
   "source": [
    "nexus_config = \"../../../examples/configurations/api/forge.yml\"\n",
    "api = Api(nexus_config=nexus_config, bucket=f\"{ORGANIZATION}/{PROJECT}\", token=TOKEN, debug=False)"
   ]
  },
  {
   "cell_type": "markdown",
   "metadata": {},
   "source": [
    "### Instantatiate a BGLibPy SSim object from a Simulation KG id"
   ]
  },
  {
   "cell_type": "code",
   "execution_count": null,
   "metadata": {},
   "outputs": [],
   "source": [
    "simulation_id = \"https://bbp.epfl.ch/nexus/v1/resources/nse/test/_/SimulationNexusTask_entity_managemen__gpfs_bbp_cscs_c__03c48af236\"\n",
    "\n",
    "simulation = api.get_entity_by_id(simulation_id, tool=\"bglibpy\")\n",
    "print(simulation.wrapped)"
   ]
  },
  {
   "cell_type": "markdown",
   "metadata": {},
   "source": [
    "### Materialize the instance (requires Neurodamus)"
   ]
  },
  {
   "cell_type": "code",
   "execution_count": null,
   "metadata": {},
   "outputs": [],
   "source": [
    "import os\n",
    "\n",
    "os.environ[\"HOC_LIBRARY_PATH\"] = \"/gpfs/bbp.cscs.ch/project/proj30/home/jupyter/NSETM-1298-entities/sources/neurodamus-core/hoc\"\n",
    "os.environ[\"BGLIBPY_MOD_LIBRARY_PATH\"] = \"/gpfs/bbp.cscs.ch/project/proj30/home/jupyter/NSETM-1298-entities/sources/x86_64/.libs/libnrnmech.so\"\n",
    "\n",
    "ssim = simulation.instance"
   ]
  },
  {
   "cell_type": "markdown",
   "metadata": {},
   "source": [
    "### Use BGLibPy SSim\n",
    "Commands from https://bbpteam.epfl.ch/documentation/projects/BGLibPy/latest/tutorial.html"
   ]
  },
  {
   "cell_type": "code",
   "execution_count": null,
   "metadata": {},
   "outputs": [],
   "source": [
    "gid = 1\n",
    "ssim.instantiate_gids([gid])\n",
    "cell = ssim.cells[gid]\n",
    "ssim.run(t_stop=1000)"
   ]
  },
  {
   "cell_type": "markdown",
   "metadata": {},
   "source": [
    "Plot the result"
   ]
  },
  {
   "cell_type": "code",
   "execution_count": null,
   "metadata": {},
   "outputs": [],
   "source": [
    "import pylab\n",
    "pylab.plot(cell.get_time(), cell.get_soma_voltage())\n",
    "pylab.show()"
   ]
  }
 ],
 "metadata": {
  "kernelspec": {
   "display_name": "Python 3",
   "language": "python",
   "name": "python3"
  },
  "language_info": {
   "codemirror_mode": {
    "name": "ipython",
    "version": 3
   },
   "file_extension": ".py",
   "mimetype": "text/x-python",
   "name": "python",
   "nbconvert_exporter": "python",
   "pygments_lexer": "ipython3",
   "version": "3.7.8"
  }
 },
 "nbformat": 4,
 "nbformat_minor": 4
}
