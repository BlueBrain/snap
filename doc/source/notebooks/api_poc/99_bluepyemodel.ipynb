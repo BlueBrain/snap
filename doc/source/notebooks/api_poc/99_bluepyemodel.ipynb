{
 "cells": [
  {
   "cell_type": "markdown",
   "metadata": {},
   "source": [
    "# Bluepyemodel\n",
    "\n",
    "The following code relies on a package that is a work on progress and is currently very limited demonstration of how the knowledge graph integration could be used to help accessing and using data from Nexus"
   ]
  },
  {
   "cell_type": "code",
   "execution_count": 1,
   "metadata": {},
   "outputs": [],
   "source": [
    "import getpass\n",
    "\n",
    "%matplotlib inline\n",
    "import matplotlib.pyplot as plt\n",
    "\n",
    "from bluepyopt import ephys\n",
    "from bluepysnap.api import Api\n",
    "from bluepysnap.api.wrappers import EModelConfiguration"
   ]
  },
  {
   "cell_type": "markdown",
   "metadata": {},
   "source": [
    "Paste the token from https://bbp.epfl.ch/nexus/web/"
   ]
  },
  {
   "cell_type": "code",
   "execution_count": 2,
   "metadata": {},
   "outputs": [
    {
     "name": "stdin",
     "output_type": "stream",
     "text": [
      " ···································································································································································································································································································································································································································································································································································································································································································································································································································································································································································································································································································································································································································································································································································································································································································································································································································································································································································································································································································································································································································································································································································································································································································································································································································································································································································································································································································································································································································································································································································································································································································································································································································································································································································································································································\n"
     ]
    }
   ],
   "source": [
    "TOKEN = getpass.getpass()"
   ]
  },
  {
   "cell_type": "code",
   "execution_count": 3,
   "metadata": {},
   "outputs": [],
   "source": [
    "bucket = \"demo/emodel_pipeline\"\n",
    "api = Api(bucket=bucket, token=TOKEN)"
   ]
  },
  {
   "cell_type": "markdown",
   "metadata": {},
   "source": [
    "Define functions to to handle the simulation and plots"
   ]
  },
  {
   "cell_type": "code",
   "execution_count": 4,
   "metadata": {},
   "outputs": [],
   "source": [
    "def sweep(cell_model):\n",
    "    dend_loc = ephys.locations.NrnSomaDistanceCompLocation(\n",
    "            name='dend',\n",
    "            seclist_name='apical',\n",
    "            soma_distance=100)\n",
    "\n",
    "    sweep_protocols = []\n",
    "    for protocol_name, amplitude in [('step1', 0.01), ('step2', 0.05)]:\n",
    "        stim = ephys.stimuli.NrnSquarePulse(\n",
    "                    step_amplitude=amplitude,\n",
    "                    step_delay=100,\n",
    "                    step_duration=50,\n",
    "                    location=dend_loc,\n",
    "                    total_duration=200)\n",
    "        rec = ephys.recordings.CompRecording(\n",
    "                name='%s.dend.v' % protocol_name,\n",
    "                location=dend_loc,\n",
    "                variable='v')\n",
    "        protocol = ephys.protocols.SweepProtocol(protocol_name, [stim], [rec])\n",
    "        sweep_protocols.append(protocol)\n",
    "    twostep_protocol = ephys.protocols.SequenceProtocol('twostep', protocols=sweep_protocols)\n",
    "\n",
    "    default_params = {'constant.distribution_decay': -0.05, 'gNaTgbar_NaTg.apical': 0.03}\n",
    "    responses = twostep_protocol.run(\n",
    "        cell_model=cell_model,\n",
    "        param_values=default_params,\n",
    "        sim=ephys.simulators.NrnSimulator(),\n",
    "        isolate=False)\n",
    "    return responses\n",
    "\n",
    "\n",
    "def plot_responses(responses):\n",
    "    plt.subplot(2,1,1)\n",
    "    plt.plot(responses['step1.dend.v']['time'], responses['step1.dend.v']['voltage'], label='step1')\n",
    "    plt.legend()\n",
    "\n",
    "    plt.subplot(2,1,2)\n",
    "    plt.plot(responses['step2.dend.v']['time'], responses['step2.dend.v']['voltage'], label='step2')\n",
    "    plt.legend()\n",
    "\n",
    "    plt.ylabel('v')\n",
    "    plt.xlabel('t(ms)')\n",
    "    plt.tight_layout()"
   ]
  },
  {
   "cell_type": "markdown",
   "metadata": {},
   "source": [
    "### Fetch an EModelConfiguration, perform a simulation and plot the responses"
   ]
  },
  {
   "cell_type": "code",
   "execution_count": 5,
   "metadata": {},
   "outputs": [
    {
     "data": {
      "image/png": "[encoded data removed]",
      "text/plain": [
       "<Figure size 432x288 with 2 Axes>"
      ]
     },
     "metadata": {
      "needs_background": "light"
     },
     "output_type": "display_data"
    }
   ],
   "source": [
    "emodel_conf = api.get_entities('EModelConfiguration', {'name': \"L5_TPC:B_cAC_L4/5 IT_1\"})[0]\n",
    "cell_model = emodel_conf.instance.build_cell_model()\n",
    "\n",
    "responses = sweep(cell_model)\n",
    "plot_responses(responses)"
   ]
  },
  {
   "cell_type": "code",
   "execution_count": 6,
   "metadata": {},
   "outputs": [
    {
     "name": "stdout",
     "output_type": "stream",
     "text": [
      "C060114A5:\n",
      "  morphology:\n",
      "    /gpfs/bbp.cscs.ch/home/herttuai/Tasks/MMB2022_194/snap/doc/source/notebooks/.downloaded_content/morphologies/C060114A5.asc\n",
      "  mechanisms:\n",
      "    NaTg.apical: NaTg at ['apical']\n",
      "  params:\n",
      "    constant.distribution_decay: decay.constant = None\n",
      "    gNaTgbar_NaTg.apical: ['apical'] gNaTgbar_NaTg = [0.0, 0.1]\n",
      "\n"
     ]
    }
   ],
   "source": [
    "print(cell_model)"
   ]
  }
 ],
 "metadata": {
  "kernelspec": {
   "display_name": "mmb2022_193",
   "language": "python",
   "name": "mmb2022_193"
  },
  "language_info": {
   "codemirror_mode": {
    "name": "ipython",
    "version": 3
   },
   "file_extension": ".py",
   "mimetype": "text/x-python",
   "name": "python",
   "nbconvert_exporter": "python",
   "pygments_lexer": "ipython3",
   "version": "3.9.7"
  }
 },
 "nbformat": 4,
 "nbformat_minor": 4
}
