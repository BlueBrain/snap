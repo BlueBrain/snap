{
 "cells": [
  {
   "cell_type": "markdown",
   "metadata": {},
   "source": [
    "# Milestone 1:  Circuit and Simulation in SNAP"
   ]
  },
  {
   "cell_type": "markdown",
   "metadata": {},
   "source": [
    "### Setup\n"
   ]
  },
  {
   "cell_type": "code",
   "execution_count": 1,
   "metadata": {},
   "outputs": [],
   "source": [
    "import getpass\n",
    "import logging\n",
    "from pathlib import Path\n",
    "from itertools import chain\n",
    "\n",
    "import numpy as np\n",
    "\n",
    "from bluepysnap.nexus import NexusHelper\n",
    "\n",
    "logging.basicConfig(level=logging.WARNING)\n",
    "\n",
    "ORGANIZATION = \"nse\"\n",
    "PROJECT = \"test\""
   ]
  },
  {
   "cell_type": "markdown",
   "metadata": {},
   "source": [
    "Paste the token from https://bbp.epfl.ch/nexus/web/"
   ]
  },
  {
   "cell_type": "code",
   "execution_count": 2,
   "metadata": {},
   "outputs": [
    {
     "name": "stdin",
     "output_type": "stream",
     "text": [
      " ···································································································································································································································································································································································································································································································································································································································································································································································································································································································································································································································································································································································································································································································································································································································································································································································································································································································································································································································································································································································································································································································································································································································································································································································································································································································································································································································································································································································································································································································································································································································································································································································································································································································································································································································································\n"
     ]
    }
   ],
   "source": [
    "TOKEN = getpass.getpass()"
   ]
  },
  {
   "cell_type": "code",
   "execution_count": 3,
   "metadata": {},
   "outputs": [],
   "source": [
    "nexus = NexusHelper(bucket=f\"{ORGANIZATION}/{PROJECT}\", token=TOKEN, debug=False)"
   ]
  },
  {
   "cell_type": "markdown",
   "metadata": {},
   "source": [
    "### Instantiate a SNAP circuit from a KG URL"
   ]
  },
  {
   "cell_type": "markdown",
   "metadata": {},
   "source": [
    "The following example illustrates how easy it is to retrieve circuit data from Nexus."
   ]
  },
  {
   "cell_type": "code",
   "execution_count": 4,
   "metadata": {},
   "outputs": [
    {
     "name": "stdout",
     "output_type": "stream",
     "text": [
      "DetailedCircuit https://bbp.epfl.ch/nexus/v1/resources/nse/test/_/20191025\n",
      "Entity(resource_id=<https://bbp.epfl.ch/nexus/v1/resources/nse/test/_/20191025>, resource_type=<DetailedCircuit>, instance_type=<Proxy>)\n"
     ]
    }
   ],
   "source": [
    "circuit_id = \"https://bbp.epfl.ch/nexus/v1/resources/nse/test/_/20191025\"\n",
    "circuit = nexus.get_entity_by_id(circuit_id)\n",
    "print(circuit.type, circuit.id)\n",
    "print(circuit)"
   ]
  },
  {
   "cell_type": "code",
   "execution_count": 5,
   "metadata": {},
   "outputs": [
    {
     "name": "stdout",
     "output_type": "stream",
     "text": [
      "{\n",
      "    context: https://bbp.neuroshapes.org\n",
      "    id: https://bbp.epfl.ch/nexus/v1/resources/nse/test/_/20191025\n",
      "    type: DetailedCircuit\n",
      "    brainLocation:\n",
      "    {\n",
      "        brainRegion:\n",
      "        {\n",
      "            id: http://api.brain-map.org/api/v2/data/Structure/549\n",
      "            label: Thalamus\n",
      "        }\n",
      "    }\n",
      "    circuitBase:\n",
      "    {\n",
      "        type: DataDownload\n",
      "        url: file:///gpfs/bbp.cscs.ch/project/proj82/circuits/Thalamus/20191025\n",
      "    }\n",
      "    circuitType: Atlas-based circuit\n",
      "    description: First version of whole Thalamus model\n",
      "    name: Whole Thalamus 2019.v1\n",
      "    subject:\n",
      "    {\n",
      "        id: https://bbp.epfl.ch/nexus/v1/resources/nse/test/_/a813ddf2-8031-4342-8da4-e27ccd0218fb\n",
      "        type: Subject\n",
      "    }\n",
      "    wasGeneratedBy:\n",
      "    {\n",
      "        id: https://bbp.epfl.ch/nexus/v1/resources/nse/test/_/eb41557b-22a6-4ee8-b76a-efb8fd7352b7\n",
      "        type: WorkflowExecution\n",
      "    }\n",
      "}\n"
     ]
    }
   ],
   "source": [
    "print(circuit.resource)"
   ]
  },
  {
   "cell_type": "markdown",
   "metadata": {},
   "source": [
    "### Get and print information about the circuit"
   ]
  },
  {
   "cell_type": "code",
   "execution_count": 6,
   "metadata": {},
   "outputs": [
    {
     "data": {
      "text/plain": [
       "'First version of whole Thalamus model'"
      ]
     },
     "execution_count": 6,
     "metadata": {},
     "output_type": "execute_result"
    }
   ],
   "source": [
    "circuit.description"
   ]
  },
  {
   "cell_type": "code",
   "execution_count": 7,
   "metadata": {},
   "outputs": [
    {
     "name": "stdout",
     "output_type": "stream",
     "text": [
      "http://api.brain-map.org/api/v2/data/Structure/549\n",
      "Thalamus\n"
     ]
    }
   ],
   "source": [
    "region = circuit.brainLocation.brainRegion\n",
    "print(region.id)\n",
    "print(region.label)"
   ]
  },
  {
   "cell_type": "code",
   "execution_count": 8,
   "metadata": {},
   "outputs": [
    {
     "name": "stdout",
     "output_type": "stream",
     "text": [
      "None\n"
     ]
    }
   ],
   "source": [
    "species = getattr(circuit, 'species', None)\n",
    "print(species)"
   ]
  },
  {
   "cell_type": "code",
   "execution_count": 9,
   "metadata": {},
   "outputs": [
    {
     "name": "stdout",
     "output_type": "stream",
     "text": [
      "https://bbp.epfl.ch/nexus/v1/projects/nse/test\n"
     ]
    }
   ],
   "source": [
    "print(circuit.project)"
   ]
  },
  {
   "cell_type": "code",
   "execution_count": 10,
   "metadata": {},
   "outputs": [
    {
     "name": "stdout",
     "output_type": "stream",
     "text": [
      "https://bbp.epfl.ch/nexus/v1/realms/bbp/users/ivaska\n",
      "2019-12-19T10:09:20.630Z\n"
     ]
    }
   ],
   "source": [
    "print(circuit.createdBy)\n",
    "print(circuit.createdAt)"
   ]
  },
  {
   "cell_type": "markdown",
   "metadata": {},
   "source": [
    "### Illustrate bluepy/snap with a small piece of code"
   ]
  },
  {
   "cell_type": "markdown",
   "metadata": {},
   "source": [
    "With `instance` you can open the circuit as a `bluepysnap.circuit.Circuit` instance and use it as you normally would."
   ]
  },
  {
   "cell_type": "code",
   "execution_count": 11,
   "metadata": {},
   "outputs": [
    {
     "name": "stdout",
     "output_type": "stream",
     "text": [
      "<bluepysnap.circuit.Circuit object at 0x2aaae66b6eb0>\n"
     ]
    }
   ],
   "source": [
    "print(circuit.instance)"
   ]
  },
  {
   "cell_type": "code",
   "execution_count": 12,
   "metadata": {},
   "outputs": [],
   "source": [
    "from bluepysnap.bbp import Cell\n",
    "from matplotlib import pyplot as plt\n",
    "\n",
    "ids = range(0, circuit.instance.nodes.size, 100) # use only 1% for demo\n",
    "cells = circuit.instance.nodes.get(ids, properties=[Cell.X, Cell.Y])"
   ]
  },
  {
   "cell_type": "code",
   "execution_count": 13,
   "metadata": {},
   "outputs": [
    {
     "data": {
      "image/png": "[encoded data removed]",
      "text/plain": [
       "<Figure size 432x288 with 1 Axes>"
      ]
     },
     "metadata": {
      "needs_background": "light"
     },
     "output_type": "display_data"
    }
   ],
   "source": [
    "plt.plot(cells[Cell.X], cells[Cell.Y], \".b\");"
   ]
  },
  {
   "cell_type": "markdown",
   "metadata": {},
   "source": [
    "### Get Simulations that used that circuit"
   ]
  },
  {
   "cell_type": "code",
   "execution_count": 14,
   "metadata": {},
   "outputs": [
    {
     "name": "stdout",
     "output_type": "stream",
     "text": [
      "0 3 3\n"
     ]
    }
   ],
   "source": [
    "# get simulations that used the circuit\n",
    "sim1 = nexus.get_entities(\n",
    "    \"Simulation\",\n",
    "    {\"used\": {\"id\": circuit.id}}\n",
    ")\n",
    "\n",
    "# get simulation campaigns that used the circuit\n",
    "simulation_campaigns = nexus.get_entities(\n",
    "    \"SimulationCampaign\",\n",
    "    {\"used\": {\"id\": circuit.id}}\n",
    ")\n",
    "\n",
    "# get simulations started by the simulation campaigns\n",
    "ids = [r.id for r in simulation_campaigns]\n",
    "sim2 = list(chain.from_iterable(nexus.get_entities(\n",
    "    \"Simulation\",\n",
    "    {\"wasStartedBy\": {\"id\": id_}} \n",
    ") for id_ in ids))  # Have to loop as \"OR\" is not supported by KnowledgeGraphForge.search.\n",
    "\n",
    "\n",
    "# merge simulations and remove possible duplicates\n",
    "simulations = {s.id: s for s in sim1 + sim2}\n",
    "simulations = list(simulations.values())\n",
    "print(len(sim1), len(sim2), len(simulations))"
   ]
  },
  {
   "cell_type": "markdown",
   "metadata": {},
   "source": [
    "Alternatively, it's possible to execute a custom query:"
   ]
  },
  {
   "cell_type": "code",
   "execution_count": 15,
   "metadata": {},
   "outputs": [
    {
     "data": {
      "text/plain": [
       "True"
      ]
     },
     "execution_count": 15,
     "metadata": {},
     "output_type": "execute_result"
    }
   ],
   "source": [
    "query = f\"\"\"\n",
    "    SELECT DISTINCT ?id\n",
    "    WHERE {{\n",
    "        {{\n",
    "            ?id a Simulation ; wasStartedBy ?scid .\n",
    "            ?scid a SimulationCampaign ; used <{circuit.id}> .\n",
    "        }}\n",
    "    UNION\n",
    "        {{\n",
    "            ?id a Simulation ; used <{circuit.id}> .\n",
    "        }}\n",
    "    }}\n",
    "    \"\"\"\n",
    "simulations2 = nexus.get_entities_by_query(query)\n",
    "sorted(entity.id for entity in simulations) == sorted(entity.id for entity in simulations2)"
   ]
  },
  {
   "cell_type": "markdown",
   "metadata": {},
   "source": [
    "### Instantiate these simulation as BLUEPY entities either from the circuit or from a KG URL"
   ]
  },
  {
   "cell_type": "markdown",
   "metadata": {},
   "source": [
    "The `open` method is called automatically when accessing `entity.instance`, that's a lazy proxy to the real instance depending on the library.\n",
    "\n",
    "However, for Simulations, the current default tool is `bluepysnap`. To create entities that are opened with e.g., `bluepy`, we need to use the `reopen` function."
   ]
  },
  {
   "cell_type": "code",
   "execution_count": 16,
   "metadata": {},
   "outputs": [],
   "source": [
    "simulation_entities = [nexus.reopen(entity, \"bluepy\") for entity in simulations]"
   ]
  },
  {
   "cell_type": "markdown",
   "metadata": {},
   "source": [
    "Another way to achieve is the same is to pass the `tool` parameter for the function fetching the entities (`get_entities`, `get_entities_by_id` or `get_entities_by_query`)."
   ]
  },
  {
   "cell_type": "code",
   "execution_count": 17,
   "metadata": {},
   "outputs": [],
   "source": [
    "simulation_entities = nexus.get_entities_by_query(query, tool=\"bluepy\")"
   ]
  },
  {
   "cell_type": "markdown",
   "metadata": {},
   "source": [
    "### Display information about the simulation and Display a spike raster and psth\n",
    "- Configuration of the simulation \n",
    "- Execution time / Creator\n",
    "- KG Project it belongs to\n",
    "- Description"
   ]
  },
  {
   "cell_type": "code",
   "execution_count": 18,
   "metadata": {},
   "outputs": [
    {
     "name": "stdout",
     "output_type": "stream",
     "text": [
      "Simulation path: /gpfs/bbp.cscs.ch/project/proj82/simulations/Thalamus/20191210/spontaneous_rest/TC2TC_W0p0/seed449150\n",
      "createdAt: 2019-12-19T11:00:57.648Z\n",
      "createdBy: https://bbp.epfl.ch/nexus/v1/realms/bbp/users/ivaska\n",
      "project: https://bbp.epfl.ch/nexus/v1/projects/nse/test\n",
      "description: duration=3000 target=Mosaic Ca=2.0\n"
     ]
    },
    {
     "data": {
      "image/png": "[encoded data removed]",
      "text/plain": [
       "<Figure size 720x576 with 2 Axes>"
      ]
     },
     "metadata": {
      "needs_background": "light"
     },
     "output_type": "display_data"
    }
   ],
   "source": [
    "sim = sorted(simulation_entities, key=lambda x: x.id)[0]\n",
    "print(\"Simulation path:\", sim.path)\n",
    "print(\"createdAt:\", sim.createdAt)\n",
    "print(\"createdBy:\", sim.createdBy)\n",
    "print(\"project:\", sim.project)\n",
    "print(\"description:\", sim.description)\n",
    "np.random.seed(42) # To keep the plot constant as the plotting function samples\n",
    "sim.instance.plot.spikeraster_and_psth('soma', ['Mosaic']);"
   ]
  }
 ],
 "metadata": {
  "kernelspec": {
   "display_name": "mmb2022_193",
   "language": "python",
   "name": "mmb2022_193"
  },
  "language_info": {
   "codemirror_mode": {
    "name": "ipython",
    "version": 3
   },
   "file_extension": ".py",
   "mimetype": "text/x-python",
   "name": "python",
   "nbconvert_exporter": "python",
   "pygments_lexer": "ipython3",
   "version": "3.9.7"
  }
 },
 "nbformat": 4,
 "nbformat_minor": 4
}
