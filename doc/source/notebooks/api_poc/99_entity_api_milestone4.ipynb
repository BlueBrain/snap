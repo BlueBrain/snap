{
 "cells": [
  {
   "cell_type": "markdown",
   "metadata": {},
   "source": [
    "# Milestone 4: Provenance information"
   ]
  },
  {
   "cell_type": "markdown",
   "metadata": {},
   "source": [
    "Setup"
   ]
  },
  {
   "cell_type": "code",
   "execution_count": 1,
   "metadata": {},
   "outputs": [],
   "source": [
    "import getpass\n",
    "import logging\n",
    "from pathlib import Path\n",
    "\n",
    "from bluepysnap.api import Api\n",
    "\n",
    "logging.basicConfig(level=logging.WARNING)\n",
    "\n",
    "ORGANIZATION = \"nse\"\n",
    "PROJECT = \"test\""
   ]
  },
  {
   "cell_type": "markdown",
   "metadata": {},
   "source": [
    "Paste the token from https://bbp.epfl.ch/nexus/web/"
   ]
  },
  {
   "cell_type": "code",
   "execution_count": 2,
   "metadata": {},
   "outputs": [
    {
     "name": "stdin",
     "output_type": "stream",
     "text": [
      " ···································································································································································································································································································································································································································································································································································································································································································································································································································································································································································································································································································································································································································································································································································································································································································································································································································································································································································································································································································································································································································································································································································································································································································································································································································································································································································································································································································································································································································································································································································································································································································································································································································································································································································································································································\n"
     ]
    }
   ],
   "source": [
    "TOKEN = getpass.getpass()"
   ]
  },
  {
   "cell_type": "code",
   "execution_count": 3,
   "metadata": {},
   "outputs": [],
   "source": [
    "api = Api(bucket=f\"{ORGANIZATION}/{PROJECT}\", token=TOKEN, debug=False)"
   ]
  },
  {
   "cell_type": "markdown",
   "metadata": {},
   "source": [
    "### Give me all the circuits using the morphology release with a given id"
   ]
  },
  {
   "cell_type": "code",
   "execution_count": 4,
   "metadata": {},
   "outputs": [
    {
     "name": "stdout",
     "output_type": "stream",
     "text": [
      "1\n",
      "Entity(resource_id=<https://bbp.epfl.ch/nexus/v1/resources/nse/test/_/O0-20180419>, resource_type=<DetailedCircuit>, instance_type=<Proxy>)\n",
      "{\n",
      "    context: https://bbp.neuroshapes.org\n",
      "    id: https://bbp.epfl.ch/nexus/v1/resources/nse/test/_/O0-20180419\n",
      "    type: DetailedCircuit\n",
      "    brainLocation:\n",
      "    {\n",
      "        brainRegion:\n",
      "        {\n",
      "            id: http://api.brain-map.org/api/v2/data/Structure/549\n",
      "            label: Thalamus\n",
      "        }\n",
      "    }\n",
      "    circuitBase:\n",
      "    {\n",
      "        type: DataDownload\n",
      "        url: file:///gpfs/bbp.cscs.ch/project/proj55/oreilly/releases/2018-04-19\n",
      "    }\n",
      "    circuitType: Microcircuit with O0 geometry\n",
      "    description: Thalamus microcircuit v1, 2018 release\n",
      "    edgeCollection:\n",
      "    {\n",
      "        id: https://bbp.epfl.ch/nexus/v1/resources/nse/test/_/O0-20180419_edges\n",
      "        type: EdgeCollection\n",
      "    }\n",
      "    name: Thalamus microcircuit v1\n",
      "    nodeCollection:\n",
      "    {\n",
      "        id: https://bbp.epfl.ch/nexus/v1/resources/nse/test/_/O0-20180419_nodes\n",
      "        type: NodeCollection\n",
      "    }\n",
      "    species:\n",
      "    {\n",
      "        id: http://purl.obolibrary.org/obo/NCBITaxon_10088\n",
      "        label: Mouse\n",
      "    }\n",
      "    target:\n",
      "    {\n",
      "        id: https://bbp.epfl.ch/nexus/v1/resources/nse/test/_/O0-20180419_target\n",
      "        type: Target\n",
      "    }\n",
      "    wasAttributedTo:\n",
      "    {\n",
      "        id: https://bbp.epfl.ch/nexus/v1/resources/nse/test/_/177a20f2-64df-46c1-9f88-60425397eddd\n",
      "        type: WorkflowExecution\n",
      "    }\n",
      "}\n"
     ]
    }
   ],
   "source": [
    "morphology_release_id = \"https://bbp.epfl.ch/nexus/v1/resources/nse/test/_/O0-20180419_morph_release\"\n",
    "circuits = api.get_entities(\n",
    "    \"DetailedCircuit\",\n",
    "    {\"nodeCollection\":{\n",
    "        \"memodelRelease\":{\n",
    "            \"morphologyRelease\": {\"id\": f\"<{morphology_release_id}>\"}\n",
    "        },\n",
    "    },\n",
    "    }\n",
    ")\n",
    "print(len(circuits))\n",
    "print(circuits[0])\n",
    "print(circuits[0].resource)"
   ]
  },
  {
   "cell_type": "markdown",
   "metadata": {},
   "source": [
    "### Give me all the circuits using the morphology release with a given name"
   ]
  },
  {
   "cell_type": "code",
   "execution_count": 5,
   "metadata": {},
   "outputs": [
    {
     "name": "stdout",
     "output_type": "stream",
     "text": [
      "1\n",
      "Entity(resource_id=<https://bbp.epfl.ch/nexus/v1/resources/nse/test/_/O0-20180419>, resource_type=<DetailedCircuit>, instance_type=<Proxy>)\n",
      "{\n",
      "    context: https://bbp.neuroshapes.org\n",
      "    id: https://bbp.epfl.ch/nexus/v1/resources/nse/test/_/O0-20180419\n",
      "    type: DetailedCircuit\n",
      "    brainLocation:\n",
      "    {\n",
      "        brainRegion:\n",
      "        {\n",
      "            id: http://api.brain-map.org/api/v2/data/Structure/549\n",
      "            label: Thalamus\n",
      "        }\n",
      "    }\n",
      "    circuitBase:\n",
      "    {\n",
      "        type: DataDownload\n",
      "        url: file:///gpfs/bbp.cscs.ch/project/proj55/oreilly/releases/2018-04-19\n",
      "    }\n",
      "    circuitType: Microcircuit with O0 geometry\n",
      "    description: Thalamus microcircuit v1, 2018 release\n",
      "    edgeCollection:\n",
      "    {\n",
      "        id: https://bbp.epfl.ch/nexus/v1/resources/nse/test/_/O0-20180419_edges\n",
      "        type: EdgeCollection\n",
      "    }\n",
      "    name: Thalamus microcircuit v1\n",
      "    nodeCollection:\n",
      "    {\n",
      "        id: https://bbp.epfl.ch/nexus/v1/resources/nse/test/_/O0-20180419_nodes\n",
      "        type: NodeCollection\n",
      "    }\n",
      "    species:\n",
      "    {\n",
      "        id: http://purl.obolibrary.org/obo/NCBITaxon_10088\n",
      "        label: Mouse\n",
      "    }\n",
      "    target:\n",
      "    {\n",
      "        id: https://bbp.epfl.ch/nexus/v1/resources/nse/test/_/O0-20180419_target\n",
      "        type: Target\n",
      "    }\n",
      "    wasAttributedTo:\n",
      "    {\n",
      "        id: https://bbp.epfl.ch/nexus/v1/resources/nse/test/_/177a20f2-64df-46c1-9f88-60425397eddd\n",
      "        type: WorkflowExecution\n",
      "    }\n",
      "}\n"
     ]
    }
   ],
   "source": [
    "circuits = api.get_entities(\n",
    "    \"DetailedCircuit\",\n",
    "    {\"nodeCollection\": {\n",
    "        \"memodelRelease\": {\n",
    "            \"morphologyRelease\":\n",
    "            {\"name\": \"O0-20180419_morph_release\"},\n",
    "        }\n",
    "    }}\n",
    ")\n",
    "print(len(circuits))\n",
    "print(circuits[0])\n",
    "print(circuits[0].resource)"
   ]
  },
  {
   "cell_type": "markdown",
   "metadata": {},
   "source": [
    "### Give me the morphology release used by the circuit with the given id"
   ]
  },
  {
   "cell_type": "code",
   "execution_count": 6,
   "metadata": {},
   "outputs": [
    {
     "name": "stdout",
     "output_type": "stream",
     "text": [
      "1\n",
      "Entity(resource_id=<https://bbp.epfl.ch/nexus/v1/resources/nse/test/_/O0-20180419_morph_release>, resource_type=<MorphologyRelease>, instance_type=<Proxy>)\n",
      "{\n",
      "    context: https://bbp.neuroshapes.org\n",
      "    id: https://bbp.epfl.ch/nexus/v1/resources/nse/test/_/O0-20180419_morph_release\n",
      "    type: MorphologyRelease\n",
      "    distribution:\n",
      "    {\n",
      "        type: DataDownload\n",
      "        url: /gpfs/bbp.cscs.ch/project/proj55/iavarone/releases/morphology_release/output_2018-06-07/08_CloneMorphologies-ASC\n",
      "    }\n",
      "    morphologyIndex:\n",
      "    {\n",
      "        id: https://bbp.epfl.ch/nexus/v1/resources/nse/test/_/O0-20180419_morph_index\n",
      "        type: ModelReleaseIndex\n",
      "    }\n",
      "    name: O0-20180419_morph_release\n",
      "    wasAttributedTo:\n",
      "    [\n",
      "        {\n",
      "            id: https://bbp.epfl.ch/nexus/v1/resources/nse/test/_/8bee5358-445f-41e3-b3eb-37e35960d54b\n",
      "            type: WorkflowExecution\n",
      "        }\n",
      "    ]\n",
      "}\n"
     ]
    }
   ],
   "source": [
    "circuit_id = \"https://bbp.epfl.ch/nexus/v1/resources/nse/test/_/O0-20180419\"\n",
    "morphology_releases = api.get_entities(\n",
    "    \"MorphologyRelease\",\n",
    "    {\"^morphologyRelease\": {\n",
    "        \"^memodelRelease\": {\n",
    "            \"^nodeCollection\": {\n",
    "                \"id\": f\"<{circuit_id}>\"\n",
    "            },\n",
    "        }\n",
    "    }}\n",
    ")\n",
    "print(len(morphology_releases))\n",
    "print(morphology_releases[0])\n",
    "print(morphology_releases[0].resource)"
   ]
  },
  {
   "cell_type": "markdown",
   "metadata": {},
   "source": [
    "### Give me the morphology release used by the circuit with the given name"
   ]
  },
  {
   "cell_type": "code",
   "execution_count": 7,
   "metadata": {},
   "outputs": [
    {
     "name": "stdout",
     "output_type": "stream",
     "text": [
      "1\n",
      "Entity(resource_id=<https://bbp.epfl.ch/nexus/v1/resources/nse/test/_/O0-20180419_morph_release>, resource_type=<MorphologyRelease>, instance_type=<Proxy>)\n",
      "{\n",
      "    context: https://bbp.neuroshapes.org\n",
      "    id: https://bbp.epfl.ch/nexus/v1/resources/nse/test/_/O0-20180419_morph_release\n",
      "    type: MorphologyRelease\n",
      "    distribution:\n",
      "    {\n",
      "        type: DataDownload\n",
      "        url: /gpfs/bbp.cscs.ch/project/proj55/iavarone/releases/morphology_release/output_2018-06-07/08_CloneMorphologies-ASC\n",
      "    }\n",
      "    morphologyIndex:\n",
      "    {\n",
      "        id: https://bbp.epfl.ch/nexus/v1/resources/nse/test/_/O0-20180419_morph_index\n",
      "        type: ModelReleaseIndex\n",
      "    }\n",
      "    name: O0-20180419_morph_release\n",
      "    wasAttributedTo:\n",
      "    [\n",
      "        {\n",
      "            id: https://bbp.epfl.ch/nexus/v1/resources/nse/test/_/8bee5358-445f-41e3-b3eb-37e35960d54b\n",
      "            type: WorkflowExecution\n",
      "        }\n",
      "    ]\n",
      "}\n"
     ]
    }
   ],
   "source": [
    "morphology_releases = api.get_entities(\n",
    "    \"MorphologyRelease\",\n",
    "    {\"^morphologyRelease\": {\n",
    "        \"^memodelRelease\": {\n",
    "            \"^nodeCollection\": {\n",
    "                \"name\": \"Thalamus microcircuit v1\"\n",
    "            },\n",
    "        },\n",
    "    }}      \n",
    ")\n",
    "print(len(morphology_releases))\n",
    "print(morphology_releases[0])\n",
    "print(morphology_releases[0].resource)"
   ]
  }
 ],
 "metadata": {
  "kernelspec": {
   "display_name": "mmb2022_193",
   "language": "python",
   "name": "mmb2022_193"
  },
  "language_info": {
   "codemirror_mode": {
    "name": "ipython",
    "version": 3
   },
   "file_extension": ".py",
   "mimetype": "text/x-python",
   "name": "python",
   "nbconvert_exporter": "python",
   "pygments_lexer": "ipython3",
   "version": "3.9.7"
  }
 },
 "nbformat": 4,
 "nbformat_minor": 4
}
