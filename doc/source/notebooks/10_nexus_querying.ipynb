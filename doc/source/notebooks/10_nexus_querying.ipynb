{
 "cells": [
  {
   "cell_type": "markdown",
   "metadata": {},
   "source": [
    "# SNAP - NEXUSFORGE - Querying with SPARQL\n",
    "\n",
    "SNAP and NEXUSFORGE also support querying data using SPARQL queries with `NexusHelper.get_entities_by_query`. This is considered a feature for advanced users and won't be thoroughly covered in these notebooks.\n",
    "\n",
    "### Setup\n",
    "\n",
    "The token can be found in the upper right corner on https://bbp.epfl.ch/nexus/web/ and pasted here"
   ]
  },
  {
   "cell_type": "code",
   "execution_count": 1,
   "metadata": {},
   "outputs": [
    {
     "name": "stdin",
     "output_type": "stream",
     "text": [
      " ···································································································································································································································································································································································································································································································································································································································································································································································································································································································································································································································································································································································································································································································································································································································································································································································································································································································································································································································································································································································································································································································································································································································································································································································································································································································································································································································································································································································································································································································································································································································································································································································································································································································································································································································································\n"
     ]
    }
   ],
   "source": [
    "import getpass\n",
    "from bluepysnap.nexus import NexusHelper\n",
    "\n",
    "BUCKET = \"nse/test\"\n",
    "TOKEN = getpass.getpass()\n",
    "nexus = NexusHelper(BUCKET, TOKEN)"
   ]
  },
  {
   "cell_type": "markdown",
   "metadata": {},
   "source": [
    "### Querying\n",
    "\n",
    "#### Find resources by type\n",
    "\n",
    "Let's start with a simple example of finding a resource by type by finding the `DetailedCircuit`s:"
   ]
  },
  {
   "cell_type": "code",
   "execution_count": 2,
   "metadata": {},
   "outputs": [
    {
     "name": "stdout",
     "output_type": "stream",
     "text": [
      "Length: 4\n",
      "Type: <class 'list'>\n",
      "\n"
     ]
    }
   ],
   "source": [
    "query = f\"\"\"\n",
    "SELECT DISTINCT ?id WHERE {{\n",
    "    ?id a DetailedCircuit.\n",
    "}}\n",
    "\"\"\"\n",
    "records = nexus.get_entities_by_query(query)\n",
    "print(f'Length: {len(records)}\\nType: {type(records)}\\n')"
   ]
  },
  {
   "cell_type": "markdown",
   "metadata": {},
   "source": [
    "Just like `NexusHelper.get_entities`, `NexusHelper.get_entities_by_query` returns a `list` (of `Entity` objects).\n",
    "\n",
    "#### Filtering\n",
    "With `NexusHelper.get_entities`, we searched for `DetailedCircut`s with the following filters:\n",
    "```\n",
    "    \"name\": \"Thalamus microcircuit v3\",\n",
    "    \"createdBy\": \"ivaska\"\n",
    "```\n",
    "\n",
    "Let's see how this looks in SPARQL:"
   ]
  },
  {
   "cell_type": "code",
   "execution_count": 3,
   "metadata": {},
   "outputs": [
    {
     "name": "stdout",
     "output_type": "stream",
     "text": [
      "Length: 1\n",
      "\n"
     ]
    }
   ],
   "source": [
    "circuit_name = \"Thalamus microcircuit v3\"\n",
    "creator = \"https://bbp.epfl.ch/nexus/v1/realms/bbp/users/ivaska\"\n",
    "query = f\"\"\"\n",
    "SELECT DISTINCT ?id WHERE {{\n",
    "    ?id a DetailedCircuit;\n",
    "    schema:name ?_circuit_name;\n",
    "    nxv:createdBy ?_createdBy.\n",
    "    \n",
    "    FILTER(?_circuit_name = \"{circuit_name}\").\n",
    "    FILTER(?_createdBy = <{creator}>).\n",
    "}}\n",
    "\"\"\"\n",
    "records = nexus.get_entities_by_query(query)\n",
    "print(f'Length: {len(records)}\\n')"
   ]
  },
  {
   "cell_type": "markdown",
   "metadata": {},
   "source": [
    "#### Find linked resources\n",
    "\n",
    "Also not available in `NexusHelper.get_entities`, is the neat ability to find resources that are linked but \n",
    "* we are not sure how, or\n",
    "* they may be linked in different ways and covering all cases would be cumbersome.\n",
    "\n",
    "In SPARQL, this is achived with the `(<>|!<>)*` wild card. Basically it equals to: \n",
    "> _no matter how many steps (or what are the steps) but there's a link._\n",
    "\n",
    "Let's see how we can use it in a SparQL query by querying for resources (by type) that are linked to resource for which we have an ID:"
   ]
  },
  {
   "cell_type": "code",
   "execution_count": 4,
   "metadata": {},
   "outputs": [],
   "source": [
    "def linked_resources_query(resource_type, nexus_id):\n",
    "    return f\"\"\"\n",
    "    SELECT DISTINCT ?id WHERE {{\n",
    "        ?id a {resource_type} ;\n",
    "        nxv:deprecated ?_deprecated .\n",
    "        {{ \n",
    "            <{nexus_id}> (<>|!<>)* ?id .\n",
    "        }}\n",
    "        UNION \n",
    "        {{\n",
    "            ?id (<>|!<>)* <{nexus_id}> .\n",
    "        }}\n",
    "        FILTER (?_deprecated = 'false'^^xsd:boolean) .\n",
    "    }}\"\"\""
   ]
  },
  {
   "cell_type": "markdown",
   "metadata": {},
   "source": [
    "This function returns a query that is, in fact, a union of two queries that cover the both directions:\n",
    "* _resource with given id_ __&rarr;__ _wanted resource type_\n",
    "* _wanted resource type_ __&rarr;__ _resource with given id_\n",
    "\n",
    "The lines with `?_deprecated` are just to filter out the deprecated properties. This is done automatically when searching with `NexusHelper.get_entities`.\n",
    "\n",
    "For an example, let's see how to find `DetailedCircuit`s that are linked to a certain `SimulationCampaign`:"
   ]
  },
  {
   "cell_type": "code",
   "execution_count": 5,
   "metadata": {},
   "outputs": [
    {
     "name": "stdout",
     "output_type": "stream",
     "text": [
      "Length: 1\n"
     ]
    }
   ],
   "source": [
    "resource_type = \"DetailedCircuit\"\n",
    "simulation_campaign_id = 'https://bbp.epfl.ch/nexus/v1/resources/nse/test/_/ivaska.SimulationCampaignNexusTask_entity_managemen_https___bbp_epfl__gpfs_bbp_cscs_c_4b174cc572'\n",
    "query = linked_resources_query(resource_type, simulation_campaign_id)\n",
    "\n",
    "records = nexus.get_entities_by_query(query)\n",
    "print(f'Length: {len(records)}')"
   ]
  },
  {
   "cell_type": "markdown",
   "metadata": {},
   "source": [
    "And here is the same going the other way around (find `SimulationCampaign`s linked to a circuit):"
   ]
  },
  {
   "cell_type": "code",
   "execution_count": 6,
   "metadata": {},
   "outputs": [
    {
     "name": "stdout",
     "output_type": "stream",
     "text": [
      "Length: 5\n"
     ]
    }
   ],
   "source": [
    "resource_type = \"SimulationCampaign\"\n",
    "circuit_id = 'https://bbp.epfl.ch/nexus/v1/resources/nse/test/_/O0-20180419'\n",
    "records = nexus.get_entities_by_query(linked_resources_query(resource_type, circuit_id))\n",
    "print(f'Length: {len(records)}')"
   ]
  },
  {
   "cell_type": "markdown",
   "metadata": {},
   "source": [
    "#### Ordering (and limiting) results\n",
    "\n",
    "One feature not available in `NexusHelper.get_entities` is ordering the results by given criterion.\n",
    "This can be used together with `LIMIT` to, for example, only return the latest resource.\n",
    "\n",
    "To give an example, let's find the newest `DetailedCircut`:\n",
    "\n",
    "> **_NOTE:_** By default, `nexusforge` adds prefixes and certain other criteria to the query string and can not correctly handle `ORDER BY DESC` yet. We need to add `rewrite=False` to prevent the manipulation of the query string and add the prefixes manually."
   ]
  },
  {
   "cell_type": "code",
   "execution_count": 7,
   "metadata": {},
   "outputs": [
    {
     "name": "stdout",
     "output_type": "stream",
     "text": [
      "Length: 1\n",
      "Type: <class 'list'>\n",
      "\n"
     ]
    }
   ],
   "source": [
    "query = \"\"\"\n",
    "PREFIX bmc: <https://bbp.epfl.ch/ontologies/core/bmc/>\n",
    "PREFIX bmo: <https://bbp.epfl.ch/ontologies/core/bmo/>\n",
    "PREFIX commonshapes: <https://neuroshapes.org/commons/>\n",
    "PREFIX datashapes: <https://neuroshapes.org/dash/>\n",
    "PREFIX dc: <http://purl.org/dc/elements/1.1/>\n",
    "PREFIX dcat: <http://www.w3.org/ns/dcat#>\n",
    "PREFIX dcterms: <http://purl.org/dc/terms/>\n",
    "PREFIX mba: <http://api.brain-map.org/api/v2/data/Structure/>\n",
    "PREFIX nsg: <https://neuroshapes.org/>\n",
    "PREFIX nxv: <https://bluebrain.github.io/nexus/vocabulary/>\n",
    "PREFIX oa: <http://www.w3.org/ns/oa#>\n",
    "PREFIX obo: <http://purl.obolibrary.org/obo/>\n",
    "PREFIX owl: <http://www.w3.org/2002/07/owl#>\n",
    "PREFIX prov: <http://www.w3.org/ns/prov#>\n",
    "PREFIX rdf: <http://www.w3.org/1999/02/22-rdf-syntax-ns#>\n",
    "PREFIX rdfs: <http://www.w3.org/2000/01/rdf-schema#>\n",
    "PREFIX schema: <http://schema.org/>\n",
    "PREFIX sh: <http://www.w3.org/ns/shacl#>\n",
    "PREFIX shsh: <http://www.w3.org/ns/shacl-shacl#>\n",
    "PREFIX skos: <http://www.w3.org/2004/02/skos/core#>\n",
    "PREFIX vann: <http://purl.org/vocab/vann/>\n",
    "PREFIX void: <http://rdfs.org/ns/void#>\n",
    "PREFIX xml: <http://www.w3.org/XML/1998/namespace/>\n",
    "PREFIX xsd: <http://www.w3.org/2001/XMLSchema#>\n",
    "SELECT ?id WHERE {\n",
    "    ?id a nsg:DetailedCircuit;\n",
    "    nxv:createdAt ?_createdAt\n",
    "} ORDER BY DESC (?_createdAt)\n",
    "\"\"\"\n",
    "records = nexus.get_entities_by_query(query, rewrite=False, limit=1)\n",
    "print(f'Length: {len(records)}\\nType: {type(records)}\\n')"
   ]
  }
 ],
 "metadata": {
  "kernelspec": {
   "display_name": "mmb2022_193",
   "language": "python",
   "name": "mmb2022_193"
  },
  "language_info": {
   "codemirror_mode": {
    "name": "ipython",
    "version": 3
   },
   "file_extension": ".py",
   "mimetype": "text/x-python",
   "name": "python",
   "nbconvert_exporter": "python",
   "pygments_lexer": "ipython3",
   "version": "3.9.7"
  }
 },
 "nbformat": 4,
 "nbformat_minor": 4
}
