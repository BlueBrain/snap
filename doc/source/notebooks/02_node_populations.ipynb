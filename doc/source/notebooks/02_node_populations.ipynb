{
 "cells": [
  {
   "cell_type": "markdown",
   "metadata": {},
   "source": [
    "# Node populations\n",
    "## Introduction\n",
    "In this tutorial we cover understanding the properties of node (that is, cell) populations."
   ]
  },
  {
   "cell_type": "markdown",
   "metadata": {},
   "source": [
    "## Preamble\n",
    "The code in this section is identical to the code in sections \"Introduction\" and \"Loading\" from the previous tutorial. It assumes that you have already downloaded the circuit. If not, take a look to the notebook **01_circuits** (Downloading a circuit)."
   ]
  },
  {
   "cell_type": "code",
   "execution_count": 1,
   "metadata": {},
   "outputs": [],
   "source": [
    "import bluepysnap\n",
    "\n",
    "circuit_path = \"sonata/circuit_sonata.json\"\n",
    "circuit = bluepysnap.Circuit(circuit_path)"
   ]
  },
  {
   "cell_type": "markdown",
   "metadata": {},
   "source": [
    "## Node populations\n",
    "In order to see the available node populations from a circuit, you can access the `nodes` property"
   ]
  },
  {
   "cell_type": "code",
   "execution_count": 2,
   "metadata": {},
   "outputs": [
    {
     "data": {
      "text/plain": [
       "['CorticoThalamic_projections',\n",
       " 'MedialLemniscus_projections',\n",
       " 'thalamus_neurons']"
      ]
     },
     "execution_count": 2,
     "metadata": {},
     "output_type": "execute_result"
    }
   ],
   "source": [
    "circuit.nodes.population_names"
   ]
  },
  {
   "cell_type": "markdown",
   "metadata": {},
   "source": [
    "In this example we can see there are several node populations. We can access a node population using the name as the key:"
   ]
  },
  {
   "cell_type": "code",
   "execution_count": 3,
   "metadata": {},
   "outputs": [],
   "source": [
    "node_population = circuit.nodes[\"thalamus_neurons\"]"
   ]
  },
  {
   "cell_type": "markdown",
   "metadata": {},
   "source": [
    "## Properties and methods\n",
    "Node populations provide information about the collection of nodes, and what information is available for each of the nodes themselves.\n",
    "\n",
    "For example, the node population `name` and `size` (that is, the number of nodes it contains) can be retrieved:"
   ]
  },
  {
   "cell_type": "code",
   "execution_count": 4,
   "metadata": {},
   "outputs": [
    {
     "name": "stdout",
     "output_type": "stream",
     "text": [
      "Name: thalamus_neurons\n",
      "Population size: 100765\n"
     ]
    }
   ],
   "source": [
    "print(\"Name:\", node_population.name)\n",
    "print(\"Population size:\", node_population.size)"
   ]
  },
  {
   "cell_type": "markdown",
   "metadata": {},
   "source": [
    "Information on the properties of the nodes themselves can also be obtained. For example, we can answer the question: what properties do the nodes in this population have?"
   ]
  },
  {
   "cell_type": "code",
   "execution_count": 5,
   "metadata": {},
   "outputs": [
    {
     "data": {
      "text/plain": [
       "{'@dynamics:holding_current',\n",
       " '@dynamics:threshold_current',\n",
       " 'etype',\n",
       " 'layer',\n",
       " 'model_template',\n",
       " 'model_type',\n",
       " 'morph_class',\n",
       " 'morphology',\n",
       " 'mtype',\n",
       " 'orientation_w',\n",
       " 'orientation_x',\n",
       " 'orientation_y',\n",
       " 'orientation_z',\n",
       " 'region',\n",
       " 'rotation_angle_xaxis',\n",
       " 'rotation_angle_yaxis',\n",
       " 'rotation_angle_zaxis',\n",
       " 'synapse_class',\n",
       " 'x',\n",
       " 'y',\n",
       " 'z'}"
      ]
     },
     "execution_count": 5,
     "metadata": {},
     "output_type": "execute_result"
    }
   ],
   "source": [
    "node_population.property_names"
   ]
  },
  {
   "cell_type": "markdown",
   "metadata": {},
   "source": [
    "Beyond simply retrieving the names of properties, we can also retrieve their unique values. For instance: which layers and subregions are present in the population"
   ]
  },
  {
   "cell_type": "code",
   "execution_count": 6,
   "metadata": {
    "scrolled": true
   },
   "outputs": [
    {
     "data": {
      "text/plain": [
       "{'mc0;Rt',\n",
       " 'mc0;VPL',\n",
       " 'mc1;Rt',\n",
       " 'mc1;VPL',\n",
       " 'mc2;Rt',\n",
       " 'mc2;VPL',\n",
       " 'mc3;Rt',\n",
       " 'mc3;VPL',\n",
       " 'mc4;Rt',\n",
       " 'mc4;VPL',\n",
       " 'mc5;Rt',\n",
       " 'mc5;VPL',\n",
       " 'mc6;Rt',\n",
       " 'mc6;VPL'}"
      ]
     },
     "execution_count": 6,
     "metadata": {},
     "output_type": "execute_result"
    }
   ],
   "source": [
    "node_population.property_values('region')"
   ]
  },
  {
   "cell_type": "markdown",
   "metadata": {},
   "source": [
    "Same obviously works for getting `mtype`, `etype` or any other field listed in `property_names`."
   ]
  },
  {
   "cell_type": "code",
   "execution_count": 7,
   "metadata": {},
   "outputs": [
    {
     "data": {
      "text/plain": [
       "{'Rt_RC', 'VPL_IN', 'VPL_TC'}"
      ]
     },
     "execution_count": 7,
     "metadata": {},
     "output_type": "execute_result"
    }
   ],
   "source": [
    "node_population.property_values('mtype')"
   ]
  },
  {
   "cell_type": "markdown",
   "metadata": {},
   "source": [
    "There are also a few other convenient methods, such as `count` (return node count), `positions`, and `orientations`. "
   ]
  },
  {
   "cell_type": "code",
   "execution_count": 8,
   "metadata": {},
   "outputs": [
    {
     "data": {
      "text/html": [
       "<div>\n",
       "<style scoped>\n",
       "    .dataframe tbody tr th:only-of-type {\n",
       "        vertical-align: middle;\n",
       "    }\n",
       "\n",
       "    .dataframe tbody tr th {\n",
       "        vertical-align: top;\n",
       "    }\n",
       "\n",
       "    .dataframe thead th {\n",
       "        text-align: right;\n",
       "    }\n",
       "</style>\n",
       "<table border=\"1\" class=\"dataframe\">\n",
       "  <thead>\n",
       "    <tr style=\"text-align: right;\">\n",
       "      <th></th>\n",
       "      <th>x</th>\n",
       "      <th>y</th>\n",
       "      <th>z</th>\n",
       "    </tr>\n",
       "  </thead>\n",
       "  <tbody>\n",
       "    <tr>\n",
       "      <th>0</th>\n",
       "      <td>175.000000</td>\n",
       "      <td>575.000000</td>\n",
       "      <td>225.000000</td>\n",
       "    </tr>\n",
       "    <tr>\n",
       "      <th>1</th>\n",
       "      <td>179.044281</td>\n",
       "      <td>593.194763</td>\n",
       "      <td>200.260788</td>\n",
       "    </tr>\n",
       "    <tr>\n",
       "      <th>2</th>\n",
       "      <td>196.751480</td>\n",
       "      <td>563.684509</td>\n",
       "      <td>206.200989</td>\n",
       "    </tr>\n",
       "    <tr>\n",
       "      <th>3</th>\n",
       "      <td>169.940216</td>\n",
       "      <td>579.091736</td>\n",
       "      <td>253.004227</td>\n",
       "    </tr>\n",
       "    <tr>\n",
       "      <th>4</th>\n",
       "      <td>156.274872</td>\n",
       "      <td>572.608337</td>\n",
       "      <td>235.786240</td>\n",
       "    </tr>\n",
       "  </tbody>\n",
       "</table>\n",
       "</div>"
      ],
      "text/plain": [
       "            x           y           z\n",
       "0  175.000000  575.000000  225.000000\n",
       "1  179.044281  593.194763  200.260788\n",
       "2  196.751480  563.684509  206.200989\n",
       "3  169.940216  579.091736  253.004227\n",
       "4  156.274872  572.608337  235.786240"
      ]
     },
     "execution_count": 8,
     "metadata": {},
     "output_type": "execute_result"
    }
   ],
   "source": [
    "node_population.positions().head()"
   ]
  },
  {
   "cell_type": "markdown",
   "metadata": {},
   "source": [
    "One can also give an id (or a list of ids) as an argument for `positions` or `orientations`. When passed to `orientations`"
   ]
  },
  {
   "cell_type": "code",
   "execution_count": 9,
   "metadata": {},
   "outputs": [
    {
     "data": {
      "text/plain": [
       "array([[ 0.21698195,  0.        ,  0.97617567],\n",
       "       [-0.        ,  1.        ,  0.        ],\n",
       "       [-0.97617567, -0.        ,  0.21698195]], dtype=float32)"
      ]
     },
     "execution_count": 9,
     "metadata": {},
     "output_type": "execute_result"
    }
   ],
   "source": [
    "node_population.orientations(1)  "
   ]
  },
  {
   "cell_type": "markdown",
   "metadata": {},
   "source": [
    "a rotation matrix for the node with given id(s) is returned."
   ]
  },
  {
   "cell_type": "markdown",
   "metadata": {},
   "source": [
    "## Queries\n",
    "With `ids`, it is possible to list the ids of the cells in the node_population"
   ]
  },
  {
   "cell_type": "code",
   "execution_count": 10,
   "metadata": {},
   "outputs": [
    {
     "data": {
      "text/plain": [
       "array([     0,      1,      2, ..., 100762, 100763, 100764])"
      ]
     },
     "execution_count": 10,
     "metadata": {},
     "output_type": "execute_result"
    }
   ],
   "source": [
    "node_population.ids()"
   ]
  },
  {
   "cell_type": "markdown",
   "metadata": {},
   "source": [
    "This becomes especially handy, when one wants to filter the available data.\n",
    "E.g., getting the ids of VPL neurons in the central column of the microcircuit ('mc2': microcolumn 2)"
   ]
  },
  {
   "cell_type": "code",
   "execution_count": 11,
   "metadata": {},
   "outputs": [
    {
     "data": {
      "text/plain": [
       "array([33512, 33513, 33514, ..., 42508, 42509, 42510])"
      ]
     },
     "execution_count": 11,
     "metadata": {},
     "output_type": "execute_result"
    }
   ],
   "source": [
    "node_population.ids({'region': 'mc2;VPL'})"
   ]
  },
  {
   "cell_type": "markdown",
   "metadata": {},
   "source": [
    "It is also possible to query data with more than one filter:"
   ]
  },
  {
   "cell_type": "code",
   "execution_count": 12,
   "metadata": {},
   "outputs": [
    {
     "data": {
      "text/plain": [
       "array([33512, 33513, 33514, ..., 42461, 42462, 42463])"
      ]
     },
     "execution_count": 12,
     "metadata": {},
     "output_type": "execute_result"
    }
   ],
   "source": [
    "node_population.ids({'region': 'mc2;VPL', 'mtype': 'VPL_TC'})"
   ]
  },
  {
   "cell_type": "markdown",
   "metadata": {},
   "source": [
    "Or even use regex in the query:"
   ]
  },
  {
   "cell_type": "code",
   "execution_count": 13,
   "metadata": {},
   "outputs": [
    {
     "data": {
      "text/plain": [
       "array([33512, 33513, 33514, ..., 42461, 42462, 42463])"
      ]
     },
     "execution_count": 13,
     "metadata": {},
     "output_type": "execute_result"
    }
   ],
   "source": [
    "node_population.ids({'etype': {'$regex': '.*ltb.*'}, 'region': 'mc2;VPL'})"
   ]
  },
  {
   "cell_type": "markdown",
   "metadata": {},
   "source": [
    "## Conclusion\n",
    "Now that we can inspect node populations and their properties, the following lessons will look at the nodes within these populations."
   ]
  }
 ],
 "metadata": {
  "kernelspec": {
   "display_name": "Python 3",
   "language": "python",
   "name": "python3"
  },
  "language_info": {
   "codemirror_mode": {
    "name": "ipython",
    "version": 3
   },
   "file_extension": ".py",
   "mimetype": "text/x-python",
   "name": "python",
   "nbconvert_exporter": "python",
   "pygments_lexer": "ipython3",
   "version": "3.8.10"
  }
 },
 "nbformat": 4,
 "nbformat_minor": 2
}
