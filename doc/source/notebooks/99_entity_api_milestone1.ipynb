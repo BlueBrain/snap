{
 "cells": [
  {
   "cell_type": "markdown",
   "metadata": {},
   "source": [
    "# Milestone 1:  Circuit and Simulation in SNAP"
   ]
  },
  {
   "cell_type": "markdown",
   "metadata": {},
   "source": [
    "### Setup\n"
   ]
  },
  {
   "cell_type": "code",
   "execution_count": null,
   "metadata": {},
   "outputs": [],
   "source": [
    "import getpass\n",
    "import logging\n",
    "from pathlib import Path\n",
    "\n",
    "from bluepysnap.api import Api\n",
    "\n",
    "logging.basicConfig(level=logging.WARNING)\n",
    "\n",
    "ORGANIZATION = \"nse\"\n",
    "PROJECT = \"test\""
   ]
  },
  {
   "cell_type": "markdown",
   "metadata": {},
   "source": [
    "Paste the token from https://bbp.epfl.ch/nexus/web/"
   ]
  },
  {
   "cell_type": "code",
   "execution_count": null,
   "metadata": {},
   "outputs": [],
   "source": [
    "TOKEN = getpass.getpass()"
   ]
  },
  {
   "cell_type": "code",
   "execution_count": null,
   "metadata": {},
   "outputs": [],
   "source": [
    "nexus_config = \"../../../examples/configurations/api/forge.yml\"\n",
    "api = Api(nexus_config=nexus_config, bucket=f\"{ORGANIZATION}/{PROJECT}\", token=TOKEN, debug=False)"
   ]
  },
  {
   "cell_type": "markdown",
   "metadata": {},
   "source": [
    "### Instantiate a SNAP circuit from a KG URL"
   ]
  },
  {
   "cell_type": "code",
   "execution_count": null,
   "metadata": {},
   "outputs": [],
   "source": [
    "\n",
    "circuit_id = \"https://bbp.epfl.ch/nexus/v1/resources/nse/test/_/20191025\"\n",
    "circuit = api.get_entity_by_id(circuit_id)\n",
    "print(circuit.type, circuit.id)\n",
    "print(circuit)"
   ]
  },
  {
   "cell_type": "code",
   "execution_count": null,
   "metadata": {},
   "outputs": [],
   "source": [
    "print(circuit.resource)"
   ]
  },
  {
   "cell_type": "code",
   "execution_count": null,
   "metadata": {},
   "outputs": [],
   "source": [
    "print(circuit.instance)"
   ]
  },
  {
   "cell_type": "markdown",
   "metadata": {},
   "source": [
    "### Illustrate bluepy/snap with a small piece of code"
   ]
  },
  {
   "cell_type": "code",
   "execution_count": null,
   "metadata": {},
   "outputs": [],
   "source": [
    "from bluepysnap.bbp import Cell\n",
    "from matplotlib import pyplot as plt\n",
    "\n",
    "cells = circuit.instance.nodes.get(properties=[Cell.X, Cell.Y, Cell.Z])"
   ]
  },
  {
   "cell_type": "code",
   "execution_count": null,
   "metadata": {},
   "outputs": [],
   "source": [
    "plt.plot(cells[Cell.X], cells[Cell.Y], \".b\")"
   ]
  },
  {
   "cell_type": "markdown",
   "metadata": {},
   "source": [
    "### Get information about the circuit"
   ]
  },
  {
   "cell_type": "code",
   "execution_count": null,
   "metadata": {},
   "outputs": [],
   "source": [
    "circuit.description"
   ]
  },
  {
   "cell_type": "code",
   "execution_count": null,
   "metadata": {},
   "outputs": [],
   "source": [
    "# FIXME: shouldn't be circuit.brainRegion, according to neuroshapes.org?\n",
    "region = circuit.brainLocation.brainRegion\n",
    "print(region.id)\n",
    "print(region.label)"
   ]
  },
  {
   "cell_type": "code",
   "execution_count": null,
   "metadata": {},
   "outputs": [],
   "source": [
    "# FIXME: is species optional? How to handle missing optional attributes?\n",
    "species = getattr(circuit, 'species', None)\n",
    "print(species)"
   ]
  },
  {
   "cell_type": "code",
   "execution_count": null,
   "metadata": {},
   "outputs": [],
   "source": [
    "# FIXME: what do we mean by project in this context? test, nse/test, https://bbp.epfl.ch/nexus/v1/projects/nse/test\n",
    "print(circuit.project)"
   ]
  },
  {
   "cell_type": "code",
   "execution_count": null,
   "metadata": {},
   "outputs": [],
   "source": [
    "# FIXME: according to neuroshapes.org, the entity could have a dateCreated attribute. Should it be considered?\n",
    "print(circuit.createdBy)\n",
    "print(circuit.createdAt)"
   ]
  },
  {
   "cell_type": "markdown",
   "metadata": {},
   "source": [
    "### Get Simulations that used that circuit"
   ]
  },
  {
   "cell_type": "markdown",
   "metadata": {},
   "source": [
    "Changed after the initial version: the attribute `api._connector` is private because it's not meant to be accessed directly.\n",
    "\n",
    "It's possible to call `api.get_entities` instead of `api._connector.get_resources`, that would return a list of `Entity` instead of a list of `Resource`."
   ]
  },
  {
   "cell_type": "code",
   "execution_count": null,
   "metadata": {},
   "outputs": [],
   "source": [
    "# simulations that used the circuit\n",
    "sim1 = api._connector.get_resources(\n",
    "    \"Simulation\",\n",
    "    {\"used\": f\"<{circuit.id}>\"}\n",
    ")\n",
    "\n",
    "# simulation campaigns that used the circuit\n",
    "simulation_campaigns = api._connector.get_resources(\n",
    "    \"SimulationCampaign\",\n",
    "    {\"used\": f\"<{circuit.id}>\"}\n",
    ")\n",
    "\n",
    "# simulations started by the simulation campaigns\n",
    "ids = [f\"<{r.id}>\" for r in simulation_campaigns]\n",
    "sim2 = api._connector.get_resources(\n",
    "    \"Simulation\",\n",
    "    {\"wasStartedBy\": ids}\n",
    ")\n",
    "\n",
    "# merge simulations and remove possible duplicates\n",
    "simulations = {s.id: s for s in sim1 + sim2}\n",
    "simulations = list(simulations.values())\n",
    "print(len(sim1), len(sim2), len(simulations))"
   ]
  },
  {
   "cell_type": "markdown",
   "metadata": {},
   "source": [
    "Alternatively, it's possible to execute a custom query:"
   ]
  },
  {
   "cell_type": "code",
   "execution_count": null,
   "metadata": {},
   "outputs": [],
   "source": [
    "query = f\"\"\"\n",
    "    SELECT DISTINCT ?id\n",
    "    WHERE {{\n",
    "        {{\n",
    "            ?id a Simulation ; wasStartedBy ?scid .\n",
    "            ?scid a SimulationCampaign ; used <{circuit.id}> .\n",
    "        }}\n",
    "    UNION\n",
    "        {{\n",
    "            ?id a Simulation ; used <{circuit.id}> .\n",
    "        }}\n",
    "    }}\n",
    "    \"\"\"\n",
    "simulations2 = api._connector.get_resources_by_query(query)\n",
    "sorted(r.id for r in simulations) == sorted(r.id for r in simulations2)\n"
   ]
  },
  {
   "cell_type": "markdown",
   "metadata": {},
   "source": [
    "Alternatively, we can expose a ready-to-use (but less flexible) function in the `api.simulation` namespace:"
   ]
  },
  {
   "cell_type": "code",
   "execution_count": null,
   "metadata": {},
   "outputs": [],
   "source": [
    "simulation_entities = api.simulation.get_simulations_by_circuit(circuit, tool='bluepy')\n",
    "\n",
    "sorted(r.id for r in simulations) == sorted(r.id for r in simulation_entities)\n"
   ]
  },
  {
   "cell_type": "markdown",
   "metadata": {},
   "source": [
    "### Instantiate these simulation as ~~SNAP~~ BLUEPY entities either from the circuit or from a KG URL"
   ]
  },
  {
   "cell_type": "markdown",
   "metadata": {},
   "source": [
    "Changed after the initial version: `api._factory` is private because it's not meant to be used directly.\n",
    "\n",
    "The `open` method is called automatically when accessing `entity.instance`, that's a lazy proxy to the real instance depending on the library."
   ]
  },
  {
   "cell_type": "code",
   "execution_count": null,
   "metadata": {},
   "outputs": [],
   "source": [
    "# not needed if using rentity_simulations from the previous step\n",
    "simulation_entities2 = [api._factory.open(r, \"bluepy\") for r in simulations]"
   ]
  },
  {
   "cell_type": "markdown",
   "metadata": {},
   "source": [
    "### For each simulation display information about the simulation\n",
    "- Configuration of the simulation \n",
    "- Execution time / Creator\n",
    "- KG Project it belongs to\n",
    "- Description\n",
    "\n",
    "### and Display a spike raster and psth"
   ]
  },
  {
   "cell_type": "code",
   "execution_count": null,
   "metadata": {},
   "outputs": [],
   "source": [
    "\n",
    "for n, sim in enumerate(simulation_entities):\n",
    "    print(f\"### Simulation {n}\")\n",
    "    print(\"Simulation path:\", sim.path)\n",
    "    print(\"createdAt:\", sim.createdAt)\n",
    "    print(\"createdBy:\", sim.createdBy)\n",
    "    print(\"project:\", sim.project)\n",
    "    print(\"description:\", sim.description)\n",
    "    sim.instance.plot.spikeraster_and_psth('soma', ['Mosaic'])\n",
    "    break\n"
   ]
  }
 ],
 "metadata": {
  "kernelspec": {
   "display_name": "Python 3",
   "language": "python",
   "name": "python3"
  },
  "language_info": {
   "codemirror_mode": {
    "name": "ipython",
    "version": 3
   },
   "file_extension": ".py",
   "mimetype": "text/x-python",
   "name": "python",
   "nbconvert_exporter": "python",
   "pygments_lexer": "ipython3",
   "version": "3.7.8"
  }
 },
 "nbformat": 4,
 "nbformat_minor": 4
}
