{
 "cells": [
  {
   "cell_type": "markdown",
   "metadata": {},
   "source": [
    "# SNAP - NEXUSFORGE - Browsing data\n",
    "\n",
    "In this notebook, we will cover how to browse and traverse Entities.\n",
    "\n",
    "### Setup\n",
    "\n",
    "The token can be found in the upper right corner on https://bbp.epfl.ch/nexus/web/ and pasted here"
   ]
  },
  {
   "cell_type": "code",
   "execution_count": 1,
   "metadata": {},
   "outputs": [
    {
     "name": "stdin",
     "output_type": "stream",
     "text": [
      " ···································································································································································································································································································································································································································································································································································································································································································································································································································································································································································································································································································································································································································································································································································································································································································································································································································································································································································································································································································································································································································································································································································································································································································································································································································································································································································································································································································································································································································································································································································································································································································································································································································································································································································································································································\n"
     ]
    }
   ],
   "source": [
    "import getpass\n",
    "from bluepysnap.nexus import NexusHelper\n",
    "\n",
    "BUCKET = \"nse/test\"\n",
    "TOKEN = getpass.getpass()\n",
    "nexus = NexusHelper(BUCKET, TOKEN)"
   ]
  },
  {
   "cell_type": "markdown",
   "metadata": {},
   "source": [
    "### Browsing an entity\n",
    "\n",
    "Let's first get an entity and show the available data:"
   ]
  },
  {
   "cell_type": "code",
   "execution_count": 2,
   "metadata": {},
   "outputs": [
    {
     "data": {
      "text/html": [
       "<div>\n",
       "<style scoped>\n",
       "    .dataframe tbody tr th:only-of-type {\n",
       "        vertical-align: middle;\n",
       "    }\n",
       "\n",
       "    .dataframe tbody tr th {\n",
       "        vertical-align: top;\n",
       "    }\n",
       "\n",
       "    .dataframe thead th {\n",
       "        text-align: right;\n",
       "    }\n",
       "</style>\n",
       "<table border=\"1\" class=\"dataframe\">\n",
       "  <thead>\n",
       "    <tr style=\"text-align: right;\">\n",
       "      <th></th>\n",
       "      <th>0</th>\n",
       "    </tr>\n",
       "  </thead>\n",
       "  <tbody>\n",
       "    <tr>\n",
       "      <th>id</th>\n",
       "      <td>https://bbp.epfl.ch/nexus/v1/resources/nse/tes...</td>\n",
       "    </tr>\n",
       "    <tr>\n",
       "      <th>type</th>\n",
       "      <td>DetailedCircuit</td>\n",
       "    </tr>\n",
       "    <tr>\n",
       "      <th>brainLocation.brainRegion.id</th>\n",
       "      <td>http://api.brain-map.org/api/v2/data/Structure...</td>\n",
       "    </tr>\n",
       "    <tr>\n",
       "      <th>brainLocation.brainRegion.label</th>\n",
       "      <td>Thalamus</td>\n",
       "    </tr>\n",
       "    <tr>\n",
       "      <th>circuitBase.type</th>\n",
       "      <td>DataDownload</td>\n",
       "    </tr>\n",
       "    <tr>\n",
       "      <th>circuitBase.url</th>\n",
       "      <td>file:///gpfs/bbp.cscs.ch/project/proj55/oreill...</td>\n",
       "    </tr>\n",
       "    <tr>\n",
       "      <th>circuitType</th>\n",
       "      <td>Microcircuit with O0 geometry</td>\n",
       "    </tr>\n",
       "    <tr>\n",
       "      <th>description</th>\n",
       "      <td>Thalamus microcircuit v1, 2018 release</td>\n",
       "    </tr>\n",
       "    <tr>\n",
       "      <th>edgeCollection.id</th>\n",
       "      <td>https://bbp.epfl.ch/nexus/v1/resources/nse/tes...</td>\n",
       "    </tr>\n",
       "    <tr>\n",
       "      <th>edgeCollection.type</th>\n",
       "      <td>EdgeCollection</td>\n",
       "    </tr>\n",
       "    <tr>\n",
       "      <th>name</th>\n",
       "      <td>Thalamus microcircuit v1</td>\n",
       "    </tr>\n",
       "    <tr>\n",
       "      <th>nodeCollection.id</th>\n",
       "      <td>https://bbp.epfl.ch/nexus/v1/resources/nse/tes...</td>\n",
       "    </tr>\n",
       "    <tr>\n",
       "      <th>nodeCollection.type</th>\n",
       "      <td>NodeCollection</td>\n",
       "    </tr>\n",
       "    <tr>\n",
       "      <th>species.id</th>\n",
       "      <td>http://purl.obolibrary.org/obo/NCBITaxon_10088</td>\n",
       "    </tr>\n",
       "    <tr>\n",
       "      <th>species.label</th>\n",
       "      <td>Mouse</td>\n",
       "    </tr>\n",
       "    <tr>\n",
       "      <th>target.id</th>\n",
       "      <td>https://bbp.epfl.ch/nexus/v1/resources/nse/tes...</td>\n",
       "    </tr>\n",
       "    <tr>\n",
       "      <th>target.type</th>\n",
       "      <td>Target</td>\n",
       "    </tr>\n",
       "    <tr>\n",
       "      <th>wasAttributedTo.id</th>\n",
       "      <td>https://bbp.epfl.ch/nexus/v1/resources/nse/tes...</td>\n",
       "    </tr>\n",
       "    <tr>\n",
       "      <th>wasAttributedTo.type</th>\n",
       "      <td>WorkflowExecution</td>\n",
       "    </tr>\n",
       "  </tbody>\n",
       "</table>\n",
       "</div>"
      ],
      "text/plain": [
       "                                                                                 0\n",
       "id                               https://bbp.epfl.ch/nexus/v1/resources/nse/tes...\n",
       "type                                                               DetailedCircuit\n",
       "brainLocation.brainRegion.id     http://api.brain-map.org/api/v2/data/Structure...\n",
       "brainLocation.brainRegion.label                                           Thalamus\n",
       "circuitBase.type                                                      DataDownload\n",
       "circuitBase.url                  file:///gpfs/bbp.cscs.ch/project/proj55/oreill...\n",
       "circuitType                                          Microcircuit with O0 geometry\n",
       "description                                 Thalamus microcircuit v1, 2018 release\n",
       "edgeCollection.id                https://bbp.epfl.ch/nexus/v1/resources/nse/tes...\n",
       "edgeCollection.type                                                 EdgeCollection\n",
       "name                                                      Thalamus microcircuit v1\n",
       "nodeCollection.id                https://bbp.epfl.ch/nexus/v1/resources/nse/tes...\n",
       "nodeCollection.type                                                 NodeCollection\n",
       "species.id                          http://purl.obolibrary.org/obo/NCBITaxon_10088\n",
       "species.label                                                                Mouse\n",
       "target.id                        https://bbp.epfl.ch/nexus/v1/resources/nse/tes...\n",
       "target.type                                                                 Target\n",
       "wasAttributedTo.id               https://bbp.epfl.ch/nexus/v1/resources/nse/tes...\n",
       "wasAttributedTo.type                                             WorkflowExecution"
      ]
     },
     "execution_count": 2,
     "metadata": {},
     "output_type": "execute_result"
    }
   ],
   "source": [
    "entity = nexus.get_entity_by_id('https://bbp.epfl.ch/nexus/v1/resources/nse/test/_/O0-20180419')\n",
    "nexus.as_dataframe([entity], store_metadata=False).T"
   ]
  },
  {
   "cell_type": "markdown",
   "metadata": {},
   "source": [
    "All the values shown above can be accessed programmatically through the `Entity` object with the dot-notation:"
   ]
  },
  {
   "cell_type": "code",
   "execution_count": 3,
   "metadata": {},
   "outputs": [
    {
     "name": "stdout",
     "output_type": "stream",
     "text": [
      "\n",
      "Circuit:\n",
      "-------------------------------------------------------\n",
      "name: Thalamus microcircuit v1\n",
      "description: Thalamus microcircuit v1, 2018 release\n",
      "species: Mouse\n",
      "region: Thalamus\n",
      "-------------------------------------------------------\n"
     ]
    }
   ],
   "source": [
    "print(f\"\"\"\n",
    "Circuit:\n",
    "-------------------------------------------------------\n",
    "name: {entity.name}\n",
    "description: {entity.description}\n",
    "species: {entity.species.label}\n",
    "region: {entity.brainLocation.brainRegion.label}\n",
    "-------------------------------------------------------\"\"\")"
   ]
  },
  {
   "cell_type": "markdown",
   "metadata": {},
   "source": [
    "#### Access store metadata\n",
    "There's a small caveat when accessing the store metadata values: instead of accessing them with the leading underscore, they are accessed without it.\n",
    "For example the `entity` has the following metadata keys:"
   ]
  },
  {
   "cell_type": "code",
   "execution_count": 4,
   "metadata": {},
   "outputs": [
    {
     "name": "stdout",
     "output_type": "stream",
     "text": [
      "_constrainedBy\n",
      "_createdAt\n",
      "_createdBy\n",
      "_deprecated\n",
      "_incoming\n",
      "_outgoing\n",
      "_project\n",
      "_rev\n",
      "_schemaProject\n",
      "_self\n",
      "_updatedAt\n",
      "_updatedBy\n"
     ]
    }
   ],
   "source": [
    "print(*sorted(set(entity.to_dict()) - set(entity.to_dict(store_metadata=False))), sep='\\n')"
   ]
  },
  {
   "cell_type": "markdown",
   "metadata": {},
   "source": [
    "To access them, we need to leave out the underscore. For example:"
   ]
  },
  {
   "cell_type": "code",
   "execution_count": 5,
   "metadata": {},
   "outputs": [
    {
     "name": "stdout",
     "output_type": "stream",
     "text": [
      "\n",
      "_createdAt: 2019-10-02T13:39:20.493Z\n",
      "_createdBy: https://bbp.epfl.ch/nexus/v1/realms/bbp/users/ivaska\n",
      "_project: https://bbp.epfl.ch/nexus/v1/projects/nse/test\n",
      "\n"
     ]
    }
   ],
   "source": [
    "print(f\"\"\"\n",
    "_createdAt: {entity.createdAt}\n",
    "_createdBy: {entity.createdBy}\n",
    "_project: {entity.project}\n",
    "\"\"\"\n",
    ")"
   ]
  },
  {
   "cell_type": "markdown",
   "metadata": {},
   "source": [
    "### Traversing an entity\n",
    "\n",
    "While accessing the values with dot-notation is neat, it surely would be more awesome if there was a way to access the linked resources in the graph through the entity, right? \n",
    "Here's where traversing entities comes in to play.\n",
    "\n",
    "In the former notebooks, we searched for a `MorphologyRelease` with a nexus id of a `DetailedCircuit`. The used search filters were:\n",
    "```python\n",
    "filters = {\n",
    "    \"^morphologyRelease\": {\n",
    "        \"^memodelRelease\": {\n",
    "            \"^nodeCollection\": {\n",
    "                \"type\": \"DetailedCircuit\"\n",
    "            },\n",
    "        },\n",
    "    }}\n",
    "```\n",
    "\n",
    "While that was just an example of a \"look-back\" search, the problem remains: writing such a filter for a linear path is cumbersome. Fortunately, we can achieve the same by traversing the entity:"
   ]
  },
  {
   "cell_type": "code",
   "execution_count": 6,
   "metadata": {},
   "outputs": [
    {
     "data": {
      "text/html": [
       "<div>\n",
       "<style scoped>\n",
       "    .dataframe tbody tr th:only-of-type {\n",
       "        vertical-align: middle;\n",
       "    }\n",
       "\n",
       "    .dataframe tbody tr th {\n",
       "        vertical-align: top;\n",
       "    }\n",
       "\n",
       "    .dataframe thead th {\n",
       "        text-align: right;\n",
       "    }\n",
       "</style>\n",
       "<table border=\"1\" class=\"dataframe\">\n",
       "  <thead>\n",
       "    <tr style=\"text-align: right;\">\n",
       "      <th></th>\n",
       "      <th>0</th>\n",
       "    </tr>\n",
       "  </thead>\n",
       "  <tbody>\n",
       "    <tr>\n",
       "      <th>id</th>\n",
       "      <td>https://bbp.epfl.ch/nexus/v1/resources/nse/tes...</td>\n",
       "    </tr>\n",
       "    <tr>\n",
       "      <th>type</th>\n",
       "      <td>MorphologyRelease</td>\n",
       "    </tr>\n",
       "    <tr>\n",
       "      <th>distribution.type</th>\n",
       "      <td>DataDownload</td>\n",
       "    </tr>\n",
       "    <tr>\n",
       "      <th>distribution.url</th>\n",
       "      <td>/gpfs/bbp.cscs.ch/project/proj55/iavarone/rele...</td>\n",
       "    </tr>\n",
       "    <tr>\n",
       "      <th>morphologyIndex.id</th>\n",
       "      <td>https://bbp.epfl.ch/nexus/v1/resources/nse/tes...</td>\n",
       "    </tr>\n",
       "    <tr>\n",
       "      <th>morphologyIndex.type</th>\n",
       "      <td>ModelReleaseIndex</td>\n",
       "    </tr>\n",
       "    <tr>\n",
       "      <th>name</th>\n",
       "      <td>O0-20180419_morph_release</td>\n",
       "    </tr>\n",
       "    <tr>\n",
       "      <th>wasAttributedTo</th>\n",
       "      <td>[{'id': 'https://bbp.epfl.ch/nexus/v1/resource...</td>\n",
       "    </tr>\n",
       "  </tbody>\n",
       "</table>\n",
       "</div>"
      ],
      "text/plain": [
       "                                                                      0\n",
       "id                    https://bbp.epfl.ch/nexus/v1/resources/nse/tes...\n",
       "type                                                  MorphologyRelease\n",
       "distribution.type                                          DataDownload\n",
       "distribution.url      /gpfs/bbp.cscs.ch/project/proj55/iavarone/rele...\n",
       "morphologyIndex.id    https://bbp.epfl.ch/nexus/v1/resources/nse/tes...\n",
       "morphologyIndex.type                                  ModelReleaseIndex\n",
       "name                                          O0-20180419_morph_release\n",
       "wasAttributedTo       [{'id': 'https://bbp.epfl.ch/nexus/v1/resource..."
      ]
     },
     "execution_count": 6,
     "metadata": {},
     "output_type": "execute_result"
    }
   ],
   "source": [
    "morphology_release_id = entity.nodeCollection.memodelRelease.morphologyRelease.id\n",
    "morphology_release = nexus.get_entity_by_id(morphology_release_id)\n",
    "nexus.as_dataframe([morphology_release], store_metadata=False).T"
   ]
  },
  {
   "cell_type": "markdown",
   "metadata": {},
   "source": [
    "Unfortunately, there is currently no way to traverse backwards with the use of dot-notation. \n",
    "\n",
    "I.e., we __can not__ go from morphology release back to the `DetailedCircuit` by doing something like:\n",
    "```python\n",
    "detailed_circuit_id = morphology_release.memodelRelease.nodeCollection.detailedCircuit.id\n",
    "```"
   ]
  }
 ],
 "metadata": {
  "kernelspec": {
   "display_name": "mmb2022_193",
   "language": "python",
   "name": "mmb2022_193"
  },
  "language_info": {
   "codemirror_mode": {
    "name": "ipython",
    "version": 3
   },
   "file_extension": ".py",
   "mimetype": "text/x-python",
   "name": "python",
   "nbconvert_exporter": "python",
   "pygments_lexer": "ipython3",
   "version": "3.9.7"
  }
 },
 "nbformat": 4,
 "nbformat_minor": 4
}
