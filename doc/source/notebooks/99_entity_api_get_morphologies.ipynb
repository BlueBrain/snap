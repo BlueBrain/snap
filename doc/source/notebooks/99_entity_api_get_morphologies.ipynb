{
 "cells": [
  {
   "cell_type": "markdown",
   "metadata": {},
   "source": [
    "# Get morphologies from Nexus"
   ]
  },
  {
   "cell_type": "markdown",
   "metadata": {},
   "source": [
    "#### Imports and Nexus-Forge configuration"
   ]
  },
  {
   "cell_type": "code",
   "execution_count": null,
   "metadata": {},
   "outputs": [],
   "source": [
    "import getpass\n",
    "import logging\n",
    "from pathlib import Path\n",
    "\n",
    "%matplotlib inline\n",
    "import neurom.view\n",
    "\n",
    "# Import SNAP's API for Nexus-Forge\n",
    "from bluepysnap.api import Api \n",
    "\n",
    "logging.basicConfig(level=logging.WARNING)"
   ]
  },
  {
   "cell_type": "markdown",
   "metadata": {},
   "source": [
    "Copy and paste the token from https://bbp.epfl.ch/nexus/web/"
   ]
  },
  {
   "cell_type": "code",
   "execution_count": null,
   "metadata": {},
   "outputs": [],
   "source": [
    "TOKEN = getpass.getpass()"
   ]
  },
  {
   "cell_type": "markdown",
   "metadata": {},
   "source": [
    "Configure snap (and nexus-forge) to get data from **public/hippocampus-hub**"
   ]
  },
  {
   "cell_type": "code",
   "execution_count": null,
   "metadata": {},
   "outputs": [],
   "source": [
    "ORGANIZATION = \"public\"\n",
    "PROJECT = \"hippocampus-hub\"\n",
    "\n",
    "api = Api(bucket=f\"{ORGANIZATION}/{PROJECT}\", token=TOKEN, debug=False)"
   ]
  },
  {
   "cell_type": "markdown",
   "metadata": {},
   "source": [
    "#### Getting and instantiating a morphology"
   ]
  },
  {
   "cell_type": "markdown",
   "metadata": {},
   "source": [
    "We can find the ~droids~ morphologies we are looking for by using their name:"
   ]
  },
  {
   "cell_type": "code",
   "execution_count": null,
   "metadata": {},
   "outputs": [],
   "source": [
    "results = api.get_entities('NeuronMorphology', {'name': 'mpg141209_B_idA'})\n",
    "print(f\"Found {len(results)} matching entries:\")\n",
    "api.as_dataframe(results).T"
   ]
  },
  {
   "cell_type": "markdown",
   "metadata": {},
   "source": [
    "We could have also got the same entry by using the ID of the morphology:"
   ]
  },
  {
   "cell_type": "code",
   "execution_count": null,
   "metadata": {},
   "outputs": [],
   "source": [
    "api.get_entity_by_id('https://bbp.epfl.ch/neurosciencegraph/data/neuronmorphologies/4ea548b4-be79-4c63-beed-041a5081010a').name"
   ]
  },
  {
   "cell_type": "markdown",
   "metadata": {},
   "source": [
    "#### Downloading (instantiating) the Morphology"
   ]
  },
  {
   "cell_type": "markdown",
   "metadata": {},
   "source": [
    "At this point, our `results` are still views of data from the knowledge graph. In the SNAP API, these are represented by the `Entity` class:"
   ]
  },
  {
   "cell_type": "code",
   "execution_count": null,
   "metadata": {},
   "outputs": [],
   "source": [
    "entity = results[0] # need to use [0] as get_entities returns a list\n",
    "print(type(entity))"
   ]
  },
  {
   "cell_type": "markdown",
   "metadata": {},
   "source": [
    "To be able to use the morphology, we need to instantiate it. Or, to put it another way, get the morphology instance. `entity.instance` downloads the resource, and opens it with neurom in the background:"
   ]
  },
  {
   "cell_type": "code",
   "execution_count": null,
   "metadata": {},
   "outputs": [],
   "source": [
    "morphology = entity.instance\n",
    "!ls .downloaded_content/"
   ]
  },
  {
   "cell_type": "markdown",
   "metadata": {},
   "source": [
    "We can now use the `morphology` as we normally would in NeuroM:"
   ]
  },
  {
   "cell_type": "code",
   "execution_count": null,
   "metadata": {},
   "outputs": [],
   "source": [
    "neurom.view.matplotlib_impl.plot_morph(morphology)\n",
    "fig, ax = neurom.view.matplotlib_utils.get_figure()\n",
    "neurom.view.matplotlib_impl.plot_dendrogram(morphology, ax)"
   ]
  }
 ],
 "metadata": {
  "kernelspec": {
   "display_name": "MMB2022_141",
   "language": "python",
   "name": "mmb2022_141"
  },
  "language_info": {
   "codemirror_mode": {
    "name": "ipython",
    "version": 3
   },
   "file_extension": ".py",
   "mimetype": "text/x-python",
   "name": "python",
   "nbconvert_exporter": "python",
   "pygments_lexer": "ipython3",
   "version": "3.8.3"
  }
 },
 "nbformat": 4,
 "nbformat_minor": 4
}
