{
 "cells": [
  {
   "cell_type": "markdown",
   "metadata": {},
   "source": [
    "# Get morphologies from Nexus"
   ]
  },
  {
   "cell_type": "markdown",
   "metadata": {},
   "source": [
    "#### Imports and Nexus-Forge configuration"
   ]
  },
  {
   "cell_type": "code",
   "execution_count": 1,
   "metadata": {},
   "outputs": [],
   "source": [
    "import getpass\n",
    "import logging\n",
    "from pathlib import Path\n",
    "\n",
    "%matplotlib inline\n",
    "import neurom.view\n",
    "\n",
    "# Import SNAP's API for Nexus-Forge\n",
    "from bluepysnap.api import Api \n",
    "\n",
    "logging.basicConfig(level=logging.WARNING)"
   ]
  },
  {
   "cell_type": "markdown",
   "metadata": {},
   "source": [
    "Copy and paste the token from https://bbp.epfl.ch/nexus/web/"
   ]
  },
  {
   "cell_type": "code",
   "execution_count": 2,
   "metadata": {},
   "outputs": [
    {
     "name": "stdin",
     "output_type": "stream",
     "text": [
      " ···········································································································································································································································································································································································································································································································································································································································································································································································································································································································································································································································································································································································································································································································································································································································································································································································\n"
     ]
    }
   ],
   "source": [
    "TOKEN = getpass.getpass()"
   ]
  },
  {
   "cell_type": "markdown",
   "metadata": {},
   "source": [
    "Configure snap (and nexus-forge) to get data from **public/hippocampus-hub**"
   ]
  },
  {
   "cell_type": "code",
   "execution_count": 3,
   "metadata": {},
   "outputs": [],
   "source": [
    "ORGANIZATION = \"public\"\n",
    "PROJECT = \"hippocampus-hub\"\n",
    "nexus_config = \"../../../examples/configurations/api/forge.yml\"\n",
    "\n",
    "api = Api(nexus_config=nexus_config, bucket=f\"{ORGANIZATION}/{PROJECT}\", token=TOKEN, debug=False)"
   ]
  },
  {
   "cell_type": "markdown",
   "metadata": {},
   "source": [
    "#### Getting and instantiating a morphology"
   ]
  },
  {
   "cell_type": "markdown",
   "metadata": {},
   "source": [
    "We can find the ~droids~ morphologies we are looking for by using their name:"
   ]
  },
  {
   "cell_type": "code",
   "execution_count": 4,
   "metadata": {},
   "outputs": [
    {
     "name": "stdout",
     "output_type": "stream",
     "text": [
      "Found 1 matching entries:\n"
     ]
    },
    {
     "data": {
      "text/html": [
       "<div>\n",
       "<style scoped>\n",
       "    .dataframe tbody tr th:only-of-type {\n",
       "        vertical-align: middle;\n",
       "    }\n",
       "\n",
       "    .dataframe tbody tr th {\n",
       "        vertical-align: top;\n",
       "    }\n",
       "\n",
       "    .dataframe thead th {\n",
       "        text-align: right;\n",
       "    }\n",
       "</style>\n",
       "<table border=\"1\" class=\"dataframe\">\n",
       "  <thead>\n",
       "    <tr style=\"text-align: right;\">\n",
       "      <th></th>\n",
       "      <th>0</th>\n",
       "    </tr>\n",
       "  </thead>\n",
       "  <tbody>\n",
       "    <tr>\n",
       "      <th>id</th>\n",
       "      <td>https://bbp.epfl.ch/neurosciencegraph/data/neu...</td>\n",
       "    </tr>\n",
       "    <tr>\n",
       "      <th>type</th>\n",
       "      <td>[ReconstructedCell, Entity, NeuronMorphology, ...</td>\n",
       "    </tr>\n",
       "    <tr>\n",
       "      <th>annotation.type</th>\n",
       "      <td>[MType:Annotation, Annotation]</td>\n",
       "    </tr>\n",
       "    <tr>\n",
       "      <th>annotation.hasBody.id</th>\n",
       "      <td>http://bbp.epfl.ch/neurosciencegraph/ontologie...</td>\n",
       "    </tr>\n",
       "    <tr>\n",
       "      <th>annotation.hasBody.type</th>\n",
       "      <td>[MType, AnnotationBody]</td>\n",
       "    </tr>\n",
       "    <tr>\n",
       "      <th>annotation.hasBody.label</th>\n",
       "      <td>SP_PC</td>\n",
       "    </tr>\n",
       "    <tr>\n",
       "      <th>annotation.hasBody.prefLabel</th>\n",
       "      <td>SP_PC</td>\n",
       "    </tr>\n",
       "    <tr>\n",
       "      <th>annotation.name</th>\n",
       "      <td>M-type Annotation</td>\n",
       "    </tr>\n",
       "    <tr>\n",
       "      <th>brainLocation.type</th>\n",
       "      <td>BrainLocation</td>\n",
       "    </tr>\n",
       "    <tr>\n",
       "      <th>brainLocation.brainRegion.id</th>\n",
       "      <td>UBERON:0014548</td>\n",
       "    </tr>\n",
       "    <tr>\n",
       "      <th>brainLocation.brainRegion.label</th>\n",
       "      <td>CA1_SP</td>\n",
       "    </tr>\n",
       "    <tr>\n",
       "      <th>contribution</th>\n",
       "      <td>[{'type': 'Contribution', 'agent': {'id': 'htt...</td>\n",
       "    </tr>\n",
       "    <tr>\n",
       "      <th>derivation</th>\n",
       "      <td>[{'type': 'Derivation', 'entity': {'id': 'http...</td>\n",
       "    </tr>\n",
       "    <tr>\n",
       "      <th>distribution</th>\n",
       "      <td>[{'type': 'DataDownload', 'atLocation': {'type...</td>\n",
       "    </tr>\n",
       "    <tr>\n",
       "      <th>generation.type</th>\n",
       "      <td>Generation</td>\n",
       "    </tr>\n",
       "    <tr>\n",
       "      <th>generation.activity.id</th>\n",
       "      <td>https://bbp.epfl.ch/neurosciencegraph/data/c2c...</td>\n",
       "    </tr>\n",
       "    <tr>\n",
       "      <th>generation.activity.type</th>\n",
       "      <td>Reconstruction</td>\n",
       "    </tr>\n",
       "    <tr>\n",
       "      <th>image.id</th>\n",
       "      <td>https://bbp.epfl.ch/neurosciencegraph/data/d42...</td>\n",
       "    </tr>\n",
       "    <tr>\n",
       "      <th>image.type</th>\n",
       "      <td>Entity</td>\n",
       "    </tr>\n",
       "    <tr>\n",
       "      <th>license.id</th>\n",
       "      <td>https://creativecommons.org/licenses/by/4.0/</td>\n",
       "    </tr>\n",
       "    <tr>\n",
       "      <th>license.type</th>\n",
       "      <td>License</td>\n",
       "    </tr>\n",
       "    <tr>\n",
       "      <th>name</th>\n",
       "      <td>mpg141209_B_idA</td>\n",
       "    </tr>\n",
       "    <tr>\n",
       "      <th>objectOfStudy.id</th>\n",
       "      <td>http://bbp.epfl.ch/neurosciencegraph/taxonomie...</td>\n",
       "    </tr>\n",
       "    <tr>\n",
       "      <th>objectOfStudy.type</th>\n",
       "      <td>ObjectOfStudy</td>\n",
       "    </tr>\n",
       "    <tr>\n",
       "      <th>objectOfStudy.label</th>\n",
       "      <td>Single Cell</td>\n",
       "    </tr>\n",
       "    <tr>\n",
       "      <th>subject.id</th>\n",
       "      <td>https://bbp.epfl.ch/neurosciencegraph/data/sub...</td>\n",
       "    </tr>\n",
       "    <tr>\n",
       "      <th>subject.type</th>\n",
       "      <td>Subject</td>\n",
       "    </tr>\n",
       "    <tr>\n",
       "      <th>url</th>\n",
       "      <td>https://doi.org/10.1371/journal.pcbi.1006423</td>\n",
       "    </tr>\n",
       "    <tr>\n",
       "      <th>_constrainedBy</th>\n",
       "      <td>https://neuroshapes.org/dash/neuronmorphology</td>\n",
       "    </tr>\n",
       "    <tr>\n",
       "      <th>_createdAt</th>\n",
       "      <td>2021-05-17T08:43:07.762Z</td>\n",
       "    </tr>\n",
       "    <tr>\n",
       "      <th>_createdBy</th>\n",
       "      <td>https://bbp.epfl.ch/nexus/v1/realms/bbp/users/...</td>\n",
       "    </tr>\n",
       "    <tr>\n",
       "      <th>_deprecated</th>\n",
       "      <td>False</td>\n",
       "    </tr>\n",
       "    <tr>\n",
       "      <th>_incoming</th>\n",
       "      <td>https://bbp.epfl.ch/nexus/v1/resources/public/...</td>\n",
       "    </tr>\n",
       "    <tr>\n",
       "      <th>_outgoing</th>\n",
       "      <td>https://bbp.epfl.ch/nexus/v1/resources/public/...</td>\n",
       "    </tr>\n",
       "    <tr>\n",
       "      <th>_project</th>\n",
       "      <td>https://bbp.epfl.ch/nexus/v1/projects/public/h...</td>\n",
       "    </tr>\n",
       "    <tr>\n",
       "      <th>_rev</th>\n",
       "      <td>4</td>\n",
       "    </tr>\n",
       "    <tr>\n",
       "      <th>_schemaProject</th>\n",
       "      <td>https://bbp.epfl.ch/nexus/v1/projects/neurosci...</td>\n",
       "    </tr>\n",
       "    <tr>\n",
       "      <th>_self</th>\n",
       "      <td>https://bbp.epfl.ch/nexus/v1/resources/public/...</td>\n",
       "    </tr>\n",
       "    <tr>\n",
       "      <th>_updatedAt</th>\n",
       "      <td>2021-12-01T09:25:03.108Z</td>\n",
       "    </tr>\n",
       "    <tr>\n",
       "      <th>_updatedBy</th>\n",
       "      <td>https://bbp.epfl.ch/nexus/v1/realms/bbp/users/...</td>\n",
       "    </tr>\n",
       "  </tbody>\n",
       "</table>\n",
       "</div>"
      ],
      "text/plain": [
       "                                                                                 0\n",
       "id                               https://bbp.epfl.ch/neurosciencegraph/data/neu...\n",
       "type                             [ReconstructedCell, Entity, NeuronMorphology, ...\n",
       "annotation.type                                     [MType:Annotation, Annotation]\n",
       "annotation.hasBody.id            http://bbp.epfl.ch/neurosciencegraph/ontologie...\n",
       "annotation.hasBody.type                                    [MType, AnnotationBody]\n",
       "annotation.hasBody.label                                                     SP_PC\n",
       "annotation.hasBody.prefLabel                                                 SP_PC\n",
       "annotation.name                                                  M-type Annotation\n",
       "brainLocation.type                                                   BrainLocation\n",
       "brainLocation.brainRegion.id                                        UBERON:0014548\n",
       "brainLocation.brainRegion.label                                             CA1_SP\n",
       "contribution                     [{'type': 'Contribution', 'agent': {'id': 'htt...\n",
       "derivation                       [{'type': 'Derivation', 'entity': {'id': 'http...\n",
       "distribution                     [{'type': 'DataDownload', 'atLocation': {'type...\n",
       "generation.type                                                         Generation\n",
       "generation.activity.id           https://bbp.epfl.ch/neurosciencegraph/data/c2c...\n",
       "generation.activity.type                                            Reconstruction\n",
       "image.id                         https://bbp.epfl.ch/neurosciencegraph/data/d42...\n",
       "image.type                                                                  Entity\n",
       "license.id                            https://creativecommons.org/licenses/by/4.0/\n",
       "license.type                                                               License\n",
       "name                                                               mpg141209_B_idA\n",
       "objectOfStudy.id                 http://bbp.epfl.ch/neurosciencegraph/taxonomie...\n",
       "objectOfStudy.type                                                   ObjectOfStudy\n",
       "objectOfStudy.label                                                    Single Cell\n",
       "subject.id                       https://bbp.epfl.ch/neurosciencegraph/data/sub...\n",
       "subject.type                                                               Subject\n",
       "url                                   https://doi.org/10.1371/journal.pcbi.1006423\n",
       "_constrainedBy                       https://neuroshapes.org/dash/neuronmorphology\n",
       "_createdAt                                                2021-05-17T08:43:07.762Z\n",
       "_createdBy                       https://bbp.epfl.ch/nexus/v1/realms/bbp/users/...\n",
       "_deprecated                                                                  False\n",
       "_incoming                        https://bbp.epfl.ch/nexus/v1/resources/public/...\n",
       "_outgoing                        https://bbp.epfl.ch/nexus/v1/resources/public/...\n",
       "_project                         https://bbp.epfl.ch/nexus/v1/projects/public/h...\n",
       "_rev                                                                             4\n",
       "_schemaProject                   https://bbp.epfl.ch/nexus/v1/projects/neurosci...\n",
       "_self                            https://bbp.epfl.ch/nexus/v1/resources/public/...\n",
       "_updatedAt                                                2021-12-01T09:25:03.108Z\n",
       "_updatedBy                       https://bbp.epfl.ch/nexus/v1/realms/bbp/users/..."
      ]
     },
     "execution_count": 4,
     "metadata": {},
     "output_type": "execute_result"
    }
   ],
   "source": [
    "results = api.get_entities('NeuronMorphology', {'name': 'mpg141209_B_idA'})\n",
    "print(f\"Found {len(results)} matching entries:\")\n",
    "api.as_dataframe(results).T"
   ]
  },
  {
   "cell_type": "markdown",
   "metadata": {},
   "source": [
    "We could have also got the same entry by using the ID of the morphology:"
   ]
  },
  {
   "cell_type": "code",
   "execution_count": 5,
   "metadata": {},
   "outputs": [
    {
     "data": {
      "text/plain": [
       "'mpg141209_B_idA'"
      ]
     },
     "execution_count": 5,
     "metadata": {},
     "output_type": "execute_result"
    }
   ],
   "source": [
    "api.get_entity_by_id('https://bbp.epfl.ch/neurosciencegraph/data/neuronmorphologies/4ea548b4-be79-4c63-beed-041a5081010a').name"
   ]
  },
  {
   "cell_type": "markdown",
   "metadata": {},
   "source": [
    "#### Downloading (instantiating) the Morphology"
   ]
  },
  {
   "cell_type": "markdown",
   "metadata": {},
   "source": [
    "At this point, our `results` are still views of data from the knowledge graph. In the SNAP API, these are represented by the `Entity` class:"
   ]
  },
  {
   "cell_type": "code",
   "execution_count": 6,
   "metadata": {},
   "outputs": [
    {
     "name": "stdout",
     "output_type": "stream",
     "text": [
      "<class 'bluepysnap.api.entity.Entity'>\n"
     ]
    }
   ],
   "source": [
    "entity = results[0] # need to use [0] as get_entities returns a list\n",
    "print(type(entity))"
   ]
  },
  {
   "cell_type": "markdown",
   "metadata": {},
   "source": [
    "To be able to use the morphology, we need to instantiate it. Or, to put it another way, get the morphology instance. `entity.instance` downloads the resource, and opens it with neurom in the background:"
   ]
  },
  {
   "cell_type": "code",
   "execution_count": 7,
   "metadata": {},
   "outputs": [
    {
     "name": "stdout",
     "output_type": "stream",
     "text": [
      "mpg141209_B_idA.swc\n"
     ]
    }
   ],
   "source": [
    "morphology = entity.instance\n",
    "!ls .downloaded_content/"
   ]
  },
  {
   "cell_type": "markdown",
   "metadata": {},
   "source": [
    "We can now use the `morphology` as we normally would in NeuroM:"
   ]
  },
  {
   "cell_type": "code",
   "execution_count": 8,
   "metadata": {},
   "outputs": [
    {
     "data": {
      "image/png": "[encoded data removed]",
      "text/plain": [
       "<Figure size 432x288 with 1 Axes>"
      ]
     },
     "metadata": {
      "needs_background": "light"
     },
     "output_type": "display_data"
    },
    {
     "data": {
      "image/png": "[encoded data removed]",
      "text/plain": [
       "<Figure size 432x288 with 1 Axes>"
      ]
     },
     "metadata": {
      "needs_background": "light"
     },
     "output_type": "display_data"
    }
   ],
   "source": [
    "neurom.view.matplotlib_impl.plot_morph(morphology)\n",
    "fig, ax = neurom.view.matplotlib_utils.get_figure()\n",
    "neurom.view.matplotlib_impl.plot_dendrogram(morphology, ax)"
   ]
  }
 ],
 "metadata": {
  "kernelspec": {
   "display_name": "MMB2022_141",
   "language": "python",
   "name": "mmb2022_141"
  },
  "language_info": {
   "codemirror_mode": {
    "name": "ipython",
    "version": 3
   },
   "file_extension": ".py",
   "mimetype": "text/x-python",
   "name": "python",
   "nbconvert_exporter": "python",
   "pygments_lexer": "ipython3",
   "version": "3.8.3"
  }
 },
 "nbformat": 4,
 "nbformat_minor": 4
}
