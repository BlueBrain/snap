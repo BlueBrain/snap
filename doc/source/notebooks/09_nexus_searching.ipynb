{
 "cells": [
  {
   "cell_type": "markdown",
   "metadata": {},
   "source": [
    "# SNAP - NEXUSFORGE - Searching data\n",
    "\n",
    "### Setup\n",
    "\n",
    "The token can be found in the upper right corner on https://bbp.epfl.ch/nexus/web/ and pasted here"
   ]
  },
  {
   "cell_type": "code",
   "execution_count": 1,
   "metadata": {},
   "outputs": [
    {
     "name": "stdin",
     "output_type": "stream",
     "text": [
      " ···································································································································································································································································································································································································································································································································································································································································································································································································································································································································································································································································································································································································································································································································································································································································································································································································································································································································································································································································································································································································································································································································································································································································································································································································································································································································································································································································································································································································································································································································································································································································································································································································································································································································································································································································\n"
     ]
    }
   ],
   "source": [
    "import getpass\n",
    "from bluepysnap.nexus import NexusHelper\n",
    "\n",
    "BUCKET = \"nse/test\"\n",
    "TOKEN = getpass.getpass()\n",
    "nexus = NexusHelper(BUCKET, TOKEN)"
   ]
  },
  {
   "cell_type": "markdown",
   "metadata": {},
   "source": [
    "### Basic Searching\n",
    "\n",
    "#### Getting a single record from Nexus\n",
    "\n",
    "The most basic use case is getting a Nexus record based on it's ID that can be found on Nexus."
   ]
  },
  {
   "cell_type": "code",
   "execution_count": 2,
   "metadata": {},
   "outputs": [
    {
     "data": {
      "text/plain": [
       "bluepysnap.nexus.entity.Entity"
      ]
     },
     "execution_count": 2,
     "metadata": {},
     "output_type": "execute_result"
    }
   ],
   "source": [
    "record = nexus.get_entity_by_id('https://bbp.epfl.ch/nexus/v1/resources/nse/test/_/20191025')\n",
    "type(record)"
   ]
  },
  {
   "cell_type": "markdown",
   "metadata": {},
   "source": [
    "`record` is a type of `Entity`. We'll cover that in the latter notebooks but for now, the important part is to know that \n",
    "* we found and retrieved the data from Nexus \n",
    "*`get_entity_by_id` returns a __single__ `Entity`.\n",
    "\n",
    "#### Find resources based on their type\n",
    "\n",
    "We can find data based on the data type. For, example, `DetailedCircuit`"
   ]
  },
  {
   "cell_type": "code",
   "execution_count": 3,
   "metadata": {},
   "outputs": [
    {
     "name": "stdout",
     "output_type": "stream",
     "text": [
      "Length: 4\n",
      "Type: <class 'list'>\n",
      "\n"
     ]
    }
   ],
   "source": [
    "records = nexus.get_entities('DetailedCircuit')\n",
    "print(f'Length: {len(records)}\\nType: {type(records)}\\n')"
   ]
  },
  {
   "cell_type": "markdown",
   "metadata": {},
   "source": [
    "Here we can see that we found several records of `DetailedCircuit` and they were returned as a `list` (of `Entity` objects).\n",
    "\n",
    "#### Filtering\n",
    "\n",
    "`NexusHelper.get_entities` also accepts filters as an argument. These filters are passed in a dictionary. For example if we want to find a circuit based on its name __and__ creator we can do it like this:"
   ]
  },
  {
   "cell_type": "code",
   "execution_count": 4,
   "metadata": {},
   "outputs": [
    {
     "name": "stdout",
     "output_type": "stream",
     "text": [
      "Length: 1\n"
     ]
    }
   ],
   "source": [
    "filters = {\n",
    "    \"name\": \"Thalamus microcircuit v3\",\n",
    "    \"createdBy\": \"ivaska\"\n",
    "}\n",
    "records = nexus.get_entities('DetailedCircuit', filters)\n",
    "print(f'Length: {len(records)}')"
   ]
  },
  {
   "cell_type": "markdown",
   "metadata": {},
   "source": [
    "We may also create more complicated search filters that follow the data layout of objects in Nexus.\n",
    "These are performed by having dictionaries inside dictionaries.\n",
    "For example, to find a all circuits that have a brain region labeled as _Thalamus_ in Nexus:"
   ]
  },
  {
   "cell_type": "code",
   "execution_count": 5,
   "metadata": {},
   "outputs": [
    {
     "name": "stdout",
     "output_type": "stream",
     "text": [
      "Length: 4\n"
     ]
    }
   ],
   "source": [
    "filters = {\n",
    "    \"brainLocation\": {\n",
    "        \"brainRegion\": {\n",
    "            \"label\": \"Thalamus\"\n",
    "        }\n",
    "    }\n",
    "}\n",
    "records = nexus.get_entities('DetailedCircuit', filters)\n",
    "print(f'Length: {len(records)}')"
   ]
  },
  {
   "cell_type": "markdown",
   "metadata": {},
   "source": [
    "#### Limiting search results\n",
    "To limit the number of resources returned `nexusforge` provides a `limit` keyword:"
   ]
  },
  {
   "cell_type": "code",
   "execution_count": 6,
   "metadata": {},
   "outputs": [
    {
     "name": "stdout",
     "output_type": "stream",
     "text": [
      "Length: 1\n"
     ]
    }
   ],
   "source": [
    "records = nexus.get_entities('DetailedCircuit', limit=1)\n",
    "print(f'Length: {len(records)}')"
   ]
  },
  {
   "cell_type": "markdown",
   "metadata": {},
   "source": [
    "### Advanced Searching\n",
    "\n",
    "#### \"Look-back\" searches\n",
    "\n",
    "##### __DetailedCircuit.nodeCollection.memodelRelease.morphologyRelease.MorphologyRelease__\n",
    "\n",
    "Above we covered \"look-forward\" search cases such as this (find `DetailedCircuit`s that are linked to a certain morphology release):"
   ]
  },
  {
   "cell_type": "code",
   "execution_count": 7,
   "metadata": {},
   "outputs": [
    {
     "name": "stdout",
     "output_type": "stream",
     "text": [
      "Length: 1\n"
     ]
    }
   ],
   "source": [
    "morphology_release_id = 'https://bbp.epfl.ch/nexus/v1/resources/nse/test/_/O1-20190624_morph_release'\n",
    "filters = {\n",
    "    \"nodeCollection\" : {\n",
    "        \"memodelRelease\": {\n",
    "            \"morphologyRelease\": {\n",
    "                \"id\": morphology_release_id\n",
    "            }\n",
    "        }\n",
    "    }\n",
    "}\n",
    "records = nexus.get_entities('DetailedCircuit', filters)\n",
    "print(f'Length: {len(records)}')"
   ]
  },
  {
   "cell_type": "markdown",
   "metadata": {},
   "source": [
    "Now, let's imagine we want to find morphology releases linked to circuits.\n",
    "We can do that with a \"look-back\" operator `^`:"
   ]
  },
  {
   "cell_type": "code",
   "execution_count": 8,
   "metadata": {},
   "outputs": [
    {
     "name": "stdout",
     "output_type": "stream",
     "text": [
      "Length: 3\n"
     ]
    }
   ],
   "source": [
    "# This might be a bit difficult to understand but if we read it inside out, it's simpler\n",
    "filters = {\n",
    "    \"^morphologyRelease\": {               # (4) ...that that is linked to a morphology release.\n",
    "        \"^memodelRelease\": {              # (3) ...that is linked to a ME model release...\n",
    "            \"^nodeCollection\": {          # (2) ...is linked to a node collection...\n",
    "                \"type\": \"DetailedCircuit\" # (1) Circuit...\n",
    "            },\n",
    "        },\n",
    "    }}\n",
    "records = nexus.get_entities('MorphologyRelease', filters) # (5) Get those morphology releases.\n",
    "print(f'Length: {len(records)}')"
   ]
  },
  {
   "cell_type": "markdown",
   "metadata": {},
   "source": [
    "##### __SimulationCampaign.used.DetailedCircuit__\n",
    "Let's have another example. A \"look-forward\" search is for `SimulationCampaign`s that use a certain circuit:"
   ]
  },
  {
   "cell_type": "code",
   "execution_count": 9,
   "metadata": {},
   "outputs": [
    {
     "name": "stdout",
     "output_type": "stream",
     "text": [
      "Length: 5\n"
     ]
    }
   ],
   "source": [
    "circuit_id = 'https://bbp.epfl.ch/nexus/v1/resources/nse/test/_/O0-20180419'\n",
    "filters = {\n",
    "    \"used\": {\n",
    "        \"id\": circuit_id\n",
    "    }\n",
    "}\n",
    "records = nexus.get_entities('SimulationCampaign', filters)\n",
    "print(f'Length: {len(records)}')"
   ]
  },
  {
   "cell_type": "markdown",
   "metadata": {},
   "source": [
    "And similar \"look-back\" search would be finding the `DetailedCircuit` that is used by a certain simulation campaign (notice the `^` prefix in `used`):"
   ]
  },
  {
   "cell_type": "code",
   "execution_count": 10,
   "metadata": {},
   "outputs": [
    {
     "name": "stdout",
     "output_type": "stream",
     "text": [
      "Length: 1\n"
     ]
    }
   ],
   "source": [
    "simulation_campaign_id = 'https://bbp.epfl.ch/nexus/v1/resources/nse/test/_/ivaska.SimulationCampaignNexusTask_entity_managemen_https___bbp_epfl__gpfs_bbp_cscs_c_4b174cc572'\n",
    "filters = {\n",
    "    \"^used\": {                       # (2) is using (is linked to \"used\", that is linked to)...\n",
    "        \"id\": simulation_campaign_id # (1) Something that has this id...\n",
    "    }\n",
    "}\n",
    "records = nexus.get_entities('DetailedCircuit', filters) # (3) ...the DetailedCircuit we want to find.\n",
    "print(f'Length: {len(records)}')"
   ]
  }
 ],
 "metadata": {
  "kernelspec": {
   "display_name": "mmb2022_193",
   "language": "python",
   "name": "mmb2022_193"
  },
  "language_info": {
   "codemirror_mode": {
    "name": "ipython",
    "version": 3
   },
   "file_extension": ".py",
   "mimetype": "text/x-python",
   "name": "python",
   "nbconvert_exporter": "python",
   "pygments_lexer": "ipython3",
   "version": "3.9.7"
  }
 },
 "nbformat": 4,
 "nbformat_minor": 4
}
