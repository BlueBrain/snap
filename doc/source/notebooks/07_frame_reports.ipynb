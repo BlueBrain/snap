{
 "cells": [
  {
   "cell_type": "markdown",
   "metadata": {},
   "source": [
    "# Frame Report\n",
    "## Introduction\n",
    "In this tutorial we cover how to inspect a frame report using BlueBrain SNAP and access its properties."
   ]
  },
  {
   "cell_type": "markdown",
   "metadata": {},
   "source": [
    "We start by importing the `bluepysnap` package:"
   ]
  },
  {
   "cell_type": "code",
   "execution_count": 1,
   "metadata": {},
   "outputs": [],
   "source": [
    "import bluepysnap"
   ]
  },
  {
   "cell_type": "markdown",
   "metadata": {},
   "source": [
    "## Loading\n",
    "In order to load the simulation data, we need the path to the file."
   ]
  },
  {
   "cell_type": "code",
   "execution_count": 2,
   "metadata": {},
   "outputs": [],
   "source": [
    "simulation_path = \"/gpfs/bbp.cscs.ch/project/proj12/NSE/bluepysnap-functional-tests/simulation_config_bluepy_examples.json\"\n",
    "simulation = bluepysnap.Simulation(simulation_path)"
   ]
  },
  {
   "cell_type": "markdown",
   "metadata": {},
   "source": [
    "There are two different possible report types `'soma_report'` and `'compartment_report'`. In this tutorial, we only work with `'soma_report'` but they work exactly in the same way. Available frame reports can be shown with"
   ]
  },
  {
   "cell_type": "code",
   "execution_count": 3,
   "metadata": {},
   "outputs": [
    {
     "data": {
      "text/plain": [
       "{'soma_report': <bluepysnap.frame_report.SomaReport at 0x2aaab6be5610>}"
      ]
     },
     "execution_count": 3,
     "metadata": {},
     "output_type": "execute_result"
    }
   ],
   "source": [
    "simulation.reports"
   ]
  },
  {
   "cell_type": "markdown",
   "metadata": {},
   "source": [
    "Accessing the reports is straightforward"
   ]
  },
  {
   "cell_type": "code",
   "execution_count": 4,
   "metadata": {},
   "outputs": [],
   "source": [
    "soma_report = simulation.reports['soma_report']"
   ]
  },
  {
   "cell_type": "markdown",
   "metadata": {},
   "source": [
    "## Timing"
   ]
  },
  {
   "cell_type": "markdown",
   "metadata": {},
   "source": [
    "As with the `Simulation` instance, it's easy to access report start and end time, as well as the time step (dt) and time_units"
   ]
  },
  {
   "cell_type": "code",
   "execution_count": 5,
   "metadata": {},
   "outputs": [
    {
     "name": "stderr",
     "output_type": "stream",
     "text": [
      "dt from the report differs from the global simulation dt.\n"
     ]
    },
    {
     "name": "stdout",
     "output_type": "stream",
     "text": [
      "0.0 1000.0 0.1 ms\n"
     ]
    }
   ],
   "source": [
    "print(\n",
    "    soma_report.time_start, \n",
    "    soma_report.time_stop, \n",
    "    soma_report.dt,\n",
    "    soma_report.time_units\n",
    ")  # Gives a warning in case the dt differs from simulation.dt"
   ]
  },
  {
   "cell_type": "markdown",
   "metadata": {},
   "source": [
    "## Populations\n",
    "If we are interested in the populations in frame report, they can be shown with"
   ]
  },
  {
   "cell_type": "code",
   "execution_count": 6,
   "metadata": {},
   "outputs": [
    {
     "data": {
      "text/plain": [
       "['hippocampus_neurons']"
      ]
     },
     "execution_count": 6,
     "metadata": {},
     "output_type": "execute_result"
    }
   ],
   "source": [
    "soma_report.population_names"
   ]
  },
  {
   "cell_type": "code",
   "execution_count": 7,
   "metadata": {},
   "outputs": [
    {
     "name": "stdout",
     "output_type": "stream",
     "text": [
      "<class 'bluepysnap.frame_report.PopulationSomaReport'>\n"
     ]
    }
   ],
   "source": [
    "soma_pop = soma_report['hippocampus_neurons']\n",
    "print(type(soma_pop))"
   ]
  },
  {
   "cell_type": "markdown",
   "metadata": {},
   "source": [
    "Accessing the actual NodePopulation from the report can be done with"
   ]
  },
  {
   "cell_type": "code",
   "execution_count": 8,
   "metadata": {},
   "outputs": [
    {
     "name": "stdout",
     "output_type": "stream",
     "text": [
      "hippocampus_neurons: <class 'bluepysnap.nodes.node_population.NodePopulation'>\n"
     ]
    }
   ],
   "source": [
    "node_population = soma_pop.nodes\n",
    "print(f'{node_population.name}: {type(node_population)}')"
   ]
  },
  {
   "cell_type": "markdown",
   "metadata": {},
   "source": [
    "## Node IDs\n",
    "Accessing the node_ids in the report and getting their info is the same as in the SpikeReport"
   ]
  },
  {
   "cell_type": "code",
   "execution_count": 9,
   "metadata": {},
   "outputs": [
    {
     "data": {
      "text/html": [
       "<div>\n",
       "<style scoped>\n",
       "    .dataframe tbody tr th:only-of-type {\n",
       "        vertical-align: middle;\n",
       "    }\n",
       "\n",
       "    .dataframe tbody tr th {\n",
       "        vertical-align: top;\n",
       "    }\n",
       "\n",
       "    .dataframe thead th {\n",
       "        text-align: right;\n",
       "    }\n",
       "</style>\n",
       "<table border=\"1\" class=\"dataframe\">\n",
       "  <thead>\n",
       "    <tr style=\"text-align: right;\">\n",
       "      <th></th>\n",
       "      <th>layer</th>\n",
       "      <th>synapse_class</th>\n",
       "      <th>x</th>\n",
       "      <th>y</th>\n",
       "      <th>z</th>\n",
       "    </tr>\n",
       "  </thead>\n",
       "  <tbody>\n",
       "    <tr>\n",
       "      <th>0</th>\n",
       "      <td>SLM</td>\n",
       "      <td>INH</td>\n",
       "      <td>409.446689</td>\n",
       "      <td>525.218483</td>\n",
       "      <td>1074.146619</td>\n",
       "    </tr>\n",
       "    <tr>\n",
       "      <th>1</th>\n",
       "      <td>SLM</td>\n",
       "      <td>INH</td>\n",
       "      <td>692.961402</td>\n",
       "      <td>511.187277</td>\n",
       "      <td>573.179832</td>\n",
       "    </tr>\n",
       "    <tr>\n",
       "      <th>2</th>\n",
       "      <td>SLM</td>\n",
       "      <td>INH</td>\n",
       "      <td>624.142630</td>\n",
       "      <td>520.641475</td>\n",
       "      <td>976.924721</td>\n",
       "    </tr>\n",
       "    <tr>\n",
       "      <th>3</th>\n",
       "      <td>SR</td>\n",
       "      <td>INH</td>\n",
       "      <td>430.543380</td>\n",
       "      <td>411.999965</td>\n",
       "      <td>1180.185218</td>\n",
       "    </tr>\n",
       "    <tr>\n",
       "      <th>4</th>\n",
       "      <td>SR</td>\n",
       "      <td>INH</td>\n",
       "      <td>427.936977</td>\n",
       "      <td>302.239247</td>\n",
       "      <td>1013.453517</td>\n",
       "    </tr>\n",
       "  </tbody>\n",
       "</table>\n",
       "</div>"
      ],
      "text/plain": [
       "  layer synapse_class           x           y            z\n",
       "0   SLM           INH  409.446689  525.218483  1074.146619\n",
       "1   SLM           INH  692.961402  511.187277   573.179832\n",
       "2   SLM           INH  624.142630  520.641475   976.924721\n",
       "3    SR           INH  430.543380  411.999965  1180.185218\n",
       "4    SR           INH  427.936977  302.239247  1013.453517"
      ]
     },
     "execution_count": 9,
     "metadata": {},
     "output_type": "execute_result"
    }
   ],
   "source": [
    "ids = soma_pop.node_ids\n",
    "node_population.get(ids, properties=['layer','synapse_class','x','y','z']).head()"
   ]
  },
  {
   "cell_type": "markdown",
   "metadata": {},
   "source": [
    "## Filtering\n",
    "We can filter the report the same way as in SpikeReport. Just as in SpikeReport, the index are different moments of time. Please note that this time, as there is more data in the output, the columns represent the population names and the ids."
   ]
  },
  {
   "cell_type": "code",
   "execution_count": 10,
   "metadata": {},
   "outputs": [
    {
     "data": {
      "text/html": [
       "<div>\n",
       "<style scoped>\n",
       "    .dataframe tbody tr th:only-of-type {\n",
       "        vertical-align: middle;\n",
       "    }\n",
       "\n",
       "    .dataframe tbody tr th {\n",
       "        vertical-align: top;\n",
       "    }\n",
       "\n",
       "    .dataframe thead tr th {\n",
       "        text-align: left;\n",
       "    }\n",
       "</style>\n",
       "<table border=\"1\" class=\"dataframe\">\n",
       "  <thead>\n",
       "    <tr>\n",
       "      <th></th>\n",
       "      <th colspan=\"21\" halign=\"left\">hippocampus_neurons</th>\n",
       "    </tr>\n",
       "    <tr>\n",
       "      <th></th>\n",
       "      <th>36</th>\n",
       "      <th>37</th>\n",
       "      <th>38</th>\n",
       "      <th>39</th>\n",
       "      <th>40</th>\n",
       "      <th>41</th>\n",
       "      <th>42</th>\n",
       "      <th>43</th>\n",
       "      <th>44</th>\n",
       "      <th>45</th>\n",
       "      <th>...</th>\n",
       "      <th>18028</th>\n",
       "      <th>18029</th>\n",
       "      <th>18030</th>\n",
       "      <th>18031</th>\n",
       "      <th>18032</th>\n",
       "      <th>18033</th>\n",
       "      <th>18034</th>\n",
       "      <th>18035</th>\n",
       "      <th>18036</th>\n",
       "      <th>18037</th>\n",
       "    </tr>\n",
       "  </thead>\n",
       "  <tbody>\n",
       "    <tr>\n",
       "      <th>1.0</th>\n",
       "      <td>-64.495819</td>\n",
       "      <td>-63.987568</td>\n",
       "      <td>-62.878498</td>\n",
       "      <td>-63.299671</td>\n",
       "      <td>-65.634201</td>\n",
       "      <td>-69.895012</td>\n",
       "      <td>-60.940189</td>\n",
       "      <td>-64.212494</td>\n",
       "      <td>-65.128319</td>\n",
       "      <td>-65.810913</td>\n",
       "      <td>...</td>\n",
       "      <td>-62.824352</td>\n",
       "      <td>-69.909012</td>\n",
       "      <td>-58.932209</td>\n",
       "      <td>-69.869728</td>\n",
       "      <td>-63.633045</td>\n",
       "      <td>-62.883789</td>\n",
       "      <td>-67.959328</td>\n",
       "      <td>-67.936882</td>\n",
       "      <td>-63.578728</td>\n",
       "      <td>-65.507950</td>\n",
       "    </tr>\n",
       "    <tr>\n",
       "      <th>1.1</th>\n",
       "      <td>-64.667297</td>\n",
       "      <td>-64.153236</td>\n",
       "      <td>-63.007919</td>\n",
       "      <td>-63.403816</td>\n",
       "      <td>-65.700539</td>\n",
       "      <td>-69.863594</td>\n",
       "      <td>-61.141182</td>\n",
       "      <td>-64.390297</td>\n",
       "      <td>-65.280983</td>\n",
       "      <td>-65.886642</td>\n",
       "      <td>...</td>\n",
       "      <td>-63.159550</td>\n",
       "      <td>-70.017754</td>\n",
       "      <td>-59.412067</td>\n",
       "      <td>-69.980461</td>\n",
       "      <td>-63.979340</td>\n",
       "      <td>-63.340405</td>\n",
       "      <td>-68.112579</td>\n",
       "      <td>-68.085899</td>\n",
       "      <td>-63.905514</td>\n",
       "      <td>-65.812584</td>\n",
       "    </tr>\n",
       "    <tr>\n",
       "      <th>1.2</th>\n",
       "      <td>-64.836189</td>\n",
       "      <td>-64.316284</td>\n",
       "      <td>-63.137890</td>\n",
       "      <td>-63.507111</td>\n",
       "      <td>-65.766029</td>\n",
       "      <td>-69.833801</td>\n",
       "      <td>-61.339825</td>\n",
       "      <td>-64.564308</td>\n",
       "      <td>-65.428932</td>\n",
       "      <td>-65.961830</td>\n",
       "      <td>...</td>\n",
       "      <td>-63.481346</td>\n",
       "      <td>-70.124634</td>\n",
       "      <td>-59.878464</td>\n",
       "      <td>-70.089333</td>\n",
       "      <td>-64.307793</td>\n",
       "      <td>-63.783619</td>\n",
       "      <td>-68.260345</td>\n",
       "      <td>-68.229614</td>\n",
       "      <td>-64.216225</td>\n",
       "      <td>-66.099930</td>\n",
       "    </tr>\n",
       "    <tr>\n",
       "      <th>1.3</th>\n",
       "      <td>-65.002808</td>\n",
       "      <td>-64.477020</td>\n",
       "      <td>-63.268269</td>\n",
       "      <td>-63.609692</td>\n",
       "      <td>-65.830833</td>\n",
       "      <td>-69.805328</td>\n",
       "      <td>-61.536880</td>\n",
       "      <td>-64.734985</td>\n",
       "      <td>-65.572899</td>\n",
       "      <td>-66.036568</td>\n",
       "      <td>...</td>\n",
       "      <td>-63.791656</td>\n",
       "      <td>-70.229721</td>\n",
       "      <td>-60.331379</td>\n",
       "      <td>-70.196411</td>\n",
       "      <td>-64.620468</td>\n",
       "      <td>-64.214165</td>\n",
       "      <td>-68.403145</td>\n",
       "      <td>-68.368538</td>\n",
       "      <td>-64.512779</td>\n",
       "      <td>-66.372002</td>\n",
       "    </tr>\n",
       "    <tr>\n",
       "      <th>1.4</th>\n",
       "      <td>-65.167358</td>\n",
       "      <td>-64.635651</td>\n",
       "      <td>-63.398903</td>\n",
       "      <td>-63.711647</td>\n",
       "      <td>-65.895073</td>\n",
       "      <td>-69.777985</td>\n",
       "      <td>-61.732819</td>\n",
       "      <td>-64.902641</td>\n",
       "      <td>-65.713432</td>\n",
       "      <td>-66.110916</td>\n",
       "      <td>...</td>\n",
       "      <td>-64.091980</td>\n",
       "      <td>-70.333076</td>\n",
       "      <td>-60.771034</td>\n",
       "      <td>-70.301758</td>\n",
       "      <td>-64.919052</td>\n",
       "      <td>-64.632706</td>\n",
       "      <td>-68.541420</td>\n",
       "      <td>-68.503098</td>\n",
       "      <td>-64.796761</td>\n",
       "      <td>-66.630463</td>\n",
       "    </tr>\n",
       "  </tbody>\n",
       "</table>\n",
       "<p>5 rows × 18002 columns</p>\n",
       "</div>"
      ],
      "text/plain": [
       "    hippocampus_neurons                                              \\\n",
       "                  36         37         38         39         40      \n",
       "1.0          -64.495819 -63.987568 -62.878498 -63.299671 -65.634201   \n",
       "1.1          -64.667297 -64.153236 -63.007919 -63.403816 -65.700539   \n",
       "1.2          -64.836189 -64.316284 -63.137890 -63.507111 -65.766029   \n",
       "1.3          -65.002808 -64.477020 -63.268269 -63.609692 -65.830833   \n",
       "1.4          -65.167358 -64.635651 -63.398903 -63.711647 -65.895073   \n",
       "\n",
       "                                                            ...             \\\n",
       "         41         42         43         44         45     ...      18028   \n",
       "1.0 -69.895012 -60.940189 -64.212494 -65.128319 -65.810913  ... -62.824352   \n",
       "1.1 -69.863594 -61.141182 -64.390297 -65.280983 -65.886642  ... -63.159550   \n",
       "1.2 -69.833801 -61.339825 -64.564308 -65.428932 -65.961830  ... -63.481346   \n",
       "1.3 -69.805328 -61.536880 -64.734985 -65.572899 -66.036568  ... -63.791656   \n",
       "1.4 -69.777985 -61.732819 -64.902641 -65.713432 -66.110916  ... -64.091980   \n",
       "\n",
       "                                                                       \\\n",
       "         18029      18030      18031      18032      18033      18034   \n",
       "1.0 -69.909012 -58.932209 -69.869728 -63.633045 -62.883789 -67.959328   \n",
       "1.1 -70.017754 -59.412067 -69.980461 -63.979340 -63.340405 -68.112579   \n",
       "1.2 -70.124634 -59.878464 -70.089333 -64.307793 -63.783619 -68.260345   \n",
       "1.3 -70.229721 -60.331379 -70.196411 -64.620468 -64.214165 -68.403145   \n",
       "1.4 -70.333076 -60.771034 -70.301758 -64.919052 -64.632706 -68.541420   \n",
       "\n",
       "                                      \n",
       "         18035      18036      18037  \n",
       "1.0 -67.936882 -63.578728 -65.507950  \n",
       "1.1 -68.085899 -63.905514 -65.812584  \n",
       "1.2 -68.229614 -64.216225 -66.099930  \n",
       "1.3 -68.368538 -64.512779 -66.372002  \n",
       "1.4 -68.503098 -64.796761 -66.630463  \n",
       "\n",
       "[5 rows x 18002 columns]"
      ]
     },
     "execution_count": 10,
     "metadata": {},
     "output_type": "execute_result"
    }
   ],
   "source": [
    "filtered = soma_report.filter(group={'layer':'SP'}, t_start=1, t_stop=100)\n",
    "filtered.report.head()"
   ]
  },
  {
   "cell_type": "markdown",
   "metadata": {},
   "source": [
    "## Plotting\n",
    "Frame reports can only do trace plots. Again, we can only plot filtered data"
   ]
  },
  {
   "cell_type": "code",
   "execution_count": 11,
   "metadata": {},
   "outputs": [
    {
     "data": {
      "image/png": "[encoded data removed]",
      "text/plain": [
       "<Figure size 640x480 with 1 Axes>"
      ]
     },
     "metadata": {},
     "output_type": "display_data"
    }
   ],
   "source": [
    "filtered.trace();"
   ]
  },
  {
   "cell_type": "markdown",
   "metadata": {},
   "source": [
    "And of course, calling `filter` without arguments provides all available data"
   ]
  },
  {
   "cell_type": "code",
   "execution_count": 12,
   "metadata": {},
   "outputs": [
    {
     "data": {
      "image/png": "[encoded data removed]",
      "text/plain": [
       "<Figure size 640x480 with 1 Axes>"
      ]
     },
     "metadata": {},
     "output_type": "display_data"
    }
   ],
   "source": [
    "soma_report.filter().trace();"
   ]
  },
  {
   "cell_type": "markdown",
   "metadata": {},
   "source": [
    "## Reading the log\n",
    "Not applicable to `FrameReport`s"
   ]
  },
  {
   "cell_type": "markdown",
   "metadata": {},
   "source": [
    "## Conclusion\n",
    "We introduced how frame reports can be accessed and plotted with `bluepysnap`. This concludes the basic usage tutorials."
   ]
  }
 ],
 "metadata": {
  "kernelspec": {
   "display_name": "Python3",
   "language": "python",
   "name": "python3"
  },
  "language_info": {
   "codemirror_mode": {
    "name": "ipython",
    "version": 3
   },
   "file_extension": ".py",
   "mimetype": "text/x-python",
   "name": "python",
   "nbconvert_exporter": "python",
   "pygments_lexer": "ipython3",
   "version": "3.9.7"
  }
 },
 "nbformat": 4,
 "nbformat_minor": 2
}
