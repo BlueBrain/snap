{
 "cells": [
  {
   "cell_type": "markdown",
   "metadata": {},
   "source": [
    "# Frame Report\n",
    "## Introduction\n",
    "In this tutorial we cover how to inspect a frame report using BlueBrain SNAP and access its properties."
   ]
  },
  {
   "cell_type": "markdown",
   "metadata": {},
   "source": [
    "We start by importing the `bluepysnap` package:"
   ]
  },
  {
   "cell_type": "code",
   "execution_count": 1,
   "metadata": {},
   "outputs": [],
   "source": [
    "import bluepysnap"
   ]
  },
  {
   "cell_type": "markdown",
   "metadata": {},
   "source": [
    "## Loading\n",
    "In order to load the simulation data, we need the path to the file."
   ]
  },
  {
   "cell_type": "code",
   "execution_count": 2,
   "metadata": {},
   "outputs": [
    {
     "name": "stdin",
     "output_type": "stream",
     "text": [
      "Token:  ·····································································································································································································································································································································································································································································································································································································································································································································································································································································································································································································································································································································································································································································································································································································································································································································································································································································································································································································································································································································································································································································································································································································································································································································································································································································································································································································································································································································································································································································································································································································································································································································································································································································································\n"
     ]
    }
   ],
   "source": [
    "from bluepyentity.nexus import NexusHelper\n",
    "from bluepyentity.token import get_token\n",
    "\n",
    "nexus = NexusHelper(token=get_token('production'), bucket='nse/test2')\n",
    "simulation_id = 'https://bbp.epfl.ch/nexus/v1/resources/nse/test2/_/ec23054c-57cb-4095-b1ec-ae39dfacb205'\n",
    "simulation_entity = nexus.get_entity_by_id(simulation_id)\n",
    "simulation_path = simulation_entity.simulationConfigPath.url.replace('file://', '')"
   ]
  },
  {
   "cell_type": "markdown",
   "metadata": {},
   "source": [
    "For the above to work, `bluepyentity` needs to be installed\n",
    "\n",
    "We can now open the simulation:"
   ]
  },
  {
   "cell_type": "code",
   "execution_count": 3,
   "metadata": {},
   "outputs": [],
   "source": [
    "simulation = bluepysnap.Simulation(simulation_path)"
   ]
  },
  {
   "cell_type": "markdown",
   "metadata": {},
   "source": [
    "There are two different possible report types `'soma_report'` and `'compartment_report'`. In this tutorial, we only work with `'soma_report'` but they work exactly in the same way. Available frame reports can be shown with"
   ]
  },
  {
   "cell_type": "code",
   "execution_count": 4,
   "metadata": {},
   "outputs": [
    {
     "data": {
      "text/plain": [
       "{'soma_report': <bluepysnap.frame_report.SomaReport at 0x2aaaf090bd00>}"
      ]
     },
     "execution_count": 4,
     "metadata": {},
     "output_type": "execute_result"
    }
   ],
   "source": [
    "simulation.reports"
   ]
  },
  {
   "cell_type": "markdown",
   "metadata": {},
   "source": [
    "Accessing the reports is straightforward"
   ]
  },
  {
   "cell_type": "code",
   "execution_count": 5,
   "metadata": {},
   "outputs": [],
   "source": [
    "soma_report = simulation.reports['soma_report']"
   ]
  },
  {
   "cell_type": "markdown",
   "metadata": {},
   "source": [
    "## Timing"
   ]
  },
  {
   "cell_type": "markdown",
   "metadata": {},
   "source": [
    "As with the `Simulation` instance, it's easy to access report start and end time, as well as the time step (dt) and time_units"
   ]
  },
  {
   "cell_type": "code",
   "execution_count": 6,
   "metadata": {},
   "outputs": [
    {
     "name": "stderr",
     "output_type": "stream",
     "text": [
      "dt from the report differs from the global simulation dt.\n"
     ]
    },
    {
     "name": "stdout",
     "output_type": "stream",
     "text": [
      "0.0 4000.0 0.1 ms\n"
     ]
    }
   ],
   "source": [
    "print(\n",
    "    soma_report.time_start, \n",
    "    soma_report.time_stop, \n",
    "    soma_report.dt,\n",
    "    soma_report.time_units\n",
    ")  # Gives a warning in case the dt differs from simulation.dt"
   ]
  },
  {
   "cell_type": "markdown",
   "metadata": {},
   "source": [
    "## Populations\n",
    "If we are interested in the populations in frame report, they can be shown with"
   ]
  },
  {
   "cell_type": "code",
   "execution_count": 7,
   "metadata": {},
   "outputs": [
    {
     "data": {
      "text/plain": [
       "['thalamus_neurons']"
      ]
     },
     "execution_count": 7,
     "metadata": {},
     "output_type": "execute_result"
    }
   ],
   "source": [
    "soma_report.population_names"
   ]
  },
  {
   "cell_type": "code",
   "execution_count": 8,
   "metadata": {},
   "outputs": [
    {
     "name": "stdout",
     "output_type": "stream",
     "text": [
      "<class 'bluepysnap.frame_report.PopulationSomaReport'>\n"
     ]
    }
   ],
   "source": [
    "soma_pop = soma_report['thalamus_neurons']\n",
    "print(type(soma_pop))"
   ]
  },
  {
   "cell_type": "markdown",
   "metadata": {},
   "source": [
    "Accessing the actual NodePopulation from the report can be done with"
   ]
  },
  {
   "cell_type": "code",
   "execution_count": 9,
   "metadata": {},
   "outputs": [
    {
     "name": "stdout",
     "output_type": "stream",
     "text": [
      "thalamus_neurons: <class 'bluepysnap.nodes.NodePopulation'>\n"
     ]
    }
   ],
   "source": [
    "node_population = soma_pop.nodes\n",
    "print(f'{node_population.name}: {type(node_population)}')"
   ]
  },
  {
   "cell_type": "markdown",
   "metadata": {},
   "source": [
    "## Node IDs\n",
    "Accessing the node_ids in the report and getting their info is the same as in the SpikeReport"
   ]
  },
  {
   "cell_type": "code",
   "execution_count": 10,
   "metadata": {},
   "outputs": [
    {
     "data": {
      "text/html": [
       "<div>\n",
       "<style scoped>\n",
       "    .dataframe tbody tr th:only-of-type {\n",
       "        vertical-align: middle;\n",
       "    }\n",
       "\n",
       "    .dataframe tbody tr th {\n",
       "        vertical-align: top;\n",
       "    }\n",
       "\n",
       "    .dataframe thead th {\n",
       "        text-align: right;\n",
       "    }\n",
       "</style>\n",
       "<table border=\"1\" class=\"dataframe\">\n",
       "  <thead>\n",
       "    <tr style=\"text-align: right;\">\n",
       "      <th></th>\n",
       "      <th>layer</th>\n",
       "      <th>synapse_class</th>\n",
       "      <th>x</th>\n",
       "      <th>y</th>\n",
       "      <th>z</th>\n",
       "    </tr>\n",
       "  </thead>\n",
       "  <tbody>\n",
       "    <tr>\n",
       "      <th>28603</th>\n",
       "      <td>Rt</td>\n",
       "      <td>INH</td>\n",
       "      <td>175.000000</td>\n",
       "      <td>575.000000</td>\n",
       "      <td>825.000000</td>\n",
       "    </tr>\n",
       "    <tr>\n",
       "      <th>28604</th>\n",
       "      <td>Rt</td>\n",
       "      <td>INH</td>\n",
       "      <td>174.722839</td>\n",
       "      <td>574.845825</td>\n",
       "      <td>862.642334</td>\n",
       "    </tr>\n",
       "    <tr>\n",
       "      <th>28605</th>\n",
       "      <td>Rt</td>\n",
       "      <td>INH</td>\n",
       "      <td>196.455246</td>\n",
       "      <td>556.426147</td>\n",
       "      <td>810.983032</td>\n",
       "    </tr>\n",
       "    <tr>\n",
       "      <th>28606</th>\n",
       "      <td>Rt</td>\n",
       "      <td>INH</td>\n",
       "      <td>171.278717</td>\n",
       "      <td>595.117554</td>\n",
       "      <td>830.635132</td>\n",
       "    </tr>\n",
       "    <tr>\n",
       "      <th>28607</th>\n",
       "      <td>Rt</td>\n",
       "      <td>INH</td>\n",
       "      <td>173.007538</td>\n",
       "      <td>552.684753</td>\n",
       "      <td>837.944153</td>\n",
       "    </tr>\n",
       "  </tbody>\n",
       "</table>\n",
       "</div>"
      ],
      "text/plain": [
       "      layer synapse_class           x           y           z\n",
       "28603    Rt           INH  175.000000  575.000000  825.000000\n",
       "28604    Rt           INH  174.722839  574.845825  862.642334\n",
       "28605    Rt           INH  196.455246  556.426147  810.983032\n",
       "28606    Rt           INH  171.278717  595.117554  830.635132\n",
       "28607    Rt           INH  173.007538  552.684753  837.944153"
      ]
     },
     "execution_count": 10,
     "metadata": {},
     "output_type": "execute_result"
    }
   ],
   "source": [
    "ids = soma_pop.node_ids\n",
    "node_population.get(ids, properties=['layer','synapse_class','x','y','z']).head()"
   ]
  },
  {
   "cell_type": "markdown",
   "metadata": {},
   "source": [
    "## Filtering\n",
    "We can filter the report the same way as in SpikeReport. Just as in SpikeReport, the index are different moments of time. Please note that this time, as there is more data in the output, the columns represent the population names and the ids."
   ]
  },
  {
   "cell_type": "code",
   "execution_count": 11,
   "metadata": {},
   "outputs": [
    {
     "data": {
      "text/html": [
       "<div>\n",
       "<style scoped>\n",
       "    .dataframe tbody tr th:only-of-type {\n",
       "        vertical-align: middle;\n",
       "    }\n",
       "\n",
       "    .dataframe tbody tr th {\n",
       "        vertical-align: top;\n",
       "    }\n",
       "\n",
       "    .dataframe thead tr th {\n",
       "        text-align: left;\n",
       "    }\n",
       "</style>\n",
       "<table border=\"1\" class=\"dataframe\">\n",
       "  <thead>\n",
       "    <tr>\n",
       "      <th></th>\n",
       "      <th colspan=\"21\" halign=\"left\">thalamus_neurons</th>\n",
       "    </tr>\n",
       "    <tr>\n",
       "      <th></th>\n",
       "      <th>33512</th>\n",
       "      <th>33513</th>\n",
       "      <th>33514</th>\n",
       "      <th>33515</th>\n",
       "      <th>33516</th>\n",
       "      <th>33517</th>\n",
       "      <th>33518</th>\n",
       "      <th>33519</th>\n",
       "      <th>33520</th>\n",
       "      <th>33521</th>\n",
       "      <th>...</th>\n",
       "      <th>42501</th>\n",
       "      <th>42502</th>\n",
       "      <th>42503</th>\n",
       "      <th>42504</th>\n",
       "      <th>42505</th>\n",
       "      <th>42506</th>\n",
       "      <th>42507</th>\n",
       "      <th>42508</th>\n",
       "      <th>42509</th>\n",
       "      <th>42510</th>\n",
       "    </tr>\n",
       "  </thead>\n",
       "  <tbody>\n",
       "    <tr>\n",
       "      <th>1.0</th>\n",
       "      <td>-74.458168</td>\n",
       "      <td>-74.353897</td>\n",
       "      <td>-74.407280</td>\n",
       "      <td>-74.826347</td>\n",
       "      <td>-74.513786</td>\n",
       "      <td>-74.834801</td>\n",
       "      <td>-74.550163</td>\n",
       "      <td>-74.840492</td>\n",
       "      <td>-74.551132</td>\n",
       "      <td>-74.423920</td>\n",
       "      <td>...</td>\n",
       "      <td>-72.251991</td>\n",
       "      <td>-72.316010</td>\n",
       "      <td>-69.872650</td>\n",
       "      <td>-72.316315</td>\n",
       "      <td>-71.735054</td>\n",
       "      <td>-70.071548</td>\n",
       "      <td>-72.444283</td>\n",
       "      <td>-72.051361</td>\n",
       "      <td>-71.883942</td>\n",
       "      <td>-72.408302</td>\n",
       "    </tr>\n",
       "    <tr>\n",
       "      <th>1.1</th>\n",
       "      <td>-74.472755</td>\n",
       "      <td>-74.352470</td>\n",
       "      <td>-74.407257</td>\n",
       "      <td>-74.826767</td>\n",
       "      <td>-74.514107</td>\n",
       "      <td>-74.848991</td>\n",
       "      <td>-74.549896</td>\n",
       "      <td>-74.840828</td>\n",
       "      <td>-74.551613</td>\n",
       "      <td>-74.424820</td>\n",
       "      <td>...</td>\n",
       "      <td>-72.252808</td>\n",
       "      <td>-72.338921</td>\n",
       "      <td>-69.872887</td>\n",
       "      <td>-72.315331</td>\n",
       "      <td>-71.736496</td>\n",
       "      <td>-70.069359</td>\n",
       "      <td>-72.444283</td>\n",
       "      <td>-72.049881</td>\n",
       "      <td>-71.882034</td>\n",
       "      <td>-72.407043</td>\n",
       "    </tr>\n",
       "    <tr>\n",
       "      <th>1.2</th>\n",
       "      <td>-74.486649</td>\n",
       "      <td>-74.351990</td>\n",
       "      <td>-74.407814</td>\n",
       "      <td>-74.826859</td>\n",
       "      <td>-74.514343</td>\n",
       "      <td>-74.864067</td>\n",
       "      <td>-74.549919</td>\n",
       "      <td>-74.840645</td>\n",
       "      <td>-74.552437</td>\n",
       "      <td>-74.426460</td>\n",
       "      <td>...</td>\n",
       "      <td>-72.254700</td>\n",
       "      <td>-72.358994</td>\n",
       "      <td>-69.873665</td>\n",
       "      <td>-72.314842</td>\n",
       "      <td>-71.737564</td>\n",
       "      <td>-70.066879</td>\n",
       "      <td>-72.444565</td>\n",
       "      <td>-72.048805</td>\n",
       "      <td>-71.880867</td>\n",
       "      <td>-72.406548</td>\n",
       "    </tr>\n",
       "    <tr>\n",
       "      <th>1.3</th>\n",
       "      <td>-74.500015</td>\n",
       "      <td>-74.352119</td>\n",
       "      <td>-74.408653</td>\n",
       "      <td>-74.826775</td>\n",
       "      <td>-74.514488</td>\n",
       "      <td>-74.880089</td>\n",
       "      <td>-74.550056</td>\n",
       "      <td>-74.840141</td>\n",
       "      <td>-74.553513</td>\n",
       "      <td>-74.428719</td>\n",
       "      <td>...</td>\n",
       "      <td>-72.257675</td>\n",
       "      <td>-72.376915</td>\n",
       "      <td>-69.874901</td>\n",
       "      <td>-72.314690</td>\n",
       "      <td>-71.738380</td>\n",
       "      <td>-70.064194</td>\n",
       "      <td>-72.445076</td>\n",
       "      <td>-72.047989</td>\n",
       "      <td>-71.880241</td>\n",
       "      <td>-72.406578</td>\n",
       "    </tr>\n",
       "    <tr>\n",
       "      <th>1.4</th>\n",
       "      <td>-74.512924</td>\n",
       "      <td>-74.352737</td>\n",
       "      <td>-74.409653</td>\n",
       "      <td>-74.826553</td>\n",
       "      <td>-74.514542</td>\n",
       "      <td>-74.897545</td>\n",
       "      <td>-74.550285</td>\n",
       "      <td>-74.839371</td>\n",
       "      <td>-74.554794</td>\n",
       "      <td>-74.431282</td>\n",
       "      <td>...</td>\n",
       "      <td>-72.261742</td>\n",
       "      <td>-72.393135</td>\n",
       "      <td>-69.876541</td>\n",
       "      <td>-72.314804</td>\n",
       "      <td>-71.739006</td>\n",
       "      <td>-70.061333</td>\n",
       "      <td>-72.445793</td>\n",
       "      <td>-72.047386</td>\n",
       "      <td>-71.880066</td>\n",
       "      <td>-72.407036</td>\n",
       "    </tr>\n",
       "  </tbody>\n",
       "</table>\n",
       "<p>5 rows × 8999 columns</p>\n",
       "</div>"
      ],
      "text/plain": [
       "    thalamus_neurons                                                         \\\n",
       "               33512      33513      33514      33515      33516      33517   \n",
       "1.0       -74.458168 -74.353897 -74.407280 -74.826347 -74.513786 -74.834801   \n",
       "1.1       -74.472755 -74.352470 -74.407257 -74.826767 -74.514107 -74.848991   \n",
       "1.2       -74.486649 -74.351990 -74.407814 -74.826859 -74.514343 -74.864067   \n",
       "1.3       -74.500015 -74.352119 -74.408653 -74.826775 -74.514488 -74.880089   \n",
       "1.4       -74.512924 -74.352737 -74.409653 -74.826553 -74.514542 -74.897545   \n",
       "\n",
       "                                                 ...                        \\\n",
       "         33518      33519      33520      33521  ...      42501      42502   \n",
       "1.0 -74.550163 -74.840492 -74.551132 -74.423920  ... -72.251991 -72.316010   \n",
       "1.1 -74.549896 -74.840828 -74.551613 -74.424820  ... -72.252808 -72.338921   \n",
       "1.2 -74.549919 -74.840645 -74.552437 -74.426460  ... -72.254700 -72.358994   \n",
       "1.3 -74.550056 -74.840141 -74.553513 -74.428719  ... -72.257675 -72.376915   \n",
       "1.4 -74.550285 -74.839371 -74.554794 -74.431282  ... -72.261742 -72.393135   \n",
       "\n",
       "                                                                       \\\n",
       "         42503      42504      42505      42506      42507      42508   \n",
       "1.0 -69.872650 -72.316315 -71.735054 -70.071548 -72.444283 -72.051361   \n",
       "1.1 -69.872887 -72.315331 -71.736496 -70.069359 -72.444283 -72.049881   \n",
       "1.2 -69.873665 -72.314842 -71.737564 -70.066879 -72.444565 -72.048805   \n",
       "1.3 -69.874901 -72.314690 -71.738380 -70.064194 -72.445076 -72.047989   \n",
       "1.4 -69.876541 -72.314804 -71.739006 -70.061333 -72.445793 -72.047386   \n",
       "\n",
       "                           \n",
       "         42509      42510  \n",
       "1.0 -71.883942 -72.408302  \n",
       "1.1 -71.882034 -72.407043  \n",
       "1.2 -71.880867 -72.406548  \n",
       "1.3 -71.880241 -72.406578  \n",
       "1.4 -71.880066 -72.407036  \n",
       "\n",
       "[5 rows x 8999 columns]"
      ]
     },
     "execution_count": 11,
     "metadata": {},
     "output_type": "execute_result"
    }
   ],
   "source": [
    "filtered = soma_report.filter(group={'layer':'VPL'}, t_start=1, t_stop=100)\n",
    "filtered.report.head()"
   ]
  },
  {
   "cell_type": "markdown",
   "metadata": {},
   "source": [
    "## Plotting\n",
    "Frame reports can only do trace plots. Again, we can only plot filtered data"
   ]
  },
  {
   "cell_type": "code",
   "execution_count": 12,
   "metadata": {},
   "outputs": [
    {
     "data": {
      "image/png": "[encoded data removed]",
      "text/plain": [
       "<Figure size 640x480 with 1 Axes>"
      ]
     },
     "metadata": {},
     "output_type": "display_data"
    }
   ],
   "source": [
    "filtered.trace();"
   ]
  },
  {
   "cell_type": "markdown",
   "metadata": {},
   "source": [
    "And of course, calling `filter` without arguments provides all available data"
   ]
  },
  {
   "cell_type": "code",
   "execution_count": 13,
   "metadata": {},
   "outputs": [
    {
     "data": {
      "image/png": "[encoded data removed]",
      "text/plain": [
       "<Figure size 640x480 with 1 Axes>"
      ]
     },
     "metadata": {},
     "output_type": "display_data"
    }
   ],
   "source": [
    "soma_report.filter().trace();"
   ]
  },
  {
   "cell_type": "markdown",
   "metadata": {},
   "source": [
    "## Reading the log\n",
    "Not applicable to `FrameReport`s"
   ]
  },
  {
   "cell_type": "markdown",
   "metadata": {},
   "source": [
    "## Conclusion\n",
    "We introduced how frame reports can be accessed and plotted with `bluepysnap`. This concludes the basic usage tutorials."
   ]
  }
 ],
 "metadata": {
  "kernelspec": {
   "display_name": "Python 3",
   "language": "python",
   "name": "python3"
  },
  "language_info": {
   "codemirror_mode": {
    "name": "ipython",
    "version": 3
   },
   "file_extension": ".py",
   "mimetype": "text/x-python",
   "name": "python",
   "nbconvert_exporter": "python",
   "pygments_lexer": "ipython3",
   "version": "3.9.7"
  }
 },
 "nbformat": 4,
 "nbformat_minor": 4
}
