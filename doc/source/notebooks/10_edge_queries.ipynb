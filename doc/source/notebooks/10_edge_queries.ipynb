{
 "cells": [
  {
   "cell_type": "markdown",
   "metadata": {},
   "source": [
    "# Edge queries"
   ]
  },
  {
   "cell_type": "markdown",
   "metadata": {},
   "source": [
    "## Preamble\n",
    "The code in this section assumes that you have already downloaded the circuit. If not, take a look at the [first notebook](./01_node_properties.ipynb) in the series."
   ]
  },
  {
   "cell_type": "code",
   "execution_count": 1,
   "metadata": {},
   "outputs": [],
   "source": [
    "import bluepysnap\n",
    "import numpy as np\n",
    "\n",
    "circuit_path = \"sonata/circuit_sonata.json\"\n",
    "circuit = bluepysnap.Circuit(circuit_path)"
   ]
  },
  {
   "cell_type": "markdown",
   "metadata": {},
   "source": [
    "## Differences between Node and Edge queries\n",
    "Everything covered in the querying part of the previous [Node Sets and Querying notebook](./08_queries_and_nodesets.ipynb) also applies when querying edges. Except for, of course, the obvious: node sets can only be used to query nodes. \n",
    "\n",
    "So queries work the same fashion, but querying itself is a bit different.\n",
    "\n",
    "### Getting all nodes and their properties\n",
    "First of all, to get all possible nodes, and their properties, one can do "
   ]
  },
  {
   "cell_type": "code",
   "execution_count": 2,
   "metadata": {},
   "outputs": [
    {
     "data": {
      "text/html": [
       "<div>\n",
       "<style scoped>\n",
       "    .dataframe tbody tr th:only-of-type {\n",
       "        vertical-align: middle;\n",
       "    }\n",
       "\n",
       "    .dataframe tbody tr th {\n",
       "        vertical-align: top;\n",
       "    }\n",
       "\n",
       "    .dataframe thead th {\n",
       "        text-align: right;\n",
       "    }\n",
       "</style>\n",
       "<table border=\"1\" class=\"dataframe\">\n",
       "  <thead>\n",
       "    <tr style=\"text-align: right;\">\n",
       "      <th></th>\n",
       "      <th></th>\n",
       "      <th>model_template</th>\n",
       "      <th>model_type</th>\n",
       "    </tr>\n",
       "    <tr>\n",
       "      <th>population</th>\n",
       "      <th>node_ids</th>\n",
       "      <th></th>\n",
       "      <th></th>\n",
       "    </tr>\n",
       "  </thead>\n",
       "  <tbody>\n",
       "    <tr>\n",
       "      <th rowspan=\"5\" valign=\"top\">CorticoThalamic_projections</th>\n",
       "      <th>0</th>\n",
       "      <td></td>\n",
       "      <td>virtual</td>\n",
       "    </tr>\n",
       "    <tr>\n",
       "      <th>1</th>\n",
       "      <td></td>\n",
       "      <td>virtual</td>\n",
       "    </tr>\n",
       "    <tr>\n",
       "      <th>2</th>\n",
       "      <td></td>\n",
       "      <td>virtual</td>\n",
       "    </tr>\n",
       "    <tr>\n",
       "      <th>3</th>\n",
       "      <td></td>\n",
       "      <td>virtual</td>\n",
       "    </tr>\n",
       "    <tr>\n",
       "      <th>4</th>\n",
       "      <td></td>\n",
       "      <td>virtual</td>\n",
       "    </tr>\n",
       "  </tbody>\n",
       "</table>\n",
       "</div>"
      ],
      "text/plain": [
       "                                     model_template model_type\n",
       "population                  node_ids                          \n",
       "CorticoThalamic_projections 0                          virtual\n",
       "                            1                          virtual\n",
       "                            2                          virtual\n",
       "                            3                          virtual\n",
       "                            4                          virtual"
      ]
     },
     "metadata": {},
     "output_type": "display_data"
    },
    {
     "data": {
      "text/html": [
       "<div>\n",
       "<style scoped>\n",
       "    .dataframe tbody tr th:only-of-type {\n",
       "        vertical-align: middle;\n",
       "    }\n",
       "\n",
       "    .dataframe tbody tr th {\n",
       "        vertical-align: top;\n",
       "    }\n",
       "\n",
       "    .dataframe thead th {\n",
       "        text-align: right;\n",
       "    }\n",
       "</style>\n",
       "<table border=\"1\" class=\"dataframe\">\n",
       "  <thead>\n",
       "    <tr style=\"text-align: right;\">\n",
       "      <th></th>\n",
       "      <th></th>\n",
       "      <th>model_template</th>\n",
       "      <th>model_type</th>\n",
       "    </tr>\n",
       "    <tr>\n",
       "      <th>population</th>\n",
       "      <th>node_ids</th>\n",
       "      <th></th>\n",
       "      <th></th>\n",
       "    </tr>\n",
       "  </thead>\n",
       "  <tbody>\n",
       "    <tr>\n",
       "      <th rowspan=\"5\" valign=\"top\">MedialLemniscus_projections</th>\n",
       "      <th>0</th>\n",
       "      <td></td>\n",
       "      <td>virtual</td>\n",
       "    </tr>\n",
       "    <tr>\n",
       "      <th>1</th>\n",
       "      <td></td>\n",
       "      <td>virtual</td>\n",
       "    </tr>\n",
       "    <tr>\n",
       "      <th>2</th>\n",
       "      <td></td>\n",
       "      <td>virtual</td>\n",
       "    </tr>\n",
       "    <tr>\n",
       "      <th>3</th>\n",
       "      <td></td>\n",
       "      <td>virtual</td>\n",
       "    </tr>\n",
       "    <tr>\n",
       "      <th>4</th>\n",
       "      <td></td>\n",
       "      <td>virtual</td>\n",
       "    </tr>\n",
       "  </tbody>\n",
       "</table>\n",
       "</div>"
      ],
      "text/plain": [
       "                                     model_template model_type\n",
       "population                  node_ids                          \n",
       "MedialLemniscus_projections 0                          virtual\n",
       "                            1                          virtual\n",
       "                            2                          virtual\n",
       "                            3                          virtual\n",
       "                            4                          virtual"
      ]
     },
     "metadata": {},
     "output_type": "display_data"
    },
    {
     "data": {
      "text/html": [
       "<div>\n",
       "<style scoped>\n",
       "    .dataframe tbody tr th:only-of-type {\n",
       "        vertical-align: middle;\n",
       "    }\n",
       "\n",
       "    .dataframe tbody tr th {\n",
       "        vertical-align: top;\n",
       "    }\n",
       "\n",
       "    .dataframe thead th {\n",
       "        text-align: right;\n",
       "    }\n",
       "</style>\n",
       "<table border=\"1\" class=\"dataframe\">\n",
       "  <thead>\n",
       "    <tr style=\"text-align: right;\">\n",
       "      <th></th>\n",
       "      <th></th>\n",
       "      <th>@dynamics:holding_current</th>\n",
       "      <th>@dynamics:threshold_current</th>\n",
       "      <th>etype</th>\n",
       "      <th>layer</th>\n",
       "      <th>model_template</th>\n",
       "      <th>model_type</th>\n",
       "      <th>morph_class</th>\n",
       "      <th>morphology</th>\n",
       "      <th>mtype</th>\n",
       "      <th>orientation_w</th>\n",
       "      <th>...</th>\n",
       "      <th>orientation_y</th>\n",
       "      <th>orientation_z</th>\n",
       "      <th>region</th>\n",
       "      <th>rotation_angle_xaxis</th>\n",
       "      <th>rotation_angle_yaxis</th>\n",
       "      <th>rotation_angle_zaxis</th>\n",
       "      <th>synapse_class</th>\n",
       "      <th>x</th>\n",
       "      <th>y</th>\n",
       "      <th>z</th>\n",
       "    </tr>\n",
       "    <tr>\n",
       "      <th>population</th>\n",
       "      <th>node_ids</th>\n",
       "      <th></th>\n",
       "      <th></th>\n",
       "      <th></th>\n",
       "      <th></th>\n",
       "      <th></th>\n",
       "      <th></th>\n",
       "      <th></th>\n",
       "      <th></th>\n",
       "      <th></th>\n",
       "      <th></th>\n",
       "      <th></th>\n",
       "      <th></th>\n",
       "      <th></th>\n",
       "      <th></th>\n",
       "      <th></th>\n",
       "      <th></th>\n",
       "      <th></th>\n",
       "      <th></th>\n",
       "      <th></th>\n",
       "      <th></th>\n",
       "      <th></th>\n",
       "    </tr>\n",
       "  </thead>\n",
       "  <tbody>\n",
       "    <tr>\n",
       "      <th rowspan=\"5\" valign=\"top\">thalamus_neurons</th>\n",
       "      <th>0</th>\n",
       "      <td>-0.045270</td>\n",
       "      <td>0.083160</td>\n",
       "      <td>cAD_noscltb</td>\n",
       "      <td>Rt</td>\n",
       "      <td>hoc:cAD_noscltb</td>\n",
       "      <td>biophysical</td>\n",
       "      <td>RC</td>\n",
       "      <td>dend-04446-04462-X10187-Y13578_final_axon-0456...</td>\n",
       "      <td>Rt_RC</td>\n",
       "      <td>0.988265</td>\n",
       "      <td>...</td>\n",
       "      <td>0.152752</td>\n",
       "      <td>-0.0</td>\n",
       "      <td>mc0;Rt</td>\n",
       "      <td>-0.0</td>\n",
       "      <td>0.306704</td>\n",
       "      <td>-0.0</td>\n",
       "      <td>INH</td>\n",
       "      <td>175.000000</td>\n",
       "      <td>575.000000</td>\n",
       "      <td>225.000000</td>\n",
       "    </tr>\n",
       "    <tr>\n",
       "      <th>1</th>\n",
       "      <td>-0.033646</td>\n",
       "      <td>0.049149</td>\n",
       "      <td>cAD_noscltb</td>\n",
       "      <td>Rt</td>\n",
       "      <td>hoc:cAD_noscltb</td>\n",
       "      <td>biophysical</td>\n",
       "      <td>RC</td>\n",
       "      <td>dend-04901-04913-X12280-Y25667_final_axon-0444...</td>\n",
       "      <td>Rt_RC</td>\n",
       "      <td>0.780058</td>\n",
       "      <td>...</td>\n",
       "      <td>0.625707</td>\n",
       "      <td>-0.0</td>\n",
       "      <td>mc0;Rt</td>\n",
       "      <td>-0.0</td>\n",
       "      <td>1.352075</td>\n",
       "      <td>-0.0</td>\n",
       "      <td>INH</td>\n",
       "      <td>179.044281</td>\n",
       "      <td>593.194763</td>\n",
       "      <td>200.260788</td>\n",
       "    </tr>\n",
       "    <tr>\n",
       "      <th>2</th>\n",
       "      <td>-0.037110</td>\n",
       "      <td>0.060735</td>\n",
       "      <td>cNAD_noscltb</td>\n",
       "      <td>Rt</td>\n",
       "      <td>hoc:cNAD_noscltb</td>\n",
       "      <td>biophysical</td>\n",
       "      <td>RC</td>\n",
       "      <td>dend-04446-04462-X10187-Y13578_final_axon-0453...</td>\n",
       "      <td>Rt_RC</td>\n",
       "      <td>0.948338</td>\n",
       "      <td>...</td>\n",
       "      <td>0.317262</td>\n",
       "      <td>-0.0</td>\n",
       "      <td>mc0;Rt</td>\n",
       "      <td>-0.0</td>\n",
       "      <td>0.645681</td>\n",
       "      <td>-0.0</td>\n",
       "      <td>INH</td>\n",
       "      <td>196.751480</td>\n",
       "      <td>563.684509</td>\n",
       "      <td>206.200989</td>\n",
       "    </tr>\n",
       "    <tr>\n",
       "      <th>3</th>\n",
       "      <td>-0.021140</td>\n",
       "      <td>0.043437</td>\n",
       "      <td>cNAD_noscltb</td>\n",
       "      <td>Rt</td>\n",
       "      <td>hoc:cNAD_noscltb</td>\n",
       "      <td>biophysical</td>\n",
       "      <td>RC</td>\n",
       "      <td>dend-04392-04406-X11579-Y24237_final_axon-0490...</td>\n",
       "      <td>Rt_RC</td>\n",
       "      <td>0.990075</td>\n",
       "      <td>...</td>\n",
       "      <td>0.140538</td>\n",
       "      <td>-0.0</td>\n",
       "      <td>mc0;Rt</td>\n",
       "      <td>-0.0</td>\n",
       "      <td>0.282009</td>\n",
       "      <td>-0.0</td>\n",
       "      <td>INH</td>\n",
       "      <td>169.940216</td>\n",
       "      <td>579.091736</td>\n",
       "      <td>253.004227</td>\n",
       "    </tr>\n",
       "    <tr>\n",
       "      <th>4</th>\n",
       "      <td>-0.042115</td>\n",
       "      <td>0.077446</td>\n",
       "      <td>cNAD_noscltb</td>\n",
       "      <td>Rt</td>\n",
       "      <td>hoc:cNAD_noscltb</td>\n",
       "      <td>biophysical</td>\n",
       "      <td>RC</td>\n",
       "      <td>dend-jy180406_C_idA_axon-04527-04540-X11773-Y2...</td>\n",
       "      <td>Rt_RC</td>\n",
       "      <td>0.971375</td>\n",
       "      <td>...</td>\n",
       "      <td>-0.237553</td>\n",
       "      <td>0.0</td>\n",
       "      <td>mc0;Rt</td>\n",
       "      <td>0.0</td>\n",
       "      <td>-0.479691</td>\n",
       "      <td>0.0</td>\n",
       "      <td>INH</td>\n",
       "      <td>156.274872</td>\n",
       "      <td>572.608337</td>\n",
       "      <td>235.786240</td>\n",
       "    </tr>\n",
       "  </tbody>\n",
       "</table>\n",
       "<p>5 rows × 21 columns</p>\n",
       "</div>"
      ],
      "text/plain": [
       "                           @dynamics:holding_current  \\\n",
       "population       node_ids                              \n",
       "thalamus_neurons 0                         -0.045270   \n",
       "                 1                         -0.033646   \n",
       "                 2                         -0.037110   \n",
       "                 3                         -0.021140   \n",
       "                 4                         -0.042115   \n",
       "\n",
       "                           @dynamics:threshold_current         etype layer  \\\n",
       "population       node_ids                                                    \n",
       "thalamus_neurons 0                            0.083160   cAD_noscltb    Rt   \n",
       "                 1                            0.049149   cAD_noscltb    Rt   \n",
       "                 2                            0.060735  cNAD_noscltb    Rt   \n",
       "                 3                            0.043437  cNAD_noscltb    Rt   \n",
       "                 4                            0.077446  cNAD_noscltb    Rt   \n",
       "\n",
       "                             model_template   model_type morph_class  \\\n",
       "population       node_ids                                              \n",
       "thalamus_neurons 0          hoc:cAD_noscltb  biophysical          RC   \n",
       "                 1          hoc:cAD_noscltb  biophysical          RC   \n",
       "                 2         hoc:cNAD_noscltb  biophysical          RC   \n",
       "                 3         hoc:cNAD_noscltb  biophysical          RC   \n",
       "                 4         hoc:cNAD_noscltb  biophysical          RC   \n",
       "\n",
       "                                                                  morphology  \\\n",
       "population       node_ids                                                      \n",
       "thalamus_neurons 0         dend-04446-04462-X10187-Y13578_final_axon-0456...   \n",
       "                 1         dend-04901-04913-X12280-Y25667_final_axon-0444...   \n",
       "                 2         dend-04446-04462-X10187-Y13578_final_axon-0453...   \n",
       "                 3         dend-04392-04406-X11579-Y24237_final_axon-0490...   \n",
       "                 4         dend-jy180406_C_idA_axon-04527-04540-X11773-Y2...   \n",
       "\n",
       "                           mtype  orientation_w  ...  orientation_y  \\\n",
       "population       node_ids                        ...                  \n",
       "thalamus_neurons 0         Rt_RC       0.988265  ...       0.152752   \n",
       "                 1         Rt_RC       0.780058  ...       0.625707   \n",
       "                 2         Rt_RC       0.948338  ...       0.317262   \n",
       "                 3         Rt_RC       0.990075  ...       0.140538   \n",
       "                 4         Rt_RC       0.971375  ...      -0.237553   \n",
       "\n",
       "                           orientation_z  region rotation_angle_xaxis  \\\n",
       "population       node_ids                                               \n",
       "thalamus_neurons 0                  -0.0  mc0;Rt                 -0.0   \n",
       "                 1                  -0.0  mc0;Rt                 -0.0   \n",
       "                 2                  -0.0  mc0;Rt                 -0.0   \n",
       "                 3                  -0.0  mc0;Rt                 -0.0   \n",
       "                 4                   0.0  mc0;Rt                  0.0   \n",
       "\n",
       "                           rotation_angle_yaxis  rotation_angle_zaxis  \\\n",
       "population       node_ids                                               \n",
       "thalamus_neurons 0                     0.306704                  -0.0   \n",
       "                 1                     1.352075                  -0.0   \n",
       "                 2                     0.645681                  -0.0   \n",
       "                 3                     0.282009                  -0.0   \n",
       "                 4                    -0.479691                   0.0   \n",
       "\n",
       "                           synapse_class           x           y           z  \n",
       "population       node_ids                                                     \n",
       "thalamus_neurons 0                   INH  175.000000  575.000000  225.000000  \n",
       "                 1                   INH  179.044281  593.194763  200.260788  \n",
       "                 2                   INH  196.751480  563.684509  206.200989  \n",
       "                 3                   INH  169.940216  579.091736  253.004227  \n",
       "                 4                   INH  156.274872  572.608337  235.786240  \n",
       "\n",
       "[5 rows x 21 columns]"
      ]
     },
     "metadata": {},
     "output_type": "display_data"
    }
   ],
   "source": [
    "data = circuit.nodes.get()\n",
    "for _, df in data:\n",
    "    display(df.head())"
   ]
  },
  {
   "cell_type": "markdown",
   "metadata": {},
   "source": [
    "### Getting all edges and their properties?\n",
    "One can not query all the edges and their properties like with nodes:\n",
    "```python\n",
    "circuit.edges.get() # Would raise an exception\n",
    "circuit.edges['MedialLemniscus_projections__thalamus_neurons__chemical'].get() # Would also raise an exception\n",
    "```\n",
    "\n",
    "Why the different behavior? The reason is very simple: the number of edges massively exceeds the number of nodes in the circuit:"
   ]
  },
  {
   "cell_type": "code",
   "execution_count": 3,
   "metadata": {},
   "outputs": [
    {
     "name": "stdout",
     "output_type": "stream",
     "text": [
      "# of nodes: 189208\n",
      "# of edges: 63340787\n",
      "There are roughly 334 times more edges than nodes.\n"
     ]
    }
   ],
   "source": [
    "n_edges = circuit.edges.size\n",
    "n_nodes = circuit.nodes.size\n",
    "print(f\"# of nodes: {n_nodes}\")\n",
    "print(f\"# of edges: {n_edges}\")\n",
    "print(f\"There are roughly {n_edges // n_nodes} times more edges than nodes.\")"
   ]
  },
  {
   "cell_type": "markdown",
   "metadata": {},
   "source": [
    "Because of this, it's extremely easy to run out of memory. In fact, since the `circuit.edges.ids` returns a `CircuitEdgeIds` object with indices consisting of both the edge id and the population name, you can easily run out of memory even with:\n",
    "```python\n",
    "circuit.edges.ids() # This will very likely run out of memory\n",
    "```\n",
    "So, since we're out of memory with just the ids, obviously we can't even consider fetching all the properties for all the edges. One also needs to define which properties are returned when doing `get` with edges. Otherwise, only ids are returned.\n",
    "\n",
    "### `Edges`/`EdgePopulation` `get` requires the query to be defined\n",
    "```python\n",
    "# These return ids instead of all properties.\n",
    "circuit.edges.get(query)  # same as .ids(query)\n",
    "circuit.edges['MedialLemniscus_projections__thalamus_neurons__chemical'].get(query) # same as .ids(query)\n",
    "```\n",
    "Let's try to query and show afferent center positions for edges having their afferent center position between XYZ coordinates `[450,450,450]` and `[460,460,460]`:"
   ]
  },
  {
   "cell_type": "code",
   "execution_count": 4,
   "metadata": {},
   "outputs": [
    {
     "data": {
      "text/html": [
       "<div>\n",
       "<style scoped>\n",
       "    .dataframe tbody tr th:only-of-type {\n",
       "        vertical-align: middle;\n",
       "    }\n",
       "\n",
       "    .dataframe tbody tr th {\n",
       "        vertical-align: top;\n",
       "    }\n",
       "\n",
       "    .dataframe thead th {\n",
       "        text-align: right;\n",
       "    }\n",
       "</style>\n",
       "<table border=\"1\" class=\"dataframe\">\n",
       "  <thead>\n",
       "    <tr style=\"text-align: right;\">\n",
       "      <th></th>\n",
       "      <th></th>\n",
       "      <th>afferent_center_x</th>\n",
       "      <th>afferent_center_y</th>\n",
       "      <th>afferent_center_z</th>\n",
       "    </tr>\n",
       "    <tr>\n",
       "      <th>population</th>\n",
       "      <th>edge_ids</th>\n",
       "      <th></th>\n",
       "      <th></th>\n",
       "      <th></th>\n",
       "    </tr>\n",
       "  </thead>\n",
       "  <tbody>\n",
       "    <tr>\n",
       "      <th rowspan=\"5\" valign=\"top\">thalamus_neurons__thalamus_neurons__chemical</th>\n",
       "      <th>2827859</th>\n",
       "      <td>454.395416</td>\n",
       "      <td>455.317352</td>\n",
       "      <td>453.267151</td>\n",
       "    </tr>\n",
       "    <tr>\n",
       "      <th>2842049</th>\n",
       "      <td>451.251099</td>\n",
       "      <td>459.769501</td>\n",
       "      <td>457.176605</td>\n",
       "    </tr>\n",
       "    <tr>\n",
       "      <th>2842050</th>\n",
       "      <td>453.582245</td>\n",
       "      <td>457.467682</td>\n",
       "      <td>456.495728</td>\n",
       "    </tr>\n",
       "    <tr>\n",
       "      <th>2872204</th>\n",
       "      <td>456.010925</td>\n",
       "      <td>454.797028</td>\n",
       "      <td>450.967194</td>\n",
       "    </tr>\n",
       "    <tr>\n",
       "      <th>3072076</th>\n",
       "      <td>451.312164</td>\n",
       "      <td>455.902893</td>\n",
       "      <td>452.170288</td>\n",
       "    </tr>\n",
       "  </tbody>\n",
       "</table>\n",
       "</div>"
      ],
      "text/plain": [
       "                                                       afferent_center_x  \\\n",
       "population                                   edge_ids                      \n",
       "thalamus_neurons__thalamus_neurons__chemical 2827859          454.395416   \n",
       "                                             2842049          451.251099   \n",
       "                                             2842050          453.582245   \n",
       "                                             2872204          456.010925   \n",
       "                                             3072076          451.312164   \n",
       "\n",
       "                                                       afferent_center_y  \\\n",
       "population                                   edge_ids                      \n",
       "thalamus_neurons__thalamus_neurons__chemical 2827859          455.317352   \n",
       "                                             2842049          459.769501   \n",
       "                                             2842050          457.467682   \n",
       "                                             2872204          454.797028   \n",
       "                                             3072076          455.902893   \n",
       "\n",
       "                                                       afferent_center_z  \n",
       "population                                   edge_ids                     \n",
       "thalamus_neurons__thalamus_neurons__chemical 2827859          453.267151  \n",
       "                                             2842049          457.176605  \n",
       "                                             2842050          456.495728  \n",
       "                                             2872204          450.967194  \n",
       "                                             3072076          452.170288  "
      ]
     },
     "metadata": {},
     "output_type": "display_data"
    },
    {
     "data": {
      "text/html": [
       "<div>\n",
       "<style scoped>\n",
       "    .dataframe tbody tr th:only-of-type {\n",
       "        vertical-align: middle;\n",
       "    }\n",
       "\n",
       "    .dataframe tbody tr th {\n",
       "        vertical-align: top;\n",
       "    }\n",
       "\n",
       "    .dataframe thead th {\n",
       "        text-align: right;\n",
       "    }\n",
       "</style>\n",
       "<table border=\"1\" class=\"dataframe\">\n",
       "  <thead>\n",
       "    <tr style=\"text-align: right;\">\n",
       "      <th></th>\n",
       "      <th>afferent_center_x</th>\n",
       "      <th>afferent_center_y</th>\n",
       "      <th>afferent_center_z</th>\n",
       "    </tr>\n",
       "  </thead>\n",
       "  <tbody>\n",
       "    <tr>\n",
       "      <th>2827859</th>\n",
       "      <td>454.395416</td>\n",
       "      <td>455.317352</td>\n",
       "      <td>453.267151</td>\n",
       "    </tr>\n",
       "    <tr>\n",
       "      <th>2842049</th>\n",
       "      <td>451.251099</td>\n",
       "      <td>459.769501</td>\n",
       "      <td>457.176605</td>\n",
       "    </tr>\n",
       "    <tr>\n",
       "      <th>2842050</th>\n",
       "      <td>453.582245</td>\n",
       "      <td>457.467682</td>\n",
       "      <td>456.495728</td>\n",
       "    </tr>\n",
       "    <tr>\n",
       "      <th>2872204</th>\n",
       "      <td>456.010925</td>\n",
       "      <td>454.797028</td>\n",
       "      <td>450.967194</td>\n",
       "    </tr>\n",
       "    <tr>\n",
       "      <th>3072076</th>\n",
       "      <td>451.312164</td>\n",
       "      <td>455.902893</td>\n",
       "      <td>452.170288</td>\n",
       "    </tr>\n",
       "  </tbody>\n",
       "</table>\n",
       "</div>"
      ],
      "text/plain": [
       "         afferent_center_x  afferent_center_y  afferent_center_z\n",
       "2827859         454.395416         455.317352         453.267151\n",
       "2842049         451.251099         459.769501         457.176605\n",
       "2842050         453.582245         457.467682         456.495728\n",
       "2872204         456.010925         454.797028         450.967194\n",
       "3072076         451.312164         455.902893         452.170288"
      ]
     },
     "execution_count": 4,
     "metadata": {},
     "output_type": "execute_result"
    }
   ],
   "source": [
    "query = {\n",
    "    'afferent_center_x': [450, 460],\n",
    "    'afferent_center_y': [450, 460],\n",
    "    'afferent_center_z': [450, 460],\n",
    "}\n",
    "properties = list(query)\n",
    "\n",
    "# This query only returns results for one population\n",
    "data = circuit.edges.get(query, properties)\n",
    "for _, df in data:\n",
    "    display(df.head())\n",
    "\n",
    "# Let's query the same but using the edge population\n",
    "edge_population = circuit.edges['thalamus_neurons__thalamus_neurons__chemical']\n",
    "edge_population.get(query, properties).head()"
   ]
  },
  {
   "cell_type": "markdown",
   "metadata": {},
   "source": [
    "## Typical use cases\n",
    "\n",
    "Now that we've covered the differences, let's get deeper into edge queries. In this section we'll cover some of the typical use cases.\n",
    "\n",
    "We already know that we can get any of the edge properties with `get` and and use any of the properties to filter which edges will be returned so we'll not cover that here. However, more often than not, that is not how we query edges. Most of the time, we want to find edges that connect certain nodes (or node sets) or want to find which nodes are connected to certain pre-synaptic (or post-synaptic) cells.\n",
    "\n",
    "In the examples, we'll be using a single edge population, but they work the same with `circuit.edges`, too.\n",
    "\n",
    "### Edges connecting cells with known ids\n",
    "\n",
    "In these examples, we're demonstrating the various methods of finding edges connecting nodes with already resolved ids."
   ]
  },
  {
   "cell_type": "code",
   "execution_count": 5,
   "metadata": {},
   "outputs": [],
   "source": [
    "source_ids = [1]\n",
    "target_ids = [27204]\n",
    "properties = ['@source_node', '@target_node']"
   ]
  },
  {
   "cell_type": "markdown",
   "metadata": {},
   "source": [
    "#### using `@source_node` and/or `@target_node`\n",
    "\n",
    "If we have the source/target ids already resolved we can, again, query using the properties. In the following example we define both source and target node ids, but obviously you can just use one of them."
   ]
  },
  {
   "cell_type": "code",
   "execution_count": 6,
   "metadata": {},
   "outputs": [
    {
     "data": {
      "text/html": [
       "<div>\n",
       "<style scoped>\n",
       "    .dataframe tbody tr th:only-of-type {\n",
       "        vertical-align: middle;\n",
       "    }\n",
       "\n",
       "    .dataframe tbody tr th {\n",
       "        vertical-align: top;\n",
       "    }\n",
       "\n",
       "    .dataframe thead th {\n",
       "        text-align: right;\n",
       "    }\n",
       "</style>\n",
       "<table border=\"1\" class=\"dataframe\">\n",
       "  <thead>\n",
       "    <tr style=\"text-align: right;\">\n",
       "      <th></th>\n",
       "      <th>@source_node</th>\n",
       "      <th>@target_node</th>\n",
       "    </tr>\n",
       "  </thead>\n",
       "  <tbody>\n",
       "    <tr>\n",
       "      <th>11570852</th>\n",
       "      <td>1</td>\n",
       "      <td>27204</td>\n",
       "    </tr>\n",
       "    <tr>\n",
       "      <th>11570853</th>\n",
       "      <td>1</td>\n",
       "      <td>27204</td>\n",
       "    </tr>\n",
       "    <tr>\n",
       "      <th>11570854</th>\n",
       "      <td>1</td>\n",
       "      <td>27204</td>\n",
       "    </tr>\n",
       "    <tr>\n",
       "      <th>11570855</th>\n",
       "      <td>1</td>\n",
       "      <td>27204</td>\n",
       "    </tr>\n",
       "  </tbody>\n",
       "</table>\n",
       "</div>"
      ],
      "text/plain": [
       "          @source_node  @target_node\n",
       "11570852             1         27204\n",
       "11570853             1         27204\n",
       "11570854             1         27204\n",
       "11570855             1         27204"
      ]
     },
     "execution_count": 6,
     "metadata": {},
     "output_type": "execute_result"
    }
   ],
   "source": [
    "edge_population.get({'@source_node': source_ids, '@target_node': target_ids}, properties=properties)"
   ]
  },
  {
   "cell_type": "markdown",
   "metadata": {},
   "source": [
    "#### using `pathway_edges` / `pair_edges`\n",
    "\n",
    "**Note:** `pathway_edges` and `pair_edges` are the same function, so the following applies to both of them.\n",
    "\n",
    "We can get the just the edge ids without specifying properties:"
   ]
  },
  {
   "cell_type": "code",
   "execution_count": 7,
   "metadata": {},
   "outputs": [
    {
     "data": {
      "text/plain": [
       "array([11570852, 11570853, 11570854, 11570855])"
      ]
     },
     "execution_count": 7,
     "metadata": {},
     "output_type": "execute_result"
    }
   ],
   "source": [
    "edge_population.pathway_edges(source_ids, target_ids)"
   ]
  },
  {
   "cell_type": "markdown",
   "metadata": {},
   "source": [
    "or just as easily get the wanted properties by passing them as an argument:"
   ]
  },
  {
   "cell_type": "code",
   "execution_count": 8,
   "metadata": {},
   "outputs": [
    {
     "data": {
      "text/html": [
       "<div>\n",
       "<style scoped>\n",
       "    .dataframe tbody tr th:only-of-type {\n",
       "        vertical-align: middle;\n",
       "    }\n",
       "\n",
       "    .dataframe tbody tr th {\n",
       "        vertical-align: top;\n",
       "    }\n",
       "\n",
       "    .dataframe thead th {\n",
       "        text-align: right;\n",
       "    }\n",
       "</style>\n",
       "<table border=\"1\" class=\"dataframe\">\n",
       "  <thead>\n",
       "    <tr style=\"text-align: right;\">\n",
       "      <th></th>\n",
       "      <th>@source_node</th>\n",
       "      <th>@target_node</th>\n",
       "    </tr>\n",
       "  </thead>\n",
       "  <tbody>\n",
       "    <tr>\n",
       "      <th>11570852</th>\n",
       "      <td>1</td>\n",
       "      <td>27204</td>\n",
       "    </tr>\n",
       "    <tr>\n",
       "      <th>11570853</th>\n",
       "      <td>1</td>\n",
       "      <td>27204</td>\n",
       "    </tr>\n",
       "    <tr>\n",
       "      <th>11570854</th>\n",
       "      <td>1</td>\n",
       "      <td>27204</td>\n",
       "    </tr>\n",
       "    <tr>\n",
       "      <th>11570855</th>\n",
       "      <td>1</td>\n",
       "      <td>27204</td>\n",
       "    </tr>\n",
       "  </tbody>\n",
       "</table>\n",
       "</div>"
      ],
      "text/plain": [
       "          @source_node  @target_node\n",
       "11570852             1         27204\n",
       "11570853             1         27204\n",
       "11570854             1         27204\n",
       "11570855             1         27204"
      ]
     },
     "execution_count": 8,
     "metadata": {},
     "output_type": "execute_result"
    }
   ],
   "source": [
    "edge_population.pathway_edges(source_ids, target_ids, properties=properties)"
   ]
  },
  {
   "cell_type": "markdown",
   "metadata": {},
   "source": [
    "#### Getting edges based on either source or target nodes (but not both)\n",
    "\n",
    "To get edges based on given source/target nodes, we can use the `get` with the defined `@source_node` / `@target_node` or even with `pathway_edges`/`pair_edges`:"
   ]
  },
  {
   "cell_type": "code",
   "execution_count": 9,
   "metadata": {},
   "outputs": [],
   "source": [
    "edges_with_source = edge_population.pathway_edges(source_ids, None) # get all edges with given source_ids\n",
    "edges_with_target = edge_population.pathway_edges(None, target_ids) # get all edges with given target_ids"
   ]
  },
  {
   "cell_type": "markdown",
   "metadata": {},
   "source": [
    "but SNAP also has dedicated functions for this:"
   ]
  },
  {
   "cell_type": "code",
   "execution_count": 10,
   "metadata": {},
   "outputs": [
    {
     "name": "stdout",
     "output_type": "stream",
     "text": [
      "afferent edges == edges with target ids: True\n",
      "efferent edges == edges with source ids: True\n"
     ]
    }
   ],
   "source": [
    "afferent_edges = edge_population.afferent_edges(target_ids, properties=None) # note that these functions also...\n",
    "efferent_edges = edge_population.efferent_edges(source_ids, properties=None) # ...can get the wanted properties\n",
    "print(f\"afferent edges == edges with target ids: {all(afferent_edges == edges_with_target)}\")\n",
    "print(f\"efferent edges == edges with source ids: {all(efferent_edges == edges_with_source)}\")"
   ]
  },
  {
   "cell_type": "markdown",
   "metadata": {},
   "source": [
    "### Finding source/target nodes based on known target/source ids\n",
    "\n",
    "We already covered how to get the synapses/edges based on known source/target ids. Obviously we could use any of the previously covered functions and define `@source_node` or `@target_node` in the wanted properties to get the wanted nodes. However, again, SNAP has dedicated functions for it:"
   ]
  },
  {
   "cell_type": "code",
   "execution_count": 11,
   "metadata": {},
   "outputs": [],
   "source": [
    "source_nodes = edge_population.afferent_nodes(target_ids) \n",
    "target_nodes = edge_population.efferent_nodes(source_ids)"
   ]
  },
  {
   "cell_type": "markdown",
   "metadata": {},
   "source": [
    "These functions do not allow you to define `properties` to get the node properties within the same call, but we have an easy way to access the source and target populations to fetch the wanted properties:"
   ]
  },
  {
   "cell_type": "code",
   "execution_count": 12,
   "metadata": {},
   "outputs": [
    {
     "data": {
      "text/html": [
       "<div>\n",
       "<style scoped>\n",
       "    .dataframe tbody tr th:only-of-type {\n",
       "        vertical-align: middle;\n",
       "    }\n",
       "\n",
       "    .dataframe tbody tr th {\n",
       "        vertical-align: top;\n",
       "    }\n",
       "\n",
       "    .dataframe thead th {\n",
       "        text-align: right;\n",
       "    }\n",
       "</style>\n",
       "<table border=\"1\" class=\"dataframe\">\n",
       "  <thead>\n",
       "    <tr style=\"text-align: right;\">\n",
       "      <th></th>\n",
       "      <th>mtype</th>\n",
       "      <th>etype</th>\n",
       "      <th>layer</th>\n",
       "    </tr>\n",
       "    <tr>\n",
       "      <th>node_ids</th>\n",
       "      <th></th>\n",
       "      <th></th>\n",
       "      <th></th>\n",
       "    </tr>\n",
       "  </thead>\n",
       "  <tbody>\n",
       "    <tr>\n",
       "      <th>1</th>\n",
       "      <td>Rt_RC</td>\n",
       "      <td>cAD_noscltb</td>\n",
       "      <td>Rt</td>\n",
       "    </tr>\n",
       "    <tr>\n",
       "      <th>12</th>\n",
       "      <td>Rt_RC</td>\n",
       "      <td>cAD_noscltb</td>\n",
       "      <td>Rt</td>\n",
       "    </tr>\n",
       "    <tr>\n",
       "      <th>34</th>\n",
       "      <td>Rt_RC</td>\n",
       "      <td>cNAD_noscltb</td>\n",
       "      <td>Rt</td>\n",
       "    </tr>\n",
       "    <tr>\n",
       "      <th>99</th>\n",
       "      <td>Rt_RC</td>\n",
       "      <td>cNAD_noscltb</td>\n",
       "      <td>Rt</td>\n",
       "    </tr>\n",
       "    <tr>\n",
       "      <th>119</th>\n",
       "      <td>Rt_RC</td>\n",
       "      <td>cAD_noscltb</td>\n",
       "      <td>Rt</td>\n",
       "    </tr>\n",
       "  </tbody>\n",
       "</table>\n",
       "</div>"
      ],
      "text/plain": [
       "          mtype         etype layer\n",
       "node_ids                           \n",
       "1         Rt_RC   cAD_noscltb    Rt\n",
       "12        Rt_RC   cAD_noscltb    Rt\n",
       "34        Rt_RC  cNAD_noscltb    Rt\n",
       "99        Rt_RC  cNAD_noscltb    Rt\n",
       "119       Rt_RC   cAD_noscltb    Rt"
      ]
     },
     "metadata": {},
     "output_type": "display_data"
    },
    {
     "data": {
      "text/html": [
       "<div>\n",
       "<style scoped>\n",
       "    .dataframe tbody tr th:only-of-type {\n",
       "        vertical-align: middle;\n",
       "    }\n",
       "\n",
       "    .dataframe tbody tr th {\n",
       "        vertical-align: top;\n",
       "    }\n",
       "\n",
       "    .dataframe thead th {\n",
       "        text-align: right;\n",
       "    }\n",
       "</style>\n",
       "<table border=\"1\" class=\"dataframe\">\n",
       "  <thead>\n",
       "    <tr style=\"text-align: right;\">\n",
       "      <th></th>\n",
       "      <th>mtype</th>\n",
       "      <th>etype</th>\n",
       "      <th>layer</th>\n",
       "    </tr>\n",
       "    <tr>\n",
       "      <th>node_ids</th>\n",
       "      <th></th>\n",
       "      <th></th>\n",
       "      <th></th>\n",
       "    </tr>\n",
       "  </thead>\n",
       "  <tbody>\n",
       "    <tr>\n",
       "      <th>5</th>\n",
       "      <td>Rt_RC</td>\n",
       "      <td>cAD_noscltb</td>\n",
       "      <td>Rt</td>\n",
       "    </tr>\n",
       "    <tr>\n",
       "      <th>421</th>\n",
       "      <td>Rt_RC</td>\n",
       "      <td>cAD_noscltb</td>\n",
       "      <td>Rt</td>\n",
       "    </tr>\n",
       "    <tr>\n",
       "      <th>561</th>\n",
       "      <td>Rt_RC</td>\n",
       "      <td>cAD_noscltb</td>\n",
       "      <td>Rt</td>\n",
       "    </tr>\n",
       "    <tr>\n",
       "      <th>1080</th>\n",
       "      <td>Rt_RC</td>\n",
       "      <td>cNAD_noscltb</td>\n",
       "      <td>Rt</td>\n",
       "    </tr>\n",
       "    <tr>\n",
       "      <th>1276</th>\n",
       "      <td>Rt_RC</td>\n",
       "      <td>cAD_noscltb</td>\n",
       "      <td>Rt</td>\n",
       "    </tr>\n",
       "  </tbody>\n",
       "</table>\n",
       "</div>"
      ],
      "text/plain": [
       "          mtype         etype layer\n",
       "node_ids                           \n",
       "5         Rt_RC   cAD_noscltb    Rt\n",
       "421       Rt_RC   cAD_noscltb    Rt\n",
       "561       Rt_RC   cAD_noscltb    Rt\n",
       "1080      Rt_RC  cNAD_noscltb    Rt\n",
       "1276      Rt_RC   cAD_noscltb    Rt"
      ]
     },
     "metadata": {},
     "output_type": "display_data"
    }
   ],
   "source": [
    "display(edge_population.source.get(source_nodes, properties=['mtype', 'etype','layer']).head())\n",
    "display(edge_population.target.get(target_nodes, properties=['mtype', 'etype','layer']).head())"
   ]
  },
  {
   "cell_type": "markdown",
   "metadata": {},
   "source": [
    "### Getting edges (or nodes) based on source/target node properties\n",
    "\n",
    "Now that we're familiar with all the different functions \n",
    "* `afferent_edges` / `efferent_edges`\n",
    "* `afferent_nodes` / `efferent_nodes`\n",
    "* `pathway_edges` / `pair_edges`\n",
    "\n",
    "let's continue on the tutorial. \n",
    "\n",
    "With the `get` function, it would have been cumbersome if we had to first resolve the ids and then pass them to the get function. Luckily, the ids were resolved internally and we can just pass the query to the `get` function. In general, this is what we'd like to do with the edges: just simply find the synapses between certain regions, node sets, mtypes, etc., right?\n",
    "\n",
    "For this exact reason, all of the above functions resolve the ids internally. I.e., instead of list of ids, we can pass queries to them instead:"
   ]
  },
  {
   "cell_type": "code",
   "execution_count": 13,
   "metadata": {},
   "outputs": [
    {
     "name": "stdout",
     "output_type": "stream",
     "text": [
      "Fetching connecting edges...\n"
     ]
    },
    {
     "data": {
      "text/plain": [
       "array([13588618, 13588619, 13588620, ..., 19297682, 19297683, 19297684])"
      ]
     },
     "metadata": {},
     "output_type": "display_data"
    },
    {
     "data": {
      "text/plain": [
       "array([13588618, 13588619, 13588620, ..., 19297682, 19297683, 19297684])"
      ]
     },
     "metadata": {},
     "output_type": "display_data"
    },
    {
     "data": {
      "text/plain": [
       "array([13588618, 13588619, 13588620, ..., 19297682, 19297683, 19297684])"
      ]
     },
     "metadata": {},
     "output_type": "display_data"
    },
    {
     "name": "stdout",
     "output_type": "stream",
     "text": [
      "\n",
      "Fetching source nodes...\n"
     ]
    },
    {
     "data": {
      "text/plain": [
       "array([    10,     25,     54, ..., 100762, 100763, 100764])"
      ]
     },
     "metadata": {},
     "output_type": "display_data"
    },
    {
     "data": {
      "text/plain": [
       "array([    10,     25,     54, ..., 100762, 100763, 100764])"
      ]
     },
     "metadata": {},
     "output_type": "display_data"
    }
   ],
   "source": [
    "print('Fetching connecting edges...')\n",
    "# using a node set\n",
    "display(edge_population.afferent_edges('mc2;VPL'))\n",
    "\n",
    "# using an external node set\n",
    "ext_node_set = bluepysnap.node_sets.NodeSets.from_dict({'ext_mc2;VPL': {'region': 'mc2;VPL'}})\n",
    "display(edge_population.afferent_edges(ext_node_set['ext_mc2;VPL']))\n",
    "\n",
    "# using a query\n",
    "display(edge_population.afferent_edges({'region': 'mc2;VPL'}))\n",
    "\n",
    "# just to demonstrate the queries with a node function\n",
    "print(\"\\nFetching source nodes...\")\n",
    "\n",
    "# using afferent_edges and properties\n",
    "source_nodes = np.unique(edge_population.afferent_edges({'region': 'mc2;VPL'}, properties=['@source_node']))\n",
    "display(source_nodes)\n",
    "\n",
    "# using afferent_nodes\n",
    "display(edge_population.afferent_nodes('mc2;VPL'))"
   ]
  },
  {
   "cell_type": "markdown",
   "metadata": {},
   "source": [
    "So in short: each of these functions can have queries as parameters instead of the node ids.\n",
    "\n",
    "### Finding edges based on their type\n",
    "Same as with the nodes, we can also query edges based on their `population_type`. \n",
    "\n",
    "Let's see how we can get the `chemical` synapses:"
   ]
  },
  {
   "cell_type": "code",
   "execution_count": 14,
   "metadata": {},
   "outputs": [
    {
     "data": {
      "text/plain": [
       "CircuitEdgeIds([('CorticoThalamic_projections__thalamus_neurons__chemical', 0),\n",
       "            ('CorticoThalamic_projections__thalamus_neurons__chemical', 1),\n",
       "            ('CorticoThalamic_projections__thalamus_neurons__chemical', 2),\n",
       "            ('CorticoThalamic_projections__thalamus_neurons__chemical', 3),\n",
       "            ('CorticoThalamic_projections__thalamus_neurons__chemical', 4),\n",
       "            ('MedialLemniscus_projections__thalamus_neurons__chemical', 0),\n",
       "            ('MedialLemniscus_projections__thalamus_neurons__chemical', 1),\n",
       "            ('MedialLemniscus_projections__thalamus_neurons__chemical', 2),\n",
       "            ('MedialLemniscus_projections__thalamus_neurons__chemical', 3),\n",
       "            ('MedialLemniscus_projections__thalamus_neurons__chemical', 4),\n",
       "            (           'thalamus_neurons__thalamus_neurons__chemical', 0),\n",
       "            (           'thalamus_neurons__thalamus_neurons__chemical', 1),\n",
       "            (           'thalamus_neurons__thalamus_neurons__chemical', 2),\n",
       "            (           'thalamus_neurons__thalamus_neurons__chemical', 3),\n",
       "            (           'thalamus_neurons__thalamus_neurons__chemical', 4)],\n",
       "           names=['population', 'edge_ids'])"
      ]
     },
     "execution_count": 14,
     "metadata": {},
     "output_type": "execute_result"
    }
   ],
   "source": [
    "circuit.edges.get({'population_type':'chemical',\n",
    "                   'edge_id': [*range(5)]}) # Since the number of edges is massive, we only query a fraction of all the `edge_id`s"
   ]
  },
  {
   "cell_type": "markdown",
   "metadata": {},
   "source": [
    "#### _\"Cool beans... but... wait a minute! Why does it also return the projections?\"_\n",
    "Indeed. Projections are also chemical synapses and they share the same population type, so defining `chemical` as the type also returns the projections. \n",
    "\n",
    "#### _I see. How do I get **only** the projections?\"_\n",
    "You can use the population names to query only projections, but there is also way to get only projections without specifying the population names by taking advantage of the fact that the source node type of projections is `virtual` and the target node type is `biophysical`:"
   ]
  },
  {
   "cell_type": "code",
   "execution_count": 15,
   "metadata": {},
   "outputs": [
    {
     "data": {
      "text/plain": [
       "CircuitEdgeIds([('CorticoThalamic_projections__thalamus_neurons__chemical', ...),\n",
       "            ('CorticoThalamic_projections__thalamus_neurons__chemical', ...),\n",
       "            ('CorticoThalamic_projections__thalamus_neurons__chemical', ...),\n",
       "            ('CorticoThalamic_projections__thalamus_neurons__chemical', ...),\n",
       "            ('CorticoThalamic_projections__thalamus_neurons__chemical', ...),\n",
       "            ('CorticoThalamic_projections__thalamus_neurons__chemical', ...),\n",
       "            ('CorticoThalamic_projections__thalamus_neurons__chemical', ...),\n",
       "            ('CorticoThalamic_projections__thalamus_neurons__chemical', ...),\n",
       "            ('CorticoThalamic_projections__thalamus_neurons__chemical', ...),\n",
       "            ('CorticoThalamic_projections__thalamus_neurons__chemical', ...),\n",
       "            ...\n",
       "            ('MedialLemniscus_projections__thalamus_neurons__chemical', ...),\n",
       "            ('MedialLemniscus_projections__thalamus_neurons__chemical', ...),\n",
       "            ('MedialLemniscus_projections__thalamus_neurons__chemical', ...),\n",
       "            ('MedialLemniscus_projections__thalamus_neurons__chemical', ...),\n",
       "            ('MedialLemniscus_projections__thalamus_neurons__chemical', ...),\n",
       "            ('MedialLemniscus_projections__thalamus_neurons__chemical', ...),\n",
       "            ('MedialLemniscus_projections__thalamus_neurons__chemical', ...),\n",
       "            ('MedialLemniscus_projections__thalamus_neurons__chemical', ...),\n",
       "            ('MedialLemniscus_projections__thalamus_neurons__chemical', ...),\n",
       "            ('MedialLemniscus_projections__thalamus_neurons__chemical', ...)],\n",
       "           names=['population', 'edge_ids'], length=18147635)"
      ]
     },
     "execution_count": 15,
     "metadata": {},
     "output_type": "execute_result"
    }
   ],
   "source": [
    "circuit.edges.pathway_edges({'population_type': 'virtual'}, {'population_type': 'biophysical'})"
   ]
  },
  {
   "cell_type": "markdown",
   "metadata": {},
   "source": [
    "In this case, the same can be achieved by only defining the source nodes:"
   ]
  },
  {
   "cell_type": "code",
   "execution_count": 16,
   "metadata": {},
   "outputs": [
    {
     "data": {
      "text/plain": [
       "CircuitEdgeIds([('CorticoThalamic_projections__thalamus_neurons__chemical', ...),\n",
       "            ('CorticoThalamic_projections__thalamus_neurons__chemical', ...),\n",
       "            ('CorticoThalamic_projections__thalamus_neurons__chemical', ...),\n",
       "            ('CorticoThalamic_projections__thalamus_neurons__chemical', ...),\n",
       "            ('CorticoThalamic_projections__thalamus_neurons__chemical', ...),\n",
       "            ('CorticoThalamic_projections__thalamus_neurons__chemical', ...),\n",
       "            ('CorticoThalamic_projections__thalamus_neurons__chemical', ...),\n",
       "            ('CorticoThalamic_projections__thalamus_neurons__chemical', ...),\n",
       "            ('CorticoThalamic_projections__thalamus_neurons__chemical', ...),\n",
       "            ('CorticoThalamic_projections__thalamus_neurons__chemical', ...),\n",
       "            ...\n",
       "            ('MedialLemniscus_projections__thalamus_neurons__chemical', ...),\n",
       "            ('MedialLemniscus_projections__thalamus_neurons__chemical', ...),\n",
       "            ('MedialLemniscus_projections__thalamus_neurons__chemical', ...),\n",
       "            ('MedialLemniscus_projections__thalamus_neurons__chemical', ...),\n",
       "            ('MedialLemniscus_projections__thalamus_neurons__chemical', ...),\n",
       "            ('MedialLemniscus_projections__thalamus_neurons__chemical', ...),\n",
       "            ('MedialLemniscus_projections__thalamus_neurons__chemical', ...),\n",
       "            ('MedialLemniscus_projections__thalamus_neurons__chemical', ...),\n",
       "            ('MedialLemniscus_projections__thalamus_neurons__chemical', ...),\n",
       "            ('MedialLemniscus_projections__thalamus_neurons__chemical', ...)],\n",
       "           names=['population', 'edge_ids'], length=18147635)"
      ]
     },
     "execution_count": 16,
     "metadata": {},
     "output_type": "execute_result"
    }
   ],
   "source": [
    "circuit.edges.efferent_edges({'population_type': 'virtual'})"
   ]
  },
  {
   "cell_type": "markdown",
   "metadata": {
    "jp-MarkdownHeadingCollapsed": true
   },
   "source": [
    "Please note, however, that also `neuromodulatory` edges use `virtual` source nodes, so if these type of edges are present in the circuit, those will also be returned by `efferent_edges`.\n",
    "\n",
    "## Conclusion\n",
    "In this notebook, we learned all the different queries related to edges: how to find connecting nodes/edges, how to query for the properties we're interested in, etc. We also learned about the differences between querying nodes and querying edges and the reasons behind the differences. \n",
    "\n",
    "In the next notebook, we'll cover a more memory efficient way to go over edges: `iter_connections`."
   ]
  }
 ],
 "metadata": {
  "kernelspec": {
   "display_name": "Python 3 (ipykernel)",
   "language": "python",
   "name": "python3"
  },
  "language_info": {
   "codemirror_mode": {
    "name": "ipython",
    "version": 3
   },
   "file_extension": ".py",
   "mimetype": "text/x-python",
   "name": "python",
   "nbconvert_exporter": "python",
   "pygments_lexer": "ipython3",
   "version": "3.10.8"
  }
 },
 "nbformat": 4,
 "nbformat_minor": 4
}
