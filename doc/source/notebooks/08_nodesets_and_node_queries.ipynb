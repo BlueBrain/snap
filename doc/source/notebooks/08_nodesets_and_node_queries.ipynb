{
 "cells": [
  {
   "cell_type": "markdown",
   "metadata": {},
   "source": [
    "# Node sets and querying\n",
    "## Introduction\n",
    "In this tutorial we cover node sets; what they are and how to use them. We'll also demonstrate the different kind of queries in SNAP."
   ]
  },
  {
   "cell_type": "markdown",
   "metadata": {},
   "source": [
    "## Preamble\n",
    "The code in this section is identical to the code in sections \"Introduction\" and \"Loading\" from the previous tutorial. It assumes that you have already downloaded the circuit. If not, take a look to the notebook **01_circuits** (Downloading a circuit)."
   ]
  },
  {
   "cell_type": "code",
   "execution_count": 1,
   "metadata": {},
   "outputs": [],
   "source": [
    "import bluepysnap\n",
    "import pandas as pd\n",
    "\n",
    "circuit_path = \"sonata/circuit_sonata.json\"\n",
    "circuit = bluepysnap.Circuit(circuit_path)"
   ]
  },
  {
   "cell_type": "markdown",
   "metadata": {},
   "source": [
    "## Node sets\n",
    "As briefly mentioned in [node properties notebook](./03_node_properties.ipynb), node set is a predetermined collection of queries for nodes. They are saved in a JSON file which is usually added into the circuit and/or simulation config. For a more in-depth explanation, please see: [SONATA Node Sets - Circuit Documentation](https://sonata-extension.readthedocs.io/en/latest/sonata_nodeset.html).\n",
    "\n",
    "We can directly access node sets in snap if it's added to the circuit config:"
   ]
  },
  {
   "cell_type": "code",
   "execution_count": 2,
   "metadata": {},
   "outputs": [
    {
     "data": {
      "text/plain": [
       "{'Mosaic': ['All'],\n",
       " 'All': ['thalamus_neurons'],\n",
       " 'thalamus_neurons': {'population': 'thalamus_neurons'},\n",
       " 'Excitatory': {'synapse_class': 'EXC'},\n",
       " 'Inhibitory': {'synapse_class': 'INH'},\n",
       " 'Rt_RC': {'mtype': 'Rt_RC'},\n",
       " 'VPL_IN': {'mtype': 'VPL_IN'},\n",
       " 'VPL_TC': {'mtype': 'VPL_TC'},\n",
       " 'bAC_IN': {'etype': 'bAC_IN'},\n",
       " 'cAD_noscltb': {'etype': 'cAD_noscltb'},\n",
       " 'cNAD_noscltb': {'etype': 'cNAD_noscltb'},\n",
       " 'dAD_ltb': {'etype': 'dAD_ltb'},\n",
       " 'dNAD_ltb': {'etype': 'dNAD_ltb'},\n",
       " 'mc0;Rt': {'region': 'mc0;Rt'},\n",
       " 'mc0;VPL': {'region': 'mc0;VPL'},\n",
       " 'mc1;Rt': {'region': 'mc1;Rt'},\n",
       " 'mc1;VPL': {'region': 'mc1;VPL'},\n",
       " 'mc2;Rt': {'region': 'mc2;Rt'},\n",
       " 'mc2;VPL': {'region': 'mc2;VPL'},\n",
       " 'mc3;Rt': {'region': 'mc3;Rt'},\n",
       " 'mc3;VPL': {'region': 'mc3;VPL'},\n",
       " 'mc4;Rt': {'region': 'mc4;Rt'},\n",
       " 'mc4;VPL': {'region': 'mc4;VPL'},\n",
       " 'mc5;Rt': {'region': 'mc5;Rt'},\n",
       " 'mc5;VPL': {'region': 'mc5;VPL'},\n",
       " 'mc6;Rt': {'region': 'mc6;Rt'},\n",
       " 'mc6;VPL': {'region': 'mc6;VPL'},\n",
       " 'IN': {'mtype': {'$regex': '.*IN'}, 'region': {'$regex': '.*'}},\n",
       " 'TC': {'mtype': {'$regex': '.*TC'}, 'region': {'$regex': '.*'}},\n",
       " 'mc0_Column': {'region': {'$regex': 'mc0.*'}},\n",
       " 'mc1_Column': {'region': {'$regex': 'mc1.*'}},\n",
       " 'mc2_Column': {'region': {'$regex': 'mc2.*'}},\n",
       " 'mc3_Column': {'region': {'$regex': 'mc3.*'}},\n",
       " 'mc4_Column': {'region': {'$regex': 'mc4.*'}},\n",
       " 'mc5_Column': {'region': {'$regex': 'mc5.*'}},\n",
       " 'mc6_Column': {'region': {'$regex': 'mc6.*'}},\n",
       " 'gapjunctions': ['thalamus_neurons'],\n",
       " 'gap-junctions': ['gapjunctions'],\n",
       " 'ML_afferents': {'population': 'MedialLemniscus_projections'},\n",
       " 'CT_afferents': {'population': 'CorticoThalamic_projections'}}"
      ]
     },
     "execution_count": 2,
     "metadata": {},
     "output_type": "execute_result"
    }
   ],
   "source": [
    "circuit.node_sets.content"
   ]
  },
  {
   "cell_type": "markdown",
   "metadata": {},
   "source": [
    "To prove a point, let's query some ids using a node set, and compare it with querying with a similar query:"
   ]
  },
  {
   "cell_type": "code",
   "execution_count": 3,
   "metadata": {},
   "outputs": [
    {
     "name": "stdout",
     "output_type": "stream",
     "text": [
      "Ids found: 64856\n",
      "Queries result in the same outcome : True\n"
     ]
    }
   ],
   "source": [
    "node_set_result = circuit.nodes.ids('VPL_TC')\n",
    "print(f'Ids found: {len(node_set_result)}')\n",
    "\n",
    "query_result = circuit.nodes.ids({'mtype': 'VPL_TC'})\n",
    "print(f'Queries result in the same outcome : {node_set_result == query_result}')"
   ]
  },
  {
   "cell_type": "markdown",
   "metadata": {},
   "source": [
    "We'll go more into querying later at this document. For now, let's go over other aspects of node sets.\n",
    "\n",
    "### Node sets' features / usecases\n",
    "Sometimes, we may want to work with node sets that aren't found in a circuit or simulation config. This can be due to\n",
    "* experimenting\n",
    "* can't / don't want to modify the config file\n",
    "* combining node sets\n",
    "* etc.\n",
    "\n",
    "First of all, let's see how we can open / create node sets.\n",
    "\n",
    "#### Opening a node set file\n",
    "For demonstration purposes, let's open the circuit's node sets from a file:"
   ]
  },
  {
   "cell_type": "code",
   "execution_count": 4,
   "metadata": {},
   "outputs": [
    {
     "name": "stdout",
     "output_type": "stream",
     "text": [
      "Contents match: True\n"
     ]
    }
   ],
   "source": [
    "node_sets_circuit = bluepysnap.node_sets.NodeSets.from_file('./sonata/networks/nodes/node_sets.json')\n",
    "print(f\"Contents match: {node_sets_circuit.content == circuit.node_sets.content}\")"
   ]
  },
  {
   "cell_type": "markdown",
   "metadata": {},
   "source": [
    "#### Creating node sets on the fly\n",
    "\n",
    "If we want to, for example, test node sets without having to write them to a file and load that over and over again. We can create node sets directly from a dict:"
   ]
  },
  {
   "cell_type": "code",
   "execution_count": 5,
   "metadata": {},
   "outputs": [
    {
     "data": {
      "text/plain": [
       "{'nodes_0-9': {'node_id': [0, 1, 2, 3, 4, 5, 6, 7, 8, 9]}}"
      ]
     },
     "execution_count": 5,
     "metadata": {},
     "output_type": "execute_result"
    }
   ],
   "source": [
    "node_sets_0_9 = bluepysnap.node_sets.NodeSets.from_dict({'nodes_0-9': {'node_id': [*range(10)]}})\n",
    "node_sets_0_9.content"
   ]
  },
  {
   "attachments": {},
   "cell_type": "markdown",
   "metadata": {},
   "source": [
    "This may be handy if you can't modify the existing nodesets file, but want to augment it with nodesets.\n",
    "\n",
    "#### Combining node sets\n",
    "So now that we have two nodesets, `node_sets_circuit` read from a file and `node_sets_0_9` created from a dict, let's combine them. Naturally, we could also open two node sets from files and combine them.\n",
    "\n",
    "For this purpose, node sets objects have an `NodeSets.update()` method. `update` takes another node sets object as an argument, and adds all its node sets to itself. \n",
    "\n",
    "Let's update the `node_sets_circuit` with `node_sets_0_9`:"
   ]
  },
  {
   "cell_type": "code",
   "execution_count": 6,
   "metadata": {},
   "outputs": [
    {
     "data": {
      "text/plain": [
       "{'Mosaic': ['All'],\n",
       " 'All': ['thalamus_neurons'],\n",
       " 'thalamus_neurons': {'population': 'thalamus_neurons'},\n",
       " 'Excitatory': {'synapse_class': 'EXC'},\n",
       " 'Inhibitory': {'synapse_class': 'INH'},\n",
       " 'Rt_RC': {'mtype': 'Rt_RC'},\n",
       " 'VPL_IN': {'mtype': 'VPL_IN'},\n",
       " 'VPL_TC': {'mtype': 'VPL_TC'},\n",
       " 'bAC_IN': {'etype': 'bAC_IN'},\n",
       " 'cAD_noscltb': {'etype': 'cAD_noscltb'},\n",
       " 'cNAD_noscltb': {'etype': 'cNAD_noscltb'},\n",
       " 'dAD_ltb': {'etype': 'dAD_ltb'},\n",
       " 'dNAD_ltb': {'etype': 'dNAD_ltb'},\n",
       " 'mc0;Rt': {'region': 'mc0;Rt'},\n",
       " 'mc0;VPL': {'region': 'mc0;VPL'},\n",
       " 'mc1;Rt': {'region': 'mc1;Rt'},\n",
       " 'mc1;VPL': {'region': 'mc1;VPL'},\n",
       " 'mc2;Rt': {'region': 'mc2;Rt'},\n",
       " 'mc2;VPL': {'region': 'mc2;VPL'},\n",
       " 'mc3;Rt': {'region': 'mc3;Rt'},\n",
       " 'mc3;VPL': {'region': 'mc3;VPL'},\n",
       " 'mc4;Rt': {'region': 'mc4;Rt'},\n",
       " 'mc4;VPL': {'region': 'mc4;VPL'},\n",
       " 'mc5;Rt': {'region': 'mc5;Rt'},\n",
       " 'mc5;VPL': {'region': 'mc5;VPL'},\n",
       " 'mc6;Rt': {'region': 'mc6;Rt'},\n",
       " 'mc6;VPL': {'region': 'mc6;VPL'},\n",
       " 'IN': {'mtype': {'$regex': '.*IN'}, 'region': {'$regex': '.*'}},\n",
       " 'TC': {'mtype': {'$regex': '.*TC'}, 'region': {'$regex': '.*'}},\n",
       " 'mc0_Column': {'region': {'$regex': 'mc0.*'}},\n",
       " 'mc1_Column': {'region': {'$regex': 'mc1.*'}},\n",
       " 'mc2_Column': {'region': {'$regex': 'mc2.*'}},\n",
       " 'mc3_Column': {'region': {'$regex': 'mc3.*'}},\n",
       " 'mc4_Column': {'region': {'$regex': 'mc4.*'}},\n",
       " 'mc5_Column': {'region': {'$regex': 'mc5.*'}},\n",
       " 'mc6_Column': {'region': {'$regex': 'mc6.*'}},\n",
       " 'gapjunctions': ['thalamus_neurons'],\n",
       " 'gap-junctions': ['gapjunctions'],\n",
       " 'ML_afferents': {'population': 'MedialLemniscus_projections'},\n",
       " 'CT_afferents': {'population': 'CorticoThalamic_projections'},\n",
       " 'nodes_0-9': {'node_id': [0, 1, 2, 3, 4, 5, 6, 7, 8, 9]}}"
      ]
     },
     "execution_count": 6,
     "metadata": {},
     "output_type": "execute_result"
    }
   ],
   "source": [
    "node_sets_circuit.update(node_sets_0_9)\n",
    "node_sets_circuit.content"
   ]
  },
  {
   "cell_type": "markdown",
   "metadata": {},
   "source": [
    "as we can see, the node sets object contains the newly created node set `nodes_0-9`.\n",
    "\n",
    "**WARNING:** if the node sets object already contains node sets with same names as in the update, those node sets will be overwritten. The names of the overwritten node sets are returned in the `update` function:"
   ]
  },
  {
   "cell_type": "code",
   "execution_count": 7,
   "metadata": {},
   "outputs": [
    {
     "name": "stdout",
     "output_type": "stream",
     "text": [
      "Overwritten node sets: {'nodes_0-9'}\n",
      "content[\"nodes_0-9\"]: {'node_id': [1]}\n"
     ]
    }
   ],
   "source": [
    "# Let's overwrite 'nodes_0-9'\n",
    "fake_0_9_node_set = bluepysnap.node_sets.NodeSets.from_dict({'nodes_0-9': {'node_id': [1]}})\n",
    "overwritten = node_sets_circuit.update(fake_0_9_node_set)\n",
    "print(f'Overwritten node sets: {overwritten}')\n",
    "print(f'content[\"nodes_0-9\"]: {node_sets_circuit.content[\"nodes_0-9\"]}')"
   ]
  },
  {
   "cell_type": "markdown",
   "metadata": {},
   "source": [
    "#### Compound node sets\n",
    "Compound node sets are literally node sets that are composed of other node sets. Let's create node sets with one compound node set:"
   ]
  },
  {
   "cell_type": "code",
   "execution_count": 8,
   "metadata": {},
   "outputs": [
    {
     "data": {
      "text/plain": [
       "{'nodes_0-4': {'node_id': [0, 1, 2, 3, 4]},\n",
       " 'nodes_5-9': {'node_id': [5, 6, 7, 8, 9]},\n",
       " 'nodes_0-9': ['nodes_0-4', 'nodes_5-9']}"
      ]
     },
     "execution_count": 8,
     "metadata": {},
     "output_type": "execute_result"
    }
   ],
   "source": [
    "node_sets_compound = bluepysnap.node_sets.NodeSets.from_dict({\n",
    "    'nodes_0-4': {'node_id': [*range(5)]},\n",
    "    'nodes_5-9': {'node_id': [*range(5,10)]},\n",
    "    'nodes_0-9': ['nodes_0-4', 'nodes_5-9'], # Compound node set with node set names in a list results in OR case\n",
    "})\n",
    "node_sets_compound.content"
   ]
  },
  {
   "attachments": {},
   "cell_type": "markdown",
   "metadata": {},
   "source": [
    "**NOTE:** Compound node sets always represent \"OR\" instead of \"AND\". I.e., the queries return results belonging to any of the node sets listed in a compound node set.\n",
    "\n",
    "#### Referring to a node set in a `NodeSets` object\n",
    "`NodeSets` object works kind of like a `dict` in the sense that if you wish to refer to a specific node set, the syntax is the same as in `dict`:"
   ]
  },
  {
   "cell_type": "code",
   "execution_count": 9,
   "metadata": {},
   "outputs": [
    {
     "data": {
      "text/plain": [
       "<bluepysnap.node_sets.NodeSet at 0x7fffa42ddc30>"
      ]
     },
     "execution_count": 9,
     "metadata": {},
     "output_type": "execute_result"
    }
   ],
   "source": [
    "node_sets_circuit['VPL_TC']"
   ]
  },
  {
   "cell_type": "markdown",
   "metadata": {},
   "source": [
    "Above, we got a `NodeSet` (not `NodeSets`!) object, i.e., one instance of a node set. For our purposes, we don't really have to know what it is, as long as we know how to access it. This will become handy in querying."
   ]
  },
  {
   "cell_type": "markdown",
   "metadata": {},
   "source": [
    "## Querying\n",
    "\n",
    "This section presents different ways to query data from nodes and edges. Since we just went over node sets, lets put them into the spotlight and see how we can utilize them in queries.\n",
    "\n",
    "### Queries with node sets\n",
    "As we know, we can use the plain node set name as a string (e.g., `circuit.nodes.ids('VPL_TC')`) to use a node set for queries. However, this only works for the node sets integrated in the circuit.\n",
    "\n",
    "Luckily, if we want to use node sets external to the circuit config, we can do so by just passing the `NodeSet` object as a query:"
   ]
  },
  {
   "cell_type": "code",
   "execution_count": 10,
   "metadata": {},
   "outputs": [
    {
     "data": {
      "text/plain": [
       "CircuitNodeIds([('CorticoThalamic_projections', 0),\n",
       "            ('CorticoThalamic_projections', 1),\n",
       "            ('CorticoThalamic_projections', 2),\n",
       "            ('CorticoThalamic_projections', 3),\n",
       "            ('CorticoThalamic_projections', 4),\n",
       "            ('CorticoThalamic_projections', 5),\n",
       "            ('CorticoThalamic_projections', 6),\n",
       "            ('CorticoThalamic_projections', 7),\n",
       "            ('CorticoThalamic_projections', 8),\n",
       "            ('CorticoThalamic_projections', 9),\n",
       "            ('MedialLemniscus_projections', 0),\n",
       "            ('MedialLemniscus_projections', 1),\n",
       "            ('MedialLemniscus_projections', 2),\n",
       "            ('MedialLemniscus_projections', 3),\n",
       "            ('MedialLemniscus_projections', 4),\n",
       "            ('MedialLemniscus_projections', 5),\n",
       "            ('MedialLemniscus_projections', 6),\n",
       "            ('MedialLemniscus_projections', 7),\n",
       "            ('MedialLemniscus_projections', 8),\n",
       "            ('MedialLemniscus_projections', 9),\n",
       "            (           'thalamus_neurons', 0),\n",
       "            (           'thalamus_neurons', 1),\n",
       "            (           'thalamus_neurons', 2),\n",
       "            (           'thalamus_neurons', 3),\n",
       "            (           'thalamus_neurons', 4),\n",
       "            (           'thalamus_neurons', 5),\n",
       "            (           'thalamus_neurons', 6),\n",
       "            (           'thalamus_neurons', 7),\n",
       "            (           'thalamus_neurons', 8),\n",
       "            (           'thalamus_neurons', 9)],\n",
       "           names=['population', 'node_ids'])"
      ]
     },
     "execution_count": 10,
     "metadata": {},
     "output_type": "execute_result"
    }
   ],
   "source": [
    "# circuit.nodes.ids('nodes_0-9')  # This would raise an error: BluepySnapError: Undefined node set: 'nodes_0-9'\n",
    "circuit.nodes.ids(node_sets_compound['nodes_0-9'])"
   ]
  },
  {
   "cell_type": "markdown",
   "metadata": {},
   "source": [
    "## Querying in general\n",
    "We can query data based on mtype, etype, node_id, region, layer or any of the properties the nodes / edges have:"
   ]
  },
  {
   "cell_type": "code",
   "execution_count": 11,
   "metadata": {},
   "outputs": [
    {
     "data": {
      "text/plain": [
       "{'@dynamics:holding_current',\n",
       " '@dynamics:threshold_current',\n",
       " 'etype',\n",
       " 'layer',\n",
       " 'model_template',\n",
       " 'model_type',\n",
       " 'morph_class',\n",
       " 'morphology',\n",
       " 'mtype',\n",
       " 'orientation_w',\n",
       " 'orientation_x',\n",
       " 'orientation_y',\n",
       " 'orientation_z',\n",
       " 'region',\n",
       " 'rotation_angle_xaxis',\n",
       " 'rotation_angle_yaxis',\n",
       " 'rotation_angle_zaxis',\n",
       " 'synapse_class',\n",
       " 'x',\n",
       " 'y',\n",
       " 'z'}"
      ]
     },
     "execution_count": 11,
     "metadata": {},
     "output_type": "execute_result"
    }
   ],
   "source": [
    "circuit.nodes.property_names"
   ]
  },
  {
   "cell_type": "markdown",
   "metadata": {},
   "source": [
    "When the query is a `dict` and there is a `list` in the query, it is (usually) considered as an \"OR\" condition, and the keys of the query are considered as an \"AND\" condition. E.g.,\n",
    "```python\n",
    "circuit.nodes.ids({                    # give me the ids of nodes that\n",
    "    'mtype': ['VPL_TC', 'VPL_IN']      # have mtype of 'VPL_TC' or 'VPL_IN' and\n",
    "    'population': 'thalamus_neurons'   # belong to a population 'thalamus_neurons'\n",
    "})  \n",
    "```\n",
    "\n",
    "Let's start with simple examples and work our way up to more complex queries.\n",
    "\n",
    "### Querying with ids\n",
    "\n",
    "#### Integers as `id`s\n",
    "There are a few methods to query using ids. The most simple way is just use a single integer or a list of integers:"
   ]
  },
  {
   "cell_type": "code",
   "execution_count": 12,
   "metadata": {},
   "outputs": [
    {
     "name": "stdout",
     "output_type": "stream",
     "text": [
      "CircuitNodeIds([('CorticoThalamic_projections', 1),\n",
      "            ('MedialLemniscus_projections', 1),\n",
      "            (           'thalamus_neurons', 1)],\n",
      "           names=['population', 'node_ids'])\n",
      "CircuitNodeIds([('CorticoThalamic_projections', 1),\n",
      "            ('MedialLemniscus_projections', 1),\n",
      "            (           'thalamus_neurons', 1)],\n",
      "           names=['population', 'node_ids'])\n"
     ]
    }
   ],
   "source": [
    "print(circuit.nodes.ids(1))\n",
    "print(circuit.nodes.ids([1]))"
   ]
  },
  {
   "cell_type": "markdown",
   "metadata": {},
   "source": [
    "This results in any nodes in any of the populations that have nodes with the given id(s). \n",
    "\n",
    "If we want to specify a population, we can do the above query with a `dict` instead:"
   ]
  },
  {
   "cell_type": "code",
   "execution_count": 13,
   "metadata": {},
   "outputs": [
    {
     "data": {
      "text/plain": [
       "CircuitNodeIds([('thalamus_neurons', 1)],\n",
       "           names=['population', 'node_ids'])"
      ]
     },
     "execution_count": 13,
     "metadata": {},
     "output_type": "execute_result"
    }
   ],
   "source": [
    "circuit.nodes.ids({'node_id': 1, 'population': 'thalamus_neurons'})"
   ]
  },
  {
   "attachments": {},
   "cell_type": "markdown",
   "metadata": {},
   "source": [
    "#### Using `CircuitNodeIds` / `CircuitEdgeIds`\n",
    "\n",
    "We could also use `CircuitNodeIds` (`CircuitEdgeIds` for edges) to specify the population and the node ids to consider. These objects are the same objects returned from the `ids` function and we wouldn't generally need to create them by hand.\n",
    "\n",
    "The main things you need to know is that these objects are returned from the `ids` functions and they can be directly passed on to `get` functions.\n",
    "\n",
    "For the sake of an example, lets create a `CircuitNodeIds` object. There are several methods to instantiate them, but we'll use `from_dict` here:"
   ]
  },
  {
   "cell_type": "code",
   "execution_count": 14,
   "metadata": {},
   "outputs": [
    {
     "name": "stdout",
     "output_type": "stream",
     "text": [
      "CircuitNodeIds([('thalamus_neurons', 1)],\n",
      "           names=['population', 'node_ids'])\n"
     ]
    }
   ],
   "source": [
    "ids_from_dict = bluepysnap.circuit_ids.CircuitNodeIds.from_dict({'thalamus_neurons': [1]})\n",
    "print(ids_from_dict)"
   ]
  },
  {
   "cell_type": "markdown",
   "metadata": {},
   "source": [
    "As you may see, it's exactly what was returned by the `circuit.nodes.ids` function. Let's use it to do a get query:"
   ]
  },
  {
   "cell_type": "code",
   "execution_count": 15,
   "metadata": {},
   "outputs": [
    {
     "data": {
      "text/html": [
       "<div>\n",
       "<style scoped>\n",
       "    .dataframe tbody tr th:only-of-type {\n",
       "        vertical-align: middle;\n",
       "    }\n",
       "\n",
       "    .dataframe tbody tr th {\n",
       "        vertical-align: top;\n",
       "    }\n",
       "\n",
       "    .dataframe thead th {\n",
       "        text-align: right;\n",
       "    }\n",
       "</style>\n",
       "<table border=\"1\" class=\"dataframe\">\n",
       "  <thead>\n",
       "    <tr style=\"text-align: right;\">\n",
       "      <th></th>\n",
       "      <th></th>\n",
       "      <th>layer</th>\n",
       "    </tr>\n",
       "    <tr>\n",
       "      <th>population</th>\n",
       "      <th>node_ids</th>\n",
       "      <th></th>\n",
       "    </tr>\n",
       "  </thead>\n",
       "  <tbody>\n",
       "    <tr>\n",
       "      <th>thalamus_neurons</th>\n",
       "      <th>1</th>\n",
       "      <td>Rt</td>\n",
       "    </tr>\n",
       "  </tbody>\n",
       "</table>\n",
       "</div>"
      ],
      "text/plain": [
       "                          layer\n",
       "population       node_ids      \n",
       "thalamus_neurons 1           Rt"
      ]
     },
     "execution_count": 15,
     "metadata": {},
     "output_type": "execute_result"
    }
   ],
   "source": [
    "result = circuit.nodes.get(ids_from_dict, properties=['layer'])\n",
    "pd.concat([df for _,df in result])"
   ]
  },
  {
   "cell_type": "markdown",
   "metadata": {},
   "source": [
    "#### Resolved `ids` in `get` queries\n",
    "As mentioned, we can use the output of the ids as an argument to the `get` function:\n",
    "```python\n",
    "ids = circuit.nodes.ids({'node_id': [1, 2], 'population': 'thalamus_neurons'})\n",
    "circuit.nodes.get(ids, properties=['layer'])\n",
    "```\n",
    "but, better yet, we can just pass the query to the `get` function as the `id`s are resolved internally:"
   ]
  },
  {
   "cell_type": "code",
   "execution_count": 16,
   "metadata": {},
   "outputs": [
    {
     "data": {
      "text/html": [
       "<div>\n",
       "<style scoped>\n",
       "    .dataframe tbody tr th:only-of-type {\n",
       "        vertical-align: middle;\n",
       "    }\n",
       "\n",
       "    .dataframe tbody tr th {\n",
       "        vertical-align: top;\n",
       "    }\n",
       "\n",
       "    .dataframe thead th {\n",
       "        text-align: right;\n",
       "    }\n",
       "</style>\n",
       "<table border=\"1\" class=\"dataframe\">\n",
       "  <thead>\n",
       "    <tr style=\"text-align: right;\">\n",
       "      <th></th>\n",
       "      <th></th>\n",
       "      <th>layer</th>\n",
       "    </tr>\n",
       "    <tr>\n",
       "      <th>population</th>\n",
       "      <th>node_ids</th>\n",
       "      <th></th>\n",
       "    </tr>\n",
       "  </thead>\n",
       "  <tbody>\n",
       "    <tr>\n",
       "      <th rowspan=\"2\" valign=\"top\">thalamus_neurons</th>\n",
       "      <th>1</th>\n",
       "      <td>Rt</td>\n",
       "    </tr>\n",
       "    <tr>\n",
       "      <th>2</th>\n",
       "      <td>Rt</td>\n",
       "    </tr>\n",
       "  </tbody>\n",
       "</table>\n",
       "</div>"
      ],
      "text/plain": [
       "                          layer\n",
       "population       node_ids      \n",
       "thalamus_neurons 1           Rt\n",
       "                 2           Rt"
      ]
     },
     "execution_count": 16,
     "metadata": {},
     "output_type": "execute_result"
    }
   ],
   "source": [
    "result = circuit.nodes.get({'node_id': [1, 2], 'population': 'thalamus_neurons'}, properties=['layer'])\n",
    "pd.concat([df for _,df in result])"
   ]
  },
  {
   "cell_type": "markdown",
   "metadata": {},
   "source": [
    "### Querying with regex\n",
    "We can use regex to query data (e.g., to cover \"OR\" cases) by using the key `$regex` and specify an expression as a `str`. For example, let's search `thalamus_neurons` by `mtypes` that start with `VPL`:\n",
    "\n"
   ]
  },
  {
   "cell_type": "code",
   "execution_count": 17,
   "metadata": {},
   "outputs": [
    {
     "data": {
      "text/html": [
       "<div>\n",
       "<style scoped>\n",
       "    .dataframe tbody tr th:only-of-type {\n",
       "        vertical-align: middle;\n",
       "    }\n",
       "\n",
       "    .dataframe tbody tr th {\n",
       "        vertical-align: top;\n",
       "    }\n",
       "\n",
       "    .dataframe thead th {\n",
       "        text-align: right;\n",
       "    }\n",
       "</style>\n",
       "<table border=\"1\" class=\"dataframe\">\n",
       "  <thead>\n",
       "    <tr style=\"text-align: right;\">\n",
       "      <th></th>\n",
       "      <th>mtype</th>\n",
       "    </tr>\n",
       "    <tr>\n",
       "      <th>node_ids</th>\n",
       "      <th></th>\n",
       "    </tr>\n",
       "  </thead>\n",
       "  <tbody>\n",
       "    <tr>\n",
       "      <th>5002</th>\n",
       "      <td>VPL_TC</td>\n",
       "    </tr>\n",
       "    <tr>\n",
       "      <th>5003</th>\n",
       "      <td>VPL_TC</td>\n",
       "    </tr>\n",
       "    <tr>\n",
       "      <th>5004</th>\n",
       "      <td>VPL_TC</td>\n",
       "    </tr>\n",
       "    <tr>\n",
       "      <th>5005</th>\n",
       "      <td>VPL_TC</td>\n",
       "    </tr>\n",
       "    <tr>\n",
       "      <th>5006</th>\n",
       "      <td>VPL_TC</td>\n",
       "    </tr>\n",
       "    <tr>\n",
       "      <th>...</th>\n",
       "      <td>...</td>\n",
       "    </tr>\n",
       "    <tr>\n",
       "      <th>100760</th>\n",
       "      <td>VPL_IN</td>\n",
       "    </tr>\n",
       "    <tr>\n",
       "      <th>100761</th>\n",
       "      <td>VPL_IN</td>\n",
       "    </tr>\n",
       "    <tr>\n",
       "      <th>100762</th>\n",
       "      <td>VPL_IN</td>\n",
       "    </tr>\n",
       "    <tr>\n",
       "      <th>100763</th>\n",
       "      <td>VPL_IN</td>\n",
       "    </tr>\n",
       "    <tr>\n",
       "      <th>100764</th>\n",
       "      <td>VPL_IN</td>\n",
       "    </tr>\n",
       "  </tbody>\n",
       "</table>\n",
       "<p>65198 rows × 1 columns</p>\n",
       "</div>"
      ],
      "text/plain": [
       "           mtype\n",
       "node_ids        \n",
       "5002      VPL_TC\n",
       "5003      VPL_TC\n",
       "5004      VPL_TC\n",
       "5005      VPL_TC\n",
       "5006      VPL_TC\n",
       "...          ...\n",
       "100760    VPL_IN\n",
       "100761    VPL_IN\n",
       "100762    VPL_IN\n",
       "100763    VPL_IN\n",
       "100764    VPL_IN\n",
       "\n",
       "[65198 rows x 1 columns]"
      ]
     },
     "execution_count": 17,
     "metadata": {},
     "output_type": "execute_result"
    }
   ],
   "source": [
    " circuit.nodes['thalamus_neurons'].get({\"mtype\": {\"$regex\": \"^VPL_.*\"}}, properties=['mtype'])"
   ]
  },
  {
   "cell_type": "markdown",
   "metadata": {},
   "source": [
    "### Querying ranges of values\n",
    "\n",
    "As shown above, we can query data based on discrete values of properties such as node set, layer etc. However, all properties are not made equal. \n",
    "\n",
    "When there is a `list` in the query, it is _usually_ considered an \"OR\" condition. There is one exception and that is numeric properties represented by `float`s. Whenever a property is represented by a `float`, a `list` will need to specify exactly two values: start of a range and end of a range (i.e., minimum and maximum values to consider).\n",
    "\n",
    "Let's take a look which properties in `'thalamus_neurons'` are floats:"
   ]
  },
  {
   "cell_type": "code",
   "execution_count": 18,
   "metadata": {},
   "outputs": [
    {
     "data": {
      "text/plain": [
       "@dynamics:holding_current       float32\n",
       "@dynamics:threshold_current     float32\n",
       "etype                          category\n",
       "layer                            object\n",
       "model_template                   object\n",
       "model_type                       object\n",
       "morph_class                    category\n",
       "morphology                     category\n",
       "mtype                          category\n",
       "orientation_w                   float32\n",
       "orientation_x                   float32\n",
       "orientation_y                   float32\n",
       "orientation_z                   float32\n",
       "region                           object\n",
       "rotation_angle_xaxis            float32\n",
       "rotation_angle_yaxis            float32\n",
       "rotation_angle_zaxis            float32\n",
       "synapse_class                  category\n",
       "x                               float32\n",
       "y                               float32\n",
       "z                               float32\n",
       "dtype: object"
      ]
     },
     "execution_count": 18,
     "metadata": {},
     "output_type": "execute_result"
    }
   ],
   "source": [
    "circuit.nodes['thalamus_neurons'].property_dtypes"
   ]
  },
  {
   "cell_type": "markdown",
   "metadata": {},
   "source": [
    "Now, let's take `x`, `y`, `z` and query nodes that inside a 50x50x50 box limited by:\n",
    "* `100 <= x <= 150`\n",
    "* `500 <= y <= 550`\n",
    "* `400 <= z <= 450`"
   ]
  },
  {
   "cell_type": "code",
   "execution_count": 19,
   "metadata": {},
   "outputs": [
    {
     "data": {
      "text/html": [
       "<div>\n",
       "<style scoped>\n",
       "    .dataframe tbody tr th:only-of-type {\n",
       "        vertical-align: middle;\n",
       "    }\n",
       "\n",
       "    .dataframe tbody tr th {\n",
       "        vertical-align: top;\n",
       "    }\n",
       "\n",
       "    .dataframe thead th {\n",
       "        text-align: right;\n",
       "    }\n",
       "</style>\n",
       "<table border=\"1\" class=\"dataframe\">\n",
       "  <thead>\n",
       "    <tr style=\"text-align: right;\">\n",
       "      <th></th>\n",
       "      <th>x</th>\n",
       "      <th>y</th>\n",
       "      <th>z</th>\n",
       "    </tr>\n",
       "    <tr>\n",
       "      <th>node_ids</th>\n",
       "      <th></th>\n",
       "      <th></th>\n",
       "      <th></th>\n",
       "    </tr>\n",
       "  </thead>\n",
       "  <tbody>\n",
       "    <tr>\n",
       "      <th>26101</th>\n",
       "      <td>109.218941</td>\n",
       "      <td>526.994873</td>\n",
       "      <td>433.528503</td>\n",
       "    </tr>\n",
       "    <tr>\n",
       "      <th>27832</th>\n",
       "      <td>116.552238</td>\n",
       "      <td>519.171082</td>\n",
       "      <td>414.830933</td>\n",
       "    </tr>\n",
       "    <tr>\n",
       "      <th>27993</th>\n",
       "      <td>100.712425</td>\n",
       "      <td>535.644287</td>\n",
       "      <td>401.546112</td>\n",
       "    </tr>\n",
       "    <tr>\n",
       "      <th>28285</th>\n",
       "      <td>133.707870</td>\n",
       "      <td>531.594727</td>\n",
       "      <td>444.947723</td>\n",
       "    </tr>\n",
       "    <tr>\n",
       "      <th>28377</th>\n",
       "      <td>145.187637</td>\n",
       "      <td>547.493591</td>\n",
       "      <td>403.406708</td>\n",
       "    </tr>\n",
       "    <tr>\n",
       "      <th>28378</th>\n",
       "      <td>127.572868</td>\n",
       "      <td>538.761536</td>\n",
       "      <td>422.776123</td>\n",
       "    </tr>\n",
       "    <tr>\n",
       "      <th>28380</th>\n",
       "      <td>143.356384</td>\n",
       "      <td>525.541626</td>\n",
       "      <td>409.481781</td>\n",
       "    </tr>\n",
       "    <tr>\n",
       "      <th>28381</th>\n",
       "      <td>135.235031</td>\n",
       "      <td>517.312378</td>\n",
       "      <td>428.180695</td>\n",
       "    </tr>\n",
       "  </tbody>\n",
       "</table>\n",
       "</div>"
      ],
      "text/plain": [
       "                   x           y           z\n",
       "node_ids                                    \n",
       "26101     109.218941  526.994873  433.528503\n",
       "27832     116.552238  519.171082  414.830933\n",
       "27993     100.712425  535.644287  401.546112\n",
       "28285     133.707870  531.594727  444.947723\n",
       "28377     145.187637  547.493591  403.406708\n",
       "28378     127.572868  538.761536  422.776123\n",
       "28380     143.356384  525.541626  409.481781\n",
       "28381     135.235031  517.312378  428.180695"
      ]
     },
     "execution_count": 19,
     "metadata": {},
     "output_type": "execute_result"
    }
   ],
   "source": [
    "circuit.nodes['thalamus_neurons'].get({\n",
    "    'x': [100, 150],\n",
    "    'y': [500, 550],\n",
    "    'z': [400, 450],    \n",
    "}, properties=['x', 'y', 'z'])"
   ]
  },
  {
   "cell_type": "markdown",
   "metadata": {},
   "source": [
    "### Complex (or rather, combined) queries\n",
    "In some cases, we might want to specify our queries further, which makes them complex but not necessarily complicated.\n",
    "\n",
    "For example, the issue with compound node sets is that it is always considered an \"OR\" condition, since it's a list.\n",
    "What if you wanted to combine two node sets and make it an \"AND\" condition. For this case, there is a key `$node_set` we must combine with yet another key `$and`:"
   ]
  },
  {
   "cell_type": "code",
   "execution_count": 20,
   "metadata": {},
   "outputs": [
    {
     "data": {
      "text/plain": [
       "CircuitNodeIds([('thalamus_neurons',     0),\n",
       "            ('thalamus_neurons',     1),\n",
       "            ('thalamus_neurons',     2),\n",
       "            ('thalamus_neurons',     3),\n",
       "            ('thalamus_neurons',     4),\n",
       "            ('thalamus_neurons',     5),\n",
       "            ('thalamus_neurons',     6),\n",
       "            ('thalamus_neurons',     7),\n",
       "            ('thalamus_neurons',     8),\n",
       "            ('thalamus_neurons',     9),\n",
       "            ...\n",
       "            ('thalamus_neurons', 91247),\n",
       "            ('thalamus_neurons', 91248),\n",
       "            ('thalamus_neurons', 91249),\n",
       "            ('thalamus_neurons', 91250),\n",
       "            ('thalamus_neurons', 91251),\n",
       "            ('thalamus_neurons', 91252),\n",
       "            ('thalamus_neurons', 91253),\n",
       "            ('thalamus_neurons', 91254),\n",
       "            ('thalamus_neurons', 91255),\n",
       "            ('thalamus_neurons', 91256)],\n",
       "           names=['population', 'node_ids'], length=35567)"
      ]
     },
     "execution_count": 20,
     "metadata": {},
     "output_type": "execute_result"
    }
   ],
   "source": [
    "circuit.nodes.ids({\n",
    "    '$and': [  # list of queries that are considered as: AND conditions\n",
    "         {'$node_set': 'thalamus_neurons'},\n",
    "         {'$node_set': 'Rt_RC'}\n",
    "]})"
   ]
  },
  {
   "cell_type": "markdown",
   "metadata": {},
   "source": [
    "This, however, can not be done with node sets external to the circuit.\n",
    "\n",
    "It may also be that you want to query something as an \"OR\" condition rather than \"AND\".\n",
    "For example querying\n",
    "```python\n",
    "circuit.nodes.ids({'mtype': 'VPL_IN', 'region': 'mc2;Rt'})\n",
    "```\n",
    "will never return any ids. So how do we make it an \"OR\" case? That's right, with the help of `$or`:"
   ]
  },
  {
   "cell_type": "code",
   "execution_count": 21,
   "metadata": {},
   "outputs": [
    {
     "name": "stdout",
     "output_type": "stream",
     "text": [
      "('Rt_RC', 'mc2;Rt')\n",
      "('VPL_IN', 'mc0;VPL')\n",
      "('VPL_IN', 'mc1;VPL')\n",
      "('VPL_IN', 'mc2;VPL')\n",
      "('VPL_IN', 'mc3;VPL')\n",
      "('VPL_IN', 'mc4;VPL')\n",
      "('VPL_IN', 'mc5;VPL')\n",
      "('VPL_IN', 'mc6;VPL')\n"
     ]
    }
   ],
   "source": [
    "result = circuit.nodes['thalamus_neurons'].get({\n",
    "    '$or':[ # same as with $and, except the list is considered as OR condition\n",
    "        {'mtype': 'VPL_IN'},\n",
    "        {'region': 'mc2;Rt'}\n",
    "]}, properties=['mtype', 'region'])\n",
    "\n",
    "# Let's print all the unique mtype-region pairs:\n",
    "for pair in result.groupby(['mtype', 'region'], observed=True).groups.keys():\n",
    "    print(pair)"
   ]
  },
  {
   "cell_type": "markdown",
   "metadata": {},
   "source": [
    "## Conclusion\n",
    "In this notebook we took a deeper look into node sets and how to query data in SNAP."
   ]
  }
 ],
 "metadata": {
  "kernelspec": {
   "display_name": "Python 3 (ipykernel)",
   "language": "python",
   "name": "python3"
  },
  "language_info": {
   "codemirror_mode": {
    "name": "ipython",
    "version": 3
   },
   "file_extension": ".py",
   "mimetype": "text/x-python",
   "name": "python",
   "nbconvert_exporter": "python",
   "pygments_lexer": "ipython3",
   "version": "3.10.8"
  }
 },
 "nbformat": 4,
 "nbformat_minor": 4
}
