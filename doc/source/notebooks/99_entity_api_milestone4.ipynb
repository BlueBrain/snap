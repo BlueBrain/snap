{
 "cells": [
  {
   "cell_type": "markdown",
   "metadata": {},
   "source": [
    "# Milestone 4: Provenance information"
   ]
  },
  {
   "cell_type": "markdown",
   "metadata": {},
   "source": [
    "Setup"
   ]
  },
  {
   "cell_type": "code",
   "execution_count": null,
   "metadata": {},
   "outputs": [],
   "source": [
    "import getpass\n",
    "import logging\n",
    "from pathlib import Path\n",
    "\n",
    "from bluepysnap.api import Api\n",
    "\n",
    "logging.basicConfig(level=logging.WARNING)\n",
    "\n",
    "ORGANIZATION = \"nse\"\n",
    "PROJECT = \"test\""
   ]
  },
  {
   "cell_type": "markdown",
   "metadata": {},
   "source": [
    "Paste the token from https://bbp.epfl.ch/nexus/web/"
   ]
  },
  {
   "cell_type": "code",
   "execution_count": null,
   "metadata": {},
   "outputs": [],
   "source": [
    "TOKEN = getpass.getpass()"
   ]
  },
  {
   "cell_type": "code",
   "execution_count": null,
   "metadata": {},
   "outputs": [],
   "source": [
    "nexus_config = \"../../../examples/configurations/api/forge.yml\"\n",
    "api = Api(nexus_config=nexus_config, bucket=f\"{ORGANIZATION}/{PROJECT}\", token=TOKEN, debug=False)"
   ]
  },
  {
   "cell_type": "markdown",
   "metadata": {},
   "source": [
    "### Give me all the circuits using the morphology release with a given id"
   ]
  },
  {
   "cell_type": "code",
   "execution_count": null,
   "metadata": {},
   "outputs": [],
   "source": [
    "morphology_release_id = \"https://bbp.epfl.ch/nexus/v1/resources/nse/test/_/O0-20180419_morph_release\"\n",
    "circuits = api.get_entities(\n",
    "    \"DetailedCircuit\",\n",
    "    {\"nodeCollection.memodelRelease.morphologyRelease\": f\"<{morphology_release_id}>\"},\n",
    ")\n",
    "print(len(circuits))\n",
    "print(circuits[0])\n",
    "print(circuits[0].resource)"
   ]
  },
  {
   "cell_type": "markdown",
   "metadata": {},
   "source": [
    "### Give me all the circuits using the morphology release with a given name"
   ]
  },
  {
   "cell_type": "code",
   "execution_count": null,
   "metadata": {},
   "outputs": [],
   "source": [
    "circuits = api.get_entities(\n",
    "    \"DetailedCircuit\",\n",
    "    {\"nodeCollection.memodelRelease.morphologyRelease.name\": \"O0-20180419_morph_release\"},\n",
    ")\n",
    "print(len(circuits))\n",
    "print(circuits[0])\n",
    "print(circuits[0].resource)"
   ]
  },
  {
   "cell_type": "markdown",
   "metadata": {},
   "source": [
    "### Give me the morphology release used by the circuit with the given id"
   ]
  },
  {
   "cell_type": "code",
   "execution_count": null,
   "metadata": {},
   "outputs": [],
   "source": [
    "circuit_id = \"https://bbp.epfl.ch/nexus/v1/resources/nse/test/_/O0-20180419\"\n",
    "morphology_releases = api.get_entities(\n",
    "    \"MorphologyRelease\",\n",
    "    {\"^morphologyRelease.^memodelRelease.^nodeCollection\": f\"<{circuit_id}>\"},\n",
    ")\n",
    "print(len(morphology_releases))\n",
    "print(morphology_releases[0])\n",
    "print(morphology_releases[0].resource)"
   ]
  },
  {
   "cell_type": "markdown",
   "metadata": {},
   "source": [
    "### Give me the morphology release used by the circuit with the given name"
   ]
  },
  {
   "cell_type": "code",
   "execution_count": null,
   "metadata": {},
   "outputs": [],
   "source": [
    "morphology_releases = api.get_entities(\n",
    "    \"MorphologyRelease\",\n",
    "    {\"^morphologyRelease.^memodelRelease.^nodeCollection.name\": \"Thalamus microcircuit v1\"},\n",
    ")\n",
    "print(len(morphology_releases))\n",
    "print(morphology_releases[0])\n",
    "print(morphology_releases[0].resource)"
   ]
  }
 ],
 "metadata": {
  "kernelspec": {
   "display_name": "Python 3",
   "language": "python",
   "name": "python3"
  },
  "language_info": {
   "codemirror_mode": {
    "name": "ipython",
    "version": 3
   },
   "file_extension": ".py",
   "mimetype": "text/x-python",
   "name": "python",
   "nbconvert_exporter": "python",
   "pygments_lexer": "ipython3",
   "version": "3.7.8"
  }
 },
 "nbformat": 4,
 "nbformat_minor": 4
}
