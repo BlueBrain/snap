{
 "cells": [
  {
   "cell_type": "markdown",
   "metadata": {},
   "source": [
    "# Milestone 4: Provenance information"
   ]
  },
  {
   "cell_type": "markdown",
   "metadata": {},
   "source": [
    "Setup"
   ]
  },
  {
   "cell_type": "code",
   "execution_count": null,
   "metadata": {},
   "outputs": [],
   "source": [
    "import getpass\n",
    "import logging\n",
    "from pathlib import Path\n",
    "\n",
    "from bluepysnap.api import Api\n",
    "\n",
    "logging.basicConfig(level=logging.WARNING)\n",
    "\n",
    "ORGANIZATION = \"nse\"\n",
    "PROJECT = \"test\""
   ]
  },
  {
   "cell_type": "markdown",
   "metadata": {},
   "source": [
    "Paste the token from https://bbp.epfl.ch/nexus/web/"
   ]
  },
  {
   "cell_type": "code",
   "execution_count": null,
   "metadata": {},
   "outputs": [],
   "source": [
    "TOKEN = getpass.getpass()"
   ]
  },
  {
   "cell_type": "code",
   "execution_count": null,
   "metadata": {},
   "outputs": [],
   "source": [
    "api = Api(bucket=f\"{ORGANIZATION}/{PROJECT}\", token=TOKEN, debug=False)"
   ]
  },
  {
   "cell_type": "markdown",
   "metadata": {},
   "source": [
    "### Give me all the circuits using the morphology release with a given id"
   ]
  },
  {
   "cell_type": "code",
   "execution_count": null,
   "metadata": {},
   "outputs": [],
   "source": [
    "morphology_release_id = \"https://bbp.epfl.ch/nexus/v1/resources/nse/test/_/O0-20180419_morph_release\"\n",
    "circuits = api.get_entities(\n",
    "    \"DetailedCircuit\",\n",
    "    {\"nodeCollection\":{\n",
    "        \"memodelRelease\":{\n",
    "            \"morphologyRelease\": {\"id\": f\"<{morphology_release_id}>\"}\n",
    "        },\n",
    "    },\n",
    "    }\n",
    ")\n",
    "print(len(circuits))\n",
    "print(circuits[0])\n",
    "print(circuits[0].resource)"
   ]
  },
  {
   "cell_type": "markdown",
   "metadata": {},
   "source": [
    "### Give me all the circuits using the morphology release with a given name"
   ]
  },
  {
   "cell_type": "code",
   "execution_count": null,
   "metadata": {},
   "outputs": [],
   "source": [
    "circuits = api.get_entities(\n",
    "    \"DetailedCircuit\",\n",
    "    {\"nodeCollection\": {\n",
    "        \"memodelRelease\": {\n",
    "            \"morphologyRelease\":\n",
    "            {\"name\": \"O0-20180419_morph_release\"},\n",
    "        }\n",
    "    }}\n",
    ")\n",
    "print(len(circuits))\n",
    "print(circuits[0])\n",
    "print(circuits[0].resource)"
   ]
  },
  {
   "cell_type": "markdown",
   "metadata": {},
   "source": [
    "### Give me the morphology release used by the circuit with the given id"
   ]
  },
  {
   "cell_type": "code",
   "execution_count": null,
   "metadata": {},
   "outputs": [],
   "source": [
    "print(api._connector._query_builder.build_query(\"MorphologyRelease\", {\"^morphologyRelease.^memodelRelease.^nodeCollection\": \"<DIIBA_DAABA>\"}))"
   ]
  },
  {
   "cell_type": "code",
   "execution_count": null,
   "metadata": {},
   "outputs": [],
   "source": [
    "circuit_id = \"https://bbp.epfl.ch/nexus/v1/resources/nse/test/_/O0-20180419\"\n",
    "morphology_releases = api.get_entities(\n",
    "    \"MorphologyRelease\",\n",
    "    {\"^morphologyRelease\": {\n",
    "        \"^memodelRelease\": {\n",
    "            \"^nodeCollection\": {\n",
    "                \"id\": f\"<{circuit_id}>\"\n",
    "            },\n",
    "        }\n",
    "    }}\n",
    ")\n",
    "print(len(morphology_releases))\n",
    "print(morphology_releases[0])\n",
    "print(morphology_releases[0].resource)"
   ]
  },
  {
   "cell_type": "markdown",
   "metadata": {},
   "source": [
    "### Give me the morphology release used by the circuit with the given name"
   ]
  },
  {
   "cell_type": "code",
   "execution_count": null,
   "metadata": {},
   "outputs": [],
   "source": [
    "morphology_releases = api.get_entities(\n",
    "    \"MorphologyRelease\",\n",
    "    {\"^morphologyRelease\": {\n",
    "        \"^memodelRelease\": {\n",
    "            \"^nodeCollection\": {\n",
    "                \"name\": \"Thalamus microcircuit v1\"\n",
    "            },\n",
    "        },\n",
    "    }}      \n",
    ")\n",
    "print(len(morphology_releases))\n",
    "print(morphology_releases[0])\n",
    "print(morphology_releases[0].resource)"
   ]
  }
 ],
 "metadata": {
  "kernelspec": {
   "display_name": "MMB2022_141",
   "language": "python",
   "name": "mmb2022_141"
  },
  "language_info": {
   "codemirror_mode": {
    "name": "ipython",
    "version": 3
   },
   "file_extension": ".py",
   "mimetype": "text/x-python",
   "name": "python",
   "nbconvert_exporter": "python",
   "pygments_lexer": "ipython3",
   "version": "3.8.3"
  }
 },
 "nbformat": 4,
 "nbformat_minor": 4
}
