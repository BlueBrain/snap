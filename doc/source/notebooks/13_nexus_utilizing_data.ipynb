{
 "cells": [
  {
   "cell_type": "markdown",
   "metadata": {},
   "source": [
    "# SNAP - NEXUSFORGE - Utilizing data\n",
    "\n",
    "So far, we have covered all the basic necessities for acquiring data from Nexus. This notebook will show the further capabilities of the entities.\n",
    "\n",
    "### Setup\n",
    "\n",
    "The token can be found in the upper right corner on https://bbp.epfl.ch/nexus/web/ and pasted here"
   ]
  },
  {
   "cell_type": "code",
   "execution_count": 1,
   "metadata": {},
   "outputs": [
    {
     "name": "stdin",
     "output_type": "stream",
     "text": [
      " ···································································································································································································································································································································································································································································································································································································································································································································································································································································································································································································································································································································································································································································································································································································································································································································································································································································································································································································································································································································································································································································································································································································································································································································································································································································································································································································································································································································································································································································································································································································································································································································································································································································································································································································································································\n"
     ]
    }
   ],
   "source": [
    "import getpass\n",
    "from pathlib import Path\n",
    "from bluepysnap.nexus import NexusHelper\n",
    "\n",
    "BUCKET = \"public/hippocampus-hub\"\n",
    "TOKEN = getpass.getpass()\n",
    "nexus = NexusHelper(BUCKET, TOKEN)"
   ]
  },
  {
   "cell_type": "markdown",
   "metadata": {},
   "source": [
    "### Utilizing data contained in an entity\n",
    "\n",
    "Let's first get an entity and some of the available data:"
   ]
  },
  {
   "cell_type": "code",
   "execution_count": 2,
   "metadata": {},
   "outputs": [
    {
     "name": "stdout",
     "output_type": "stream",
     "text": [
      "\n",
      "type          ReconstructedCell, Dataset, Entity, NeuronMorphology\n",
      "name:         050921AM2\n",
      "species:      Rattus norvegicus\n",
      "brain region: CA1_SP\n",
      "url:          https://doi.org/10.1371/journal.pcbi.1006423\n",
      "nexus id:     https://bbp.epfl.ch/neurosciencegraph/data/neuronmorphologies/836087b2-4094-44ab-8874-53527a2c1fc4\n",
      "nexus link:   https://bbp.epfl.ch/nexus/v1/resources/public/hippocampus-hub/datashapes:neuronmorphology/neuronmorphologies%2F836087b2-4094-44ab-8874-53527a2c1fc4\n",
      "\n"
     ]
    }
   ],
   "source": [
    "entity = nexus.get_entity_by_id('https://bbp.epfl.ch/neurosciencegraph/data/neuronmorphologies/836087b2-4094-44ab-8874-53527a2c1fc4')\n",
    "columns_to_show = {'type, name,'}\n",
    "\n",
    "print(f\"\"\"\n",
    "type          {', '.join(entity.type)}\n",
    "name:         {entity.name}\n",
    "species:      {entity.subject.species.label}\n",
    "brain region: {entity.brainLocation.brainRegion.label}\n",
    "url:          {entity.url}\n",
    "nexus id:     {entity.id}\n",
    "nexus link:   {entity.self}\n",
    "\"\"\"\n",
    ")"
   ]
  },
  {
   "cell_type": "markdown",
   "metadata": {},
   "source": [
    "So, we are dealing with a `ReconstructedCell`/`NeuronMorphology` here. If we want to use this neuron, we would need the actual neuron file and then open that in some other program.\n",
    "\n",
    "#### Downloading entities\n",
    "\n",
    "Some entities contain downloadable data, some don't.\n",
    "The downloadable data is located under `distribution` in the Nexus resource.\n",
    "For example, let's see the data of items contained in `entity.distribution`:"
   ]
  },
  {
   "cell_type": "code",
   "execution_count": 3,
   "metadata": {},
   "outputs": [
    {
     "name": "stdout",
     "output_type": "stream",
     "text": [
      "\n",
      "Item #1\n",
      "--------\n",
      "type:     DataDownload\n",
      "name:     050921AM2.asc\n",
      "URL:      https://bbp.epfl.ch/nexus/v1/files/public/hippocampus-hub/19ed4657-7808-4a8d-8233-c1c6a7407b29\n",
      "location: file:///gpfs/bbp.cscs.ch/data/project/proj126/nexus/5b5f8c5d-fe4b-463b-8c38-cb8e78a9ddcd/b/e/1/8/e/e/d/c/050921AM2.asc\n",
      "\n",
      "\n",
      "Item #2\n",
      "--------\n",
      "type:     DataDownload\n",
      "name:     050921AM2.swc\n",
      "URL:      https://bbp.epfl.ch/nexus/v1/files/public/hippocampus-hub/92599b03-f564-4663-b70a-200f6581f5a0\n",
      "location: file:///gpfs/bbp.cscs.ch/data/project/proj126/nexus/5b5f8c5d-fe4b-463b-8c38-cb8e78a9ddcd/7/8/b/d/3/7/3/e/050921AM2.swc\n",
      "\n"
     ]
    }
   ],
   "source": [
    "for ind, item in enumerate(entity.distribution):\n",
    "    print(\n",
    "f\"\"\"\n",
    "Item #{ind+1}\n",
    "--------\n",
    "type:     {item.type}\n",
    "name:     {item.name}\n",
    "URL:      {item.contentUrl}\n",
    "location: {item.atLocation.location}\n",
    "\"\"\")"
   ]
  },
  {
   "cell_type": "markdown",
   "metadata": {},
   "source": [
    "Here we can clearly see that we have two items of type `DataDownload`. Both of them contain the neuron morphology as a file: one in ASCII format, the other in SWC format. Item is downloadable only if it has an URL (`contentUrl`).\n",
    "\n",
    "While we could technically just open the file at path shown above, we would not likely have access to it. I.e., we need to download the file. For that, `Entity` contains a `download` function.\n",
    "\n",
    "##### __Entity.download__\n",
    "`Entity.download` takes two (optional) keyword arguments: \n",
    "* `items`: List or a single item to download (i.e., one from `distribution`). By default, SNAP downloads all the items.\n",
    "* `path`: Path where to save the downloaded files. By default, data is saved in directory `./.downloaded_content`\n",
    "\n",
    "Let's try this with the SWC formatted file (`entity.distribution[1]`) and path `neurons`:"
   ]
  },
  {
   "cell_type": "code",
   "execution_count": 4,
   "metadata": {},
   "outputs": [
    {
     "name": "stdout",
     "output_type": "stream",
     "text": [
      "Contents of ./neurons:\n",
      "neurons/050921AM2.swc\n"
     ]
    }
   ],
   "source": [
    "entity.download(items=entity.distribution[1], path='neurons')\n",
    "path = 'neurons'\n",
    "print(f\"Contents of ./{path}:\")\n",
    "print('\\n'.join(map(str, Path(path).iterdir())))"
   ]
  },
  {
   "cell_type": "markdown",
   "metadata": {},
   "source": [
    "As we can see, we managed to download the file. Theoretically, we could now open this up in a another program like `NeuroM` by doing\n",
    "```python\n",
    "import neurom\n",
    "morphology = neurom.io.utils.load_morphology('neurons/050921AM2.swc')\n",
    "```\n",
    "but there is an easier way to do all of what we just did.\n",
    "\n",
    "#### Instantiating entities\n",
    "\n",
    "`Entity` contains a property `instance` that downloads (if needed) and opens a nexus resource in another application all in one go.\n",
    "\n",
    "##### __NeuronMorphology__\n",
    "\n",
    "Let's try to instantiate the `NeuronMorphology` entity that we have:"
   ]
  },
  {
   "cell_type": "code",
   "execution_count": 5,
   "metadata": {},
   "outputs": [],
   "source": [
    "morphology = entity.instance"
   ]
  },
  {
   "cell_type": "markdown",
   "metadata": {},
   "source": [
    "We can now use the `morphology` as we normally would in NeuroM. For example, let's plot the morphology and the dendogram:"
   ]
  },
  {
   "cell_type": "code",
   "execution_count": 6,
   "metadata": {},
   "outputs": [
    {
     "data": {
      "image/png": "[encoded data removed]",
      "text/plain": [
       "<Figure size 432x288 with 1 Axes>"
      ]
     },
     "metadata": {
      "needs_background": "light"
     },
     "output_type": "display_data"
    },
    {
     "data": {
      "image/png": "[encoded data removed]",
      "text/plain": [
       "<Figure size 432x288 with 1 Axes>"
      ]
     },
     "metadata": {
      "needs_background": "light"
     },
     "output_type": "display_data"
    }
   ],
   "source": [
    "import neurom.view\n",
    "neurom.view.matplotlib_impl.plot_morph(morphology)\n",
    "_, axis = neurom.view.matplotlib_utils.get_figure()\n",
    "neurom.view.matplotlib_impl.plot_dendrogram(morphology, axis)"
   ]
  },
  {
   "cell_type": "markdown",
   "metadata": {},
   "source": [
    "What happened here, is that `Entity.instance` downloaded one of the available items to the default directory and opened it with NeuroM.\n",
    "Let's see the contents of the default directory:"
   ]
  },
  {
   "cell_type": "code",
   "execution_count": 7,
   "metadata": {},
   "outputs": [
    {
     "name": "stdout",
     "output_type": "stream",
     "text": [
      "Contents of ./.downloaded_content:\n",
      ".downloaded_content/050921AM2.swc\n"
     ]
    }
   ],
   "source": [
    "path = '.downloaded_content'\n",
    "print(f\"Contents of ./{path}:\")\n",
    "print('\\n'.join(map(str, Path(path).iterdir())))"
   ]
  },
  {
   "cell_type": "markdown",
   "metadata": {},
   "source": [
    "##### __MorphologyRelease__\n",
    "\n",
    "For this case, we need to change a project, so let's create a new instance of `NexusHelper` and then both get and instantiate the `MorphologyRelease`:"
   ]
  },
  {
   "cell_type": "code",
   "execution_count": 8,
   "metadata": {},
   "outputs": [],
   "source": [
    "BUCKET = \"nse/test\"\n",
    "nexus = NexusHelper(BUCKET, TOKEN)\n",
    "\n",
    "morphology_release_id = 'https://bbp.epfl.ch/nexus/v1/resources/nse/test/_/O1-20190624-syn_morph_release'\n",
    "morphology_release_entity = nexus.get_entity_by_id(morphology_release_id)\n",
    "morphology_release = morphology_release_entity.instance"
   ]
  },
  {
   "cell_type": "markdown",
   "metadata": {},
   "source": [
    "In this case, the data exists on GPFS and there is no need to download anything during the instantiation:"
   ]
  },
  {
   "cell_type": "code",
   "execution_count": 9,
   "metadata": {},
   "outputs": [
    {
     "name": "stdout",
     "output_type": "stream",
     "text": [
      "Contents of ./.downloaded_content:\n",
      ".downloaded_content/050921AM2.swc\n"
     ]
    }
   ],
   "source": [
    "path = '.downloaded_content'\n",
    "print(f\"Contents of ./{path}:\")\n",
    "print('\\n'.join(map(str, Path(path).iterdir())))"
   ]
  },
  {
   "cell_type": "markdown",
   "metadata": {},
   "source": [
    "To actually use the morphologies in the release, we need to convert it to a dataframe and wrap the items as entities:"
   ]
  },
  {
   "cell_type": "code",
   "execution_count": 10,
   "metadata": {},
   "outputs": [],
   "source": [
    "from bluepysnap.nexus.wrappers import wrap_morphology_dataframe_as_entities\n",
    "\n",
    "morphology_dataframe = morphology_release.df.iloc[:10]  # Using only first ten for demoing purposes\n",
    "morphologies = wrap_morphology_dataframe_as_entities(morphology_dataframe, nexus)"
   ]
  },
  {
   "cell_type": "markdown",
   "metadata": {},
   "source": [
    "We can now instantiate and use the morphologies:"
   ]
  },
  {
   "cell_type": "code",
   "execution_count": 11,
   "metadata": {},
   "outputs": [
    {
     "data": {
      "text/plain": [
       "<neurom.core.soma.SomaSimpleContour at 0x2aaaee2bbf70>"
      ]
     },
     "execution_count": 11,
     "metadata": {},
     "output_type": "execute_result"
    }
   ],
   "source": [
    "morphologies[0].instance.soma"
   ]
  },
  {
   "cell_type": "markdown",
   "metadata": {},
   "source": [
    "##### __DetailedCircuit / Circuit__\n",
    "\n",
    "In case of a `SONATA` formatted circuit, instantiating a circuit is as simple as:"
   ]
  },
  {
   "cell_type": "code",
   "execution_count": 12,
   "metadata": {},
   "outputs": [
    {
     "name": "stdout",
     "output_type": "stream",
     "text": [
      "<bluepysnap.circuit.Circuit object at 0x2aaaee2bbd30>\n"
     ]
    }
   ],
   "source": [
    "circuit_id = \"https://bbp.epfl.ch/nexus/v1/resources/nse/test/_/20191025\"\n",
    "circuit_entity = nexus.get_entity_by_id(circuit_id)\n",
    "circuit = circuit_entity.instance\n",
    "print(circuit)"
   ]
  },
  {
   "cell_type": "markdown",
   "metadata": {},
   "source": [
    "Now that we have a snap `Circuit` object, let's demonstrate it by plotting the neurons in it:"
   ]
  },
  {
   "cell_type": "code",
   "execution_count": 13,
   "metadata": {},
   "outputs": [
    {
     "data": {
      "image/png": "[encoded data removed]",
      "text/plain": [
       "<Figure size 432x288 with 1 Axes>"
      ]
     },
     "metadata": {
      "needs_background": "light"
     },
     "output_type": "display_data"
    }
   ],
   "source": [
    "from bluepysnap.bbp import Cell\n",
    "from matplotlib import pyplot as plt\n",
    "\n",
    "ids = range(0, circuit.nodes.size, 100)  # take only 1% (every 100th) of all the nodes\n",
    "cells = circuit.nodes.get(ids, properties=[Cell.X, Cell.Y])\n",
    "plt.plot(cells[Cell.X], cells[Cell.Y], \".b\");"
   ]
  },
  {
   "cell_type": "markdown",
   "metadata": {},
   "source": [
    "We may also open the circuit in `bluepy`.\n",
    "Since SNAP is the default opener, we need to `reopen` the entity with `bluepy`:"
   ]
  },
  {
   "cell_type": "code",
   "execution_count": 14,
   "metadata": {},
   "outputs": [
    {
     "name": "stderr",
     "output_type": "stream",
     "text": [
      "Invalid absolute path: /gpfs/bbp.cscs.ch/project/proj82/circuits/Thalamus/20191025/proj_MedialLemniscus\n",
      "Invalid absolute path: /gpfs/bbp.cscs.ch/project/proj82/circuits/Thalamus/20191025/proj_CorticoThalamic\n"
     ]
    },
    {
     "name": "stdout",
     "output_type": "stream",
     "text": [
      "<bluepy.circuit.Circuit object at 0x2aaaf12d2670>\n"
     ]
    }
   ],
   "source": [
    "circuit_entity_bluepy = nexus.reopen(circuit_entity, tool='bluepy')  # This, of course, requires that 'bluepy' is installed\n",
    "circuit_bluepy = circuit_entity_bluepy.instance\n",
    "print(circuit_bluepy)"
   ]
  },
  {
   "cell_type": "markdown",
   "metadata": {},
   "source": [
    "If we know from the get-go, that we want to use some other tool than the default one, we can add it as a keyword argument when we fetch the circuit:\n",
    "```python\n",
    "circuit_entity = nexus.get_entity_by_id(circuit_id, tool='bluepy')\n",
    "```\n",
    "This functionality is also supported by `NexusHelper.get_entities` and `NexusHelper.get_entities_by_query`.\n",
    "\n",
    "Anyway, now that we have a bluepy `Circuit`, let's try to plot the same neourons as with snap:"
   ]
  },
  {
   "cell_type": "code",
   "execution_count": 15,
   "metadata": {},
   "outputs": [
    {
     "data": {
      "image/png": "[encoded data removed]",
      "text/plain": [
       "<Figure size 432x288 with 1 Axes>"
      ]
     },
     "metadata": {
      "needs_background": "light"
     },
     "output_type": "display_data"
    }
   ],
   "source": [
    "ids = circuit_bluepy.cells.ids()[::100]\n",
    "cells = circuit_bluepy.cells.get(ids, properties=[Cell.X, Cell.Y])\n",
    "plt.plot(cells[Cell.X], cells[Cell.Y], \".b\");"
   ]
  },
  {
   "cell_type": "markdown",
   "metadata": {},
   "source": [
    "##### __Simulation__\n",
    "\n",
    "Instantiating simulation is no different than instantiating a circuit. Let's fetch and instantiate one with `bluepy`:"
   ]
  },
  {
   "cell_type": "code",
   "execution_count": 16,
   "metadata": {},
   "outputs": [
    {
     "name": "stdout",
     "output_type": "stream",
     "text": [
      "<bluepy.simulation.Simulation object at 0x2aab1f09b970>\n"
     ]
    }
   ],
   "source": [
    "simulation_id = 'https://bbp.epfl.ch/nexus/v1/resources/nse/test/_/SimulationNexusTask_entity_managemen__gpfs_bbp_cscs_c__03c48af236'\n",
    "simulation_entity = nexus.get_entity_by_id(simulation_id, tool='bluepy')\n",
    "simulation = simulation_entity.instance\n",
    "print(simulation)"
   ]
  },
  {
   "cell_type": "markdown",
   "metadata": {},
   "source": [
    "We can now use the simulation. Let's do a `spikeraster_and_psth` plot for demonstrating purposes:"
   ]
  },
  {
   "cell_type": "code",
   "execution_count": 17,
   "metadata": {},
   "outputs": [
    {
     "data": {
      "image/png": "[encoded data removed]",
      "text/plain": [
       "<Figure size 720x576 with 2 Axes>"
      ]
     },
     "metadata": {
      "needs_background": "light"
     },
     "output_type": "display_data"
    }
   ],
   "source": [
    "import numpy as np\n",
    "np.random.seed(42)  # Simulation does sampling, this is just to keep the plot constant\n",
    "\n",
    "simulation.plot.spikeraster_and_psth('soma', ['Mosaic']);"
   ]
  },
  {
   "cell_type": "markdown",
   "metadata": {},
   "source": [
    "We can also open the simulation with `bglibpy`, for this, we need `Neurodamus`:"
   ]
  },
  {
   "cell_type": "code",
   "execution_count": 18,
   "metadata": {},
   "outputs": [
    {
     "name": "stdout",
     "output_type": "stream",
     "text": [
      "<bglibpy.ssim.SSim object at 0x2aaaee4bd370>\n"
     ]
    }
   ],
   "source": [
    "import os\n",
    "\n",
    "# These need to be set for Neurodamus\n",
    "os.environ[\"HOC_LIBRARY_PATH\"] = \"/gpfs/bbp.cscs.ch/project/proj30/home/jupyter/NSETM-1298-entities/sources/neurodamus-core/hoc\"\n",
    "os.environ[\"BGLIBPY_MOD_LIBRARY_PATH\"] = \"/gpfs/bbp.cscs.ch/project/proj30/home/jupyter/NSETM-1298-entities/sources/x86_64/.libs/libnrnmech.so\"\n",
    "\n",
    "simulation_bglibpy = nexus.reopen(simulation_entity, tool='bglibpy').instance\n",
    "print(simulation_bglibpy)"
   ]
  },
  {
   "cell_type": "markdown",
   "metadata": {},
   "source": [
    "Let's run a simulation and plot the results:"
   ]
  },
  {
   "cell_type": "code",
   "execution_count": 19,
   "metadata": {},
   "outputs": [
    {
     "data": {
      "image/png": "[encoded data removed]",
      "text/plain": [
       "<Figure size 432x288 with 1 Axes>"
      ]
     },
     "metadata": {
      "needs_background": "light"
     },
     "output_type": "display_data"
    }
   ],
   "source": [
    "gid = 1\n",
    "simulation_bglibpy.instantiate_gids([gid])\n",
    "cell = simulation_bglibpy.cells[gid]\n",
    "simulation_bglibpy.run(t_stop=1000)\n",
    "\n",
    "import pylab\n",
    "pylab.plot(cell.get_time(), cell.get_soma_voltage())\n",
    "pylab.show()"
   ]
  },
  {
   "cell_type": "markdown",
   "metadata": {},
   "source": [
    "### Tool management\n",
    "\n",
    "Above we showed how we may instantiate certain types of entities using different tools.\n",
    "All the previously used tools are hard-coded in the `NexusHelper` but how do we know which tools are available?\n",
    "\n",
    "#### Available Tools\n",
    "\n",
    "Entities are instantiated in a `Factory` class that also manages the tools. \n",
    "To print a listing of data types for which tools are available, we can do:"
   ]
  },
  {
   "cell_type": "code",
   "execution_count": 20,
   "metadata": {},
   "outputs": [
    {
     "name": "stdout",
     "output_type": "stream",
     "text": [
      "AtlasRelease\n",
      "BrainAtlasRelease\n",
      "DetailedCircuit\n",
      "EModelConfiguration\n",
      "MorphologyRelease\n",
      "NeuronMorphology\n",
      "ReconstructedCell\n",
      "ReconstructedPatchedCell\n",
      "ReconstructedWholeBrainCell\n",
      "Simulation\n"
     ]
    }
   ],
   "source": [
    "registered_types = sorted(nexus.factory.get_registered_types())\n",
    "print(\"\\n\".join(registered_types))"
   ]
  },
  {
   "cell_type": "markdown",
   "metadata": {},
   "source": [
    "So to see what tools are available, for example, 'Simulation's, all we need to do is:"
   ]
  },
  {
   "cell_type": "code",
   "execution_count": 21,
   "metadata": {},
   "outputs": [
    {
     "data": {
      "text/plain": [
       "['snap', 'bluepy', 'bglibpy']"
      ]
     },
     "execution_count": 21,
     "metadata": {},
     "output_type": "execute_result"
    }
   ],
   "source": [
    "nexus.factory.get_available_tools('Simulation')"
   ]
  },
  {
   "cell_type": "markdown",
   "metadata": {},
   "source": [
    "The first item in the list is always the __default__ tool. The full listing of hard-coded types and tools is: "
   ]
  },
  {
   "cell_type": "code",
   "execution_count": 22,
   "metadata": {},
   "outputs": [
    {
     "name": "stdout",
     "output_type": "stream",
     "text": [
      "AtlasRelease                  : ['voxcell']\n",
      "BrainAtlasRelease             : ['voxcell']\n",
      "DetailedCircuit               : ['snap', 'bluepy']\n",
      "EModelConfiguration           : ['custom-wrapper']\n",
      "MorphologyRelease             : ['morph-tool']\n",
      "NeuronMorphology              : ['neurom']\n",
      "ReconstructedCell             : ['neurom']\n",
      "ReconstructedPatchedCell      : ['neurom']\n",
      "ReconstructedWholeBrainCell   : ['neurom']\n",
      "Simulation                    : ['snap', 'bluepy', 'bglibpy']\n"
     ]
    }
   ],
   "source": [
    "print(\"\\n\".join(f\"{type_:30}: {nexus.factory.get_available_tools(type_)}\" for type_ in registered_types))"
   ]
  },
  {
   "cell_type": "markdown",
   "metadata": {},
   "source": [
    "#### Adding custom tools\n",
    "\n",
    "While the default tools are designed to cover most of the use cases, it may be that there's a need for another tool.\n",
    "Fortunately, there is a way to add custom tools with `NexusHelper.factory.register`.\n",
    "\n",
    "`register` expects three arguments:\n",
    "* `resource_types`: list (or a single item) of nexus types that can be opened with the tool (e.g., `\"Simulation\"`)\n",
    "* `tool`: name for the tool (e.g., `\"bglibpy\"`)\n",
    "* `func`: callable function that will take the entity as an argument and returns the instance of the desired tool\n",
    "\n",
    "For an example, let's create a tool named `test-tool` to open `DetailedCircuit` as an instance of `DummyCircuit` class:"
   ]
  },
  {
   "cell_type": "code",
   "execution_count": 23,
   "metadata": {},
   "outputs": [
    {
     "name": "stdout",
     "output_type": "stream",
     "text": [
      "['snap', 'bluepy', 'test-tool']\n"
     ]
    }
   ],
   "source": [
    "tool_name = 'test-tool'\n",
    "tool_type = 'DetailedCircuit'\n",
    "def tool_function(entity):\n",
    "    class DummyCircuit:\n",
    "        \n",
    "        def __init__(self, entity):\n",
    "            self._entity = entity\n",
    "        \n",
    "        def print_info(self):\n",
    "            separator = 80 * \"-\"\n",
    "            print(\"Circuit:\")\n",
    "            print(separator)\n",
    "            print(f\"name: {self._entity.name}\")\n",
    "            print(f\"description: {self._entity.description}\")\n",
    "            print(f\"type: {self._entity.circuitType}\")\n",
    "            print(f\"region: {self._entity.brainLocation.brainRegion.label}\")\n",
    "            print(separator)\n",
    "    \n",
    "    return DummyCircuit(entity)\n",
    "\n",
    "\n",
    "nexus.factory.register(tool_type, tool_name, tool_function)\n",
    "print(nexus.factory.get_available_tools(tool_type))"
   ]
  },
  {
   "cell_type": "markdown",
   "metadata": {},
   "source": [
    "As we can see, we successfully registered `test-tool` to the factory.\n",
    "Now, let's try to instantiate the `DummyCircuit` with the tool:"
   ]
  },
  {
   "cell_type": "code",
   "execution_count": 24,
   "metadata": {},
   "outputs": [
    {
     "name": "stdout",
     "output_type": "stream",
     "text": [
      "<__main__.tool_function.<locals>.DummyCircuit object at 0x2aab43c14100>\n"
     ]
    }
   ],
   "source": [
    "dummy_circuit_entity = nexus.reopen(circuit_entity, tool=tool_name)\n",
    "dummy_circuit = dummy_circuit_entity.instance\n",
    "print(dummy_circuit)"
   ]
  },
  {
   "cell_type": "markdown",
   "metadata": {},
   "source": [
    "So far, so good, let's try if we can actually use the instance:"
   ]
  },
  {
   "cell_type": "code",
   "execution_count": 25,
   "metadata": {},
   "outputs": [
    {
     "name": "stdout",
     "output_type": "stream",
     "text": [
      "Circuit:\n",
      "--------------------------------------------------------------------------------\n",
      "name: Whole Thalamus 2019.v1\n",
      "description: First version of whole Thalamus model\n",
      "type: Atlas-based circuit\n",
      "region: Thalamus\n",
      "--------------------------------------------------------------------------------\n"
     ]
    }
   ],
   "source": [
    "dummy_circuit.print_info()"
   ]
  },
  {
   "cell_type": "markdown",
   "metadata": {},
   "source": [
    "Perfect! Now that we have the tool registered, we can use it in the searches/queries.\n",
    "Let's try to print the information of all the circuits we'll find:"
   ]
  },
  {
   "cell_type": "code",
   "execution_count": 26,
   "metadata": {},
   "outputs": [
    {
     "name": "stdout",
     "output_type": "stream",
     "text": [
      "Circuit:\n",
      "--------------------------------------------------------------------------------\n",
      "name: Thalamus microcircuit v1\n",
      "description: Thalamus microcircuit v1, 2018 release\n",
      "type: Microcircuit with O0 geometry\n",
      "region: Thalamus\n",
      "--------------------------------------------------------------------------------\n",
      "\n",
      "Circuit:\n",
      "--------------------------------------------------------------------------------\n",
      "name: Thalamus microcircuit v2\n",
      "description: Microcircuit v2 base\n",
      "type: Microcircuit with O1 geometry\n",
      "region: Thalamus\n",
      "--------------------------------------------------------------------------------\n",
      "\n",
      "Circuit:\n",
      "--------------------------------------------------------------------------------\n",
      "name: Thalamus microcircuit v3\n",
      "description: Microcircuit with new TC-Rt and Rt-Rt syn physiology\n",
      "type: Microcircuit with O1 geometry\n",
      "region: Thalamus\n",
      "--------------------------------------------------------------------------------\n",
      "\n",
      "Circuit:\n",
      "--------------------------------------------------------------------------------\n",
      "name: Whole Thalamus 2019.v1\n",
      "description: First version of whole Thalamus model\n",
      "type: Atlas-based circuit\n",
      "region: Thalamus\n",
      "--------------------------------------------------------------------------------\n",
      "\n"
     ]
    }
   ],
   "source": [
    "circuit_entities = nexus.get_entities('DetailedCircuit', tool='test-tool')\n",
    "for entity in circuit_entities:\n",
    "    entity.instance.print_info()\n",
    "    print() # to print an empty line between entries"
   ]
  },
  {
   "cell_type": "markdown",
   "metadata": {},
   "source": [
    "Obviously this was just a simple example. In real life use cases, the function could be something like:\n",
    "```python\n",
    "def open_entity_with_some_tool(entity):\n",
    "    from pathlib import Path\n",
    "    from somelib import SomeClass\n",
    "    \n",
    "    if hasattr(entity, \"path_to_file\"):\n",
    "        file_path = entity.path_to_file\n",
    "    else:\n",
    "        download_path = Path('some_files')\n",
    "        entity.download(items=entity.distribution[0], path=download_path)    \n",
    "        file_name = entity.distribution[0].name\n",
    "        file_path = download_path / file_name\n",
    "    \n",
    "    return SomeClass(entity.name, entity.url, file_path)\n",
    "```"
   ]
  }
 ],
 "metadata": {
  "kernelspec": {
   "display_name": "mmb2022_193",
   "language": "python",
   "name": "mmb2022_193"
  },
  "language_info": {
   "codemirror_mode": {
    "name": "ipython",
    "version": 3
   },
   "file_extension": ".py",
   "mimetype": "text/x-python",
   "name": "python",
   "nbconvert_exporter": "python",
   "pygments_lexer": "ipython3",
   "version": "3.9.7"
  }
 },
 "nbformat": 4,
 "nbformat_minor": 4
}
