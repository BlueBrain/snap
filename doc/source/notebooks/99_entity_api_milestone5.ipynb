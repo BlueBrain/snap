{
 "cells": [
  {
   "cell_type": "markdown",
   "metadata": {},
   "source": [
    "# Milestone 5: Morphology helper"
   ]
  },
  {
   "cell_type": "markdown",
   "metadata": {},
   "source": [
    "Setup"
   ]
  },
  {
   "cell_type": "code",
   "execution_count": 1,
   "metadata": {},
   "outputs": [],
   "source": [
    "import getpass\n",
    "import logging\n",
    "from pathlib import Path\n",
    "\n",
    "%matplotlib inline\n",
    "import neurom.view\n",
    "\n",
    "from bluepysnap.api import Api\n",
    "\n",
    "logging.basicConfig(level=logging.WARNING)\n",
    "\n",
    "ORGANIZATION = \"bbp\"\n",
    "PROJECT = \"thalamus\""
   ]
  },
  {
   "cell_type": "markdown",
   "metadata": {},
   "source": [
    "Paste the token from https://bbp.epfl.ch/nexus/web/"
   ]
  },
  {
   "cell_type": "code",
   "execution_count": 2,
   "metadata": {},
   "outputs": [
    {
     "name": "stdin",
     "output_type": "stream",
     "text": [
      " ···································································································································································································································································································································································································································································································································································································································································································································································································································································································································································································································································································································································································································································································································································································································································································································································································································································································································································································································································································································································································································································································································································································································································································································································································································································································································································································································································································································································································································································································································································································································································································································································································································································································································································································································································\n"
     ]
    }
   ],
   "source": [
    "TOKEN = getpass.getpass()"
   ]
  },
  {
   "cell_type": "code",
   "execution_count": 3,
   "metadata": {},
   "outputs": [],
   "source": [
    "api = Api(bucket=f\"{ORGANIZATION}/{PROJECT}\", token=TOKEN, debug=False)"
   ]
  },
  {
   "cell_type": "markdown",
   "metadata": {},
   "source": [
    "### From a KG URL retrieve a Morphology Collection"
   ]
  },
  {
   "cell_type": "code",
   "execution_count": 4,
   "metadata": {},
   "outputs": [
    {
     "name": "stdout",
     "output_type": "stream",
     "text": [
      "Entity(resource_id=<https://bbp.epfl.ch/neurosciencegraph/data/20191208>, resource_type=<MorphologyRelease>, instance_type=<Proxy>)\n"
     ]
    }
   ],
   "source": [
    "morphology_release_id = \"https://bbp.epfl.ch/neurosciencegraph/data/20191208\"\n",
    "morphology_release = api.get_entity_by_id(morphology_release_id)\n",
    "print(morphology_release)"
   ]
  },
  {
   "cell_type": "markdown",
   "metadata": {},
   "source": [
    "### Get information related to a Morphology Collection"
   ]
  },
  {
   "cell_type": "code",
   "execution_count": 5,
   "metadata": {},
   "outputs": [
    {
     "name": "stdout",
     "output_type": "stream",
     "text": [
      "Description: Number of morphologies:170730; layers:[VPL, Rt]; mtypes:[VPL_TC, VPL_IN, Rt_RC]\n",
      "Creator: https://bbp.epfl.ch/nexus/v1/realms/bbp/users/iavarone\n",
      "Creation date: 2019-12-09T11:11:13.179Z\n",
      "Project: https://bbp.epfl.ch/nexus/v1/projects/bbp/thalamus\n",
      "Species: Mouse\n",
      "Brain region: Thalamus\n"
     ]
    }
   ],
   "source": [
    "print(\"Description:\", morphology_release.description)\n",
    "print(\"Creator:\", morphology_release.createdBy)\n",
    "print(\"Creation date:\", morphology_release.createdAt)\n",
    "print(\"Project:\", morphology_release.project)\n",
    "print(\"Species:\", morphology_release.species.label)\n",
    "print(\"Brain region:\", morphology_release.brainLocation.brainRegion.label)"
   ]
  },
  {
   "cell_type": "markdown",
   "metadata": {},
   "source": [
    "### Retrieve and access a nested resource"
   ]
  },
  {
   "cell_type": "code",
   "execution_count": 6,
   "metadata": {},
   "outputs": [
    {
     "name": "stdout",
     "output_type": "stream",
     "text": [
      "file:///gpfs/bbp.cscs.ch/project/proj82/home/iavarone/morphology_release/20191208/09_CloneMorphologies-h5v1/neurondb.dat\n"
     ]
    }
   ],
   "source": [
    "print(morphology_release.morphologyIndex.distribution.url)"
   ]
  },
  {
   "cell_type": "markdown",
   "metadata": {},
   "source": [
    "### Show the wrapped Nexus resource as json"
   ]
  },
  {
   "cell_type": "code",
   "execution_count": 7,
   "metadata": {},
   "outputs": [
    {
     "data": {
      "text/plain": [
       "{'id': 'https://bbp.epfl.ch/neurosciencegraph/data/20191208',\n",
       " 'type': 'MorphologyRelease',\n",
       " 'brainLocation': {'brainRegion': {'id': 'http://api.brain-map.org/api/v2/data/Structure/549',\n",
       "   'label': 'Thalamus'}},\n",
       " 'description': 'Number of morphologies:170730; layers:[VPL, Rt]; mtypes:[VPL_TC, VPL_IN, Rt_RC]',\n",
       " 'distribution': {'type': 'DataDownload',\n",
       "  'encodingFormat': 'application/h5',\n",
       "  'url': 'file:///gpfs/bbp.cscs.ch/project/proj82/home/iavarone/morphology_release/20191208/09_CloneMorphologies-h5v1'},\n",
       " 'morphologyIndex': {'id': 'https://bbp.epfl.ch/neurosciencegraph/data/release_index_20191208',\n",
       "  'type': 'ModelReleaseIndex'},\n",
       " 'name': '20191208',\n",
       " 'species': {'id': 'http://purl.obolibrary.org/obo/NCBITaxon_10088',\n",
       "  'label': 'Mouse'},\n",
       " 'wasAttributedTo': [{'id': 'https://bbp.epfl.ch/neurosciencegraph/data/baf46928-a799-4059-9035-273486a82dbd',\n",
       "   'type': 'WorkflowExecution'}],\n",
       " '_constrainedBy': 'https://bluebrain.github.io/nexus/schemas/unconstrained.json',\n",
       " '_createdAt': '2019-12-09T11:11:13.179Z',\n",
       " '_createdBy': 'https://bbp.epfl.ch/nexus/v1/realms/bbp/users/iavarone',\n",
       " '_deprecated': False,\n",
       " '_incoming': 'https://bbp.epfl.ch/nexus/v1/resources/bbp/thalamus/_/20191208/incoming',\n",
       " '_outgoing': 'https://bbp.epfl.ch/nexus/v1/resources/bbp/thalamus/_/20191208/outgoing',\n",
       " '_project': 'https://bbp.epfl.ch/nexus/v1/projects/bbp/thalamus',\n",
       " '_rev': 1,\n",
       " '_schemaProject': 'https://bbp.epfl.ch/nexus/v1/projects/bbp/thalamus',\n",
       " '_self': 'https://bbp.epfl.ch/nexus/v1/resources/bbp/thalamus/_/20191208',\n",
       " '_updatedAt': '2019-12-09T11:11:13.179Z',\n",
       " '_updatedBy': 'https://bbp.epfl.ch/nexus/v1/realms/bbp/users/iavarone'}"
      ]
     },
     "execution_count": 7,
     "metadata": {},
     "output_type": "execute_result"
    }
   ],
   "source": [
    "api.as_json(morphology_release)"
   ]
  },
  {
   "cell_type": "markdown",
   "metadata": {},
   "source": [
    "### Show the wrapped Nexus resource as dataframe"
   ]
  },
  {
   "cell_type": "code",
   "execution_count": 8,
   "metadata": {},
   "outputs": [
    {
     "data": {
      "text/html": [
       "<div>\n",
       "<style scoped>\n",
       "    .dataframe tbody tr th:only-of-type {\n",
       "        vertical-align: middle;\n",
       "    }\n",
       "\n",
       "    .dataframe tbody tr th {\n",
       "        vertical-align: top;\n",
       "    }\n",
       "\n",
       "    .dataframe thead th {\n",
       "        text-align: right;\n",
       "    }\n",
       "</style>\n",
       "<table border=\"1\" class=\"dataframe\">\n",
       "  <thead>\n",
       "    <tr style=\"text-align: right;\">\n",
       "      <th></th>\n",
       "      <th>0</th>\n",
       "    </tr>\n",
       "  </thead>\n",
       "  <tbody>\n",
       "    <tr>\n",
       "      <th>id</th>\n",
       "      <td>https://bbp.epfl.ch/neurosciencegraph/data/201...</td>\n",
       "    </tr>\n",
       "    <tr>\n",
       "      <th>type</th>\n",
       "      <td>MorphologyRelease</td>\n",
       "    </tr>\n",
       "    <tr>\n",
       "      <th>brainLocation.brainRegion.id</th>\n",
       "      <td>http://api.brain-map.org/api/v2/data/Structure...</td>\n",
       "    </tr>\n",
       "    <tr>\n",
       "      <th>brainLocation.brainRegion.label</th>\n",
       "      <td>Thalamus</td>\n",
       "    </tr>\n",
       "    <tr>\n",
       "      <th>description</th>\n",
       "      <td>Number of morphologies:170730; layers:[VPL, Rt...</td>\n",
       "    </tr>\n",
       "    <tr>\n",
       "      <th>distribution.type</th>\n",
       "      <td>DataDownload</td>\n",
       "    </tr>\n",
       "    <tr>\n",
       "      <th>distribution.encodingFormat</th>\n",
       "      <td>application/h5</td>\n",
       "    </tr>\n",
       "    <tr>\n",
       "      <th>distribution.url</th>\n",
       "      <td>file:///gpfs/bbp.cscs.ch/project/proj82/home/i...</td>\n",
       "    </tr>\n",
       "    <tr>\n",
       "      <th>morphologyIndex.id</th>\n",
       "      <td>https://bbp.epfl.ch/neurosciencegraph/data/rel...</td>\n",
       "    </tr>\n",
       "    <tr>\n",
       "      <th>morphologyIndex.type</th>\n",
       "      <td>ModelReleaseIndex</td>\n",
       "    </tr>\n",
       "    <tr>\n",
       "      <th>name</th>\n",
       "      <td>20191208</td>\n",
       "    </tr>\n",
       "    <tr>\n",
       "      <th>species.id</th>\n",
       "      <td>http://purl.obolibrary.org/obo/NCBITaxon_10088</td>\n",
       "    </tr>\n",
       "    <tr>\n",
       "      <th>species.label</th>\n",
       "      <td>Mouse</td>\n",
       "    </tr>\n",
       "    <tr>\n",
       "      <th>wasAttributedTo</th>\n",
       "      <td>[{'id': 'https://bbp.epfl.ch/neurosciencegraph...</td>\n",
       "    </tr>\n",
       "    <tr>\n",
       "      <th>_constrainedBy</th>\n",
       "      <td>https://bluebrain.github.io/nexus/schemas/unco...</td>\n",
       "    </tr>\n",
       "    <tr>\n",
       "      <th>_createdAt</th>\n",
       "      <td>2019-12-09T11:11:13.179Z</td>\n",
       "    </tr>\n",
       "    <tr>\n",
       "      <th>_createdBy</th>\n",
       "      <td>https://bbp.epfl.ch/nexus/v1/realms/bbp/users/...</td>\n",
       "    </tr>\n",
       "    <tr>\n",
       "      <th>_deprecated</th>\n",
       "      <td>False</td>\n",
       "    </tr>\n",
       "    <tr>\n",
       "      <th>_incoming</th>\n",
       "      <td>https://bbp.epfl.ch/nexus/v1/resources/bbp/tha...</td>\n",
       "    </tr>\n",
       "    <tr>\n",
       "      <th>_outgoing</th>\n",
       "      <td>https://bbp.epfl.ch/nexus/v1/resources/bbp/tha...</td>\n",
       "    </tr>\n",
       "    <tr>\n",
       "      <th>_project</th>\n",
       "      <td>https://bbp.epfl.ch/nexus/v1/projects/bbp/thal...</td>\n",
       "    </tr>\n",
       "    <tr>\n",
       "      <th>_rev</th>\n",
       "      <td>1</td>\n",
       "    </tr>\n",
       "    <tr>\n",
       "      <th>_schemaProject</th>\n",
       "      <td>https://bbp.epfl.ch/nexus/v1/projects/bbp/thal...</td>\n",
       "    </tr>\n",
       "    <tr>\n",
       "      <th>_self</th>\n",
       "      <td>https://bbp.epfl.ch/nexus/v1/resources/bbp/tha...</td>\n",
       "    </tr>\n",
       "    <tr>\n",
       "      <th>_updatedAt</th>\n",
       "      <td>2019-12-09T11:11:13.179Z</td>\n",
       "    </tr>\n",
       "    <tr>\n",
       "      <th>_updatedBy</th>\n",
       "      <td>https://bbp.epfl.ch/nexus/v1/realms/bbp/users/...</td>\n",
       "    </tr>\n",
       "  </tbody>\n",
       "</table>\n",
       "</div>"
      ],
      "text/plain": [
       "                                                                                 0\n",
       "id                               https://bbp.epfl.ch/neurosciencegraph/data/201...\n",
       "type                                                             MorphologyRelease\n",
       "brainLocation.brainRegion.id     http://api.brain-map.org/api/v2/data/Structure...\n",
       "brainLocation.brainRegion.label                                           Thalamus\n",
       "description                      Number of morphologies:170730; layers:[VPL, Rt...\n",
       "distribution.type                                                     DataDownload\n",
       "distribution.encodingFormat                                         application/h5\n",
       "distribution.url                 file:///gpfs/bbp.cscs.ch/project/proj82/home/i...\n",
       "morphologyIndex.id               https://bbp.epfl.ch/neurosciencegraph/data/rel...\n",
       "morphologyIndex.type                                             ModelReleaseIndex\n",
       "name                                                                      20191208\n",
       "species.id                          http://purl.obolibrary.org/obo/NCBITaxon_10088\n",
       "species.label                                                                Mouse\n",
       "wasAttributedTo                  [{'id': 'https://bbp.epfl.ch/neurosciencegraph...\n",
       "_constrainedBy                   https://bluebrain.github.io/nexus/schemas/unco...\n",
       "_createdAt                                                2019-12-09T11:11:13.179Z\n",
       "_createdBy                       https://bbp.epfl.ch/nexus/v1/realms/bbp/users/...\n",
       "_deprecated                                                                  False\n",
       "_incoming                        https://bbp.epfl.ch/nexus/v1/resources/bbp/tha...\n",
       "_outgoing                        https://bbp.epfl.ch/nexus/v1/resources/bbp/tha...\n",
       "_project                         https://bbp.epfl.ch/nexus/v1/projects/bbp/thal...\n",
       "_rev                                                                             1\n",
       "_schemaProject                   https://bbp.epfl.ch/nexus/v1/projects/bbp/thal...\n",
       "_self                            https://bbp.epfl.ch/nexus/v1/resources/bbp/tha...\n",
       "_updatedAt                                                2019-12-09T11:11:13.179Z\n",
       "_updatedBy                       https://bbp.epfl.ch/nexus/v1/realms/bbp/users/..."
      ]
     },
     "execution_count": 8,
     "metadata": {},
     "output_type": "execute_result"
    }
   ],
   "source": [
    "api.as_dataframe([morphology_release]).T"
   ]
  },
  {
   "cell_type": "markdown",
   "metadata": {},
   "source": [
    "### Instantiate a MorphDB object from a Morphology Collection and a unique identifier"
   ]
  },
  {
   "cell_type": "code",
   "execution_count": 9,
   "metadata": {},
   "outputs": [
    {
     "data": {
      "text/plain": [
       "<morph_tool.morphdb.MorphDB at 0x2aaaedf3ac00>"
      ]
     },
     "execution_count": 9,
     "metadata": {},
     "output_type": "execute_result"
    }
   ],
   "source": [
    "# this can be slow\n",
    "morphology_release.instance"
   ]
  },
  {
   "cell_type": "code",
   "execution_count": 10,
   "metadata": {},
   "outputs": [
    {
     "data": {
      "text/html": [
       "<div>\n",
       "<style scoped>\n",
       "    .dataframe tbody tr th:only-of-type {\n",
       "        vertical-align: middle;\n",
       "    }\n",
       "\n",
       "    .dataframe tbody tr th {\n",
       "        vertical-align: top;\n",
       "    }\n",
       "\n",
       "    .dataframe thead th {\n",
       "        text-align: right;\n",
       "    }\n",
       "</style>\n",
       "<table border=\"1\" class=\"dataframe\">\n",
       "  <thead>\n",
       "    <tr style=\"text-align: right;\">\n",
       "      <th></th>\n",
       "      <th>name</th>\n",
       "      <th>mtype</th>\n",
       "      <th>msubtype</th>\n",
       "      <th>mtype_no_subtype</th>\n",
       "      <th>layer</th>\n",
       "      <th>label</th>\n",
       "      <th>path</th>\n",
       "      <th>use_axon</th>\n",
       "      <th>use_dendrites</th>\n",
       "      <th>axon_repair</th>\n",
       "      <th>dendrite_repair</th>\n",
       "      <th>basal_dendrite_repair</th>\n",
       "      <th>tuft_dendrite_repair</th>\n",
       "      <th>oblique_dendrite_repair</th>\n",
       "      <th>unravel</th>\n",
       "      <th>use_for_stats</th>\n",
       "      <th>axon_inputs</th>\n",
       "    </tr>\n",
       "  </thead>\n",
       "  <tbody>\n",
       "    <tr>\n",
       "      <th>0</th>\n",
       "      <td>dend-jy180307_A_idA_axon-AA0348_-_Scale_x1.000...</td>\n",
       "      <td>VPL_TC</td>\n",
       "      <td></td>\n",
       "      <td>VPL_TC</td>\n",
       "      <td>VPL</td>\n",
       "      <td>default</td>\n",
       "      <td>/gpfs/bbp.cscs.ch/project/proj82/home/iavarone...</td>\n",
       "      <td>True</td>\n",
       "      <td>True</td>\n",
       "      <td>True</td>\n",
       "      <td>True</td>\n",
       "      <td>True</td>\n",
       "      <td>True</td>\n",
       "      <td>True</td>\n",
       "      <td>True</td>\n",
       "      <td>True</td>\n",
       "      <td>[]</td>\n",
       "    </tr>\n",
       "    <tr>\n",
       "      <th>1</th>\n",
       "      <td>dend-jy180307_A_idA_axon-AA0348_-_Scale_x1.000...</td>\n",
       "      <td>VPL_TC</td>\n",
       "      <td></td>\n",
       "      <td>VPL_TC</td>\n",
       "      <td>VPL</td>\n",
       "      <td>default</td>\n",
       "      <td>/gpfs/bbp.cscs.ch/project/proj82/home/iavarone...</td>\n",
       "      <td>True</td>\n",
       "      <td>True</td>\n",
       "      <td>True</td>\n",
       "      <td>True</td>\n",
       "      <td>True</td>\n",
       "      <td>True</td>\n",
       "      <td>True</td>\n",
       "      <td>True</td>\n",
       "      <td>True</td>\n",
       "      <td>[]</td>\n",
       "    </tr>\n",
       "    <tr>\n",
       "      <th>2</th>\n",
       "      <td>dend-jy180307_A_idA_axon-AA0348_-_Scale_x1.000...</td>\n",
       "      <td>VPL_TC</td>\n",
       "      <td></td>\n",
       "      <td>VPL_TC</td>\n",
       "      <td>VPL</td>\n",
       "      <td>default</td>\n",
       "      <td>/gpfs/bbp.cscs.ch/project/proj82/home/iavarone...</td>\n",
       "      <td>True</td>\n",
       "      <td>True</td>\n",
       "      <td>True</td>\n",
       "      <td>True</td>\n",
       "      <td>True</td>\n",
       "      <td>True</td>\n",
       "      <td>True</td>\n",
       "      <td>True</td>\n",
       "      <td>True</td>\n",
       "      <td>[]</td>\n",
       "    </tr>\n",
       "    <tr>\n",
       "      <th>3</th>\n",
       "      <td>dend-jy180307_A_idA_axon-AA0348_-_Scale_x1.000...</td>\n",
       "      <td>VPL_TC</td>\n",
       "      <td></td>\n",
       "      <td>VPL_TC</td>\n",
       "      <td>VPL</td>\n",
       "      <td>default</td>\n",
       "      <td>/gpfs/bbp.cscs.ch/project/proj82/home/iavarone...</td>\n",
       "      <td>True</td>\n",
       "      <td>True</td>\n",
       "      <td>True</td>\n",
       "      <td>True</td>\n",
       "      <td>True</td>\n",
       "      <td>True</td>\n",
       "      <td>True</td>\n",
       "      <td>True</td>\n",
       "      <td>True</td>\n",
       "      <td>[]</td>\n",
       "    </tr>\n",
       "    <tr>\n",
       "      <th>4</th>\n",
       "      <td>dend-jy180307_A_idA_axon-AA0348_-_Scale_x1.000...</td>\n",
       "      <td>VPL_TC</td>\n",
       "      <td></td>\n",
       "      <td>VPL_TC</td>\n",
       "      <td>VPL</td>\n",
       "      <td>default</td>\n",
       "      <td>/gpfs/bbp.cscs.ch/project/proj82/home/iavarone...</td>\n",
       "      <td>True</td>\n",
       "      <td>True</td>\n",
       "      <td>True</td>\n",
       "      <td>True</td>\n",
       "      <td>True</td>\n",
       "      <td>True</td>\n",
       "      <td>True</td>\n",
       "      <td>True</td>\n",
       "      <td>True</td>\n",
       "      <td>[]</td>\n",
       "    </tr>\n",
       "  </tbody>\n",
       "</table>\n",
       "</div>"
      ],
      "text/plain": [
       "                                                name   mtype msubtype  \\\n",
       "0  dend-jy180307_A_idA_axon-AA0348_-_Scale_x1.000...  VPL_TC            \n",
       "1  dend-jy180307_A_idA_axon-AA0348_-_Scale_x1.000...  VPL_TC            \n",
       "2  dend-jy180307_A_idA_axon-AA0348_-_Scale_x1.000...  VPL_TC            \n",
       "3  dend-jy180307_A_idA_axon-AA0348_-_Scale_x1.000...  VPL_TC            \n",
       "4  dend-jy180307_A_idA_axon-AA0348_-_Scale_x1.000...  VPL_TC            \n",
       "\n",
       "  mtype_no_subtype layer    label  \\\n",
       "0           VPL_TC   VPL  default   \n",
       "1           VPL_TC   VPL  default   \n",
       "2           VPL_TC   VPL  default   \n",
       "3           VPL_TC   VPL  default   \n",
       "4           VPL_TC   VPL  default   \n",
       "\n",
       "                                                path  use_axon  use_dendrites  \\\n",
       "0  /gpfs/bbp.cscs.ch/project/proj82/home/iavarone...      True           True   \n",
       "1  /gpfs/bbp.cscs.ch/project/proj82/home/iavarone...      True           True   \n",
       "2  /gpfs/bbp.cscs.ch/project/proj82/home/iavarone...      True           True   \n",
       "3  /gpfs/bbp.cscs.ch/project/proj82/home/iavarone...      True           True   \n",
       "4  /gpfs/bbp.cscs.ch/project/proj82/home/iavarone...      True           True   \n",
       "\n",
       "   axon_repair  dendrite_repair  basal_dendrite_repair  tuft_dendrite_repair  \\\n",
       "0         True             True                   True                  True   \n",
       "1         True             True                   True                  True   \n",
       "2         True             True                   True                  True   \n",
       "3         True             True                   True                  True   \n",
       "4         True             True                   True                  True   \n",
       "\n",
       "   oblique_dendrite_repair  unravel  use_for_stats axon_inputs  \n",
       "0                     True     True           True          []  \n",
       "1                     True     True           True          []  \n",
       "2                     True     True           True          []  \n",
       "3                     True     True           True          []  \n",
       "4                     True     True           True          []  "
      ]
     },
     "execution_count": 10,
     "metadata": {},
     "output_type": "execute_result"
    }
   ],
   "source": [
    "df = morphology_release.instance.df\n",
    "df.head()"
   ]
  },
  {
   "cell_type": "code",
   "execution_count": 11,
   "metadata": {},
   "outputs": [
    {
     "data": {
      "text/plain": [
       "VPL_TC    154440\n",
       "Rt_RC      11700\n",
       "VPL_IN      4590\n",
       "Name: mtype, dtype: int64"
      ]
     },
     "execution_count": 11,
     "metadata": {},
     "output_type": "execute_result"
    }
   ],
   "source": [
    "df[\"mtype\"].value_counts()"
   ]
  },
  {
   "cell_type": "markdown",
   "metadata": {},
   "source": [
    "### Get the morphologies from the morphology release entity"
   ]
  },
  {
   "cell_type": "markdown",
   "metadata": {},
   "source": [
    "#### From a morphology release df\n",
    "This method requires access to the internal df that can depend on the library used to open the morphology release, so it's not recommended unless needed for performance or flexibility reasons."
   ]
  },
  {
   "cell_type": "code",
   "execution_count": 12,
   "metadata": {},
   "outputs": [],
   "source": [
    "df = morphology_release.instance.df"
   ]
  },
  {
   "cell_type": "code",
   "execution_count": 13,
   "metadata": {},
   "outputs": [],
   "source": [
    "from bluepysnap.api.wrappers import wrap_morphology_dataframe_as_entities"
   ]
  },
  {
   "cell_type": "code",
   "execution_count": 14,
   "metadata": {},
   "outputs": [
    {
     "data": {
      "text/plain": [
       "2"
      ]
     },
     "execution_count": 14,
     "metadata": {},
     "output_type": "execute_result"
    }
   ],
   "source": [
    "morphologies = wrap_morphology_dataframe_as_entities(df.iloc[0:2], api)\n",
    "len(morphologies)"
   ]
  },
  {
   "cell_type": "code",
   "execution_count": 15,
   "metadata": {},
   "outputs": [
    {
     "data": {
      "text/plain": [
       "4590"
      ]
     },
     "execution_count": 15,
     "metadata": {},
     "output_type": "execute_result"
    }
   ],
   "source": [
    "morphologies = wrap_morphology_dataframe_as_entities(df[df['mtype'] == 'VPL_IN'], api)\n",
    "len(morphologies)"
   ]
  },
  {
   "cell_type": "markdown",
   "metadata": {},
   "source": [
    "### Plot a morphology"
   ]
  },
  {
   "cell_type": "code",
   "execution_count": 16,
   "metadata": {},
   "outputs": [
    {
     "name": "stdout",
     "output_type": "stream",
     "text": [
      "<class 'Proxy'>\n",
      "<class 'neurom.core.morphology.Morphology'>\n"
     ]
    }
   ],
   "source": [
    "morphology = morphologies[0]\n",
    "print(type(morphology.instance))\n",
    "print(morphology.instance.__class__)"
   ]
  },
  {
   "cell_type": "code",
   "execution_count": 17,
   "metadata": {},
   "outputs": [
    {
     "data": {
      "image/png": "[encoded data removed]",
      "text/plain": [
       "<Figure size 432x288 with 1 Axes>"
      ]
     },
     "metadata": {
      "needs_background": "light"
     },
     "output_type": "display_data"
    }
   ],
   "source": [
    "neurom.view.matplotlib_impl.plot_morph(morphology.instance)"
   ]
  },
  {
   "cell_type": "markdown",
   "metadata": {},
   "source": [
    "### Get the mean soma radius of a subsample of Rt cells of the morphology release"
   ]
  },
  {
   "cell_type": "code",
   "execution_count": 18,
   "metadata": {},
   "outputs": [],
   "source": [
    "morphologies = wrap_morphology_dataframe_as_entities(\n",
    "    df[df[\"layer\"] == \"Rt\"].iloc[:100], # first 100 \n",
    "    api)"
   ]
  },
  {
   "cell_type": "code",
   "execution_count": 19,
   "metadata": {},
   "outputs": [],
   "source": [
    "import neurom as nm\n",
    "from neurom.core.population import Population\n",
    "# this can be slow on the first execution\n",
    "population = Population([m.instance for m in morphologies])"
   ]
  },
  {
   "cell_type": "code",
   "execution_count": 20,
   "metadata": {},
   "outputs": [
    {
     "name": "stdout",
     "output_type": "stream",
     "text": [
      "10.688371\n"
     ]
    }
   ],
   "source": [
    "import numpy as np\n",
    "print(np.mean(nm.get('soma_radius', population)))"
   ]
  }
 ],
 "metadata": {
  "kernelspec": {
   "display_name": "mmb2022_193",
   "language": "python",
   "name": "mmb2022_193"
  },
  "language_info": {
   "codemirror_mode": {
    "name": "ipython",
    "version": 3
   },
   "file_extension": ".py",
   "mimetype": "text/x-python",
   "name": "python",
   "nbconvert_exporter": "python",
   "pygments_lexer": "ipython3",
   "version": "3.9.7"
  }
 },
 "nbformat": 4,
 "nbformat_minor": 4
}
