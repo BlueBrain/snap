{
 "cells": [
  {
   "cell_type": "markdown",
   "metadata": {},
   "source": [
    "# Milestone 5: Morphology helper"
   ]
  },
  {
   "cell_type": "markdown",
   "metadata": {},
   "source": [
    "Setup"
   ]
  },
  {
   "cell_type": "code",
   "execution_count": null,
   "metadata": {},
   "outputs": [],
   "source": [
    "import getpass\n",
    "import logging\n",
    "from pathlib import Path\n",
    "\n",
    "from bluepysnap.api import Api\n",
    "\n",
    "logging.basicConfig(level=logging.WARNING)\n",
    "\n",
    "ORGANIZATION = \"bbp\"\n",
    "PROJECT = \"thalamus\""
   ]
  },
  {
   "cell_type": "markdown",
   "metadata": {},
   "source": [
    "Paste the token from https://bbp.epfl.ch/nexus/web/"
   ]
  },
  {
   "cell_type": "code",
   "execution_count": null,
   "metadata": {},
   "outputs": [],
   "source": [
    "TOKEN = getpass.getpass()"
   ]
  },
  {
   "cell_type": "code",
   "execution_count": null,
   "metadata": {},
   "outputs": [],
   "source": [
    "nexus_config = \"../../../examples/configurations/api/forge.yml\"\n",
    "api = Api(nexus_config=nexus_config, bucket=f\"{ORGANIZATION}/{PROJECT}\", token=TOKEN, debug=False)"
   ]
  },
  {
   "cell_type": "markdown",
   "metadata": {},
   "source": [
    "### From a KG URL retrieve a Morphology Collection"
   ]
  },
  {
   "cell_type": "code",
   "execution_count": null,
   "metadata": {},
   "outputs": [],
   "source": [
    "morphology_release_id = \"https://bbp.epfl.ch/neurosciencegraph/data/20191208\"\n",
    "morphology_release = api.get_entity_by_id(morphology_release_id)\n",
    "print(morphology_release)"
   ]
  },
  {
   "cell_type": "markdown",
   "metadata": {},
   "source": [
    "### Get information related to a Morphology Collection"
   ]
  },
  {
   "cell_type": "code",
   "execution_count": null,
   "metadata": {},
   "outputs": [],
   "source": [
    "print(\"Description:\", morphology_release.description)\n",
    "print(\"Creator:\", morphology_release.createdBy)\n",
    "print(\"Creation date:\", morphology_release.createdAt)\n",
    "print(\"Project:\", morphology_release.project)\n",
    "print(\"Species:\", morphology_release.species.label)\n",
    "print(\"Brain region:\", morphology_release.brainLocation.brainRegion.label)"
   ]
  },
  {
   "cell_type": "markdown",
   "metadata": {},
   "source": [
    "### Retrieve and access a nested resource"
   ]
  },
  {
   "cell_type": "code",
   "execution_count": null,
   "metadata": {},
   "outputs": [],
   "source": [
    "print(morphology_release.morphologyIndex.distribution.url)"
   ]
  },
  {
   "cell_type": "markdown",
   "metadata": {},
   "source": [
    "### Show the wrapped Nexus resource as json"
   ]
  },
  {
   "cell_type": "code",
   "execution_count": null,
   "metadata": {},
   "outputs": [],
   "source": [
    "api.as_json(morphology_release)"
   ]
  },
  {
   "cell_type": "markdown",
   "metadata": {},
   "source": [
    "### Show the wrapped Nexus resource as dataframe"
   ]
  },
  {
   "cell_type": "code",
   "execution_count": null,
   "metadata": {},
   "outputs": [],
   "source": [
    "api.as_dataframe([morphology_release]).T"
   ]
  },
  {
   "cell_type": "markdown",
   "metadata": {},
   "source": [
    "### Instantiate a MorphDB object from a Morphology Collection and a unique identifier"
   ]
  },
  {
   "cell_type": "code",
   "execution_count": null,
   "metadata": {},
   "outputs": [],
   "source": [
    "# this can be slow\n",
    "morphology_release.instance"
   ]
  },
  {
   "cell_type": "code",
   "execution_count": null,
   "metadata": {},
   "outputs": [],
   "source": [
    "df = morphology_release.instance.df\n",
    "df"
   ]
  },
  {
   "cell_type": "code",
   "execution_count": null,
   "metadata": {},
   "outputs": [],
   "source": [
    "df[\"mtype\"].value_counts()"
   ]
  },
  {
   "cell_type": "markdown",
   "metadata": {},
   "source": [
    "### Get the morphologies from the morphology release entity"
   ]
  },
  {
   "cell_type": "markdown",
   "metadata": {},
   "source": [
    "#### From a morphology release df\n",
    "This method requires access to the internal df that can depend on the library used to open the morphology release, so it's not recommended unless needed for performance or flexibility reasons.\n",
    "\n",
    "Note: `api.morphology` is a namespace used for convenience to group methods related to morphologies."
   ]
  },
  {
   "cell_type": "code",
   "execution_count": null,
   "metadata": {},
   "outputs": [],
   "source": [
    "df = morphology_release.instance.df\n",
    "morphologies = api.morphology.get_morphologies_from_df(df.iloc[0:2])\n",
    "morphologies"
   ]
  },
  {
   "cell_type": "code",
   "execution_count": null,
   "metadata": {},
   "outputs": [],
   "source": [
    "morphologies = api.morphology.get_morphologies_from_df(df[df['mtype'] == 'VPL_IN'])\n",
    "len(morphologies)"
   ]
  },
  {
   "cell_type": "markdown",
   "metadata": {},
   "source": [
    "#### From a morphology release entity\n",
    "This method is slightly more generic: it doesn't expose directly the internal dataframe, but it allows to specify a query in the format required by `pandas` without having access to the dataframe.\n",
    "\n",
    "Alternatively, if we don't need to be able to specify a generic query, we could expose a different method that can be more specific, filtering on a limited set of columns."
   ]
  },
  {
   "cell_type": "code",
   "execution_count": null,
   "metadata": {},
   "outputs": [],
   "source": [
    "morphologies = api.morphology.get_morphologies_from_morphology_release(\n",
    "    morphology_release, 'mtype == [\"VPL_IN\", \"Rt_RC\"]'\n",
    ")\n",
    "len(morphologies)"
   ]
  },
  {
   "cell_type": "markdown",
   "metadata": {},
   "source": [
    "### Plot a morphology"
   ]
  },
  {
   "cell_type": "code",
   "execution_count": null,
   "metadata": {},
   "outputs": [],
   "source": [
    "morphology = morphologies[0]\n",
    "print(type(morphology.instance))\n",
    "print(morphology.instance.__class__)"
   ]
  },
  {
   "cell_type": "code",
   "execution_count": null,
   "metadata": {},
   "outputs": [],
   "source": [
    "%matplotlib inline\n",
    "from neurom import viewer\n",
    "fig, ax = viewer.draw(morphology.instance, mode=\"2d\")"
   ]
  },
  {
   "cell_type": "markdown",
   "metadata": {},
   "source": [
    "### ~~Get the mean diameter of the L23 cells of that morphology release~~\n",
    "    Get the mean soma radius of the VPL cells of that morphology release"
   ]
  },
  {
   "cell_type": "code",
   "execution_count": null,
   "metadata": {},
   "outputs": [],
   "source": [
    "morphologies = api.morphology.get_morphologies_from_morphology_release(\n",
    "    morphology_release, 'layer == \"Rt\"'\n",
    ")"
   ]
  },
  {
   "cell_type": "code",
   "execution_count": null,
   "metadata": {},
   "outputs": [],
   "source": [
    "import neurom as nm\n",
    "from neurom.core.population import Population\n",
    "# this can be slow on the first execution\n",
    "population = Population([m.instance for m in morphologies])"
   ]
  },
  {
   "cell_type": "code",
   "execution_count": null,
   "metadata": {},
   "outputs": [],
   "source": [
    "import numpy as np\n",
    "print(np.mean(nm.get('soma_radii', population)))"
   ]
  }
 ],
 "metadata": {
  "kernelspec": {
   "display_name": "Python 3",
   "language": "python",
   "name": "python3"
  },
  "language_info": {
   "codemirror_mode": {
    "name": "ipython",
    "version": 3
   },
   "file_extension": ".py",
   "mimetype": "text/x-python",
   "name": "python",
   "nbconvert_exporter": "python",
   "pygments_lexer": "ipython3",
   "version": "3.7.8"
  }
 },
 "nbformat": 4,
 "nbformat_minor": 4
}
