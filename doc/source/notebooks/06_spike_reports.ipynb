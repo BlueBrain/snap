{
 "cells": [
  {
   "cell_type": "markdown",
   "metadata": {},
   "source": [
    "# Spike Report\n",
    "## Introduction\n",
    "In this tutorial we cover how to inspect a spike report using BlueBrain SNAP and access its properties."
   ]
  },
  {
   "cell_type": "markdown",
   "metadata": {},
   "source": [
    "We start by importing the `bluepysnap` package:"
   ]
  },
  {
   "cell_type": "code",
   "execution_count": 1,
   "metadata": {},
   "outputs": [],
   "source": [
    "import bluepysnap"
   ]
  },
  {
   "cell_type": "markdown",
   "metadata": {},
   "source": [
    "## Loading\n",
    "In order to load the simulation data, we need the path to the file."
   ]
  },
  {
   "cell_type": "code",
   "execution_count": 2,
   "metadata": {},
   "outputs": [],
   "source": [
    "simulation_path = \"/gpfs/bbp.cscs.ch/project/proj12/NSE/bluepysnap-functional-tests/simulation_config_bluepy_examples.json\"\n",
    "simulation = bluepysnap.Simulation(simulation_path)"
   ]
  },
  {
   "cell_type": "markdown",
   "metadata": {},
   "source": [
    "Accessing simulation spike report is straightforward"
   ]
  },
  {
   "cell_type": "code",
   "execution_count": 3,
   "metadata": {},
   "outputs": [],
   "source": [
    "spikes = simulation.spikes"
   ]
  },
  {
   "cell_type": "markdown",
   "metadata": {},
   "source": [
    "## Timing"
   ]
  },
  {
   "cell_type": "markdown",
   "metadata": {},
   "source": [
    "As with the `Simulation` instance, it's easy to access report start and end time, as well as the time step (dt)"
   ]
  },
  {
   "cell_type": "code",
   "execution_count": 4,
   "metadata": {},
   "outputs": [
    {
     "name": "stdout",
     "output_type": "stream",
     "text": [
      "0 1000.0 0.025\n"
     ]
    }
   ],
   "source": [
    "print(\n",
    "    spikes.time_start, \n",
    "    spikes.time_stop, \n",
    "    spikes.dt\n",
    ")"
   ]
  },
  {
   "cell_type": "markdown",
   "metadata": {},
   "source": [
    "## Populations\n",
    "If we are interested in the populations in spike report, they can be shown with"
   ]
  },
  {
   "cell_type": "code",
   "execution_count": 5,
   "metadata": {},
   "outputs": [
    {
     "data": {
      "text/plain": [
       "['hippocampus_neurons']"
      ]
     },
     "execution_count": 5,
     "metadata": {},
     "output_type": "execute_result"
    }
   ],
   "source": [
    "spikes.population_names"
   ]
  },
  {
   "cell_type": "markdown",
   "metadata": {},
   "source": [
    "And when we know the population name, accessing it in the report is done as in the case of node/edge populations"
   ]
  },
  {
   "cell_type": "code",
   "execution_count": 6,
   "metadata": {},
   "outputs": [
    {
     "name": "stdout",
     "output_type": "stream",
     "text": [
      "<class 'bluepysnap.spike_report.PopulationSpikeReport'>\n"
     ]
    }
   ],
   "source": [
    "spike_pop = spikes['hippocampus_neurons']\n",
    "print(type(spike_pop))"
   ]
  },
  {
   "cell_type": "markdown",
   "metadata": {},
   "source": [
    "If we want to access the actual NodePopulation instance from the report, it can also be done"
   ]
  },
  {
   "cell_type": "code",
   "execution_count": 7,
   "metadata": {},
   "outputs": [
    {
     "name": "stdout",
     "output_type": "stream",
     "text": [
      "hippocampus_neurons: <class 'bluepysnap.nodes.node_population.NodePopulation'>\n"
     ]
    }
   ],
   "source": [
    "node_population = spike_pop.nodes\n",
    "print(f'{node_population.name}: {type(node_population)}')"
   ]
  },
  {
   "cell_type": "markdown",
   "metadata": {},
   "source": [
    "## Node IDs\n",
    "Now that we are familiar with the basics, accessing the node_ids in the report and getting their info is as easy as"
   ]
  },
  {
   "cell_type": "code",
   "execution_count": 8,
   "metadata": {},
   "outputs": [
    {
     "data": {
      "text/html": [
       "<div>\n",
       "<style scoped>\n",
       "    .dataframe tbody tr th:only-of-type {\n",
       "        vertical-align: middle;\n",
       "    }\n",
       "\n",
       "    .dataframe tbody tr th {\n",
       "        vertical-align: top;\n",
       "    }\n",
       "\n",
       "    .dataframe thead th {\n",
       "        text-align: right;\n",
       "    }\n",
       "</style>\n",
       "<table border=\"1\" class=\"dataframe\">\n",
       "  <thead>\n",
       "    <tr style=\"text-align: right;\">\n",
       "      <th></th>\n",
       "      <th>layer</th>\n",
       "      <th>synapse_class</th>\n",
       "      <th>x</th>\n",
       "      <th>y</th>\n",
       "      <th>z</th>\n",
       "    </tr>\n",
       "  </thead>\n",
       "  <tbody>\n",
       "    <tr>\n",
       "      <th>145</th>\n",
       "      <td>SP</td>\n",
       "      <td>EXC</td>\n",
       "      <td>475.613040</td>\n",
       "      <td>214.946340</td>\n",
       "      <td>418.594196</td>\n",
       "    </tr>\n",
       "    <tr>\n",
       "      <th>277</th>\n",
       "      <td>SP</td>\n",
       "      <td>EXC</td>\n",
       "      <td>102.885407</td>\n",
       "      <td>205.698670</td>\n",
       "      <td>820.509814</td>\n",
       "    </tr>\n",
       "    <tr>\n",
       "      <th>427</th>\n",
       "      <td>SP</td>\n",
       "      <td>EXC</td>\n",
       "      <td>151.772716</td>\n",
       "      <td>170.433333</td>\n",
       "      <td>808.895026</td>\n",
       "    </tr>\n",
       "    <tr>\n",
       "      <th>602</th>\n",
       "      <td>SP</td>\n",
       "      <td>EXC</td>\n",
       "      <td>175.807845</td>\n",
       "      <td>215.114387</td>\n",
       "      <td>620.637111</td>\n",
       "    </tr>\n",
       "    <tr>\n",
       "      <th>669</th>\n",
       "      <td>SP</td>\n",
       "      <td>EXC</td>\n",
       "      <td>569.932009</td>\n",
       "      <td>173.500045</td>\n",
       "      <td>760.627625</td>\n",
       "    </tr>\n",
       "  </tbody>\n",
       "</table>\n",
       "</div>"
      ],
      "text/plain": [
       "    layer synapse_class           x           y           z\n",
       "145    SP           EXC  475.613040  214.946340  418.594196\n",
       "277    SP           EXC  102.885407  205.698670  820.509814\n",
       "427    SP           EXC  151.772716  170.433333  808.895026\n",
       "602    SP           EXC  175.807845  215.114387  620.637111\n",
       "669    SP           EXC  569.932009  173.500045  760.627625"
      ]
     },
     "execution_count": 8,
     "metadata": {},
     "output_type": "execute_result"
    }
   ],
   "source": [
    "ids = spike_pop.node_ids\n",
    "node_population.get(ids, properties=['layer','synapse_class','x','y','z']).head()"
   ]
  },
  {
   "cell_type": "markdown",
   "metadata": {},
   "source": [
    "## Filtering\n",
    "We can filter the report to only access the data we are interested in"
   ]
  },
  {
   "cell_type": "code",
   "execution_count": 9,
   "metadata": {},
   "outputs": [
    {
     "data": {
      "text/html": [
       "<div>\n",
       "<style scoped>\n",
       "    .dataframe tbody tr th:only-of-type {\n",
       "        vertical-align: middle;\n",
       "    }\n",
       "\n",
       "    .dataframe tbody tr th {\n",
       "        vertical-align: top;\n",
       "    }\n",
       "\n",
       "    .dataframe thead th {\n",
       "        text-align: right;\n",
       "    }\n",
       "</style>\n",
       "<table border=\"1\" class=\"dataframe\">\n",
       "  <thead>\n",
       "    <tr style=\"text-align: right;\">\n",
       "      <th></th>\n",
       "      <th>ids</th>\n",
       "      <th>population</th>\n",
       "    </tr>\n",
       "    <tr>\n",
       "      <th>times</th>\n",
       "      <th></th>\n",
       "      <th></th>\n",
       "    </tr>\n",
       "  </thead>\n",
       "  <tbody>\n",
       "    <tr>\n",
       "      <th>1.700</th>\n",
       "      <td>7447</td>\n",
       "      <td>hippocampus_neurons</td>\n",
       "    </tr>\n",
       "    <tr>\n",
       "      <th>2.150</th>\n",
       "      <td>1006</td>\n",
       "      <td>hippocampus_neurons</td>\n",
       "    </tr>\n",
       "    <tr>\n",
       "      <th>2.150</th>\n",
       "      <td>11119</td>\n",
       "      <td>hippocampus_neurons</td>\n",
       "    </tr>\n",
       "    <tr>\n",
       "      <th>2.150</th>\n",
       "      <td>11654</td>\n",
       "      <td>hippocampus_neurons</td>\n",
       "    </tr>\n",
       "    <tr>\n",
       "      <th>2.225</th>\n",
       "      <td>10574</td>\n",
       "      <td>hippocampus_neurons</td>\n",
       "    </tr>\n",
       "  </tbody>\n",
       "</table>\n",
       "</div>"
      ],
      "text/plain": [
       "         ids           population\n",
       "times                            \n",
       "1.700   7447  hippocampus_neurons\n",
       "2.150   1006  hippocampus_neurons\n",
       "2.150  11119  hippocampus_neurons\n",
       "2.150  11654  hippocampus_neurons\n",
       "2.225  10574  hippocampus_neurons"
      ]
     },
     "execution_count": 9,
     "metadata": {},
     "output_type": "execute_result"
    }
   ],
   "source": [
    "filtered = spikes.filter(group={'layer':'SP'}, t_start=1, t_stop=100)\n",
    "filtered.report.head()"
   ]
  },
  {
   "cell_type": "markdown",
   "metadata": {},
   "source": [
    "## Plotting\n",
    "We may also want to visualize data. Plotting raster plot of filtered spikes:"
   ]
  },
  {
   "cell_type": "code",
   "execution_count": 10,
   "metadata": {},
   "outputs": [
    {
     "data": {
      "image/png": "[encoded data removed]",
      "text/plain": [
       "<Figure size 640x480 with 1 Axes>"
      ]
     },
     "metadata": {},
     "output_type": "display_data"
    }
   ],
   "source": [
    "filtered.raster();"
   ]
  },
  {
   "cell_type": "markdown",
   "metadata": {},
   "source": [
    "Plotting a firing rate histogram of the filtered spikes:"
   ]
  },
  {
   "cell_type": "code",
   "execution_count": 11,
   "metadata": {},
   "outputs": [
    {
     "data": {
      "image/png": "[encoded data removed]",
      "text/plain": [
       "<Figure size 640x480 with 1 Axes>"
      ]
     },
     "metadata": {},
     "output_type": "display_data"
    }
   ],
   "source": [
    "filtered.firing_rate_histogram();"
   ]
  },
  {
   "cell_type": "markdown",
   "metadata": {},
   "source": [
    "The filtered report's `firing_rate_histogram` only takes into account the nodes that are present in the filtered report and thus the Y-axis frequency values do not represent the whole `group` the filtered report was created with.\n",
    "\n",
    "Creating the same plot and computing frequencies based on the whole `group` can be done as follows:"
   ]
  },
  {
   "cell_type": "code",
   "execution_count": 12,
   "metadata": {},
   "outputs": [
    {
     "data": {
      "image/png": "[encoded data removed]",
      "text/plain": [
       "<Figure size 640x480 with 1 Axes>"
      ]
     },
     "metadata": {},
     "output_type": "display_data"
    }
   ],
   "source": [
    "import matplotlib.pyplot as plt\n",
    "import numpy as np\n",
    "\n",
    "ax = plt.gca()\n",
    "ax.set_xlabel(\"Time [ms]\")\n",
    "ax.set_ylabel(\"PSTH [Hz]\")\n",
    "ax.set_title(f\"PSTH for group: {filtered.group}\")\n",
    "\n",
    "times = filtered.report.index\n",
    "\n",
    "time_start = np.min(times)\n",
    "time_stop = np.max(times)\n",
    "\n",
    "# heuristic for a nice bin size (~100 spikes per bin on average)\n",
    "time_binsize = min(50.0, (time_stop - time_start) / ((len(times) / 100.0) + 1.0))\n",
    "\n",
    "bins = np.append(np.arange(time_start, time_stop, time_binsize), time_stop)\n",
    "hist, bin_edges = np.histogram(times, bins=bins)\n",
    "node_count = len(simulation.circuit.nodes.ids(filtered.group))  # Get length of node ids for whole `group`\n",
    "freq = 1.0 * hist / node_count / (0.001 * time_binsize)\n",
    "\n",
    "# use the middle of the bins instead of the start of the bin\n",
    "ax.plot(0.5 * (bin_edges[1:] + bin_edges[:-1]), freq, label=\"PSTH\", drawstyle=\"steps-mid\");"
   ]
  },
  {
   "cell_type": "markdown",
   "metadata": {},
   "source": [
    "Only filtered reports have plotting cababilities. However, filters can be called without arguments which leads to the filtered object having all the available data"
   ]
  },
  {
   "cell_type": "code",
   "execution_count": 13,
   "metadata": {
    "scrolled": true
   },
   "outputs": [
    {
     "data": {
      "image/png": "[encoded data removed]",
      "text/plain": [
       "<Figure size 640x480 with 1 Axes>"
      ]
     },
     "metadata": {},
     "output_type": "display_data"
    }
   ],
   "source": [
    "spikes.filter().raster();"
   ]
  },
  {
   "cell_type": "markdown",
   "metadata": {},
   "source": [
    "It might also be useful to change the y-axis to e.g., m-type"
   ]
  },
  {
   "cell_type": "code",
   "execution_count": 14,
   "metadata": {
    "scrolled": true
   },
   "outputs": [
    {
     "data": {
      "image/png": "[encoded data removed]",
      "text/plain": [
       "<Figure size 640x480 with 1 Axes>"
      ]
     },
     "metadata": {},
     "output_type": "display_data"
    }
   ],
   "source": [
    "spikes.filter().raster(y_axis='etype');"
   ]
  },
  {
   "cell_type": "markdown",
   "metadata": {},
   "source": [
    "One can also plot interspike interval plot"
   ]
  },
  {
   "cell_type": "code",
   "execution_count": 15,
   "metadata": {},
   "outputs": [
    {
     "data": {
      "image/png": "[encoded data removed]",
      "text/plain": [
       "<Figure size 640x480 with 1 Axes>"
      ]
     },
     "metadata": {},
     "output_type": "display_data"
    }
   ],
   "source": [
    "spikes.filter().isi(binsize=100);"
   ]
  },
  {
   "cell_type": "markdown",
   "metadata": {},
   "source": [
    "## Reading the log\n",
    "The `SpikeReport.log()` yields a file handler for the log file (raises error if log file not found). It can be read like any file in python:"
   ]
  },
  {
   "cell_type": "code",
   "execution_count": 16,
   "metadata": {},
   "outputs": [
    {
     "name": "stdout",
     "output_type": "stream",
     "text": [
      " ...\n",
      "SimulatorMode set to 'CORENEURON'\n",
      " CoreNEURON requires Random123 generator, setting RNGMode = Random123\n",
      " [\u001b[0m\u001b[34m INFO \u001b[0m] \u001b[0m\u001b[39mUsing morphology path: /gpfs/bbp.cscs.ch/project/proj42/circuits/CA1.O1/mooc-circuit/morphologies/swc/\u001b[0m\n",
      " [\u001b[0m\u001b[34m INFO \u001b[0m] \u001b[0m\u001b[39mRunning Neurodamus with config from BlueConfig\u001b[0m\n",
      " [\u001b[1m\u001b[39m STEP \u001b[0m] \u001b[1m\u001b[39mLoading Targets\u001b[0m\n",
      " Reading target file /gpfs/bbp.cscs.ch/project/proj42/circuits/CA1.O1/mooc-circuit/start.target\n",
      " Reading target file /gpfs/bbp.cscs.ch/project/proj42/circuits/CA1.O1/mooc-circuit/user.target\n",
      "   * Target AllCompartments  18198 cells [1 subtargets]\n",
      "   * Target PV                 470 cells [3 subtargets]\n",
      "   * Target CCK                231 cells [3 subtargets]\n",
      "\n",
      " ...\n"
     ]
    }
   ],
   "source": [
    "with spikes.log() as l:\n",
    "    print(\" ...\")\n",
    "    print(*l.readlines()[20:30])\n",
    "    print(\" ...\")"
   ]
  },
  {
   "cell_type": "markdown",
   "metadata": {},
   "source": [
    "## Conclusion\n",
    "We introduced how spike reports can be accessed and plotted with `bluepysnap`. Next we'll take a look into the frame reports."
   ]
  }
 ],
 "metadata": {
  "kernelspec": {
   "display_name": "Python3",
   "language": "python",
   "name": "python3"
  },
  "language_info": {
   "codemirror_mode": {
    "name": "ipython",
    "version": 3
   },
   "file_extension": ".py",
   "mimetype": "text/x-python",
   "name": "python",
   "nbconvert_exporter": "python",
   "pygments_lexer": "ipython3",
   "version": "3.9.7"
  }
 },
 "nbformat": 4,
 "nbformat_minor": 2
}
