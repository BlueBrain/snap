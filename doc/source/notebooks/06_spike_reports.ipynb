{
 "cells": [
  {
   "cell_type": "markdown",
   "metadata": {},
   "source": [
    "# Spike Report\n",
    "## Introduction\n",
    "In this tutorial we cover how to inspect a spike report using BlueBrain SNAP and access its properties."
   ]
  },
  {
   "cell_type": "markdown",
   "metadata": {},
   "source": [
    "We start by importing the `bluepysnap` package:"
   ]
  },
  {
   "cell_type": "code",
   "execution_count": 1,
   "metadata": {},
   "outputs": [],
   "source": [
    "import bluepysnap"
   ]
  },
  {
   "cell_type": "markdown",
   "metadata": {},
   "source": [
    "## Loading\n",
    "In order to load the simulation data, we need the path to the file."
   ]
  },
  {
   "cell_type": "code",
   "execution_count": 2,
   "metadata": {},
   "outputs": [
    {
     "name": "stdin",
     "output_type": "stream",
     "text": [
      "Token:  ·····································································································································································································································································································································································································································································································································································································································································································································································································································································································································································································································································································································································································································································································································································································································································································································································································································································································································································································································································································································································································································································································································································································································································································································································································································································································································································································································································································································································································································································································································································································································································································································································································································································································\n"
     ]
    }
   ],
   "source": [
    "from bluepyentity.nexus import NexusHelper\n",
    "from bluepyentity.token import get_token\n",
    "\n",
    "nexus = NexusHelper(token=get_token('production'), bucket='nse/test2')\n",
    "simulation_id = 'https://bbp.epfl.ch/nexus/v1/resources/nse/test2/_/ec23054c-57cb-4095-b1ec-ae39dfacb205'\n",
    "simulation_entity = nexus.get_entity_by_id(simulation_id)\n",
    "simulation_path = simulation_entity.simulationConfigPath.url.replace('file://', '')"
   ]
  },
  {
   "cell_type": "markdown",
   "metadata": {},
   "source": [
    "For the above to work, `bluepyentity` needs to be installed\n",
    "\n",
    "We can now open the simulation:"
   ]
  },
  {
   "cell_type": "code",
   "execution_count": 3,
   "metadata": {},
   "outputs": [],
   "source": [
    "simulation = bluepysnap.Simulation(simulation_path)"
   ]
  },
  {
   "cell_type": "markdown",
   "metadata": {},
   "source": [
    "Accessing simulation spike report is straightforward"
   ]
  },
  {
   "cell_type": "code",
   "execution_count": 4,
   "metadata": {},
   "outputs": [],
   "source": [
    "spikes = simulation.spikes"
   ]
  },
  {
   "cell_type": "markdown",
   "metadata": {},
   "source": [
    "## Timing"
   ]
  },
  {
   "cell_type": "markdown",
   "metadata": {},
   "source": [
    "As with the `Simulation` instance, it's easy to access report start and end time, as well as the time step (dt)"
   ]
  },
  {
   "cell_type": "code",
   "execution_count": 5,
   "metadata": {},
   "outputs": [
    {
     "name": "stdout",
     "output_type": "stream",
     "text": [
      "0 100.0 0.025\n"
     ]
    }
   ],
   "source": [
    "print(\n",
    "    spikes.time_start, \n",
    "    spikes.time_stop, \n",
    "    spikes.dt\n",
    ")"
   ]
  },
  {
   "cell_type": "markdown",
   "metadata": {},
   "source": [
    "## Populations\n",
    "If we are interested in the populations in spike report, they can be shown with"
   ]
  },
  {
   "cell_type": "code",
   "execution_count": 6,
   "metadata": {},
   "outputs": [
    {
     "data": {
      "text/plain": [
       "['thalamus_neurons']"
      ]
     },
     "execution_count": 6,
     "metadata": {},
     "output_type": "execute_result"
    }
   ],
   "source": [
    "spikes.population_names"
   ]
  },
  {
   "cell_type": "markdown",
   "metadata": {},
   "source": [
    "And when we know the population name, accessing it in the report is done as in the case of node/edge populations"
   ]
  },
  {
   "cell_type": "code",
   "execution_count": 7,
   "metadata": {},
   "outputs": [
    {
     "name": "stdout",
     "output_type": "stream",
     "text": [
      "<class 'bluepysnap.spike_report.PopulationSpikeReport'>\n"
     ]
    }
   ],
   "source": [
    "spike_pop = spikes['thalamus_neurons']\n",
    "print(type(spike_pop))"
   ]
  },
  {
   "cell_type": "markdown",
   "metadata": {},
   "source": [
    "If we want to access the actual NodePopulation instance from the report, it can also be done"
   ]
  },
  {
   "cell_type": "code",
   "execution_count": 8,
   "metadata": {},
   "outputs": [
    {
     "data": {
      "text/plain": [
       "['__class__',\n",
       " '__delattr__',\n",
       " '__dict__',\n",
       " '__dir__',\n",
       " '__doc__',\n",
       " '__eq__',\n",
       " '__format__',\n",
       " '__ge__',\n",
       " '__getattribute__',\n",
       " '__gt__',\n",
       " '__hash__',\n",
       " '__init__',\n",
       " '__init_subclass__',\n",
       " '__le__',\n",
       " '__lt__',\n",
       " '__module__',\n",
       " '__ne__',\n",
       " '__new__',\n",
       " '__reduce__',\n",
       " '__reduce_ex__',\n",
       " '__repr__',\n",
       " '__setattr__',\n",
       " '__sizeof__',\n",
       " '__str__',\n",
       " '__subclasshook__',\n",
       " '__weakref__',\n",
       " '_population_name',\n",
       " '_resolve_nodes',\n",
       " '_sorted_by',\n",
       " '_spike_population',\n",
       " 'get',\n",
       " 'name',\n",
       " 'node_ids',\n",
       " 'nodes',\n",
       " 'spike_report']"
      ]
     },
     "execution_count": 8,
     "metadata": {},
     "output_type": "execute_result"
    }
   ],
   "source": [
    "dir(spike_pop)"
   ]
  },
  {
   "cell_type": "code",
   "execution_count": 9,
   "metadata": {},
   "outputs": [
    {
     "data": {
      "text/plain": [
       "<bluepysnap.circuit.Circuit at 0x2aaaf2e870a0>"
      ]
     },
     "execution_count": 9,
     "metadata": {},
     "output_type": "execute_result"
    }
   ],
   "source": [
    "simulation.circuit"
   ]
  },
  {
   "cell_type": "code",
   "execution_count": 10,
   "metadata": {},
   "outputs": [
    {
     "name": "stdout",
     "output_type": "stream",
     "text": [
      "thalamus_neurons: <class 'bluepysnap.nodes.NodePopulation'>\n"
     ]
    }
   ],
   "source": [
    "node_population = spike_pop.nodes\n",
    "print(f'{node_population.name}: {type(node_population)}')"
   ]
  },
  {
   "cell_type": "markdown",
   "metadata": {},
   "source": [
    "## Node IDs\n",
    "Now that we are familiar with the basics, accessing the node_ids in the report and getting their info is as easy as"
   ]
  },
  {
   "cell_type": "code",
   "execution_count": 11,
   "metadata": {},
   "outputs": [
    {
     "data": {
      "text/html": [
       "<div>\n",
       "<style scoped>\n",
       "    .dataframe tbody tr th:only-of-type {\n",
       "        vertical-align: middle;\n",
       "    }\n",
       "\n",
       "    .dataframe tbody tr th {\n",
       "        vertical-align: top;\n",
       "    }\n",
       "\n",
       "    .dataframe thead th {\n",
       "        text-align: right;\n",
       "    }\n",
       "</style>\n",
       "<table border=\"1\" class=\"dataframe\">\n",
       "  <thead>\n",
       "    <tr style=\"text-align: right;\">\n",
       "      <th></th>\n",
       "      <th>layer</th>\n",
       "      <th>synapse_class</th>\n",
       "      <th>x</th>\n",
       "      <th>y</th>\n",
       "      <th>z</th>\n",
       "    </tr>\n",
       "  </thead>\n",
       "  <tbody>\n",
       "    <tr>\n",
       "      <th>28606</th>\n",
       "      <td>Rt</td>\n",
       "      <td>INH</td>\n",
       "      <td>171.278717</td>\n",
       "      <td>595.117554</td>\n",
       "      <td>830.635132</td>\n",
       "    </tr>\n",
       "    <tr>\n",
       "      <th>28608</th>\n",
       "      <td>Rt</td>\n",
       "      <td>INH</td>\n",
       "      <td>206.739487</td>\n",
       "      <td>586.587280</td>\n",
       "      <td>811.247925</td>\n",
       "    </tr>\n",
       "    <tr>\n",
       "      <th>28610</th>\n",
       "      <td>Rt</td>\n",
       "      <td>INH</td>\n",
       "      <td>187.273773</td>\n",
       "      <td>584.099487</td>\n",
       "      <td>847.822693</td>\n",
       "    </tr>\n",
       "    <tr>\n",
       "      <th>28613</th>\n",
       "      <td>Rt</td>\n",
       "      <td>INH</td>\n",
       "      <td>195.624069</td>\n",
       "      <td>580.239441</td>\n",
       "      <td>827.660034</td>\n",
       "    </tr>\n",
       "    <tr>\n",
       "      <th>28614</th>\n",
       "      <td>Rt</td>\n",
       "      <td>INH</td>\n",
       "      <td>191.636215</td>\n",
       "      <td>559.752747</td>\n",
       "      <td>834.632874</td>\n",
       "    </tr>\n",
       "  </tbody>\n",
       "</table>\n",
       "</div>"
      ],
      "text/plain": [
       "      layer synapse_class           x           y           z\n",
       "28606    Rt           INH  171.278717  595.117554  830.635132\n",
       "28608    Rt           INH  206.739487  586.587280  811.247925\n",
       "28610    Rt           INH  187.273773  584.099487  847.822693\n",
       "28613    Rt           INH  195.624069  580.239441  827.660034\n",
       "28614    Rt           INH  191.636215  559.752747  834.632874"
      ]
     },
     "execution_count": 11,
     "metadata": {},
     "output_type": "execute_result"
    }
   ],
   "source": [
    "ids = spike_pop.node_ids\n",
    "node_population.get(ids, properties=['layer','synapse_class','x','y','z']).head()"
   ]
  },
  {
   "cell_type": "markdown",
   "metadata": {},
   "source": [
    "## Filtering\n",
    "We can filter the report to only access the data we are interested in"
   ]
  },
  {
   "cell_type": "code",
   "execution_count": 12,
   "metadata": {},
   "outputs": [
    {
     "data": {
      "text/html": [
       "<div>\n",
       "<style scoped>\n",
       "    .dataframe tbody tr th:only-of-type {\n",
       "        vertical-align: middle;\n",
       "    }\n",
       "\n",
       "    .dataframe tbody tr th {\n",
       "        vertical-align: top;\n",
       "    }\n",
       "\n",
       "    .dataframe thead th {\n",
       "        text-align: right;\n",
       "    }\n",
       "</style>\n",
       "<table border=\"1\" class=\"dataframe\">\n",
       "  <thead>\n",
       "    <tr style=\"text-align: right;\">\n",
       "      <th></th>\n",
       "      <th>ids</th>\n",
       "      <th>population</th>\n",
       "    </tr>\n",
       "    <tr>\n",
       "      <th>times</th>\n",
       "      <th></th>\n",
       "      <th></th>\n",
       "    </tr>\n",
       "  </thead>\n",
       "  <tbody>\n",
       "    <tr>\n",
       "      <th>10.775</th>\n",
       "      <td>42498</td>\n",
       "      <td>thalamus_neurons</td>\n",
       "    </tr>\n",
       "    <tr>\n",
       "      <th>11.025</th>\n",
       "      <td>42507</td>\n",
       "      <td>thalamus_neurons</td>\n",
       "    </tr>\n",
       "    <tr>\n",
       "      <th>11.675</th>\n",
       "      <td>42465</td>\n",
       "      <td>thalamus_neurons</td>\n",
       "    </tr>\n",
       "    <tr>\n",
       "      <th>12.400</th>\n",
       "      <td>42470</td>\n",
       "      <td>thalamus_neurons</td>\n",
       "    </tr>\n",
       "    <tr>\n",
       "      <th>12.600</th>\n",
       "      <td>42468</td>\n",
       "      <td>thalamus_neurons</td>\n",
       "    </tr>\n",
       "  </tbody>\n",
       "</table>\n",
       "</div>"
      ],
      "text/plain": [
       "          ids        population\n",
       "times                          \n",
       "10.775  42498  thalamus_neurons\n",
       "11.025  42507  thalamus_neurons\n",
       "11.675  42465  thalamus_neurons\n",
       "12.400  42470  thalamus_neurons\n",
       "12.600  42468  thalamus_neurons"
      ]
     },
     "execution_count": 12,
     "metadata": {},
     "output_type": "execute_result"
    }
   ],
   "source": [
    "filtered = spikes.filter(group={'layer':'VPL'}, t_start=1, t_stop=100)\n",
    "filtered.report.head()"
   ]
  },
  {
   "cell_type": "markdown",
   "metadata": {},
   "source": [
    "## Plotting\n",
    "We may also want to visualize data. Plotting raster plot of filtered spikes:"
   ]
  },
  {
   "cell_type": "code",
   "execution_count": 13,
   "metadata": {},
   "outputs": [
    {
     "data": {
      "image/png": "[encoded data removed]",
      "text/plain": [
       "<Figure size 640x480 with 1 Axes>"
      ]
     },
     "metadata": {},
     "output_type": "display_data"
    }
   ],
   "source": [
    "filtered.raster();"
   ]
  },
  {
   "cell_type": "markdown",
   "metadata": {},
   "source": [
    "Plotting a firing rate histogram of the filtered spikes:"
   ]
  },
  {
   "cell_type": "code",
   "execution_count": 14,
   "metadata": {},
   "outputs": [
    {
     "data": {
      "image/png": "[encoded data removed]",
      "text/plain": [
       "<Figure size 640x480 with 1 Axes>"
      ]
     },
     "metadata": {},
     "output_type": "display_data"
    }
   ],
   "source": [
    "filtered.firing_rate_histogram();"
   ]
  },
  {
   "cell_type": "markdown",
   "metadata": {},
   "source": [
    "Only filtered reports have plotting cababilities. However, filters can be called without arguments which leads to the filtered object having all the available data"
   ]
  },
  {
   "cell_type": "code",
   "execution_count": 15,
   "metadata": {
    "scrolled": true
   },
   "outputs": [
    {
     "data": {
      "image/png": "[encoded data removed]",
      "text/plain": [
       "<Figure size 640x480 with 1 Axes>"
      ]
     },
     "metadata": {},
     "output_type": "display_data"
    }
   ],
   "source": [
    "spikes.filter().raster();"
   ]
  },
  {
   "cell_type": "markdown",
   "metadata": {},
   "source": [
    "It might also be useful to change the y-axis to e.g., m-type"
   ]
  },
  {
   "cell_type": "code",
   "execution_count": 16,
   "metadata": {
    "scrolled": true
   },
   "outputs": [
    {
     "data": {
      "image/png": "[encoded data removed]",
      "text/plain": [
       "<Figure size 640x480 with 1 Axes>"
      ]
     },
     "metadata": {},
     "output_type": "display_data"
    }
   ],
   "source": [
    "spikes.filter().raster(y_axis='etype');"
   ]
  },
  {
   "cell_type": "markdown",
   "metadata": {},
   "source": [
    "One can also plot interspike interval plot"
   ]
  },
  {
   "cell_type": "code",
   "execution_count": 17,
   "metadata": {},
   "outputs": [
    {
     "data": {
      "image/png": "[encoded data removed]",
      "text/plain": [
       "<Figure size 640x480 with 1 Axes>"
      ]
     },
     "metadata": {},
     "output_type": "display_data"
    }
   ],
   "source": [
    "spikes.filter().isi(binsize=1);"
   ]
  },
  {
   "cell_type": "markdown",
   "metadata": {},
   "source": [
    "## Reading the log\n",
    "The `SpikeReport.log()` yields a file handler for the log file (raises error if log file not found). It can be read like any file in python:"
   ]
  },
  {
   "cell_type": "code",
   "execution_count": 18,
   "metadata": {},
   "outputs": [
    {
     "name": "stdout",
     "output_type": "stream",
     "text": [
      " ...\n",
      "[STEP] (Jun.07 15:43:14) Initializing Neurodamus... Logfile: pydamus_2022-06-07_15h43.log\n",
      " [INFO] (Jun.07 15:43:14)  => Neurodamus Mod & Hoc lib loaded.\n",
      " [INFO] (Jun.07 15:43:14) Checking for plugins...\n",
      " [INFO] (Jun.07 15:43:14)  => Engines Available: ['Base', 'NGV', 'PointNeuron', 'METype']\n",
      " [INFO] (Jun.07 15:43:14)   : Connections Types: ['NeuroGlial', 'GlioVascular', 'Point', None, 'Synaptic', 'GapJunction', 'NeuroModulation']\n",
      " [STEP] (Jun.07 15:43:14) Setting up Neurodamus configuration\n",
      " [INFO] (Jun.07 15:43:14) Initializing Simulation Configuration and Validation\n",
      " [WARNING] (Jun.07 15:43:14) Unhandled synapse type: chemical\n",
      " [INFO] (Jun.07 15:43:15) Checking simulation requirements\n",
      " [INFO] (Jun.07 15:43:15) Initializing hoc config objects\n",
      "\n",
      " ...\n"
     ]
    }
   ],
   "source": [
    "with spikes.log() as l:\n",
    "    print(\" ...\")\n",
    "    print(*l.readlines()[:10])\n",
    "    print(\" ...\")"
   ]
  },
  {
   "cell_type": "markdown",
   "metadata": {},
   "source": [
    "## Conclusion\n",
    "We introduced how spike reports can be accessed and plotted with `bluepysnap`. Next we'll take a look into the frame reports."
   ]
  }
 ],
 "metadata": {
  "kernelspec": {
   "display_name": "Python 3",
   "language": "python",
   "name": "python3"
  },
  "language_info": {
   "codemirror_mode": {
    "name": "ipython",
    "version": 3
   },
   "file_extension": ".py",
   "mimetype": "text/x-python",
   "name": "python",
   "nbconvert_exporter": "python",
   "pygments_lexer": "ipython3",
   "version": "3.9.7"
  }
 },
 "nbformat": 4,
 "nbformat_minor": 4
}
