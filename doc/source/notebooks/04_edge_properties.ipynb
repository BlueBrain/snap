{
 "cells": [
  {
   "cell_type": "markdown",
   "metadata": {},
   "source": [
    "# Edge properties\n",
    "## Introduction\n",
    "In this tutorial we cover understanding the properties of edges (that is, synapses and junctions)."
   ]
  },
  {
   "cell_type": "markdown",
   "metadata": {},
   "source": [
    "## Preamble\n",
    "The code in this section is similar to the code in sections \"Introduction\" and \"Loading\" from the previous tutorial, but applied to edges."
   ]
  },
  {
   "cell_type": "code",
   "execution_count": 1,
   "metadata": {},
   "outputs": [
    {
     "data": {
      "text/plain": [
       "{'afferent_center_x',\n",
       " 'afferent_center_y',\n",
       " 'afferent_center_z',\n",
       " 'afferent_section_id',\n",
       " 'afferent_section_pos',\n",
       " 'afferent_section_type',\n",
       " 'afferent_segment_id',\n",
       " 'afferent_segment_offset',\n",
       " 'conductance',\n",
       " 'decay_time',\n",
       " 'delay',\n",
       " 'depression_time',\n",
       " 'efferent_morphology_id',\n",
       " 'efferent_section_id',\n",
       " 'efferent_section_pos',\n",
       " 'efferent_segment_id',\n",
       " 'efferent_segment_offset',\n",
       " 'efferent_surface_x',\n",
       " 'efferent_surface_y',\n",
       " 'efferent_surface_z',\n",
       " 'facilitation_time',\n",
       " 'n_rrp_vesicles',\n",
       " 'spine_length',\n",
       " 'syn_type_id',\n",
       " 'u_syn'}"
      ]
     },
     "execution_count": 1,
     "metadata": {},
     "output_type": "execute_result"
    }
   ],
   "source": [
    "import bluepysnap\n",
    "import matplotlib.pyplot as plt\n",
    "%matplotlib inline\n",
    "\n",
    "# load the circuit and store the node population\n",
    "circuit_path = \"/gpfs/bbp.cscs.ch/project/proj30/hippocampus/single_column/sonata/struct_circuit_config.json\"\n",
    "circuit = bluepysnap.Circuit(circuit_path)\n",
    "edge_population = circuit.edges[\"All\"]\n",
    "edge_population.property_names"
   ]
  },
  {
   "cell_type": "markdown",
   "metadata": {},
   "source": [
    "## Properties and methods\n",
    "Edge populations provide information about the collection of edges, and what information is available for each of the edges themselves.\n",
    "\n",
    "For example, the edge population `name` and `size` (that is, the number of nodes it contains) can be retrieved:"
   ]
  },
  {
   "cell_type": "code",
   "execution_count": 2,
   "metadata": {},
   "outputs": [
    {
     "name": "stdout",
     "output_type": "stream",
     "text": [
      "Name: All\n",
      "Population size: 14738826\n"
     ]
    }
   ],
   "source": [
    "print(\"Name:\", edge_population.name)\n",
    "print(\"Population size:\", edge_population.size)"
   ]
  },
  {
   "cell_type": "markdown",
   "metadata": {},
   "source": [
    "We can query the edges between sections of nodes with specific m-types, and retrieve their properties:"
   ]
  },
  {
   "cell_type": "code",
   "execution_count": 3,
   "metadata": {
    "scrolled": true
   },
   "outputs": [],
   "source": [
    "pre = {'mtype': 'SP_Ivy'}\n",
    "post = {'mtype': 'SR_SCA'}\n",
    "\n",
    "synapses = edge_population.pathway_edges(\n",
    "    source=pre, target=post,\n",
    "    properties=['efferent_section_id', 'afferent_section_id', 'u_syn']\n",
    ")"
   ]
  },
  {
   "cell_type": "markdown",
   "metadata": {},
   "source": [
    "This allows us to then visualize the distribution of the number of connections:"
   ]
  },
  {
   "cell_type": "code",
   "execution_count": 4,
   "metadata": {},
   "outputs": [
    {
     "data": {
      "image/png": "[encoded data removed]",
      "text/plain": [
       "<Figure size 432x288 with 1 Axes>"
      ]
     },
     "metadata": {
      "needs_background": "light"
     },
     "output_type": "display_data"
    }
   ],
   "source": [
    "df = synapses.groupby(['efferent_section_id', 'afferent_section_id']).size()\n",
    "ax = df.hist(bins=20, edgecolor='black', grid=False)\n",
    "ax.set_xlabel('Number of Synapses per Connection')\n",
    "ax.set_ylabel('Number of Connections');"
   ]
  },
  {
   "cell_type": "markdown",
   "metadata": {},
   "source": [
    "Or, alternatively, the distribution of other properties of the edges:"
   ]
  },
  {
   "cell_type": "code",
   "execution_count": 5,
   "metadata": {},
   "outputs": [
    {
     "data": {
      "image/png": "[encoded data removed]",
      "text/plain": [
       "<Figure size 432x288 with 1 Axes>"
      ]
     },
     "metadata": {
      "needs_background": "light"
     },
     "output_type": "display_data"
    }
   ],
   "source": [
    "df = synapses.u_syn\n",
    "ax = df.hist(bins=20, edgecolor='black', grid=False)\n",
    "ax.set_xlabel('U (probability)')\n",
    "ax.set_ylabel('Number of Synapses');"
   ]
  },
  {
   "cell_type": "markdown",
   "metadata": {},
   "source": [
    "## Conclusion\n",
    "Now that we can retrieve edge properties, we have covered the main tasks of inspecting the static components of a SONATA circuit."
   ]
  }
 ],
 "metadata": {
  "kernelspec": {
   "display_name": "Python 3",
   "language": "python",
   "name": "python3"
  },
  "language_info": {
   "codemirror_mode": {
    "name": "ipython",
    "version": 3
   },
   "file_extension": ".py",
   "mimetype": "text/x-python",
   "name": "python",
   "nbconvert_exporter": "python",
   "pygments_lexer": "ipython3",
   "version": "3.6.9"
  }
 },
 "nbformat": 4,
 "nbformat_minor": 2
}
