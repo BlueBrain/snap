{
 "cells": [
  {
   "cell_type": "markdown",
   "metadata": {},
   "source": [
    "# Milestone 3: Query circuits / simulation / simulation campaign available"
   ]
  },
  {
   "cell_type": "markdown",
   "metadata": {},
   "source": [
    "Setup"
   ]
  },
  {
   "cell_type": "code",
   "execution_count": null,
   "metadata": {},
   "outputs": [],
   "source": [
    "import getpass\n",
    "import logging\n",
    "from pathlib import Path\n",
    "\n",
    "from bluepysnap.api import Api\n",
    "\n",
    "logging.basicConfig(level=logging.WARNING)\n",
    "\n",
    "ORGANIZATION = \"nse\"\n",
    "PROJECT = \"test\""
   ]
  },
  {
   "cell_type": "markdown",
   "metadata": {},
   "source": [
    "Paste the token from https://bbp.epfl.ch/nexus/web/"
   ]
  },
  {
   "cell_type": "code",
   "execution_count": null,
   "metadata": {},
   "outputs": [],
   "source": [
    "TOKEN = getpass.getpass()"
   ]
  },
  {
   "cell_type": "code",
   "execution_count": null,
   "metadata": {},
   "outputs": [],
   "source": [
    "api = Api(bucket=f\"{ORGANIZATION}/{PROJECT}\", token=TOKEN, debug=False)"
   ]
  },
  {
   "cell_type": "markdown",
   "metadata": {},
   "source": [
    "### Give me all the circuits from project == ~~SSCxDis~~ nse/test"
   ]
  },
  {
   "cell_type": "code",
   "execution_count": null,
   "metadata": {},
   "outputs": [],
   "source": [
    "circuits = api.get_entities(\n",
    "    \"DetailedCircuit\",\n",
    "    {\"project\": \"nse/test\"}\n",
    ")\n",
    "print(len(circuits))\n",
    "print(circuits[0])\n",
    "print(circuits[0].resource)"
   ]
  },
  {
   "cell_type": "markdown",
   "metadata": {},
   "source": [
    "### Give me the last 20 simulations ~~I executed~~ a specific user executed"
   ]
  },
  {
   "cell_type": "code",
   "execution_count": null,
   "metadata": {},
   "outputs": [],
   "source": [
    "simulations = api.get_entities(\n",
    "    \"Simulation\",\n",
    "    {\"createdBy\": \"ivaska\"},\n",
    "    limit=20,\n",
    ")\n",
    "print(len(simulations))"
   ]
  },
  {
   "cell_type": "markdown",
   "metadata": {},
   "source": [
    "### Give me the last 20 simulations from project ~~‘SSCxDis’~~ nse/test"
   ]
  },
  {
   "cell_type": "code",
   "execution_count": null,
   "metadata": {},
   "outputs": [],
   "source": [
    "simulations = api.get_entities(\n",
    "    \"Simulation\",\n",
    "    {\"project\": \"nse/test\"},\n",
    "    limit=20,\n",
    ")\n",
    "print(len(simulations))\n"
   ]
  },
  {
   "cell_type": "markdown",
   "metadata": {},
   "source": [
    "### Give me the last 10 circuits from the thalamus"
   ]
  },
  {
   "cell_type": "code",
   "execution_count": null,
   "metadata": {},
   "outputs": [],
   "source": [
    "circuits = api.get_entities(\n",
    "    \"DetailedCircuit\",\n",
    "    {\"brainLocation\": {\n",
    "        \"brainRegion\": {\n",
    "            \"label\": \"Thalamus\",\n",
    "        },\n",
    "    },\n",
    "    },\n",
    "    limit=10,\n",
    ")\n",
    "print(len(circuits))"
   ]
  },
  {
   "cell_type": "markdown",
   "metadata": {},
   "source": [
    "### Give me all the circuits from BBP"
   ]
  },
  {
   "cell_type": "code",
   "execution_count": null,
   "metadata": {},
   "outputs": [],
   "source": [
    "circuits = api.get_entities(\"DetailedCircuit\", cross_bucket=True)\n",
    "print(len(circuits))"
   ]
  }
 ],
 "metadata": {
  "kernelspec": {
   "display_name": "MMB2022_141",
   "language": "python",
   "name": "mmb2022_141"
  },
  "language_info": {
   "codemirror_mode": {
    "name": "ipython",
    "version": 3
   },
   "file_extension": ".py",
   "mimetype": "text/x-python",
   "name": "python",
   "nbconvert_exporter": "python",
   "pygments_lexer": "ipython3",
   "version": "3.8.3"
  }
 },
 "nbformat": 4,
 "nbformat_minor": 4
}
