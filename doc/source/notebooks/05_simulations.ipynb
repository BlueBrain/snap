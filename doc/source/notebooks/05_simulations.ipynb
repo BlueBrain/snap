{
 "cells": [
  {
   "cell_type": "markdown",
   "metadata": {},
   "source": [
    "# Simulations\n",
    "## Introduction\n",
    "In this tutorial we cover how to load a SONATA simulation using BlueBrain SNAP and access its properties."
   ]
  },
  {
   "cell_type": "markdown",
   "metadata": {},
   "source": [
    "## Loading\n",
    "To load the simulation data, we'll open it a Nexus resource:"
   ]
  },
  {
   "cell_type": "code",
   "execution_count": 1,
   "metadata": {},
   "outputs": [
    {
     "name": "stdin",
     "output_type": "stream",
     "text": [
      "Token:  ·····································································································································································································································································································································································································································································································································································································································································································································································································································································································································································································································································································································································································································································································································································································································································································································································································································································································································································································································································································································································································································································································································································································································································································································································································································································································································································································································································································································································································································································································································································································································································································································································································································································································\n"
     ]
    }
   ],
   "source": [
    "from bluepyentity.nexus import NexusHelper\n",
    "from bluepyentity.token import get_token\n",
    "\n",
    "nexus = NexusHelper(token=get_token('production'), bucket='nse/test2')\n",
    "\n",
    "simulation_id = 'https://bbp.epfl.ch/nexus/v1/resources/nse/test2/_/ec23054c-57cb-4095-b1ec-ae39dfacb205'\n",
    "simulation_entity = nexus.get_entity_by_id(simulation_id)\n",
    "\n",
    "simulation = simulation_entity.instance"
   ]
  },
  {
   "cell_type": "markdown",
   "metadata": {},
   "source": [
    "For the above to work, `bluepyentity` needs to be installed. Simulations can also be opened from file with:\n",
    "```python\n",
    "simulation = bluepysnap.Simulation('/path/to/config.json')\n",
    "```"
   ]
  },
  {
   "cell_type": "markdown",
   "metadata": {},
   "source": [
    "## Properties\n",
    "Among others, Simulation gives access to the following properties\n",
    "* Configuration: `simulation.config`\n",
    "* Run: `simulation.run` (run section of the config)\n",
    "* Timings: `simulation.time_start`, `simulation.time_stop`, `simulation.dt` (from the run section of the config)\n",
    "* Units: `simulation.time_units`\n",
    "* Conditions: `simulation.conditions`\n",
    "* Targeted simulator: `simulation.simulator`\n",
    "* Circuit: `simulation.circuit`\n",
    "* Node sets: `simulation.node_sets`\n",
    "* Spike reports: `simulation.spikes`\n",
    "* Frame reports: `simulation.reports`"
   ]
  },
  {
   "cell_type": "code",
   "execution_count": 2,
   "metadata": {},
   "outputs": [
    {
     "data": {
      "text/plain": [
       "{'connection_overrides': {'CT2TC_NMDA': {'source': 'CT_afferents',\n",
       "   'synapse_configure': '%s.NMDA_ratio = 1.91',\n",
       "   'target': 'VPL_TC',\n",
       "   'weight': 1.0},\n",
       "  'CT_NMDA': {'source': 'CT_afferents',\n",
       "   'synapse_configure': '%s.NMDA_ratio = 0.99',\n",
       "   'target': 'Rt_RC',\n",
       "   'weight': 1.0},\n",
       "  'CT_all': {'source': 'CT_afferents',\n",
       "   'spont_minis': 0.01,\n",
       "   'target': 'Mosaic',\n",
       "   'weight': 1.0},\n",
       "  'ConInh-Uni': {'source': 'Inhibitory',\n",
       "   'spont_minis': 0.01,\n",
       "   'target': 'Mosaic',\n",
       "   'weight': 1.0},\n",
       "  'ConL3Exc-Uni': {'source': 'Excitatory',\n",
       "   'spont_minis': 0.01,\n",
       "   'target': 'Mosaic',\n",
       "   'weight': 1.0},\n",
       "  'GABAB_erev': {'source': 'Inhibitory',\n",
       "   'synapse_configure': '%s.e_GABAA = -82.0 %s.e_GABAB = -97.0 tau_d_GABAB_ProbGABAAB_EMS = 77',\n",
       "   'target': 'Mosaic',\n",
       "   'weight': 1.0},\n",
       "  'GABAB_erev_IN_TC': {'source': 'VPL_IN',\n",
       "   'synapse_configure': '%s.e_GABAA = -94.0 %s.e_GABAB = -97.0',\n",
       "   'target': 'VPL_TC',\n",
       "   'weight': 1.0},\n",
       "  'GABAB_erev_Rt_TC': {'source': 'Rt_RC',\n",
       "   'synapse_configure': '%s.e_GABAA = -94.0 %s.e_GABAB = -97.0',\n",
       "   'target': 'VPL_TC',\n",
       "   'weight': 1.0},\n",
       "  'MGGate': {'source': 'Excitatory',\n",
       "   'synapse_configure': '%s.mg = 1.0',\n",
       "   'target': 'Mosaic',\n",
       "   'weight': 1.0},\n",
       "  'ML_TC_NMDA': {'source': 'ML_afferents',\n",
       "   'synapse_configure': '%s.NMDA_ratio = 0.41',\n",
       "   'target': 'VPL_TC',\n",
       "   'weight': 1.0},\n",
       "  'ML_all': {'source': 'ML_afferents',\n",
       "   'spont_minis': 0.01,\n",
       "   'target': 'Mosaic',\n",
       "   'weight': 1.0},\n",
       "  'Rt_IN_GABAB_ratio': {'source': 'Rt_RC',\n",
       "   'synapse_configure': '%s.GABAB_ratio = 0.0',\n",
       "   'target': 'VPL_IN',\n",
       "   'weight': 1.0},\n",
       "  'TC_Rt_NMDA': {'source': 'VPL_TC',\n",
       "   'synapse_configure': '%s.NMDA_ratio = 0.57',\n",
       "   'target': 'Rt_RC',\n",
       "   'weight': 1.0},\n",
       "  'modifyML2Rt': {'source': 'ML_afferents', 'target': 'Rt_RC', 'weight': 0.0},\n",
       "  'modifyTC2IN': {'source': 'VPL_TC', 'target': 'VPL_IN', 'weight': 0.0},\n",
       "  'modifyTC2TC': {'source': 'VPL_TC', 'target': 'VPL_TC', 'weight': 0.0},\n",
       "  'scheme1b': {'source': 'Inhibitory',\n",
       "   'synapse_configure': '%s.GABAB_ratio = 0.0',\n",
       "   'target': 'Excitatory',\n",
       "   'weight': 1.0},\n",
       "  'scheme2b': {'source': 'Inhibitory',\n",
       "   'synapse_configure': '%s.GABAB_ratio = 0.0',\n",
       "   'target': 'Inhibitory',\n",
       "   'weight': 1.0},\n",
       "  'scheme_CaUse_CT': {'source': 'CT_afferents',\n",
       "   'synapse_configure': '%s.Use *= 0.4029343148532312',\n",
       "   'target': 'Mosaic',\n",
       "   'weight': 1.0},\n",
       "  'scheme_CaUse_Inh_Inh': {'source': 'Inhibitory',\n",
       "   'synapse_configure': '%s.Use *= 0.4029343148532312',\n",
       "   'target': 'Inhibitory',\n",
       "   'weight': 1.0},\n",
       "  'scheme_CaUse_ML': {'source': 'ML_afferents',\n",
       "   'synapse_configure': '%s.Use *= 0.4029343148532312',\n",
       "   'target': 'Mosaic',\n",
       "   'weight': 1.0},\n",
       "  'scheme_CaUse_Other_Inh_2_e': {'source': 'Inhibitory',\n",
       "   'synapse_configure': '%s.Use *= 0.4029343148532312',\n",
       "   'target': 'Excitatory',\n",
       "   'weight': 1.0},\n",
       "  'scheme_CaUse_e_2_Other_Inh': {'source': 'Excitatory',\n",
       "   'synapse_configure': '%s.Use *= 0.4029343148532312',\n",
       "   'target': 'Inhibitory',\n",
       "   'weight': 1.0},\n",
       "  'scheme_nmda_e2i': {'source': 'Excitatory',\n",
       "   'synapse_configure': '%s.NMDA_ratio = 0.57',\n",
       "   'target': 'Inhibitory',\n",
       "   'weight': 1.0}},\n",
       " 'inputs': {'HoldIN': {'delay': 0.0,\n",
       "   'duration': 5000.0,\n",
       "   'input_type': 'current_clamp',\n",
       "   'mean_percent': 0.0,\n",
       "   'module': 'noise',\n",
       "   'node_set': 'VPL_IN',\n",
       "   'variance': 0.001},\n",
       "  'HoldRt': {'delay': 0.0,\n",
       "   'duration': 5000.0,\n",
       "   'input_type': 'current_clamp',\n",
       "   'mean_percent': 0.0,\n",
       "   'module': 'noise',\n",
       "   'node_set': 'Rt_RC',\n",
       "   'variance': 0.001},\n",
       "  'HoldTC': {'delay': 0.0,\n",
       "   'duration': 5000.0,\n",
       "   'input_type': 'current_clamp',\n",
       "   'mean_percent': 0.0,\n",
       "   'module': 'noise',\n",
       "   'node_set': 'VPL_TC',\n",
       "   'variance': 0.001},\n",
       "  'spikeReplay_ct_noise': {'delay': 0.0,\n",
       "   'duration': 40000.0,\n",
       "   'input_type': 'spikes',\n",
       "   'module': 'synapse_replay',\n",
       "   'node_set': 'Mosaic',\n",
       "   'source': 'CT_afferents',\n",
       "   'spike_file': 'input/ct_noise_rawgid.dat'},\n",
       "  'spikeReplay_ml_noise': {'delay': 0.0,\n",
       "   'duration': 40000.0,\n",
       "   'input_type': 'spikes',\n",
       "   'module': 'synapse_replay',\n",
       "   'node_set': 'Mosaic',\n",
       "   'source': 'ML_afferents',\n",
       "   'spike_file': 'input/ml_noise_rawgid.dat'},\n",
       "  'spikeReplay_ml_sensory': {'delay': 0.0,\n",
       "   'duration': 40000.0,\n",
       "   'input_type': 'spikes',\n",
       "   'module': 'synapse_replay',\n",
       "   'node_set': 'Mosaic',\n",
       "   'spike_file': 'input/input.dat'}},\n",
       " 'network': '/gpfs/bbp.cscs.ch/project/proj12/NSE/bluepysnap-functional-tests/sonata/circuit_sonata.json',\n",
       " 'node_set': 'mc2_Column',\n",
       " 'output': {'log_file': 'pydamus_2022-06-07_15h43.log',\n",
       "  'output_dir': '/gpfs/bbp.cscs.ch/project/proj12/NSE/bluepysnap-functional-tests/sonata/reporting',\n",
       "  'spikes_file': 'spikes.h5'},\n",
       " 'reports': {'soma_report': {'cells': 'mc2_Column',\n",
       "   'dt': 0.1,\n",
       "   'end_time': 4000,\n",
       "   'file_name': 'soma_report.h5',\n",
       "   'sections': 'soma',\n",
       "   'start_time': 0,\n",
       "   'type': 'compartment',\n",
       "   'variable_name': 'v'}},\n",
       " 'run': {'dt': 0.025, 'forward_skip': 5001, 'random_seed': 0, 'tstop': 100.0},\n",
       " 'version': 1}"
      ]
     },
     "execution_count": 2,
     "metadata": {},
     "output_type": "execute_result"
    }
   ],
   "source": [
    "simulation.config"
   ]
  },
  {
   "cell_type": "code",
   "execution_count": 3,
   "metadata": {},
   "outputs": [
    {
     "data": {
      "text/plain": [
       "<libsonata._libsonata.Run at 0x2aaab6bcab30>"
      ]
     },
     "execution_count": 3,
     "metadata": {},
     "output_type": "execute_result"
    }
   ],
   "source": [
    "simulation.run"
   ]
  },
  {
   "cell_type": "code",
   "execution_count": 4,
   "metadata": {},
   "outputs": [
    {
     "data": {
      "text/plain": [
       "(0, 100.0, 0.025)"
      ]
     },
     "execution_count": 4,
     "metadata": {},
     "output_type": "execute_result"
    }
   ],
   "source": [
    "simulation.time_start, simulation.time_stop, simulation.dt"
   ]
  },
  {
   "cell_type": "code",
   "execution_count": 5,
   "metadata": {},
   "outputs": [
    {
     "data": {
      "text/plain": [
       "'ms'"
      ]
     },
     "execution_count": 5,
     "metadata": {},
     "output_type": "execute_result"
    }
   ],
   "source": [
    "simulation.time_units"
   ]
  },
  {
   "cell_type": "code",
   "execution_count": 6,
   "metadata": {},
   "outputs": [
    {
     "data": {
      "text/plain": [
       "<libsonata._libsonata.Conditions at 0x2aaaf27e39b0>"
      ]
     },
     "execution_count": 6,
     "metadata": {},
     "output_type": "execute_result"
    }
   ],
   "source": [
    "simulation.conditions  # if any"
   ]
  },
  {
   "cell_type": "code",
   "execution_count": 7,
   "metadata": {},
   "outputs": [
    {
     "data": {
      "text/plain": [
       "'NEURON'"
      ]
     },
     "execution_count": 7,
     "metadata": {},
     "output_type": "execute_result"
    }
   ],
   "source": [
    "simulation.simulator"
   ]
  },
  {
   "cell_type": "code",
   "execution_count": 8,
   "metadata": {},
   "outputs": [
    {
     "data": {
      "text/plain": [
       "<bluepysnap.circuit.Circuit at 0x2aaaf28359d0>"
      ]
     },
     "execution_count": 8,
     "metadata": {},
     "output_type": "execute_result"
    }
   ],
   "source": [
    "simulation.circuit"
   ]
  },
  {
   "cell_type": "code",
   "execution_count": 9,
   "metadata": {},
   "outputs": [
    {
     "data": {
      "text/plain": [
       "<bluepysnap.node_sets.NodeSets at 0x2aaaf2835310>"
      ]
     },
     "execution_count": 9,
     "metadata": {},
     "output_type": "execute_result"
    }
   ],
   "source": [
    "simulation.node_sets"
   ]
  },
  {
   "cell_type": "code",
   "execution_count": 10,
   "metadata": {},
   "outputs": [
    {
     "data": {
      "text/plain": [
       "<bluepysnap.spike_report.SpikeReport at 0x2aaaf2835a00>"
      ]
     },
     "execution_count": 10,
     "metadata": {},
     "output_type": "execute_result"
    }
   ],
   "source": [
    "simulation.spikes"
   ]
  },
  {
   "cell_type": "code",
   "execution_count": 11,
   "metadata": {},
   "outputs": [
    {
     "data": {
      "text/plain": [
       "{'soma_report': <bluepysnap.frame_report.SomaReport at 0x2aaaf2eabca0>}"
      ]
     },
     "execution_count": 11,
     "metadata": {},
     "output_type": "execute_result"
    }
   ],
   "source": [
    "simulation.reports"
   ]
  },
  {
   "cell_type": "markdown",
   "metadata": {},
   "source": [
    "## Conclusion\n",
    "Now that we can load simulationss and inspect their properties, we'll look into these in more detail in the following notebooks."
   ]
  }
 ],
 "metadata": {
  "kernelspec": {
   "display_name": "Python 3",
   "language": "python",
   "name": "python3"
  },
  "language_info": {
   "codemirror_mode": {
    "name": "ipython",
    "version": 3
   },
   "file_extension": ".py",
   "mimetype": "text/x-python",
   "name": "python",
   "nbconvert_exporter": "python",
   "pygments_lexer": "ipython3",
   "version": "3.9.7"
  }
 },
 "nbformat": 4,
 "nbformat_minor": 4
}
