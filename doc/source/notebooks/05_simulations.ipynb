{
 "cells": [
  {
   "cell_type": "markdown",
   "metadata": {},
   "source": [
    "# Simulations\n",
    "## Introduction\n",
    "In this tutorial we cover how to load a SONATA simulation using BlueBrain SNAP and access its properties."
   ]
  },
  {
   "cell_type": "markdown",
   "metadata": {},
   "source": [
    "We start by importing the `bluepysnap` package:"
   ]
  },
  {
   "cell_type": "code",
   "execution_count": 1,
   "metadata": {},
   "outputs": [],
   "source": [
    "import bluepysnap"
   ]
  },
  {
   "cell_type": "markdown",
   "metadata": {},
   "source": [
    "## Loading\n",
    "In order to load the simulation data, we need the path to the file."
   ]
  },
  {
   "cell_type": "code",
   "execution_count": 2,
   "metadata": {},
   "outputs": [],
   "source": [
    "simulation_path = \"/gpfs/bbp.cscs.ch/project/proj42/circuits/CA1.O1/mooc-circuit/simulation_config_bluepy_examples.json\"\n",
    "simulation = bluepysnap.Simulation(simulation_path)"
   ]
  },
  {
   "cell_type": "markdown",
   "metadata": {},
   "source": [
    "## Properties\n",
    "Among others, Simulation gives access to the following properties\n",
    "* Configuration: `simulation.config`\n",
    "* Run: `simulation.run` (run section of the config)\n",
    "* Timings: `simulation.time_start`, `simulation.time_stop`, `simulation.dt` (from the run section of the config)\n",
    "* Units: `simulation.time_units`\n",
    "* Conditions: `simulation.conditions`\n",
    "* Targeted simulator: `simulation.simulator`\n",
    "* Circuit: `simulation.circuit`\n",
    "* Node sets: `simulation.node_sets`\n",
    "* Spike reports: `simulation.spikes`\n",
    "* Frame reports: `simulation.reports`"
   ]
  },
  {
   "cell_type": "code",
   "execution_count": 3,
   "metadata": {},
   "outputs": [
    {
     "data": {
      "text/plain": [
       "{'run': {'tstop': 1000.0, 'dt': 0.025, 'seed': 264118},\n",
       " 'target_simulator': 'CORENEURON',\n",
       " 'network': '/gpfs/bbp.cscs.ch/project/proj42/circuits/CA1.O1/mooc-circuit/circuit_config.json',\n",
       " 'node_sets_file': '/gpfs/bbp.cscs.ch/project/proj42/circuits/CA1.O1/mooc-circuit/node_sets.json',\n",
       " 'inputs': {},\n",
       " 'output': {'output_dir': '/gpfs/bbp.cscs.ch/project/proj42/circuits/CA1.O1/mooc-circuit/simulations/sonata_report',\n",
       "  'log_file': 'simout-914515.log',\n",
       "  'spikes_file': 'out.h5',\n",
       "  'spikes_sort_order': 'time'},\n",
       " 'reports': {'soma_report': {'cells': 'CA1',\n",
       "   'variable_name': 'v',\n",
       "   'sections': 'soma',\n",
       "   'enabled': True,\n",
       "   'dt': 0.1,\n",
       "   'file_name': 'soma'}}}"
      ]
     },
     "execution_count": 3,
     "metadata": {},
     "output_type": "execute_result"
    }
   ],
   "source": [
    "simulation.config"
   ]
  },
  {
   "cell_type": "code",
   "execution_count": 4,
   "metadata": {},
   "outputs": [
    {
     "data": {
      "text/plain": [
       "{'tstop': 1000.0, 'dt': 0.025, 'seed': 264118}"
      ]
     },
     "execution_count": 4,
     "metadata": {},
     "output_type": "execute_result"
    }
   ],
   "source": [
    "simulation.run"
   ]
  },
  {
   "cell_type": "code",
   "execution_count": 5,
   "metadata": {},
   "outputs": [
    {
     "data": {
      "text/plain": [
       "(0, 1000.0, 0.025)"
      ]
     },
     "execution_count": 5,
     "metadata": {},
     "output_type": "execute_result"
    }
   ],
   "source": [
    "simulation.time_start, simulation.time_stop, simulation.dt"
   ]
  },
  {
   "cell_type": "code",
   "execution_count": 6,
   "metadata": {},
   "outputs": [
    {
     "data": {
      "text/plain": [
       "'ms'"
      ]
     },
     "execution_count": 6,
     "metadata": {},
     "output_type": "execute_result"
    }
   ],
   "source": [
    "simulation.time_units"
   ]
  },
  {
   "cell_type": "code",
   "execution_count": 7,
   "metadata": {},
   "outputs": [
    {
     "data": {
      "text/plain": [
       "{}"
      ]
     },
     "execution_count": 7,
     "metadata": {},
     "output_type": "execute_result"
    }
   ],
   "source": [
    "simulation.conditions  # if any"
   ]
  },
  {
   "cell_type": "code",
   "execution_count": 8,
   "metadata": {},
   "outputs": [
    {
     "data": {
      "text/plain": [
       "'CORENEURON'"
      ]
     },
     "execution_count": 8,
     "metadata": {},
     "output_type": "execute_result"
    }
   ],
   "source": [
    "simulation.simulator"
   ]
  },
  {
   "cell_type": "code",
   "execution_count": 9,
   "metadata": {},
   "outputs": [
    {
     "data": {
      "text/plain": [
       "<bluepysnap.circuit.Circuit at 0x7f4e0eb07250>"
      ]
     },
     "execution_count": 9,
     "metadata": {},
     "output_type": "execute_result"
    }
   ],
   "source": [
    "simulation.circuit"
   ]
  },
  {
   "cell_type": "code",
   "execution_count": 10,
   "metadata": {},
   "outputs": [
    {
     "data": {
      "text/plain": [
       "<bluepysnap.node_sets.NodeSets at 0x7f4e0eb07050>"
      ]
     },
     "execution_count": 10,
     "metadata": {},
     "output_type": "execute_result"
    }
   ],
   "source": [
    "simulation.node_sets"
   ]
  },
  {
   "cell_type": "code",
   "execution_count": 11,
   "metadata": {},
   "outputs": [
    {
     "data": {
      "text/plain": [
       "<bluepysnap.spike_report.SpikeReport at 0x7f4e0eb1b190>"
      ]
     },
     "execution_count": 11,
     "metadata": {},
     "output_type": "execute_result"
    }
   ],
   "source": [
    "simulation.spikes"
   ]
  },
  {
   "cell_type": "code",
   "execution_count": 12,
   "metadata": {},
   "outputs": [
    {
     "data": {
      "text/plain": [
       "{'soma_report': <bluepysnap.frame_report.SomaReport at 0x7f4e0fb32e90>}"
      ]
     },
     "execution_count": 12,
     "metadata": {},
     "output_type": "execute_result"
    }
   ],
   "source": [
    "simulation.reports"
   ]
  },
  {
   "cell_type": "markdown",
   "metadata": {},
   "source": [
    "## Conclusion\n",
    "Now that we can load simulationss and inspect their properties, we'll look into these in more detail in the following notebooks."
   ]
  }
 ],
 "metadata": {
  "kernelspec": {
   "display_name": "Python 3 (ipykernel)",
   "language": "python",
   "name": "python3"
  },
  "language_info": {
   "codemirror_mode": {
    "name": "ipython",
    "version": 3
   },
   "file_extension": ".py",
   "mimetype": "text/x-python",
   "name": "python",
   "nbconvert_exporter": "python",
   "pygments_lexer": "ipython3",
   "version": "3.7.12"
  }
 },
 "nbformat": 4,
 "nbformat_minor": 2
}
