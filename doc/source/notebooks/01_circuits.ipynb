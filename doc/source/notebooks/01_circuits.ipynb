{
 "cells": [
  {
   "cell_type": "markdown",
   "metadata": {},
   "source": [
    "# Circuits\n",
    "## Introduction\n",
    "In this tutorial we cover how to load a SONATA circuit using BlueBrain SNAP and access its properties."
   ]
  },
  {
   "cell_type": "markdown",
   "metadata": {},
   "source": [
    "## Downloading a circuit\n",
    "\n",
    "As a preliminary step, we download a Sonata circuit. You can learn more about the scientific aspects of this circuit in this [preprint](https://www.biorxiv.org/content/10.1101/2022.02.28.482273)."
   ]
  },
  {
   "cell_type": "code",
   "execution_count": 1,
   "metadata": {},
   "outputs": [],
   "source": [
    "# This step might take some minutes (large file size)\n",
    "\n",
    "from urllib.request import urlretrieve\n",
    "from pathlib import Path\n",
    "from zipfile import ZipFile\n",
    "\n",
    "url = \"https://zenodo.org/record/6259750/files/thalamus_microcircuit.zip?download=1\"\n",
    "extract_dir=\".\"\n",
    "\n",
    "circuit_path = Path('./sonata')\n",
    "if not circuit_path.exists():\n",
    "    zip_path, _ = urlretrieve(url)\n",
    "    with ZipFile(zip_path, \"r\") as f:\n",
    "        f.extractall(extract_dir)"
   ]
  },
  {
   "cell_type": "markdown",
   "metadata": {},
   "source": [
    "We start by importing the `bluepysnap` package:"
   ]
  },
  {
   "cell_type": "code",
   "execution_count": 2,
   "metadata": {},
   "outputs": [],
   "source": [
    "import bluepysnap"
   ]
  },
  {
   "cell_type": "markdown",
   "metadata": {},
   "source": [
    "## Loading\n",
    "In order to load the circuit data, we need the path to the file."
   ]
  },
  {
   "cell_type": "code",
   "execution_count": 3,
   "metadata": {},
   "outputs": [],
   "source": [
    "circuit_path = \"sonata/circuit_sonata.json\"\n",
    "circuit = bluepysnap.Circuit(circuit_path)"
   ]
  },
  {
   "cell_type": "markdown",
   "metadata": {},
   "source": [
    "## Properties\n",
    "Circuits provide access to four properties:\n",
    "1. Configuration: `circuit.config`\n",
    "2. Node populations: `circuit.nodes`\n",
    "3. Edge populations: `circuit.edges`\n",
    "4. Node sets: `circuit.node_sets`"
   ]
  },
  {
   "cell_type": "code",
   "execution_count": 4,
   "metadata": {},
   "outputs": [
    {
     "data": {
      "text/plain": [
       "{'version': 2,\n",
       " 'node_sets_file': '/gpfs/bbp.cscs.ch/home/herttuai/snap/doc/source/notebooks/sonata/networks/nodes/node_sets.json',\n",
       " 'networks': {'nodes': [{'nodes_file': '/gpfs/bbp.cscs.ch/home/herttuai/snap/doc/source/notebooks/sonata/networks/nodes/thalamus_neurons/nodes.h5',\n",
       "    'populations': {'thalamus_neurons': {'type': 'biophysical',\n",
       "      'biophysical_neuron_models_dir': '/gpfs/bbp.cscs.ch/project/proj82/home/iavarone/modelmanagement/20191105/memodels/hoc',\n",
       "      'alternate_morphologies': {'neurolucida-asc': '/gpfs/bbp.cscs.ch/project/proj82/home/iavarone/morphology_release/20191031/ascii',\n",
       "       'h5v1': '/gpfs/bbp.cscs.ch/project/proj82/home/iavarone/morphology_release/20191031/h5'}}}},\n",
       "   {'nodes_file': '/gpfs/bbp.cscs.ch/home/herttuai/snap/doc/source/notebooks/sonata/networks/nodes/CorticoThalamic_projections/nodes.h5',\n",
       "    'populations': {'CorticoThalamic_projections': {'type': 'virtual'}}},\n",
       "   {'nodes_file': '/gpfs/bbp.cscs.ch/home/herttuai/snap/doc/source/notebooks/sonata/networks/nodes/MedialLemniscus_projections/nodes.h5',\n",
       "    'populations': {'MedialLemniscus_projections': {'type': 'virtual'}}}],\n",
       "  'edges': [{'edges_file': '/gpfs/bbp.cscs.ch/home/herttuai/snap/doc/source/notebooks/sonata/networks/edges/thalamus_neurons__thalamus_neurons__chemical/edges.h5',\n",
       "    'populations': {'thalamus_neurons__thalamus_neurons__chemical': {'type': 'chemical'}}},\n",
       "   {'edges_file': '/gpfs/bbp.cscs.ch/home/herttuai/snap/doc/source/notebooks/sonata/networks/edges/thalamus_neurons__thalamus_neurons__electrical_synapse/edges.h5',\n",
       "    'populations': {'thalamus_neurons__thalamus_neurons__electrical_synapse': {'type': 'electrical'}}},\n",
       "   {'edges_file': '/gpfs/bbp.cscs.ch/home/herttuai/snap/doc/source/notebooks/sonata/networks/edges/MedialLemniscus_projections__thalamus_neurons__chemical/edges.h5',\n",
       "    'populations': {'MedialLemniscus_projections__thalamus_neurons__chemical': {'type': 'chemical'}}},\n",
       "   {'edges_file': '/gpfs/bbp.cscs.ch/home/herttuai/snap/doc/source/notebooks/sonata/networks/edges/CorticoThalamic_projections__thalamus_neurons__chemical/edges.h5',\n",
       "    'populations': {'CorticoThalamic_projections__thalamus_neurons__chemical': {'type': 'chemical'}}}]}}"
      ]
     },
     "execution_count": 4,
     "metadata": {},
     "output_type": "execute_result"
    }
   ],
   "source": [
    "circuit.config"
   ]
  },
  {
   "cell_type": "code",
   "execution_count": 5,
   "metadata": {},
   "outputs": [
    {
     "data": {
      "text/plain": [
       "<bluepysnap.nodes.Nodes at 0x2aaae172acd0>"
      ]
     },
     "execution_count": 5,
     "metadata": {},
     "output_type": "execute_result"
    }
   ],
   "source": [
    "circuit.nodes"
   ]
  },
  {
   "cell_type": "code",
   "execution_count": 6,
   "metadata": {},
   "outputs": [
    {
     "data": {
      "text/plain": [
       "<bluepysnap.edges.Edges at 0x2aaae172a510>"
      ]
     },
     "execution_count": 6,
     "metadata": {},
     "output_type": "execute_result"
    }
   ],
   "source": [
    "circuit.edges"
   ]
  },
  {
   "cell_type": "code",
   "execution_count": 7,
   "metadata": {},
   "outputs": [
    {
     "data": {
      "text/plain": [
       "<bluepysnap.node_sets.NodeSets at 0x2aaae1737250>"
      ]
     },
     "execution_count": 7,
     "metadata": {},
     "output_type": "execute_result"
    }
   ],
   "source": [
    "circuit.node_sets"
   ]
  },
  {
   "cell_type": "markdown",
   "metadata": {},
   "source": [
    "## Conclusion\n",
    "Now that we can load circuits and inspect their properties, the following lessons will delve deeper into\n",
    "what these contain."
   ]
  }
 ],
 "metadata": {
  "kernelspec": {
   "display_name": "Python 3",
   "language": "python",
   "name": "python3"
  },
  "language_info": {
   "codemirror_mode": {
    "name": "ipython",
    "version": 3
   },
   "file_extension": ".py",
   "mimetype": "text/x-python",
   "name": "python",
   "nbconvert_exporter": "python",
   "pygments_lexer": "ipython3",
   "version": "3.7.4"
  }
 },
 "nbformat": 4,
 "nbformat_minor": 4
}
