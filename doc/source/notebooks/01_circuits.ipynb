{
 "cells": [
  {
   "cell_type": "markdown",
   "metadata": {},
   "source": [
    "# Circuits\n",
    "## Introduction\n",
    "In this tutorial we cover how to load a SONATA circuit using BlueBrain SNAP and access its properties."
   ]
  },
  {
   "cell_type": "markdown",
   "metadata": {},
   "source": [
    "We start by importing the `bluepysnap` package:"
   ]
  },
  {
   "cell_type": "code",
   "execution_count": 1,
   "metadata": {},
   "outputs": [],
   "source": [
    "import bluepysnap"
   ]
  },
  {
   "cell_type": "markdown",
   "metadata": {},
   "source": [
    "## Loading\n",
    "In order to load the circuit data, we need the path to the file."
   ]
  },
  {
   "cell_type": "code",
   "execution_count": 2,
   "metadata": {},
   "outputs": [],
   "source": [
    "circuit_path = \"/gpfs/bbp.cscs.ch/project/proj30/hippocampus/single_column/sonata/struct_circuit_config.json\"\n",
    "circuit = bluepysnap.Circuit(circuit_path)"
   ]
  },
  {
   "cell_type": "markdown",
   "metadata": {},
   "source": [
    "## Properties\n",
    "Circuits provide access to three properties:\n",
    "1. Configuration: `circuit.config`\n",
    "2. Node populations: `circuit.nodes`\n",
    "3. Edge populations: `circuit.edges`"
   ]
  },
  {
   "cell_type": "code",
   "execution_count": 3,
   "metadata": {},
   "outputs": [
    {
     "data": {
      "text/plain": [
       "{'components': {'morphologies_dir': '/gpfs/bbp.cscs.ch/project/proj30/hippocampus/single_column/sonata/components/morphologies',\n",
       "  'biophysical_neuron_models_dir': '/gpfs/bbp.cscs.ch/project/proj30/hippocampus/single_column/sonata/components/biophysical_neuron_models'},\n",
       " 'networks': {'nodes': [{'nodes_file': '/gpfs/bbp.cscs.ch/project/proj30/hippocampus/single_column/sonata/networks/nodes/All/nodes.h5',\n",
       "    'node_types_file': None,\n",
       "    'node_sets_file': '/gpfs/bbp.cscs.ch/project/proj30/hippocampus/single_column/sonata/networks/nodes/All/node_sets.json'}],\n",
       "  'edges': [{'edges_file': '/gpfs/bbp.cscs.ch/project/proj30/hippocampus/single_column/sonata/networks/edges/structural/All/edges.h5',\n",
       "    'edge_types_file': None}]}}"
      ]
     },
     "execution_count": 3,
     "metadata": {},
     "output_type": "execute_result"
    }
   ],
   "source": [
    "circuit.config"
   ]
  },
  {
   "cell_type": "code",
   "execution_count": 4,
   "metadata": {},
   "outputs": [
    {
     "data": {
      "text/plain": [
       "{'All': <bluepysnap.nodes.NodePopulation at 0x1126b1a58>}"
      ]
     },
     "execution_count": 4,
     "metadata": {},
     "output_type": "execute_result"
    }
   ],
   "source": [
    "circuit.nodes"
   ]
  },
  {
   "cell_type": "code",
   "execution_count": 5,
   "metadata": {},
   "outputs": [
    {
     "data": {
      "text/plain": [
       "{'All': <bluepysnap.edges.EdgePopulation at 0x1126b19e8>}"
      ]
     },
     "execution_count": 5,
     "metadata": {},
     "output_type": "execute_result"
    }
   ],
   "source": [
    "circuit.edges"
   ]
  },
  {
   "cell_type": "markdown",
   "metadata": {},
   "source": [
    "## Conclusion\n",
    "Now that we can load circuits and inspect their properties, the following lessons will delve deeper into\n",
    "what these contain."
   ]
  }
 ],
 "metadata": {
  "kernelspec": {
   "display_name": "Python 3",
   "language": "python",
   "name": "python3"
  },
  "language_info": {
   "codemirror_mode": {
    "name": "ipython",
    "version": 3
   },
   "file_extension": ".py",
   "mimetype": "text/x-python",
   "name": "python",
   "nbconvert_exporter": "python",
   "pygments_lexer": "ipython3",
   "version": "3.6.9"
  }
 },
 "nbformat": 4,
 "nbformat_minor": 2
}
