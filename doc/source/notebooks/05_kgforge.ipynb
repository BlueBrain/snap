{
 "cells": [
  {
   "cell_type": "markdown",
   "metadata": {},
   "source": [
    "# Instantiate SNAP Circuit with KGForge\n",
    "\n",
    "## Imports"
   ]
  },
  {
   "cell_type": "code",
   "execution_count": 1,
   "metadata": {},
   "outputs": [],
   "source": [
    "import os\n",
    "import getpass\n",
    "from pprint import pprint\n",
    "\n",
    "import neurom as nm\n",
    "from kgforge.core import KnowledgeGraphForge\n",
    "from bluepysnap.kgforge import KGCircuitSonata, KGCircuitBluepy, query_resources\n",
    "import matplotlib.pyplot as plt\n",
    "%matplotlib inline"
   ]
  },
  {
   "cell_type": "markdown",
   "metadata": {},
   "source": [
    "## KGForge\n",
    "Create a KGForge instance to access data in Nexus project `{ORGANIZATION}/{PROJECT}`."
   ]
  },
  {
   "cell_type": "code",
   "execution_count": 2,
   "metadata": {},
   "outputs": [],
   "source": [
    "# Clone the KGForge repo\n",
    "if not os.path.exists('nexus-forge'):\n",
    "    os.system('git clone https://github.com/BlueBrain/nexus-forge.git')"
   ]
  },
  {
   "cell_type": "code",
   "execution_count": 3,
   "metadata": {},
   "outputs": [],
   "source": [
    "# Path to nexus config file (in KGForge project)\n",
    "nexus_config = os.path.join(os.path.abspath(os.getcwd()), 'nexus-forge/examples/configurations/forge.yml')"
   ]
  },
  {
   "cell_type": "code",
   "execution_count": 4,
   "metadata": {},
   "outputs": [],
   "source": [
    "# organization / project as in Nexus\n",
    "ORGANIZATION = 'nse'                                          \n",
    "PROJECT = 'test'\n",
    "ENDPOINT = 'https://bbp.epfl.ch/nexus/v1'"
   ]
  },
  {
   "cell_type": "markdown",
   "metadata": {},
   "source": [
    "Copy the token from [Nexus](https://bbp.epfl.ch/nexus) and paste it here"
   ]
  },
  {
   "cell_type": "code",
   "execution_count": 5,
   "metadata": {},
   "outputs": [
    {
     "name": "stdin",
     "output_type": "stream",
     "text": [
      " ···········································································································································································································································································································································································································································································································································································································································································································································································································································································································································································································································································································································································································································································································································································································································································································································································\n"
     ]
    }
   ],
   "source": [
    "# Paste the token here\n",
    "TOKEN = getpass.getpass()"
   ]
  },
  {
   "cell_type": "code",
   "execution_count": 6,
   "metadata": {},
   "outputs": [],
   "source": [
    "# Create the KGForge instance\n",
    "forge = KnowledgeGraphForge(nexus_config, bucket=f'{ORGANIZATION}/{PROJECT}', endpoint=ENDPOINT, searchendpoints=None, token=TOKEN)"
   ]
  },
  {
   "cell_type": "markdown",
   "metadata": {},
   "source": [
    "## SNAP\n",
    "Instantiate SNAP Circuit with KGForge wrappings (KGCircuit) with Nexus URL."
   ]
  },
  {
   "cell_type": "code",
   "execution_count": 7,
   "metadata": {},
   "outputs": [],
   "source": [
    "circuit_url = 'https://bbp.epfl.ch/nexus/v1/resources/nse/test/_/20191025'"
   ]
  },
  {
   "cell_type": "code",
   "execution_count": 8,
   "metadata": {},
   "outputs": [],
   "source": [
    "circuit = KGCircuitSonata.from_id(circuit_url, forge)"
   ]
  },
  {
   "cell_type": "markdown",
   "metadata": {},
   "source": [
    "### Metadata\n",
    "Access the metadata of the circuit."
   ]
  },
  {
   "cell_type": "code",
   "execution_count": 9,
   "metadata": {},
   "outputs": [
    {
     "name": "stdout",
     "output_type": "stream",
     "text": [
      "{\n",
      "    context: https://bbp.neuroshapes.org\n",
      "    id: https://bbp.epfl.ch/nexus/v1/resources/nse/test/_/20191025\n",
      "    type: DetailedCircuit\n",
      "    brainLocation:\n",
      "    {\n",
      "        brainRegion:\n",
      "        {\n",
      "            id: http://api.brain-map.org/api/v2/data/Structure/549\n",
      "            label: Thalamus\n",
      "        }\n",
      "    }\n",
      "    circuitBase:\n",
      "    {\n",
      "        type: DataDownload\n",
      "        url: file:///gpfs/bbp.cscs.ch/project/proj82/circuits/Thalamus/20191025\n",
      "    }\n",
      "    circuitType: Atlas-based circuit\n",
      "    description: First version of whole Thalamus model\n",
      "    name: Whole Thalamus 2019.v1\n",
      "    subject:\n",
      "    {\n",
      "        id: https://bbp.epfl.ch/nexus/v1/resources/nse/test/_/a813ddf2-8031-4342-8da4-e27ccd0218fb\n",
      "        type: Subject\n",
      "    }\n",
      "    wasGeneratedBy:\n",
      "    {\n",
      "        id: https://bbp.epfl.ch/nexus/v1/resources/nse/test/_/eb41557b-22a6-4ee8-b76a-efb8fd7352b7\n",
      "        type: WorkflowExecution\n",
      "    }\n",
      "}\n",
      "{'_constrainedBy': 'https://bluebrain.github.io/nexus/schemas/unconstrained.json',\n",
      " '_createdAt': '2019-12-19T10:09:20.630236Z',\n",
      " '_createdBy': 'https://bbp.epfl.ch/nexus/v1/realms/bbp/users/ivaska',\n",
      " '_deprecated': False,\n",
      " '_incoming': 'https://bbp.epfl.ch/nexus/v1/resources/nse/test/_/20191025/incoming',\n",
      " '_outgoing': 'https://bbp.epfl.ch/nexus/v1/resources/nse/test/_/20191025/outgoing',\n",
      " '_project': 'https://bbp.epfl.ch/nexus/v1/projects/nse/test',\n",
      " '_rev': 2,\n",
      " '_self': 'https://bbp.epfl.ch/nexus/v1/resources/nse/test/_/20191025',\n",
      " '_updatedAt': '2019-12-19T10:21:50.295089Z',\n",
      " '_updatedBy': 'https://bbp.epfl.ch/nexus/v1/realms/bbp/users/ivaska',\n",
      " 'id': 'https://bbp.epfl.ch/nexus/v1/resources/nse/test/_/20191025'}\n"
     ]
    }
   ],
   "source": [
    "print(circuit.metadata)\n",
    "pprint(circuit.store_metadata)"
   ]
  },
  {
   "cell_type": "markdown",
   "metadata": {},
   "source": [
    "#### Extra metadata\n",
    "Direct access to certain nexus metadata info, such as the creator or the creation time of the circuit."
   ]
  },
  {
   "cell_type": "code",
   "execution_count": 10,
   "metadata": {},
   "outputs": [
    {
     "name": "stdout",
     "output_type": "stream",
     "text": [
      "https://bbp.epfl.ch/nexus/v1/realms/bbp/users/ivaska 2019-12-19T10:09:20.630236Z\n"
     ]
    }
   ],
   "source": [
    "print(circuit.creator, circuit.created_at)"
   ]
  },
  {
   "cell_type": "markdown",
   "metadata": {},
   "source": [
    "### Simulations and Simulation Campaigns\n",
    "Get a simulation in which the circuit was used and print its metadata."
   ]
  },
  {
   "cell_type": "code",
   "execution_count": 11,
   "metadata": {},
   "outputs": [
    {
     "name": "stdout",
     "output_type": "stream",
     "text": [
      "{\n",
      "    context: https://bbp.neuroshapes.org\n",
      "    id: https://bbp.epfl.ch/nexus/v1/resources/nse/test/_/SimulationNexusTask_entity_managemen__gpfs_bbp_cscs_c__03c48af236\n",
      "    type: Simulation\n",
      "    brainLocation:\n",
      "    {\n",
      "        brainRegion:\n",
      "        {\n",
      "            id: http://api.brain-map.org/api/v2/data/Structure/549\n",
      "            label: Thalamus\n",
      "        }\n",
      "    }\n",
      "    ca: 2.0\n",
      "    description: duration=3000 target=Mosaic Ca=2.0\n",
      "    duration: 3000\n",
      "    endedAtTime: 2019-12-19T12:52:54.050054\n",
      "    mg: 1.0\n",
      "    name: Campaign simulation\n",
      "    path: /gpfs/bbp.cscs.ch/project/proj82/simulations/Thalamus/20191210/spontaneous_rest/TC2TC_W0p0/seed449150\n",
      "    seed: 449150\n",
      "    startedAtTime: 2019-12-19T12:52:47.064924\n",
      "    status: Done\n",
      "    subject:\n",
      "    {\n",
      "        id: https://bbp.epfl.ch/nexus/v1/resources/nse/test/_/a813ddf2-8031-4342-8da4-e27ccd0218fb\n",
      "        type: Subject\n",
      "    }\n",
      "    target: Mosaic\n",
      "    wasStartedBy:\n",
      "    {\n",
      "        id: https://bbp.epfl.ch/nexus/v1/resources/nse/test/_/SimulationCampaignNexusTask_entity_managemen_https___bbp_epfl__gpfs_bbp_cscs_c_7a85c8cbcd\n",
      "        type: SimulationCampaign\n",
      "    }\n",
      "}\n"
     ]
    }
   ],
   "source": [
    "print(circuit.simulations[0].metadata)"
   ]
  },
  {
   "cell_type": "markdown",
   "metadata": {},
   "source": [
    "Get a simulation campaign in which the circuit was used and print its metadata."
   ]
  },
  {
   "cell_type": "code",
   "execution_count": 12,
   "metadata": {},
   "outputs": [
    {
     "name": "stdout",
     "output_type": "stream",
     "text": [
      "{\n",
      "    context: https://bbp.neuroshapes.org\n",
      "    id: https://bbp.epfl.ch/nexus/v1/resources/nse/test/_/SimulationCampaignNexusTask_entity_managemen_https___bbp_epfl__gpfs_bbp_cscs_c_7a85c8cbcd\n",
      "    type: SimulationCampaign\n",
      "    brainLocation:\n",
      "    {\n",
      "        brainRegion:\n",
      "        {\n",
      "            id: http://api.brain-map.org/api/v2/data/Structure/549\n",
      "            label: Thalamus\n",
      "        }\n",
      "    }\n",
      "    description: Simulation campaign for config: Spontaneous activity in the whole Thalamus circuit\n",
      "    endedAtTime: 2019-12-19T12:52:59.843041\n",
      "    name: Spontaneous activity in the whole Thalamus circuit\n",
      "    startedAtTime: 2019-12-19T12:52:49.609532\n",
      "    status: Done\n",
      "    subject:\n",
      "    {\n",
      "        id: https://bbp.epfl.ch/nexus/v1/resources/nse/test/_/a813ddf2-8031-4342-8da4-e27ccd0218fb\n",
      "        type: Subject\n",
      "    }\n",
      "    used:\n",
      "    [\n",
      "        {\n",
      "            id: https://bbp.epfl.ch/nexus/v1/resources/nse/test/_/spontaneous_rest\n",
      "            type: SimWriterConfiguration\n",
      "        }\n",
      "        {\n",
      "            id: https://bbp.epfl.ch/nexus/v1/resources/nse/test/_/20191025\n",
      "            type: DetailedCircuit\n",
      "        }\n",
      "    ]\n",
      "    wasStartedBy:\n",
      "    {\n",
      "        id: https://bbp.epfl.ch/nexus/v1/resources/nse/test/_/4a836f23-f6c5-4f6a-a1a4-f776be7f1988\n",
      "        type: WorkflowExecution\n",
      "    }\n",
      "}\n"
     ]
    }
   ],
   "source": [
    "print(circuit.simulation_campaigns[0].metadata)"
   ]
  },
  {
   "cell_type": "markdown",
   "metadata": {},
   "source": [
    "Easily access to some metadata, such as Nexus project."
   ]
  },
  {
   "cell_type": "code",
   "execution_count": 13,
   "metadata": {},
   "outputs": [
    {
     "data": {
      "text/plain": [
       "'https://bbp.epfl.ch/nexus/v1/projects/nse/test'"
      ]
     },
     "execution_count": 13,
     "metadata": {},
     "output_type": "execute_result"
    }
   ],
   "source": [
    "circuit.simulations[0].project"
   ]
  },
  {
   "cell_type": "markdown",
   "metadata": {},
   "source": [
    "### SNAP functionalities\n",
    "Some examples of SNAP usage. "
   ]
  },
  {
   "cell_type": "markdown",
   "metadata": {},
   "source": [
    "#### Get a node and print its data"
   ]
  },
  {
   "cell_type": "code",
   "execution_count": 14,
   "metadata": {},
   "outputs": [
    {
     "name": "stdout",
     "output_type": "stream",
     "text": [
      "etype                                                                     bAC_IN\n",
      "layer                                                                        VPL\n",
      "model_template                                                        hoc:bAC_IN\n",
      "morph_class                                                                  INT\n",
      "morphology                     dend-jy180406_B_idC_axon-jy171019_B_10x_resta_...\n",
      "mtype                                                                     VPL_IN\n",
      "region                                                                        AD\n",
      "rotation_angle_xaxis                                                    -1.63225\n",
      "rotation_angle_yaxis                                                     1.12693\n",
      "rotation_angle_zaxis                                                     2.59732\n",
      "synapse_class                                                                INH\n",
      "x                                                                        6236.79\n",
      "y                                                                        3150.49\n",
      "z                                                                        6384.41\n",
      "@dynamics:holding_current                                              -0.016794\n",
      "@dynamics:threshold_current                                            0.0234282\n",
      "Name: 10, dtype: object\n"
     ]
    }
   ],
   "source": [
    "node = circuit.nodes['All'].get(10)\n",
    "print(node)"
   ]
  },
  {
   "cell_type": "markdown",
   "metadata": {},
   "source": [
    "#### Group nodes and count them "
   ]
  },
  {
   "cell_type": "code",
   "execution_count": 15,
   "metadata": {},
   "outputs": [
    {
     "data": {
      "text/html": [
       "<div>\n",
       "<style scoped>\n",
       "    .dataframe tbody tr th:only-of-type {\n",
       "        vertical-align: middle;\n",
       "    }\n",
       "\n",
       "    .dataframe tbody tr th {\n",
       "        vertical-align: top;\n",
       "    }\n",
       "\n",
       "    .dataframe thead th {\n",
       "        text-align: right;\n",
       "    }\n",
       "</style>\n",
       "<table border=\"1\" class=\"dataframe\">\n",
       "  <thead>\n",
       "    <tr style=\"text-align: right;\">\n",
       "      <th></th>\n",
       "      <th></th>\n",
       "      <th>x</th>\n",
       "      <th>y</th>\n",
       "      <th>z</th>\n",
       "    </tr>\n",
       "    <tr>\n",
       "      <th>synapse_class</th>\n",
       "      <th>layer</th>\n",
       "      <th></th>\n",
       "      <th></th>\n",
       "      <th></th>\n",
       "    </tr>\n",
       "  </thead>\n",
       "  <tbody>\n",
       "    <tr>\n",
       "      <th rowspan=\"2\" valign=\"top\">EXC</th>\n",
       "      <th>Rt</th>\n",
       "      <td>0.0</td>\n",
       "      <td>0.0</td>\n",
       "      <td>0.0</td>\n",
       "    </tr>\n",
       "    <tr>\n",
       "      <th>VPL</th>\n",
       "      <td>1636222.0</td>\n",
       "      <td>1636222.0</td>\n",
       "      <td>1636222.0</td>\n",
       "    </tr>\n",
       "    <tr>\n",
       "      <th rowspan=\"2\" valign=\"top\">INH</th>\n",
       "      <th>Rt</th>\n",
       "      <td>99488.0</td>\n",
       "      <td>99488.0</td>\n",
       "      <td>99488.0</td>\n",
       "    </tr>\n",
       "    <tr>\n",
       "      <th>VPL</th>\n",
       "      <td>96154.0</td>\n",
       "      <td>96154.0</td>\n",
       "      <td>96154.0</td>\n",
       "    </tr>\n",
       "  </tbody>\n",
       "</table>\n",
       "</div>"
      ],
      "text/plain": [
       "                             x          y          z\n",
       "synapse_class layer                                 \n",
       "EXC           Rt           0.0        0.0        0.0\n",
       "              VPL    1636222.0  1636222.0  1636222.0\n",
       "INH           Rt       99488.0    99488.0    99488.0\n",
       "              VPL      96154.0    96154.0    96154.0"
      ]
     },
     "execution_count": 15,
     "metadata": {},
     "output_type": "execute_result"
    }
   ],
   "source": [
    "node_population = circuit.nodes['All']\n",
    "df_all = node_population.get(properties=['layer', 'synapse_class', 'x', 'y', 'z'])\n",
    "df_all.groupby(['synapse_class', 'layer']).count().fillna(0)"
   ]
  },
  {
   "cell_type": "markdown",
   "metadata": {},
   "source": [
    "#### Plot nodes"
   ]
  },
  {
   "cell_type": "code",
   "execution_count": 16,
   "metadata": {},
   "outputs": [
    {
     "data": {
      "image/png": "[encoded data removed]",
      "text/plain": [
       "<Figure size 432x288 with 1 Axes>"
      ]
     },
     "metadata": {
      "needs_background": "light"
     },
     "output_type": "display_data"
    }
   ],
   "source": [
    "df_grouped = df_all.groupby('synapse_class')\n",
    "\n",
    "for color, (name, group) in zip(('r', 'b'), df_grouped):\n",
    "    plt.scatter(group.x[::100], group.z[::100], c=color, label=name)\n",
    "\n",
    "\n",
    "plt.axis('equal')\n",
    "plt.xlabel(u'x (μm)')\n",
    "plt.ylabel(u'z (μm)')\n",
    "plt.legend();"
   ]
  },
  {
   "cell_type": "markdown",
   "metadata": {},
   "source": [
    "#### Bluepy simulation object: plotting firing rate histogram"
   ]
  },
  {
   "cell_type": "code",
   "execution_count": 17,
   "metadata": {},
   "outputs": [
    {
     "data": {
      "image/png": "[encoded data removed]",
      "text/plain": [
       "<Figure size 432x288 with 1 Axes>"
      ]
     },
     "metadata": {
      "needs_background": "light"
     },
     "output_type": "display_data"
    }
   ],
   "source": [
    "circuit.simulations[0].plot.firing_rate_histogram(sample=None);"
   ]
  },
  {
   "cell_type": "markdown",
   "metadata": {},
   "source": [
    "# Queries \n",
    "\n",
    "Using filters defined in a dictionary to query results ('OR' not yet implemented)"
   ]
  },
  {
   "cell_type": "markdown",
   "metadata": {},
   "source": [
    "#### Simulation Campaigns"
   ]
  },
  {
   "cell_type": "code",
   "execution_count": 18,
   "metadata": {},
   "outputs": [
    {
     "name": "stdout",
     "output_type": "stream",
     "text": [
      "Found 14 instances of SimulationCampaign\n"
     ]
    }
   ],
   "source": [
    "filters = {\n",
    "    'type': 'SimulationCampaign'\n",
    "}\n",
    "res = query_resources(forge, filters)\n",
    "print('Found {} instances of {}'.format(len(res), filters['type']))"
   ]
  },
  {
   "cell_type": "markdown",
   "metadata": {},
   "source": [
    "#### Simulations"
   ]
  },
  {
   "cell_type": "code",
   "execution_count": 19,
   "metadata": {},
   "outputs": [
    {
     "name": "stdout",
     "output_type": "stream",
     "text": [
      "Found 88 instances of Simulation\n"
     ]
    }
   ],
   "source": [
    "filters = {\n",
    "    'type': 'Simulation'\n",
    "}\n",
    "res = query_resources(forge, filters)\n",
    "print('Found {} instances of {}'.format(len(res), filters['type']))"
   ]
  },
  {
   "cell_type": "markdown",
   "metadata": {},
   "source": [
    "#### Circuits \n",
    "Whose creator is ivaska, species is Mouse and that are not deprecated"
   ]
  },
  {
   "cell_type": "code",
   "execution_count": 20,
   "metadata": {},
   "outputs": [
    {
     "name": "stdout",
     "output_type": "stream",
     "text": [
      "Found 3 non-deprecated instances of DetailedCircuit (creator: ivaska, species: Mouse)\n"
     ]
    }
   ],
   "source": [
    "filters = {\n",
    "    'species': 'Mouse', \n",
    "    'type': 'DetailedCircuit', \n",
    "    'creator': 'ivaska', \n",
    "    'deprecated': False, \n",
    "}\n",
    "res = query_resources(forge, filters)\n",
    "print('Found {} non-deprecated instances of {} (creator: {}, species: {})'.format(\n",
    "    len(res),\n",
    "    filters['type'], \n",
    "    filters['creator'], \n",
    "    filters['species']))"
   ]
  },
  {
   "cell_type": "markdown",
   "metadata": {},
   "source": [
    "#### Limiting search results\n",
    "Otherwise the same query as the previous"
   ]
  },
  {
   "cell_type": "code",
   "execution_count": 21,
   "metadata": {},
   "outputs": [
    {
     "name": "stdout",
     "output_type": "stream",
     "text": [
      "Query resulted in 1 result (limit was: 1)\n"
     ]
    }
   ],
   "source": [
    "filters['limit'] = 1\n",
    "res = query_resources(forge, filters)\n",
    "print('Query resulted in {} result (limit was: {})'.format(len(res), filters['limit']))"
   ]
  },
  {
   "cell_type": "markdown",
   "metadata": {},
   "source": [
    "#### Creating instances of the query"
   ]
  },
  {
   "cell_type": "code",
   "execution_count": 22,
   "metadata": {},
   "outputs": [
    {
     "name": "stdout",
     "output_type": "stream",
     "text": [
      "1 instance(s) of <class 'bluepysnap.kgforge.KGCircuitBluepy'>\n"
     ]
    }
   ],
   "source": [
    "circuits = KGCircuitBluepy.from_query(res, forge)\n",
    "print('{} instance(s) of {}'.format(len(circuits), type(circuits[0])))"
   ]
  },
  {
   "cell_type": "markdown",
   "metadata": {},
   "source": [
    "# NeuroM"
   ]
  },
  {
   "cell_type": "markdown",
   "metadata": {},
   "source": [
    "### Bluepy Circuit"
   ]
  },
  {
   "cell_type": "code",
   "execution_count": 23,
   "metadata": {},
   "outputs": [],
   "source": [
    "# Instantiate a neuron\n",
    "circuit_bluepy = circuits[0]\n",
    "path = circuit_bluepy.morph.get_filepath(1)\n",
    "neuron = nm.load_neuron(path)"
   ]
  },
  {
   "cell_type": "markdown",
   "metadata": {},
   "source": [
    "### Sonata Circuit"
   ]
  },
  {
   "cell_type": "code",
   "execution_count": 24,
   "metadata": {},
   "outputs": [],
   "source": [
    "# Create a KGForge instance to another project (nse/test2)\n",
    "forge2 = KnowledgeGraphForge(nexus_config, bucket='nse/test2', endpoint=ENDPOINT, searchendpoints=None, token=TOKEN)"
   ]
  },
  {
   "cell_type": "code",
   "execution_count": 25,
   "metadata": {},
   "outputs": [],
   "source": [
    "# Load Circuit\n",
    "circuit_sonata = KGCircuitSonata.from_query(query_resources(forge2, {'type': 'DetailedCircuit'}), forge2)[0]"
   ]
  },
  {
   "cell_type": "code",
   "execution_count": 26,
   "metadata": {},
   "outputs": [],
   "source": [
    "# Instantiate a neuron\n",
    "node_population = circuit_sonata.nodes['Mosaic']\n",
    "path = node_population.morph.get_filepath(0)\n",
    "neuron = nm.load_neuron(path)"
   ]
  },
  {
   "cell_type": "markdown",
   "metadata": {},
   "source": [
    "## MorphologyRelease\n",
    "Access via path traversal"
   ]
  },
  {
   "cell_type": "code",
   "execution_count": 27,
   "metadata": {},
   "outputs": [],
   "source": [
    "morphology_release = circuit_bluepy.nodeCollection.memodelRelease.morphologyRelease"
   ]
  },
  {
   "cell_type": "markdown",
   "metadata": {},
   "source": [
    "Or via shortcut (a SPARQL query)"
   ]
  },
  {
   "cell_type": "code",
   "execution_count": 28,
   "metadata": {},
   "outputs": [],
   "source": [
    "assert circuit_bluepy.morphology_release.id == morphology_release.id"
   ]
  },
  {
   "cell_type": "markdown",
   "metadata": {},
   "source": [
    "#### Available metadata"
   ]
  },
  {
   "cell_type": "code",
   "execution_count": 29,
   "metadata": {},
   "outputs": [
    {
     "name": "stdout",
     "output_type": "stream",
     "text": [
      "{\n",
      "    context: https://bbp.neuroshapes.org\n",
      "    id: https://bbp.epfl.ch/nexus/v1/resources/nse/test/_/O1-20190624-syn_morph_release\n",
      "    type: MorphologyRelease\n",
      "    distribution:\n",
      "    {\n",
      "        type: DataDownload\n",
      "    }\n",
      "    morphologyIndex:\n",
      "    {\n",
      "        id: https://bbp.epfl.ch/nexus/v1/resources/nse/test/_/O1-20190624-syn_morph_index\n",
      "        type: ModelReleaseIndex\n",
      "    }\n",
      "    name: O1-20190624-syn_morph_release\n",
      "    wasAttributedTo:\n",
      "    {\n",
      "        id: https://bbp.epfl.ch/nexus/v1/resources/nse/test/_/bae247a3-d4cf-4995-97d8-67235cb33fb0\n",
      "        type: WorkflowExecution\n",
      "    }\n",
      "}\n",
      "{'_constrainedBy': 'https://bluebrain.github.io/nexus/schemas/unconstrained.json',\n",
      " '_createdAt': '2019-10-04T13:43:12.817510Z',\n",
      " '_createdBy': 'https://bbp.epfl.ch/nexus/v1/realms/bbp/users/ivaska',\n",
      " '_deprecated': False,\n",
      " '_incoming': 'https://bbp.epfl.ch/nexus/v1/resources/nse/test/_/O1-20190624-syn_morph_release/incoming',\n",
      " '_outgoing': 'https://bbp.epfl.ch/nexus/v1/resources/nse/test/_/O1-20190624-syn_morph_release/outgoing',\n",
      " '_project': 'https://bbp.epfl.ch/nexus/v1/projects/nse/test',\n",
      " '_rev': 1,\n",
      " '_self': 'https://bbp.epfl.ch/nexus/v1/resources/nse/test/_/O1-20190624-syn_morph_release',\n",
      " '_updatedAt': '2019-10-04T13:43:12.817510Z',\n",
      " '_updatedBy': 'https://bbp.epfl.ch/nexus/v1/realms/bbp/users/ivaska',\n",
      " 'id': 'https://bbp.epfl.ch/nexus/v1/resources/nse/test/_/O1-20190624-syn_morph_release'}\n"
     ]
    }
   ],
   "source": [
    "print(morphology_release.metadata)\n",
    "pprint(morphology_release.store_metadata)"
   ]
  },
  {
   "cell_type": "code",
   "execution_count": 30,
   "metadata": {},
   "outputs": [
    {
     "data": {
      "text/plain": [
       "Resource(_last_action=None, _validated=False, _synchronized=True, _store_metadata={'id': 'https://bbp.epfl.ch/nexus/v1/resources/nse/test/_/O1-20190624-syn_morph_index', '_self': 'https://bbp.epfl.ch/nexus/v1/resources/nse/test/_/O1-20190624-syn_morph_index', '_constrainedBy': 'https://bluebrain.github.io/nexus/schemas/unconstrained.json', '_project': 'https://bbp.epfl.ch/nexus/v1/projects/nse/test', '_rev': 1, '_deprecated': False, '_createdAt': '2019-10-04T13:43:12.322704Z', '_createdBy': 'https://bbp.epfl.ch/nexus/v1/realms/bbp/users/ivaska', '_updatedAt': '2019-10-04T13:43:12.322704Z', '_updatedBy': 'https://bbp.epfl.ch/nexus/v1/realms/bbp/users/ivaska', '_incoming': 'https://bbp.epfl.ch/nexus/v1/resources/nse/test/_/O1-20190624-syn_morph_index/incoming', '_outgoing': 'https://bbp.epfl.ch/nexus/v1/resources/nse/test/_/O1-20190624-syn_morph_index/outgoing'}, context='https://bbp.neuroshapes.org', id='https://bbp.epfl.ch/nexus/v1/resources/nse/test/_/O1-20190624-syn_morph_index', type='ModelReleaseIndex', distribution=Resource(_last_action=None, _validated=False, _synchronized=False, _store_metadata=None, type='DataDownload', encodingFormat='text/plain'), name='O1-20190624-syn_morph_index', wasAttributedTo=Resource(_last_action=None, _validated=False, _synchronized=False, _store_metadata=None, id='https://bbp.epfl.ch/nexus/v1/resources/nse/test/_/bae247a3-d4cf-4995-97d8-67235cb33fb0', type='WorkflowExecution'))"
      ]
     },
     "execution_count": 30,
     "metadata": {},
     "output_type": "execute_result"
    }
   ],
   "source": [
    "forge.retrieve('https://bbp.epfl.ch/nexus/v1/resources/nse/test/_/O1-20190624-syn_morph_index', cross_bucket=True)"
   ]
  },
  {
   "cell_type": "markdown",
   "metadata": {},
   "source": [
    "## Cross Bucket/Project\n",
    "For cross project access, `{ORGANIZATION}/{PROJECT}` needs to be `bbp_test/read`. Also, using staging environment here."
   ]
  },
  {
   "cell_type": "code",
   "execution_count": 31,
   "metadata": {},
   "outputs": [],
   "source": [
    "# Creating a KnowledgeGraphForge instance for staging\n",
    "ORGANIZATION = 'bbp_test'                                          \n",
    "PROJECT = 'read'\n",
    "endpoint_staging = 'https://staging.nexus.ocp.bbp.epfl.ch/v1'\n",
    "forge_cp = KnowledgeGraphForge(nexus_config, bucket=f'{ORGANIZATION}/{PROJECT}', endpoint=endpoint_staging, token=TOKEN)"
   ]
  },
  {
   "cell_type": "markdown",
   "metadata": {},
   "source": [
    "### Retrieval"
   ]
  },
  {
   "cell_type": "code",
   "execution_count": 32,
   "metadata": {},
   "outputs": [
    {
     "name": "stdout",
     "output_type": "stream",
     "text": [
      "Circuit B:\n",
      "{\n",
      "    context: https://bbp.neuroshapes.org\n",
      "    id: https://bbp.epfl.ch/neurosciencegraph/data/a4380755-3a79-4687-95b9-d0aa9b9d67b8\n",
      "    type: DetailedCircuit\n",
      "    brainLocation:\n",
      "    {\n",
      "        brainRegion:\n",
      "        {\n",
      "            id: http://purl.obolibrary.org/obo/UBERON_0008933\n",
      "            label: primary somatosensory cortex\n",
      "        }\n",
      "    }\n",
      "    circuitBase:\n",
      "    {\n",
      "        type: DataDownload\n",
      "        url: file:///gpfs/bbp.cscs.ch/project/proj1/circuits/SomatosensoryCxS1-v5.r0/O1/merged_circuit\n",
      "    }\n",
      "    circuitType: Circuit with O1 geometry\n",
      "    description: O1.v5 created in 2014\n",
      "    name: O1.v5 (Rat) B\n",
      "    subject:\n",
      "    {\n",
      "        id: https://bbp.epfl.ch/neurosciencegraph/data/0cacd56a-2850-440f-b6eb-77c0df6485ae\n",
      "        type: Subject\n",
      "    }\n",
      "}\n",
      "\n",
      "Circuit C:\n",
      "{\n",
      "    context: https://bbp.neuroshapes.org\n",
      "    id: https://bbp.epfl.ch/neurosciencegraph/data/621a7d17-d2b2-4eef-8cfd-c4769cc08778\n",
      "    type: DetailedCircuit\n",
      "    brainLocation:\n",
      "    {\n",
      "        brainRegion:\n",
      "        {\n",
      "            id: http://purl.obolibrary.org/obo/UBERON_0008933\n",
      "            label: primary somatosensory cortex\n",
      "        }\n",
      "    }\n",
      "    circuitBase:\n",
      "    {\n",
      "        type: DataDownload\n",
      "        url: file:///gpfs/bbp.cscs.ch/project/proj1/circuits/SomatosensoryCxS1-v5.r0/O1/merged_circuit\n",
      "    }\n",
      "    circuitType: Circuit with O1 geometry\n",
      "    description: O1.v5 created in 2014\n",
      "    name: O1.v5 (Rat) C\n",
      "    subject:\n",
      "    {\n",
      "        id: https://bbp.epfl.ch/neurosciencegraph/data/bffb6717-c1fd-46c7-906e-7bd79dc09f8c\n",
      "        type: Subject\n",
      "    }\n",
      "}\n",
      "\n"
     ]
    }
   ],
   "source": [
    "circuit_studio_b = 'https://bbp.epfl.ch/neurosciencegraph/data/a4380755-3a79-4687-95b9-d0aa9b9d67b8'\n",
    "circuit_studio_c = 'https://bbp.epfl.ch/neurosciencegraph/data/621a7d17-d2b2-4eef-8cfd-c4769cc08778'\n",
    "simulation_studio_c = 'https://bbp.epfl.ch/neurosciencegraph/data/d163dc0a-d3d2-440e-a5be-2f83b80072a5'\n",
    "\n",
    "# Testing that circuits and the simulation in studio B and C can be retrieved from bbp_test/read\n",
    "circuit_b = forge_cp.retrieve(circuit_studio_b, cross_bucket=True)\n",
    "circuit_c = forge_cp.retrieve(circuit_studio_c, cross_bucket=True)\n",
    "simulation_c = forge_cp.retrieve(simulation_studio_c, cross_bucket=True)\n",
    "\n",
    "# Now, let's test that we can create snap circuits with them\n",
    "circuit_b = KGCircuitBluepy(circuit_b, forge_cp)\n",
    "circuit_c = KGCircuitBluepy(circuit_c, forge_cp)\n",
    "print(f'Circuit B:\\n{circuit_b.metadata}\\n')\n",
    "print(f'Circuit C:\\n{circuit_c.metadata}\\n')"
   ]
  },
  {
   "cell_type": "code",
   "execution_count": 33,
   "metadata": {},
   "outputs": [
    {
     "name": "stderr",
     "output_type": "stream",
     "text": [
      "No config path available for simulation\n"
     ]
    },
    {
     "name": "stdout",
     "output_type": "stream",
     "text": [
      "Simulations found: 1\n"
     ]
    }
   ],
   "source": [
    "# Test if we can access simulation (in studio_data_C) with the SNAP Circuit (in studio_data_B)\n",
    "print('Simulations found: {}'.format(len(circuit_b.simulations)))"
   ]
  },
  {
   "cell_type": "markdown",
   "metadata": {},
   "source": [
    "### Searching\n",
    "Searching with `KnowledgeGraphForge.search` (`sparql` is automatically covered)"
   ]
  },
  {
   "cell_type": "code",
   "execution_count": 34,
   "metadata": {},
   "outputs": [],
   "source": [
    "# instantiate the path for filtering\n",
    "p = forge_cp.paths(\"Dataset\")"
   ]
  },
  {
   "cell_type": "code",
   "execution_count": 35,
   "metadata": {},
   "outputs": [
    {
     "name": "stdout",
     "output_type": "stream",
     "text": [
      "DetailedCircuit https://staging.nexus.ocp.bbp.epfl.ch/v1/projects/bbp_test/studio_data_C\n",
      "DetailedCircuit https://staging.nexus.ocp.bbp.epfl.ch/v1/projects/bbp_test/studio_data_B\n",
      "DetailedCircuit https://staging.nexus.ocp.bbp.epfl.ch/v1/projects/bbp_test/studio_data_B\n"
     ]
    }
   ],
   "source": [
    "# Search DetailedCircuits cross project, including all projects\n",
    "for res in forge_cp.search(p.type.id=='DetailedCircuit', cross_bucket=True):\n",
    "    print(res.type, res._store_metadata._project)"
   ]
  },
  {
   "cell_type": "code",
   "execution_count": 36,
   "metadata": {},
   "outputs": [
    {
     "name": "stdout",
     "output_type": "stream",
     "text": [
      "DetailedCircuit https://staging.nexus.ocp.bbp.epfl.ch/v1/projects/bbp_test/studio_data_C\n"
     ]
    }
   ],
   "source": [
    "# Search DetailedCircuits cross project, narrowing it down to just bbp_test/studio_data_C\n",
    "for res in forge_cp.search(p.type.id=='DetailedCircuit', cross_bucket=True, bucket='bbp_test/studio_data_C'):\n",
    "    print(res.type, res._store_metadata._project)"
   ]
  }
 ],
 "metadata": {
  "kernelspec": {
   "display_name": "snap_dev",
   "language": "python",
   "name": "snap_dev"
  },
  "language_info": {
   "codemirror_mode": {
    "name": "ipython",
    "version": 3
   },
   "file_extension": ".py",
   "mimetype": "text/x-python",
   "name": "python",
   "nbconvert_exporter": "python",
   "pygments_lexer": "ipython3",
   "version": "3.7.4"
  }
 },
 "nbformat": 4,
 "nbformat_minor": 4
}
